{
 "cells": [
  {
   "cell_type": "code",
   "execution_count": 1,
   "metadata": {},
   "outputs": [],
   "source": [
    "import paho.mqtt.client as mqtt\n",
    "import threading\n",
    "import os\n",
    "import re\n",
    "# import motionlocalizer.settings\n",
    "import json\n",
    "# import requests\n",
    "from shapely.geometry import Polygon\n",
    "from shapely.ops import cascaded_union\n",
    "import xml.etree.ElementTree\n",
    "import pprint\n",
    "import numpy as np\n",
    "import matplotlib.pyplot as plt\n",
    "from matplotlib.patches import Circle\n",
    "import time as pythonTimer\n",
    "\n",
    "simworldname = 'simulationWorld_library2.xml'\n",
    "groundtruth = 'rssi4.csv'\n",
    "\n",
    "my_map = [(0.0, 0.0), (0.0, 54), (67, 54), (67, 0.0)]\n",
    "grid_map = np.zeros((int(my_map[2][0]) * 1, int(my_map[2][1]) * 1))\n",
    "distances = []\n",
    "\n",
    "oracle = {}\n",
    "oracle['time'] = []\n",
    "oracle['location'] = []\n",
    "\n",
    "analyzer = {}\n",
    "analyzer['time'] = []\n",
    "analyzer['gridmap'] = []\n",
    "\n",
    "\n",
    "def on_connect(client, userdata, flags, rc):\n",
    "    # print(\"user \"+str(userdata))\n",
    "    # print(\"client \"+str(client))\n",
    "    # print(\"Connected with result code \"+str(rc))\n",
    "    client.subscribe(\"/casiSimulator/#\")\n",
    "\n",
    "def on_message(client, userdata, msg):\n",
    "    global oracle\n",
    "    result = msg.topic+\" \"+str(msg.payload)\n",
    "    # print(result)\n",
    "\n",
    "    # Oracle's Interest\n",
    "    if (result.split('/')[1] == \"action_reeding\"):\n",
    "        str1 = re.search(result.split('[')[0] +'(.*)]', result)\n",
    "        point = str1.group(1).replace('[', \"\").split(',')\n",
    "\n",
    "        x = float(point[0])\n",
    "        y = float(point[1])\n",
    "        loc = [x, y]\n",
    "        timetoadd = int((result.split(' ')[1]).split(',')[0])\n",
    "\n",
    "        if loc not in oracle['location'] and timetoadd not in oracle['time']:\n",
    "            oracle['location'].append([x, y])\n",
    "            oracle['time'].append(timetoadd)\n",
    "\n",
    "    # Inference's Interest\n",
    "    if (result.split('/')[1] == \"sensor_readings\"):\n",
    "        event = ParseResult(result)\n",
    "        run_localization(event)\n",
    "\n",
    "\n",
    "def on_publish(client, userdata, result):\n",
    "    # print(\"Data published :\" + str(client) + \" \" + str(userdata) + str(result) + \"\\n\")\n",
    "    ParseResult(result)\n",
    "    pass\n",
    "\n",
    "def on_subscribed(mosq, obj, mid, granted_qos):\n",
    "    print(\"Subscribed mid: \" + str(mid) + \", qos: \" + str(granted_qos))\n",
    "    \n",
    "def start_localizing(event):\n",
    "    global analyzer\n",
    "    global oracle\n",
    "    global grid_map\n",
    "    run_localization(event)\n",
    "\n",
    "def run_localization(event):\n",
    "    global analyzer\n",
    "    global oracle\n",
    "    global grid_map\n",
    "    # print(\"run_localization\")\n",
    "    Localizer(pythonTimer.time()).run(event)\n",
    "\n",
    "def ParseResult(result):            \n",
    "    event = Event()\n",
    "    event.sensor = (result.split('/')[3]).split(' ')[0]\n",
    "    event.data = ((result.split('/')[3]).split(' ')[1]).split(',')[2]\n",
    "    event.hash = \"|hash|\"\n",
    "    event.source = (result.split('/')[3]).split(' ')[0]\n",
    "    event.timestamp = ((result.split('/')[3]).split(' ')[1]).split(',')[0]\n",
    "    return event"
   ]
  },
  {
   "cell_type": "code",
   "execution_count": 2,
   "metadata": {},
   "outputs": [],
   "source": [
    "# Copyright (c) 2017 The Governors of the University of Alberta\n",
    "\n",
    "class Sensor:\n",
    "    sensor_type = \"\"\n",
    "    sensor_id = \"\"\n",
    "    x = float()\n",
    "    y = float()\n",
    "    z = float()\n",
    "    sensing_area = \"\"\n",
    "\n",
    "    def __str__(self):\n",
    "        return 'type: %s,\\n id: %s,\\n x: %s,\\n y: %s\\n'%(self.sensor_type, self.sensor_id, self.x, self.y)\n",
    "\n",
    "    def Initialize(self, element):\n",
    "        self.x = (str(element.find('point').find('xcoord').text))\n",
    "        self.y = (str(element.find('point').find('ycoord').text))\n",
    "        self.sensor_id = (str(element.find('id').text))\n",
    "        self.sensor_type = (str(element.find('type').text))\n",
    "        \n",
    "        if self.sensor_type == 'RFID_Reader':\n",
    "            self.sensing_area = (str(element.find('arcSize').text))\n",
    "            \n",
    "        elif self.sensor_type == 'MotionSensorBinary':\n",
    "            self.sensing_area = (str(element.find('radius').text))\n",
    "            \n",
    "        elif self.sensor_type == 'MotionSensorAnalog':\n",
    "            self.sensing_area = (str(element.find('radius').text))\n",
    "            \n",
    "        elif self.sensor_type == 'PressureSensorAnalog':\n",
    "            self.sensing_area = (str(element.find('radius').text))\n",
    "        \n",
    "            \n",
    "        return 0\n",
    "\n",
    "class Event:\n",
    "    source = \"\"\n",
    "    timestamp = float()\n",
    "    sensor = Sensor.sensor_id\n",
    "    data = int()\n",
    "    hash = \"\"\n",
    "\n",
    "    def __str__(self):\n",
    "        return 'time: %s --> sensor: <%s>\", data: %s' % (\n",
    "        str(self.timestamp), str(self.sensor), str(self.data))\n",
    "\n",
    "\n",
    "class GridMap:\n",
    "    map = \"\""
   ]
  },
  {
   "cell_type": "code",
   "execution_count": 3,
   "metadata": {
    "scrolled": true
   },
   "outputs": [
    {
     "name": "stdout",
     "output_type": "stream",
     "text": [
      "[[0. 0. 0. ... 0. 0. 0.]\n",
      " [0. 0. 0. ... 0. 0. 0.]\n",
      " [0. 0. 0. ... 0. 0. 0.]\n",
      " ...\n",
      " [0. 0. 0. ... 0. 0. 0.]\n",
      " [0. 0. 0. ... 0. 0. 0.]\n",
      " [0. 0. 0. ... 0. 0. 0.]]\n",
      "<type 'instance'>\n",
      "type: MotionSensorBinary,\n",
      " id: sensor1,\n",
      " x: 60,\n",
      " y: 36\n",
      "\n",
      "<type 'instance'>\n",
      "type: MotionSensorBinary,\n",
      " id: sensor2,\n",
      " x: 21,\n",
      " y: 39\n",
      "\n",
      "<type 'instance'>\n",
      "type: MotionSensorBinary,\n",
      " id: sensor3,\n",
      " x: 60,\n",
      " y: 27\n",
      "\n",
      "<type 'instance'>\n",
      "type: MotionSensorBinary,\n",
      " id: sensor4,\n",
      " x: 24,\n",
      " y: 3\n",
      "\n",
      "<type 'instance'>\n",
      "type: MotionSensorBinary,\n",
      " id: sensor5,\n",
      " x: 21,\n",
      " y: 45\n",
      "\n",
      "<type 'instance'>\n",
      "type: MotionSensorBinary,\n",
      " id: sensor6,\n",
      " x: 57,\n",
      " y: 42\n",
      "\n",
      "<type 'instance'>\n",
      "type: MotionSensorBinary,\n",
      " id: sensor7,\n",
      " x: 24,\n",
      " y: 6\n",
      "\n",
      "<type 'instance'>\n",
      "type: MotionSensorBinary,\n",
      " id: sensor8,\n",
      " x: 54,\n",
      " y: 21\n",
      "\n",
      "<type 'instance'>\n",
      "type: MotionSensorBinary,\n",
      " id: sensor9,\n",
      " x: 9,\n",
      " y: 36\n",
      "\n",
      "<type 'instance'>\n",
      "type: MotionSensorBinary,\n",
      " id: sensor10,\n",
      " x: 3,\n",
      " y: 30\n",
      "\n",
      "<type 'instance'>\n",
      "type: MotionSensorBinary,\n",
      " id: sensor11,\n",
      " x: 42,\n",
      " y: 48\n",
      "\n",
      "<type 'instance'>\n",
      "type: MotionSensorBinary,\n",
      " id: sensor12,\n",
      " x: 51,\n",
      " y: 45\n",
      "\n",
      "<type 'instance'>\n",
      "type: MotionSensorBinary,\n",
      " id: sensor13,\n",
      " x: 27,\n",
      " y: 39\n",
      "\n",
      "<type 'instance'>\n",
      "type: MotionSensorBinary,\n",
      " id: sensor14,\n",
      " x: 30,\n",
      " y: 12\n",
      "\n",
      "<type 'instance'>\n",
      "type: MotionSensorBinary,\n",
      " id: sensor15,\n",
      " x: 51,\n",
      " y: 24\n",
      "\n",
      "<type 'instance'>\n",
      "type: MotionSensorBinary,\n",
      " id: sensor16,\n",
      " x: 24,\n",
      " y: 36\n",
      "\n",
      "<type 'instance'>\n",
      "type: MotionSensorBinary,\n",
      " id: sensor17,\n",
      " x: 48,\n",
      " y: 3\n",
      "\n",
      "<type 'instance'>\n",
      "type: MotionSensorBinary,\n",
      " id: sensor18,\n",
      " x: 45,\n",
      " y: 9\n",
      "\n",
      "<type 'instance'>\n",
      "type: MotionSensorBinary,\n",
      " id: sensor19,\n",
      " x: 45,\n",
      " y: 51\n",
      "\n",
      "<type 'instance'>\n",
      "type: MotionSensorBinary,\n",
      " id: sensor20,\n",
      " x: 33,\n",
      " y: 36\n",
      "\n",
      "<type 'instance'>\n",
      "type: MotionSensorBinary,\n",
      " id: sensor21,\n",
      " x: 30,\n",
      " y: 24\n",
      "\n",
      "<type 'instance'>\n",
      "type: MotionSensorBinary,\n",
      " id: sensor22,\n",
      " x: 36,\n",
      " y: 21\n",
      "\n",
      "<type 'instance'>\n",
      "type: MotionSensorBinary,\n",
      " id: sensor23,\n",
      " x: 30,\n",
      " y: 48\n",
      "\n",
      "<type 'instance'>\n",
      "type: MotionSensorBinary,\n",
      " id: sensor24,\n",
      " x: 42,\n",
      " y: 27\n",
      "\n",
      "<type 'instance'>\n",
      "type: MotionSensorBinary,\n",
      " id: sensor25,\n",
      " x: 21,\n",
      " y: 18\n",
      "\n",
      "<type 'instance'>\n",
      "type: MotionSensorBinary,\n",
      " id: sensor26,\n",
      " x: 18,\n",
      " y: 45\n",
      "\n",
      "<type 'instance'>\n",
      "type: MotionSensorBinary,\n",
      " id: sensor27,\n",
      " x: 48,\n",
      " y: 12\n",
      "\n",
      "<type 'instance'>\n",
      "type: MotionSensorBinary,\n",
      " id: sensor28,\n",
      " x: 33,\n",
      " y: 6\n",
      "\n",
      "<type 'instance'>\n",
      "type: MotionSensorBinary,\n",
      " id: sensor29,\n",
      " x: 6,\n",
      " y: 48\n",
      "\n",
      "<type 'instance'>\n",
      "type: MotionSensorBinary,\n",
      " id: sensor30,\n",
      " x: 64,\n",
      " y: 30\n",
      "\n",
      "<type 'instance'>\n",
      "type: MotionSensorBinary,\n",
      " id: sensor31,\n",
      " x: 9,\n",
      " y: 9\n",
      "\n",
      "<type 'instance'>\n",
      "type: MotionSensorBinary,\n",
      " id: sensor32,\n",
      " x: 51,\n",
      " y: 45\n",
      "\n",
      "<type 'instance'>\n",
      "type: MotionSensorBinary,\n",
      " id: sensor33,\n",
      " x: 21,\n",
      " y: 30\n",
      "\n",
      "<type 'instance'>\n",
      "type: MotionSensorBinary,\n",
      " id: sensor34,\n",
      " x: 21,\n",
      " y: 54\n",
      "\n",
      "<type 'instance'>\n",
      "type: MotionSensorBinary,\n",
      " id: sensor35,\n",
      " x: 42,\n",
      " y: 9\n",
      "\n",
      "<type 'instance'>\n",
      "type: MotionSensorBinary,\n",
      " id: sensor36,\n",
      " x: 9,\n",
      " y: 48\n",
      "\n",
      "<type 'instance'>\n",
      "type: MotionSensorBinary,\n",
      " id: sensor37,\n",
      " x: 12,\n",
      " y: 18\n",
      "\n",
      "<type 'instance'>\n",
      "type: MotionSensorBinary,\n",
      " id: sensor38,\n",
      " x: 24,\n",
      " y: 45\n",
      "\n",
      "<type 'instance'>\n",
      "type: MotionSensorBinary,\n",
      " id: sensor39,\n",
      " x: 24,\n",
      " y: 15\n",
      "\n",
      "<type 'instance'>\n",
      "type: MotionSensorBinary,\n",
      " id: sensor40,\n",
      " x: 6,\n",
      " y: 39\n",
      "\n",
      "<type 'instance'>\n",
      "type: MotionSensorBinary,\n",
      " id: sensor41,\n",
      " x: 30,\n",
      " y: 54\n",
      "\n",
      "<type 'instance'>\n",
      "type: MotionSensorBinary,\n",
      " id: sensor42,\n",
      " x: 27,\n",
      " y: 21\n",
      "\n",
      "<type 'instance'>\n",
      "type: MotionSensorBinary,\n",
      " id: sensor43,\n",
      " x: 45,\n",
      " y: 30\n",
      "\n",
      "<type 'instance'>\n",
      "type: MotionSensorBinary,\n",
      " id: sensor44,\n",
      " x: 30,\n",
      " y: 12\n",
      "\n",
      "<type 'instance'>\n",
      "type: MotionSensorBinary,\n",
      " id: sensor45,\n",
      " x: 3,\n",
      " y: 39\n",
      "\n",
      "<type 'instance'>\n",
      "type: MotionSensorBinary,\n",
      " id: sensor46,\n",
      " x: 54,\n",
      " y: 51\n",
      "\n",
      "<type 'instance'>\n",
      "type: MotionSensorBinary,\n",
      " id: sensor47,\n",
      " x: 30,\n",
      " y: 39\n",
      "\n",
      "<type 'instance'>\n",
      "type: MotionSensorBinary,\n",
      " id: sensor48,\n",
      " x: 12,\n",
      " y: 6\n",
      "\n",
      "<type 'instance'>\n",
      "type: MotionSensorBinary,\n",
      " id: sensor49,\n",
      " x: 42,\n",
      " y: 54\n",
      "\n",
      "<type 'instance'>\n",
      "type: MotionSensorBinary,\n",
      " id: sensor50,\n",
      " x: 64,\n",
      " y: 51\n",
      "\n"
     ]
    }
   ],
   "source": [
    "##############################\n",
    "### PARSE SIMULATION WORLD ###\n",
    "##############################\n",
    "\n",
    "root = xml.etree.ElementTree.parse(simworldname).getroot()\n",
    "\n",
    "\n",
    "print(grid_map)\n",
    "\n",
    "sensors_list = []\n",
    "\n",
    "for element in root:\n",
    "    if(element.tag == 'sensors'):\n",
    "        for sensor in element:\n",
    "            # print(type(sensor))\n",
    "            this_sensor = Sensor()\n",
    "            this_sensor.Initialize(sensor)\n",
    "            \n",
    "            \n",
    "            print(type(this_sensor))\n",
    "            \n",
    "            sensors_list.append(this_sensor)\n",
    "            # print(this_sensor.sensor_type + \" \" + this_sensor.x + \" \" + this_sensor.y)\n",
    "            # sensors_list.append(sensor)\n",
    "            print(sensors_list[len(sensors_list) - 1])"
   ]
  },
  {
   "cell_type": "code",
   "execution_count": 4,
   "metadata": {},
   "outputs": [],
   "source": [
    "##########################\n",
    "### LOCALIZATION CLASS ###\n",
    "##########################\n",
    "\n",
    "# Copyright (c) 2017 The Governors of the University of Alberta\n",
    "\n",
    "class Localizer(threading.Thread):\n",
    "    to_be_localized_queue = []\n",
    "    localizer_lock = threading.Lock()\n",
    "    this_grid_map = []\n",
    "    \n",
    "    \n",
    "    def __init__(self, time):\n",
    "        self.time = time\n",
    "\n",
    "    def run(self, event):\n",
    "        global grid_map\n",
    "        global analyzer\n",
    "        global oracle\n",
    "        global distances\n",
    "        # print(\"Run\")\n",
    "        Localizer.to_be_localized_queue.append(self.time)\n",
    "        with Localizer.localizer_lock:\n",
    "            while len(Localizer.to_be_localized_queue) > 0:\n",
    "                timestamp = Localizer.to_be_localized_queue[0]\n",
    "                Localizer.to_be_localized_queue = Localizer.to_be_localized_queue[1:]\n",
    "                self.localize(timestamp, event)\n",
    "    \n",
    "    def localizer_confidence(self):\n",
    "        return 0.9\n",
    "\n",
    "    def get_event_period(self):\n",
    "        return 1.0\n",
    "    \n",
    "    def localize(self, time, event):\n",
    "        global grid_map\n",
    "        global analyzer\n",
    "        global oracle\n",
    "        global distances\n",
    "        # print(\"Localize\")\n",
    "        fired_sensors = []\n",
    "        fired_sensors = self.FindFiredSensor(event)\n",
    "        if len(fired_sensors) == 0:\n",
    "            return\n",
    "        \n",
    "        counter = 0\n",
    "        try:\n",
    "            m1 = np.min(grid_map[np.nonzero(grid_map)])\n",
    "            M1 = np.max(grid_map[np.nonzero(grid_map)])\n",
    "\n",
    "            # print(\"Value in try:\", m1)\n",
    "            # print(\"Value in try:\", M1)\n",
    "            \n",
    "        except:\n",
    "            print(\"start!\")\n",
    "            \n",
    "        for i in range(len(grid_map[:,1])):\n",
    "            for j in range(len(grid_map[1,:])):\n",
    "                for sensor in fired_sensors:\n",
    "                    my_sensor = Sensor()\n",
    "                    my_sensor = sensor\n",
    "                    r = my_sensor.sensing_area\n",
    "                    x = my_sensor.x\n",
    "                    y = my_sensor.y\n",
    "\n",
    "                    # circ = Circle((int(int(x)/10), int(int(y)/10)), int(int(r)/10))\n",
    "                    circ = Circle((int(int(x)), int(int(y))), int(int(r)))\n",
    "                    \n",
    "                    if (circ.contains_point([i, j])):\n",
    "                        grid_map[i][j] += 1\n",
    "\n",
    "        # print(\"s1\")\n",
    "        sumofpoints = sum(sum(grid_map))/4\n",
    "        # print(\"SUm of points is: \" + str(sumofpoints))\n",
    "        \n",
    "        if (sumofpoints == 0):\n",
    "            print(\"nooooooooooooooooooo\")\n",
    "        else:\n",
    "            grid_map = np.true_divide(grid_map, sumofpoints)\n",
    "          \n",
    "        analyzer['time'].append(event.timestamp)\n",
    "        analyzer['gridmap'].append(grid_map)\n",
    "        \n",
    "        plt.imshow(zip(*grid_map), cmap='hot', interpolation='nearest')\n",
    "        plt.show()\n",
    "        \n",
    "        \n",
    "        dist = self.ReportError(event.timestamp, grid_map)\n",
    "        distances.append(dist)\n",
    "        \n",
    "        \n",
    "        print(dist)\n",
    "        \n",
    "        # print(\"the max in final stage is: \" + str(np.max(grid_map)))\n",
    "        \n",
    "        #grid_map = self.NormalizeGrid()\n",
    "        # m = np.min(grid_map)\n",
    "        # M = np.max(grid_map)\n",
    "        \n",
    "        # m1 = np.min(grid_map[np.nonzero(grid_map)])\n",
    "        # M1 = np.max(grid_map[np.nonzero(grid_map)])\n",
    "        \n",
    "        # print(\"Value:\", m1)\n",
    "        # print(\"Value:\", M1)\n",
    "        \n",
    "        # for i in range(len(grid_map[:,1])):\n",
    "        #     for j in range(len(grid_map[1,:])):\n",
    "        #         grid_map[i][j] = (grid_map[i][j] - m) / (M - m)\n",
    "                \n",
    "    def ReportError(self, time, recent_grid):\n",
    "        global oracle\n",
    "        \n",
    "        inferred_location = self.AskLocationFromLocalizer(recent_grid)\n",
    "        real_location = self.AskLocationFromOracle(time)\n",
    "        \n",
    "        print(inferred_location)\n",
    "        print(real_location)\n",
    "        \n",
    "        return np.linalg.norm(inferred_location - real_location)\n",
    "        \n",
    "        \n",
    "    def AskLocationFromLocalizer(self, recent_grid):\n",
    "        return np.mean(zip(*np.where(recent_grid == np.max(recent_grid))), axis = 0)\n",
    "    \n",
    "    def AskLocationFromOracle(self, time):\n",
    "        point = np.mean(np.asarray(oracle['location'])[np.where(np.asarray(oracle['time']) == int(time))], axis = 0)\n",
    "        # point[0] = point[0]/10\n",
    "        # point[1] = point[1]/10\n",
    "        \n",
    "        point[0] = point[0]\n",
    "        point[1] = point[1]\n",
    "        \n",
    "        return point\n",
    "    \n",
    "    def FindFiredSensor(self, event):\n",
    "        fired_sensors2 = []\n",
    "        firedsensor = event.sensor\n",
    "        for i in range(len(sensors_list)):\n",
    "            current_sensor = Sensor()\n",
    "            current_sensor = sensors_list[i]\n",
    "            if current_sensor.sensor_id == firedsensor:\n",
    "                fired_sensors2.append(current_sensor)\n",
    "        \n",
    "        return fired_sensors2\n",
    "    \n",
    "    def extract_fired_sensors(self, start, end):\n",
    "        sensors = sensors_list\n",
    "        fired_sensors = []\n",
    "        for s in sensors:\n",
    "            if Event.objects.filter(timestamp__gt=start, timestamp__lt=end, sensor=s).exists():\n",
    "                fired_sensors.append(s)\n",
    "                continue\n",
    "            if Event.objects.filter(sensor=s).exists():\n",
    "                last_event = Event.objects.filter(sensor=s).latest(field_name='timestamp')\n",
    "                if int(last_event.data) == 1:\n",
    "                    # print('latest is 1')\n",
    "                    # print(s)\n",
    "                    fired_sensors.append(s)\n",
    "\n",
    "        return fired_sensors\n"
   ]
  },
  {
   "cell_type": "code",
   "execution_count": 5,
   "metadata": {
    "scrolled": true
   },
   "outputs": [],
   "source": [
    "#temporary:\n",
    "# my_map = [(0.0, 0.0), (0.0, 5.7), (7.05, 5.7), (7.05, 0.0)]\n",
    "# grid_map = np.zeros((int(my_map[2][0]) * 10, int(my_map[2][1]) * 10))\n",
    "\n",
    "\n",
    "\n",
    "# print(np.max(grid_map))\n",
    "# print(\"first input\")\n",
    "# result = \"casiSimulator/sensor_readings/MotionSensorBinary/MotionSensorBinary-288.3-495.0 1538687434000,MotionSensorBinary,MotionSensorBinary-288.3-495.0,TRUE,TRUE1\"\n",
    "# event = ParseResult(result)\n",
    "# start_localizing()\n",
    "# print(np.max(grid_map[np.nonzero(grid_map)]))\n",
    "# print(np.min(grid_map[np.nonzero(grid_map)]))\n",
    "# plt.imshow(grid_map, cmap='hot', interpolation='nearest')\n",
    "# plt.show()\n",
    "\n",
    "# print('---------------------------')\n",
    "\n",
    "# print(np.max(grid_map))\n",
    "# print(\"second input\")\n",
    "# result1 = \"casiSimulator/sensor_readings/MotionSensorBinary/MotionSensorBinary-511.6-343.6 1538687449000,MotionSensorBinary,MotionSensorBinary-511.6-343.6,TRUE,TRUE1\"\n",
    "# event = ParseResult(result1)\n",
    "# start_localizing()\n",
    "# print(np.max(grid_map[np.nonzero(grid_map)]))\n",
    "# print(np.min(grid_map[np.nonzero(grid_map)]))\n",
    "# plt.imshow(grid_map, cmap='hot', interpolation='nearest')\n",
    "# plt.show()\n",
    "\n"
   ]
  },
  {
   "cell_type": "code",
   "execution_count": 6,
   "metadata": {},
   "outputs": [],
   "source": [
    "port = 1883\n",
    "host = \"localhost\"\n",
    "keepalive = 60\n",
    "broker_topic = \"#\"  #All topics have to be read\n",
    "\n",
    "\n",
    "\n",
    "client = mqtt.Client()\n",
    "client.on_connect = on_connect\n",
    "client.on_message = on_message\n",
    "client.on_publish = on_publish\n",
    "client.on_subscribed = on_subscribed\n",
    "\n",
    "client.connect(host, port, 60)\n",
    "client.subscribe(broker_topic, 0)\n",
    "\n",
    "client.loop_start()\n"
   ]
  },
  {
   "cell_type": "code",
   "execution_count": 7,
   "metadata": {
    "scrolled": true
   },
   "outputs": [
    {
     "name": "stdout",
     "output_type": "stream",
     "text": [
      "please start simulation in casi now.\n",
      "start!\n"
     ]
    },
    {
     "data": {
      "image/png": "[encoded data removed]",
      "text/plain": [
       "<Figure size 432x288 with 1 Axes>"
      ]
     },
     "metadata": {
      "needs_background": "light"
     },
     "output_type": "display_data"
    },
    {
     "name": "stdout",
     "output_type": "stream",
     "text": [
      "[21.   30.25]\n",
      "[20. 30.]\n",
      "1.0307764064044151\n"
     ]
    },
    {
     "data": {
      "image/png": "[encoded data removed]",
      "text/plain": [
       "<Figure size 432x288 with 1 Axes>"
      ]
     },
     "metadata": {
      "needs_background": "light"
     },
     "output_type": "display_data"
    },
    {
     "name": "stderr",
     "output_type": "stream",
     "text": [
      "/usr/local/lib/python2.7/dist-packages/numpy/core/fromnumeric.py:2920: RuntimeWarning: Mean of empty slice.\n",
      "  out=out, **kwargs)\n",
      "/usr/local/lib/python2.7/dist-packages/numpy/core/_methods.py:78: RuntimeWarning: invalid value encountered in true_divide\n",
      "  ret, rcount, out=ret, casting='unsafe', subok=False)\n"
     ]
    },
    {
     "name": "stdout",
     "output_type": "stream",
     "text": [
      "[21.   30.25]\n",
      "[nan nan]\n",
      "nan\n"
     ]
    },
    {
     "data": {
      "image/png": "[encoded data removed]",
      "text/plain": [
       "<Figure size 432x288 with 1 Axes>"
      ]
     },
     "metadata": {
      "needs_background": "light"
     },
     "output_type": "display_data"
    },
    {
     "name": "stdout",
     "output_type": "stream",
     "text": [
      "[21.   30.25]\n",
      "[21. 29.]\n",
      "1.25\n"
     ]
    },
    {
     "data": {
      "image/png": "[encoded data removed]",
      "text/plain": [
       "<Figure size 432x288 with 1 Axes>"
      ]
     },
     "metadata": {
      "needs_background": "light"
     },
     "output_type": "display_data"
    },
    {
     "name": "stdout",
     "output_type": "stream",
     "text": [
      "[25.5  27.25]\n",
      "[29. 23.]\n",
      "5.50567888638631\n"
     ]
    },
    {
     "data": {
      "image/png": "[encoded data removed]",
      "text/plain": [
       "<Figure size 432x288 with 1 Axes>"
      ]
     },
     "metadata": {
      "needs_background": "light"
     },
     "output_type": "display_data"
    },
    {
     "name": "stdout",
     "output_type": "stream",
     "text": [
      "[48.    3.25]\n",
      "[48.  3.]\n",
      "0.25\n"
     ]
    },
    {
     "data": {
      "image/png": "[encoded data removed]",
      "text/plain": [
       "<Figure size 432x288 with 1 Axes>"
      ]
     },
     "metadata": {
      "needs_background": "light"
     },
     "output_type": "display_data"
    },
    {
     "name": "stdout",
     "output_type": "stream",
     "text": [
      "[48.    3.25]\n",
      "[nan nan]\n",
      "nan\n"
     ]
    },
    {
     "data": {
      "image/png": "[encoded data removed]",
      "text/plain": [
       "<Figure size 432x288 with 1 Axes>"
      ]
     },
     "metadata": {
      "needs_background": "light"
     },
     "output_type": "display_data"
    },
    {
     "name": "stdout",
     "output_type": "stream",
     "text": [
      "[30.   12.25]\n",
      "[30. 12.]\n",
      "0.25\n"
     ]
    },
    {
     "data": {
      "image/png": "[encoded data removed]",
      "text/plain": [
       "<Figure size 432x288 with 1 Axes>"
      ]
     },
     "metadata": {
      "needs_background": "light"
     },
     "output_type": "display_data"
    },
    {
     "name": "stdout",
     "output_type": "stream",
     "text": [
      "[30.   12.25]\n",
      "[30. 12.]\n",
      "0.25\n"
     ]
    },
    {
     "data": {
      "image/png": "[encoded data removed]",
      "text/plain": [
       "<Figure size 432x288 with 1 Axes>"
      ]
     },
     "metadata": {
      "needs_background": "light"
     },
     "output_type": "display_data"
    },
    {
     "name": "stdout",
     "output_type": "stream",
     "text": [
      "[30.   12.25]\n",
      "[nan nan]\n",
      "nan\n"
     ]
    },
    {
     "data": {
      "image/png": "[encoded data removed]",
      "text/plain": [
       "<Figure size 432x288 with 1 Axes>"
      ]
     },
     "metadata": {
      "needs_background": "light"
     },
     "output_type": "display_data"
    },
    {
     "name": "stdout",
     "output_type": "stream",
     "text": [
      "[30.   12.25]\n",
      "[nan nan]\n",
      "nan\n"
     ]
    },
    {
     "data": {
      "image/png": "[encoded data removed]",
      "text/plain": [
       "<Figure size 432x288 with 1 Axes>"
      ]
     },
     "metadata": {
      "needs_background": "light"
     },
     "output_type": "display_data"
    },
    {
     "name": "stdout",
     "output_type": "stream",
     "text": [
      "[48.   12.25]\n",
      "[47. 12.]\n",
      "1.0307764064044151\n"
     ]
    },
    {
     "data": {
      "image/png": "[encoded data removed]",
      "text/plain": [
       "<Figure size 432x288 with 1 Axes>"
      ]
     },
     "metadata": {
      "needs_background": "light"
     },
     "output_type": "display_data"
    },
    {
     "name": "stdout",
     "output_type": "stream",
     "text": [
      "[48.   12.25]\n",
      "[48. 12.]\n",
      "0.25\n"
     ]
    },
    {
     "data": {
      "image/png": "[encoded data removed]",
      "text/plain": [
       "<Figure size 432x288 with 1 Axes>"
      ]
     },
     "metadata": {
      "needs_background": "light"
     },
     "output_type": "display_data"
    },
    {
     "name": "stdout",
     "output_type": "stream",
     "text": [
      "[48.   12.25]\n",
      "[nan nan]\n",
      "nan\n"
     ]
    },
    {
     "data": {
      "image/png": "[encoded data removed]",
      "text/plain": [
       "<Figure size 432x288 with 1 Axes>"
      ]
     },
     "metadata": {
      "needs_background": "light"
     },
     "output_type": "display_data"
    },
    {
     "name": "stdout",
     "output_type": "stream",
     "text": [
      "[48.   12.25]\n",
      "[nan nan]\n",
      "nan\n"
     ]
    },
    {
     "data": {
      "image/png": "[encoded data removed]",
      "text/plain": [
       "<Figure size 432x288 with 1 Axes>"
      ]
     },
     "metadata": {
      "needs_background": "light"
     },
     "output_type": "display_data"
    },
    {
     "name": "stdout",
     "output_type": "stream",
     "text": [
      "[48.   12.25]\n",
      "[nan nan]\n",
      "nan\n"
     ]
    },
    {
     "data": {
      "image/png": "[encoded data removed]",
      "text/plain": [
       "<Figure size 432x288 with 1 Axes>"
      ]
     },
     "metadata": {
      "needs_background": "light"
     },
     "output_type": "display_data"
    },
    {
     "name": "stdout",
     "output_type": "stream",
     "text": [
      "[48.   12.25]\n",
      "[nan nan]\n",
      "nan\n"
     ]
    },
    {
     "data": {
      "image/png": "[encoded data removed]",
      "text/plain": [
       "<Figure size 432x288 with 1 Axes>"
      ]
     },
     "metadata": {
      "needs_background": "light"
     },
     "output_type": "display_data"
    },
    {
     "name": "stdout",
     "output_type": "stream",
     "text": [
      "[45.    9.25]\n",
      "[45.  9.]\n",
      "0.25\n"
     ]
    },
    {
     "data": {
      "image/png": "[encoded data removed]",
      "text/plain": [
       "<Figure size 432x288 with 1 Axes>"
      ]
     },
     "metadata": {
      "needs_background": "light"
     },
     "output_type": "display_data"
    },
    {
     "name": "stdout",
     "output_type": "stream",
     "text": [
      "[45.    9.25]\n",
      "[44.  9.]\n",
      "1.0307764064044151\n"
     ]
    },
    {
     "data": {
      "image/png": "[encoded data removed]",
      "text/plain": [
       "<Figure size 432x288 with 1 Axes>"
      ]
     },
     "metadata": {
      "needs_background": "light"
     },
     "output_type": "display_data"
    },
    {
     "name": "stdout",
     "output_type": "stream",
     "text": [
      "[42.    9.25]\n",
      "[42.  9.]\n",
      "0.25\n"
     ]
    },
    {
     "data": {
      "image/png": "[encoded data removed]",
      "text/plain": [
       "<Figure size 432x288 with 1 Axes>"
      ]
     },
     "metadata": {
      "needs_background": "light"
     },
     "output_type": "display_data"
    },
    {
     "name": "stdout",
     "output_type": "stream",
     "text": [
      "[42.    9.25]\n",
      "[41.  9.]\n",
      "1.0307764064044151\n"
     ]
    },
    {
     "data": {
      "image/png": "[encoded data removed]",
      "text/plain": [
       "<Figure size 432x288 with 1 Axes>"
      ]
     },
     "metadata": {
      "needs_background": "light"
     },
     "output_type": "display_data"
    },
    {
     "name": "stdout",
     "output_type": "stream",
     "text": [
      "[42.    9.25]\n",
      "[nan nan]\n",
      "nan\n"
     ]
    },
    {
     "data": {
      "image/png": "[encoded data removed]",
      "text/plain": [
       "<Figure size 432x288 with 1 Axes>"
      ]
     },
     "metadata": {
      "needs_background": "light"
     },
     "output_type": "display_data"
    },
    {
     "name": "stdout",
     "output_type": "stream",
     "text": [
      "[42.    9.25]\n",
      "[nan nan]\n",
      "nan\n"
     ]
    },
    {
     "data": {
      "image/png": "[encoded data removed]",
      "text/plain": [
       "<Figure size 432x288 with 1 Axes>"
      ]
     },
     "metadata": {
      "needs_background": "light"
     },
     "output_type": "display_data"
    },
    {
     "name": "stdout",
     "output_type": "stream",
     "text": [
      "[45.    9.25]\n",
      "[nan nan]\n",
      "nan\n"
     ]
    },
    {
     "data": {
      "image/png": "[encoded data removed]",
      "text/plain": [
       "<Figure size 432x288 with 1 Axes>"
      ]
     },
     "metadata": {
      "needs_background": "light"
     },
     "output_type": "display_data"
    },
    {
     "name": "stdout",
     "output_type": "stream",
     "text": [
      "[45.    9.25]\n",
      "[nan nan]\n",
      "nan\n"
     ]
    },
    {
     "data": {
      "image/png": "[encoded data removed]",
      "text/plain": [
       "<Figure size 432x288 with 1 Axes>"
      ]
     },
     "metadata": {
      "needs_background": "light"
     },
     "output_type": "display_data"
    },
    {
     "name": "stdout",
     "output_type": "stream",
     "text": [
      "[45.    9.25]\n",
      "[nan nan]\n",
      "nan\n"
     ]
    },
    {
     "data": {
      "image/png": "[encoded data removed]",
      "text/plain": [
       "<Figure size 432x288 with 1 Axes>"
      ]
     },
     "metadata": {
      "needs_background": "light"
     },
     "output_type": "display_data"
    },
    {
     "name": "stdout",
     "output_type": "stream",
     "text": [
      "[42.    9.25]\n",
      "[nan nan]\n",
      "nan\n"
     ]
    },
    {
     "data": {
      "image/png": "[encoded data removed]",
      "text/plain": [
       "<Figure size 432x288 with 1 Axes>"
      ]
     },
     "metadata": {
      "needs_background": "light"
     },
     "output_type": "display_data"
    },
    {
     "name": "stdout",
     "output_type": "stream",
     "text": [
      "[42.    9.25]\n",
      "[nan nan]\n",
      "nan\n"
     ]
    },
    {
     "data": {
      "image/png": "[encoded data removed]",
      "text/plain": [
       "<Figure size 432x288 with 1 Axes>"
      ]
     },
     "metadata": {
      "needs_background": "light"
     },
     "output_type": "display_data"
    },
    {
     "name": "stdout",
     "output_type": "stream",
     "text": [
      "[45.    9.25]\n",
      "[44.  8.]\n",
      "1.6007810593582121\n"
     ]
    },
    {
     "data": {
      "image/png": "[encoded data removed]",
      "text/plain": [
       "<Figure size 432x288 with 1 Axes>"
      ]
     },
     "metadata": {
      "needs_background": "light"
     },
     "output_type": "display_data"
    },
    {
     "name": "stdout",
     "output_type": "stream",
     "text": [
      "[45.    9.25]\n",
      "[45.  8.]\n",
      "1.25\n"
     ]
    },
    {
     "data": {
      "image/png": "[encoded data removed]",
      "text/plain": [
       "<Figure size 432x288 with 1 Axes>"
      ]
     },
     "metadata": {
      "needs_background": "light"
     },
     "output_type": "display_data"
    },
    {
     "name": "stdout",
     "output_type": "stream",
     "text": [
      "[42.    9.25]\n",
      "[42.  8.]\n",
      "1.25\n"
     ]
    },
    {
     "data": {
      "image/png": "[encoded data removed]",
      "text/plain": [
       "<Figure size 432x288 with 1 Axes>"
      ]
     },
     "metadata": {
      "needs_background": "light"
     },
     "output_type": "display_data"
    },
    {
     "name": "stdout",
     "output_type": "stream",
     "text": [
      "[42.    9.25]\n",
      "[41.  8.]\n",
      "1.6007810593582121\n"
     ]
    },
    {
     "data": {
      "image/png": "[encoded data removed]",
      "text/plain": [
       "<Figure size 432x288 with 1 Axes>"
      ]
     },
     "metadata": {
      "needs_background": "light"
     },
     "output_type": "display_data"
    },
    {
     "name": "stdout",
     "output_type": "stream",
     "text": [
      "[42.    9.25]\n",
      "[nan nan]\n",
      "nan\n"
     ]
    }
   ],
   "source": [
    "print(\"please start simulation in casi now.\")"
   ]
  },
  {
   "cell_type": "code",
   "execution_count": 1,
   "metadata": {},
   "outputs": [
    {
     "ename": "NameError",
     "evalue": "name 'groundtruth' is not defined",
     "output_type": "error",
     "traceback": [
      "\u001b[0;31m---------------------------------------------------------------------------\u001b[0m",
      "\u001b[0;31mNameError\u001b[0m                                 Traceback (most recent call last)",
      "\u001b[0;32m<ipython-input-1-2c1b14907bbf>\u001b[0m in \u001b[0;36m<module>\u001b[0;34m()\u001b[0m\n\u001b[1;32m      7\u001b[0m \u001b[0;34m\u001b[0m\u001b[0m\n\u001b[1;32m      8\u001b[0m \u001b[0mdata\u001b[0m \u001b[0;34m=\u001b[0m \u001b[0;34m[\u001b[0m\u001b[0;34m]\u001b[0m\u001b[0;34m\u001b[0m\u001b[0m\n\u001b[0;32m----> 9\u001b[0;31m \u001b[0;32mwith\u001b[0m \u001b[0mopen\u001b[0m\u001b[0;34m(\u001b[0m\u001b[0mgroundtruth\u001b[0m\u001b[0;34m,\u001b[0m \u001b[0;34m'r'\u001b[0m\u001b[0;34m)\u001b[0m \u001b[0;32mas\u001b[0m \u001b[0muser_data\u001b[0m\u001b[0;34m:\u001b[0m\u001b[0;34m\u001b[0m\u001b[0m\n\u001b[0m\u001b[1;32m     10\u001b[0m     \u001b[0mreader\u001b[0m \u001b[0;34m=\u001b[0m \u001b[0mcsv\u001b[0m\u001b[0;34m.\u001b[0m\u001b[0mreader\u001b[0m\u001b[0;34m(\u001b[0m\u001b[0muser_data\u001b[0m\u001b[0;34m,\u001b[0m \u001b[0mdelimiter\u001b[0m\u001b[0;34m=\u001b[0m\u001b[0;34m','\u001b[0m\u001b[0;34m,\u001b[0m \u001b[0mquotechar\u001b[0m\u001b[0;34m=\u001b[0m\u001b[0;34m','\u001b[0m\u001b[0;34m)\u001b[0m\u001b[0;34m\u001b[0m\u001b[0m\n\u001b[1;32m     11\u001b[0m     \u001b[0;32mfor\u001b[0m \u001b[0mrow\u001b[0m \u001b[0;32min\u001b[0m \u001b[0mreader\u001b[0m\u001b[0;34m:\u001b[0m\u001b[0;34m\u001b[0m\u001b[0m\n",
      "\u001b[0;31mNameError\u001b[0m: name 'groundtruth' is not defined"
     ]
    }
   ],
   "source": [
    "################################################\n",
    "#### AFTER SIMULATION SECTION: STORING DATA ####\n",
    "################################################\n",
    "\n",
    "# Run This after simulation has ended...\n",
    "\n",
    "import csv\n",
    "\n",
    "data = []\n",
    "with open(groundtruth, 'r') as user_data:\n",
    "    reader = csv.reader(user_data, delimiter=',', quotechar=',')\n",
    "    for row in reader:\n",
    "        if (reader.line_num != 1):\n",
    "            # row[2] = 6.6 - float(row[2])\n",
    "            row[2] = float(row[2])\n",
    "            row[3] = float(row[3])\n",
    "            # row[4] = 6.6 - float(row[4])\n",
    "            row[4] = float(row[4])\n",
    "            row[5] = float(row[5])\n",
    "            data.append(row)\n",
    "            \n",
    "from scipy.spatial import distance\n",
    "\n",
    "pruned_data_gt = []\n",
    "pruned_data_re = []\n",
    "candidate_data_gt = [data[0][4], data[0][5]]\n",
    "candidate_data_re = [data[0][2], data[0][3]]\n",
    "flag = 1\n",
    "\n",
    "for i in range(len(data) - 1):\n",
    "    if(flag == 1):\n",
    "        pruned_data_gt.append(candidate_data_gt)\n",
    "        pruned_data_re.append(candidate_data_re)\n",
    "        flag = 0\n",
    "    \n",
    "    dist = distance.euclidean(candidate_data_gt, [data[i][4], data[i][5]])\n",
    "    #print(dist)\n",
    "    if(dist >= 0.5):\n",
    "        flag = 1\n",
    "        candidate_data_gt = [data[i][4], data[i][5]]\n",
    "        candidate_data_re = [data[i][2], data[i][3]]\n",
    "        \n",
    "import pickle\n",
    "\n",
    "f = open('Data_' + simworldname + '.pckl', 'wb')\n",
    "pickle.dump((data, oracle, analyzer), f)\n",
    "f.close()"
   ]
  },
  {
   "cell_type": "code",
   "execution_count": null,
   "metadata": {},
   "outputs": [],
   "source": []
  },
  {
   "cell_type": "code",
   "execution_count": null,
   "metadata": {},
   "outputs": [],
   "source": []
  }
 ],
 "metadata": {
  "kernelspec": {
   "display_name": "Python 2",
   "language": "python",
   "name": "python2"
  },
  "language_info": {
   "codemirror_mode": {
    "name": "ipython",
    "version": 2
   },
   "file_extension": ".py",
   "mimetype": "text/x-python",
   "name": "python",
   "nbconvert_exporter": "python",
   "pygments_lexer": "ipython2",
   "version": "2.7.15rc1"
  }
 },
 "nbformat": 4,
 "nbformat_minor": 2
}

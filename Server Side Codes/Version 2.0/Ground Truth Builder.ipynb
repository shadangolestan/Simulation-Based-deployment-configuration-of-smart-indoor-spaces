{
 "cells": [
  {
   "cell_type": "code",
   "execution_count": 8,
   "metadata": {},
   "outputs": [],
   "source": [
    "import paho.mqtt.client as mqtt\n",
    "import threading\n",
    "import os\n",
    "import re\n",
    "import json\n",
    "from shapely.geometry import Polygon\n",
    "from shapely.ops import cascaded_union\n",
    "import xml.etree.ElementTree\n",
    "import pprint\n",
    "import numpy as np\n",
    "import matplotlib.pyplot as plt\n",
    "import matplotlib\n",
    "from matplotlib.patches import Circle\n",
    "import time as pythonTimer\n",
    "import random\n",
    "from random import randint\n",
    "import scipy.stats as stats\n",
    "from scipy.stats import multivariate_normal\n",
    "import csv\n",
    "import datetime\n",
    "import pandas as pd\n",
    "import datetime\n",
    "import pandas as pd\n",
    "import numpy as np\n",
    "\n",
    "global simworldname\n",
    "global groundtruth\n",
    "global motion_readings\n",
    "global my_map\n",
    "global grid_map\n",
    "global distances\n",
    "global oracle\n",
    "global analyzer\n",
    "global dataset_times\n",
    "global dataset_readings\n",
    "global dataset\n",
    "global motions_order\n",
    "global motion_sensors\n",
    "global motions_sensor_data\n",
    "global simulated_sensor_readings\n",
    "global agentsnum\n",
    "global sensors_list\n",
    "global sr_matrix\n",
    "global indices_to_keep\n",
    "global gtx\n",
    "global gty\n",
    "global egtx\n",
    "global egty\n",
    "global gtx2\n",
    "global gty2\n",
    "global rsr\n",
    "global df_\n",
    "global gtt\n",
    "global egtt\n",
    "global human_readable_sensor_array\n",
    "global sensed_areas\n",
    "global plotflag\n",
    "global syntheticTrace\n",
    "\n",
    "def find_nearest(array, value):\n",
    "    array = np.asarray(array)\n",
    "    idx = (np.abs(array - value)).argmin()\n",
    "    # print(value - array[idx])\n",
    "    return idx"
   ]
  },
  {
   "cell_type": "code",
   "execution_count": 9,
   "metadata": {},
   "outputs": [],
   "source": [
    "dataset_times = []\n",
    "dataset_readings = []\n",
    "gtt = []\n",
    "gtx = []\n",
    "gty = []\n",
    "egtt = []\n",
    "egtx = []\n",
    "egty = []\n",
    "\n",
    "final_file_name = 'Data//Real Agent Traces//Extended_28Jun2.csv'\n",
    "real_agent_trace = 'Data//Real Agent Traces//28Jun2.csv'\n",
    "motion_readings = 'Data//Sensor Readings//28Jun2_events.txt'\n",
    "sensor_readings = open(motion_readings, \"r\").readlines()\n",
    "\n",
    "for i in range(0,len(sensor_readings)):\n",
    "    time = sensor_readings[i].split(';')[0]\n",
    "    sensor_array = sensor_readings[i].split(';')[1]\n",
    "    dataset_times.append(int(time))\n",
    "    dataset_readings.append(sensor_array)\n",
    "\n",
    "with open(real_agent_trace, 'r') as agent_data:\n",
    "    reader = csv.reader(agent_data, delimiter = ',', quotechar = ',')\n",
    "    line = 0\n",
    "    for row in reader:\n",
    "        if (reader.line_num > 1):\n",
    "            gtt.append(int(row[0]))\n",
    "            gtx.append(int(row[1]))\n",
    "            gty.append(int(row[2]))"
   ]
  },
  {
   "cell_type": "code",
   "execution_count": 10,
   "metadata": {},
   "outputs": [],
   "source": [
    "egtt.append(gtt[0])\n",
    "egtx.append(gtx[0])\n",
    "egty.append(gty[0])\n",
    "i = 0\n",
    "j = 0\n",
    "\n",
    "while(i < len(gtt)):\n",
    "    if egtt[j] < gtt[i]:\n",
    "        egtt.append(egtt[j] + 1)\n",
    "        egtx.append(gtx[i])\n",
    "        egty.append(gty[i])\n",
    "        j += 1\n",
    "    else:\n",
    "        i += 1\n",
    "        \n",
    "extended_gtx = []\n",
    "extended_gty = []\n",
    "extended_gtt = []\n",
    "extended_gta = []\n",
    "\n",
    "for i in range(0, len(dataset_times)):\n",
    "    ind = find_nearest(egtt, dataset_times[i])\n",
    "    extended_gtt.append(egtt[ind])\n",
    "    extended_gtx.append(egtx[ind])\n",
    "    extended_gty.append(egty[ind])\n",
    "    extended_gta.append(\"cook\")\n",
    "    \n",
    "data = [extended_gtt, extended_gtx, extended_gty, extended_gta]\n",
    "data = zip(*data)\n",
    "\n",
    "with open(final_file_name, 'w', newline='') as myfile:\n",
    "    wr = csv.writer(myfile)\n",
    "    for row in data:\n",
    "        wr.writerow(row)"
   ]
  },
  {
   "cell_type": "code",
   "execution_count": 11,
   "metadata": {},
   "outputs": [
    {
     "data": {
      "text/plain": [
       "2228"
      ]
     },
     "execution_count": 11,
     "metadata": {},
     "output_type": "execute_result"
    }
   ],
   "source": [
    "len(dataset_times)"
   ]
  },
  {
   "cell_type": "code",
   "execution_count": 12,
   "metadata": {},
   "outputs": [
    {
     "data": {
      "text/plain": [
       "2228"
      ]
     },
     "execution_count": 12,
     "metadata": {},
     "output_type": "execute_result"
    }
   ],
   "source": [
    "len(extended_gtt)"
   ]
  },
  {
   "cell_type": "code",
   "execution_count": null,
   "metadata": {},
   "outputs": [],
   "source": []
  }
 ],
 "metadata": {
  "kernelspec": {
   "display_name": "Python 3",
   "language": "python",
   "name": "python3"
  },
  "language_info": {
   "codemirror_mode": {
    "name": "ipython",
    "version": 3
   },
   "file_extension": ".py",
   "mimetype": "text/x-python",
   "name": "python",
   "nbconvert_exporter": "python",
   "pygments_lexer": "ipython3",
   "version": "3.7.1"
  }
 },
 "nbformat": 4,
 "nbformat_minor": 2
}

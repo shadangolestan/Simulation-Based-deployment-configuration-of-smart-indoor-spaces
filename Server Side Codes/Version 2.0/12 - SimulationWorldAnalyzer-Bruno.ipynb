{
 "cells": [
  {
   "cell_type": "code",
   "execution_count": 1,
   "metadata": {},
   "outputs": [],
   "source": [
    "import paho.mqtt.client as mqtt\n",
    "import threading\n",
    "import os\n",
    "import re\n",
    "# import motionlocalizer.settings\n",
    "import json\n",
    "# import requests\n",
    "from shapely.geometry import Polygon\n",
    "from shapely.ops import cascaded_union\n",
    "import xml.etree.ElementTree\n",
    "import pprint\n",
    "import numpy as np\n",
    "import matplotlib.pyplot as plt\n",
    "from matplotlib.patches import Circle\n",
    "import time as pythonTimer\n",
    "import random\n",
    "from random import randint\n",
    "import scipy.stats as stats\n",
    "from scipy.stats import multivariate_normal\n",
    "import csv\n",
    "import datetime\n",
    "import pandas as pd\n",
    "\n",
    "simworldname = 'simulationWorld2.xml' #ENVIROMENT\n",
    "groundtruth = '28jun2.csv' #AGENT'S MOVEMENTS\n",
    "motion_readings = '28Jun2_motion_events.txt'\n",
    "# groundtruth = 'AgentDetailedTasksFile.csv' #AGENT'S MOVEMENTS\n",
    "\n",
    "my_map = [(0.0, 0.0), (0.0, 10.6), (6.6, 10.6), (6.6, 0.0)]\n",
    "grid_map = np.zeros((int(my_map[2][0]) * 10, int(my_map[2][1]) * 10))\n",
    "distances = []\n",
    "\n",
    "oracle = {}\n",
    "oracle['time'] = []\n",
    "oracle['location'] = []\n",
    "\n",
    "analyzer = {}\n",
    "analyzer['time'] = []\n",
    "analyzer['gridmap'] = []\n",
    " \n",
    "def start_localizing(event):\n",
    "    global analyzer\n",
    "    global oracle\n",
    "    global grid_map\n",
    "    run_localization(event)\n",
    "\n",
    "def run_localization(event):\n",
    "    global analyzer\n",
    "    global oracle\n",
    "    global grid_map\n",
    "    # print(\"run_localization\")\n",
    "    Localizer(pythonTimer.time()).run(event)\n"
   ]
  },
  {
   "cell_type": "code",
   "execution_count": 2,
   "metadata": {},
   "outputs": [],
   "source": [
    "def find_nearest(array, value):\n",
    "    array = np.asarray(array)\n",
    "    idx = (np.abs(array - value)).argmin()\n",
    "    return idx\n",
    "\n",
    "\n",
    "# sensor_readings = open(motion_readings, \"r\")\n",
    "sensor_readings = open(motion_readings, \"r\").readlines()\n",
    "\n",
    "dataset_times = []\n",
    "dataset_readings = []\n",
    "for i in range(0,len(sensor_readings)):\n",
    "    time = sensor_readings[i].split(';')[0]\n",
    "    sensor_array = sensor_readings[i].split(';')[1]\n",
    "    dataset_times.append(int(time))\n",
    "    dataset_readings.append(sensor_array)\n",
    "\n",
    "dataset = ['time', 'gt(x)', 'gt(y)', 'motion_readings']\n",
    "with open(groundtruth, 'r') as user_data:\n",
    "    reader = csv.reader(user_data, delimiter=',', quotechar=',')\n",
    "    for row in reader:\n",
    "        new_row = []\n",
    "        if (reader.line_num != 1):\n",
    "            ind = find_nearest(dataset_times[1:], int(row[0]))\n",
    "            dataset = np.vstack((dataset, [float(row[0]), float(row[4]), float(row[5]), dataset_readings[ind]]))\n",
    "            "
   ]
  },
  {
   "cell_type": "code",
   "execution_count": 13,
   "metadata": {},
   "outputs": [
    {
     "data": {
      "text/plain": [
       "array([['time', 'gt(x)', 'gt(y)', 'motion_readings'],\n",
       "       ['1498670641.0', '1.197742', '5.402001', '0000000000000000000000'],\n",
       "       ['1498670642.0', '1.198065', '5.401716', '0000000000000000000000'],\n",
       "       ...,\n",
       "       ['1498677300.0', '3.4', '3.45', '0000000000000000000000'],\n",
       "       ['1498677303.0', '3.4', '3.45', '0000000000000000000000'],\n",
       "       ['1498677318.0', '3.4', '3.45', '0000000000000000010000']],\n",
       "      dtype='<U32')"
      ]
     },
     "execution_count": 13,
     "metadata": {},
     "output_type": "execute_result"
    }
   ],
   "source": [
    "dataset"
   ]
  },
  {
   "cell_type": "code",
   "execution_count": 3,
   "metadata": {},
   "outputs": [],
   "source": [
    "motions_order = [1, 10, 11, 12, 13, 14, 15, 16, 17, 18, 19, 2, 20, 21, 22, 3, 4, 5, 6, 7, 8, 9]\n",
    "motion_sensors = [1, 10, 11, 12, 13, 14, 2, 3, 4, 5, 6, 7, 8, 9]\n",
    "motions_sensor_data = {}\n",
    "\n",
    "sr_matrix = np.zeros([1, 14])\n",
    "for i in range(1,len(dataset)):\n",
    "    sensor_array = dataset[i][3]\n",
    "    sr_row = []\n",
    "    for j in range(0,len(sensor_array)):\n",
    "        if (motions_order[j] <= 14):\n",
    "            sr_row.append(int(sensor_array[j]))\n",
    "\n",
    "    sr_matrix = np.vstack((sr_matrix,sr_row))\n",
    "\n",
    "i = 0\n",
    "for sensor in motions_order:\n",
    "    if (sensor <= 14):\n",
    "        motions_sensor_data[sensor] = []\n",
    "        motions_sensor_data[sensor] = sr_matrix[:, i]\n",
    "        i = i + 1\n",
    "        \n",
    "for sensor in motion_sensors:\n",
    "    new_readings = []\n",
    "    new_readings.append(motions_sensor_data[sensor][0])\n",
    "    for i in range(1, len(motions_sensor_data[sensor])):\n",
    "        if (new_readings[len(new_readings) - 1] == motions_sensor_data[sensor][i]):\n",
    "            new_readings.append(0)\n",
    "        else:\n",
    "            new_readings.append(1)"
   ]
  },
  {
   "cell_type": "code",
   "execution_count": 4,
   "metadata": {},
   "outputs": [
    {
     "data": {
      "image/png": "[encoded data removed]",
      "text/plain": [
       "<Figure size 432x288 with 1 Axes>"
      ]
     },
     "metadata": {
      "needs_background": "light"
     },
     "output_type": "display_data"
    },
    {
     "data": {
      "image/png": "[encoded data removed]",
      "text/plain": [
       "<Figure size 432x288 with 1 Axes>"
      ]
     },
     "metadata": {
      "needs_background": "light"
     },
     "output_type": "display_data"
    },
    {
     "data": {
      "image/png": "[encoded data removed]",
      "text/plain": [
       "<Figure size 432x288 with 1 Axes>"
      ]
     },
     "metadata": {
      "needs_background": "light"
     },
     "output_type": "display_data"
    },
    {
     "data": {
      "image/png": "[encoded data removed]",
      "text/plain": [
       "<Figure size 432x288 with 1 Axes>"
      ]
     },
     "metadata": {
      "needs_background": "light"
     },
     "output_type": "display_data"
    },
    {
     "data": {
      "image/png": "[encoded data removed]",
      "text/plain": [
       "<Figure size 432x288 with 1 Axes>"
      ]
     },
     "metadata": {
      "needs_background": "light"
     },
     "output_type": "display_data"
    },
    {
     "data": {
      "image/png": "[encoded data removed]",
      "text/plain": [
       "<Figure size 432x288 with 1 Axes>"
      ]
     },
     "metadata": {
      "needs_background": "light"
     },
     "output_type": "display_data"
    },
    {
     "data": {
      "image/png": "[encoded data removed]",
      "text/plain": [
       "<Figure size 432x288 with 1 Axes>"
      ]
     },
     "metadata": {
      "needs_background": "light"
     },
     "output_type": "display_data"
    },
    {
     "data": {
      "image/png": "[encoded data removed]",
      "text/plain": [
       "<Figure size 432x288 with 1 Axes>"
      ]
     },
     "metadata": {
      "needs_background": "light"
     },
     "output_type": "display_data"
    },
    {
     "data": {
      "image/png": "[encoded data removed]",
      "text/plain": [
       "<Figure size 432x288 with 1 Axes>"
      ]
     },
     "metadata": {
      "needs_background": "light"
     },
     "output_type": "display_data"
    },
    {
     "data": {
      "image/png": "[encoded data removed]",
      "text/plain": [
       "<Figure size 432x288 with 1 Axes>"
      ]
     },
     "metadata": {
      "needs_background": "light"
     },
     "output_type": "display_data"
    },
    {
     "data": {
      "image/png": "[encoded data removed]",
      "text/plain": [
       "<Figure size 432x288 with 1 Axes>"
      ]
     },
     "metadata": {
      "needs_background": "light"
     },
     "output_type": "display_data"
    },
    {
     "data": {
      "image/png": "[encoded data removed]",
      "text/plain": [
       "<Figure size 432x288 with 1 Axes>"
      ]
     },
     "metadata": {
      "needs_background": "light"
     },
     "output_type": "display_data"
    },
    {
     "data": {
      "image/png": "[encoded data removed]",
      "text/plain": [
       "<Figure size 432x288 with 1 Axes>"
      ]
     },
     "metadata": {
      "needs_background": "light"
     },
     "output_type": "display_data"
    },
    {
     "data": {
      "image/png": "[encoded data removed]",
      "text/plain": [
       "<Figure size 432x288 with 1 Axes>"
      ]
     },
     "metadata": {
      "needs_background": "light"
     },
     "output_type": "display_data"
    }
   ],
   "source": [
    "import matplotlib.pyplot as plt\n",
    "\n",
    "for i in motion_sensors:\n",
    "    plt.plot(list(range(0,len(motions_sensor_data[i]))), motions_sensor_data[i])\n",
    "    plt.show()"
   ]
  },
  {
   "cell_type": "code",
   "execution_count": 5,
   "metadata": {},
   "outputs": [],
   "source": [
    "##################################\n",
    "####       Sensor Class       ####\n",
    "##################################\n",
    "\n",
    "class Sensor:\n",
    "    sensor_type = \"\"\n",
    "    sensor_id = \"\"\n",
    "    x = float()\n",
    "    y = float()\n",
    "    z = float()\n",
    "\n",
    "    def __str__(self):\n",
    "        return 'type: %s,\\n id: %s,\\n x: %s,\\n y: %s\\n'%(self.sensor_type, self.sensor_id, self.x, self.y)\n",
    "\n",
    "    def Initialize(self, element):\n",
    "        self.x = (str(element.find('point').find('xcoord').text))\n",
    "        self.y = (str(element.find('point').find('ycoord').text))\n",
    "        self.sensor_id = (str(element.find('id').text))\n",
    "        self.sensor_type = (str(element.find('type').text))     \n",
    "            \n",
    "        return 0\n",
    "    \n",
    "    \n",
    "    '''\n",
    "        This fucntion uses an 2D gaussian, that means: X~(x, mean, covarianceMatrix)\n",
    "        Input:\n",
    "        x = [xOracle, yOracle] (Actually we don't care about it anymore)\n",
    "        mean = [xSimulator, ySimulator]\n",
    "        covarianceMatrix= | r  0 | , where r is the circle radious\n",
    "                          | 0  r |\n",
    "\n",
    "        Returns: cdf of the normal distribution\n",
    "        \n",
    "    '''\n",
    "    def GaussianFiredSensor(self, simulated_localization, real_localization):\n",
    "        import math\n",
    "\n",
    "        sensor_location = [float(self.x)/10, float(self.y)/10]\n",
    "        cov = [[self.sensing_area, 0],[0, self.sensing_area]]        \n",
    "        prob = multivariate_normal(simulated_localization, cov)\n",
    "        probCdf = prob.cdf(sensor_location)\n",
    "        \n",
    "        print(\"real: \", real_localization)\n",
    "        print(\"simu: \", simulated_localization)\n",
    "              \n",
    "        return probCdf\n",
    "    \n",
    "\"\"\"\n",
    "System's sensors\n",
    "All this classes are childrens from Sensor Class\n",
    "\"\"\"\n",
    "class MotionSensorBinary(Sensor):\n",
    "    def __init__(self, element):\n",
    "        Sensor.Initialize(self, element)\n",
    "        self.sensing_area = (str(element.find('radius').text))\n",
    "\n",
    "class RFID_Reader(Sensor):\n",
    "    def __init__(self, element):\n",
    "        Sensor.Initialize(self, element)\n",
    "        self.sensing_area = (str(element.find('arcSize').text))\n",
    "\n",
    "class MotionSensorAnalog(Sensor):\n",
    "    def __init__(self, element):\n",
    "        Sensor.Initialize(self, element)\n",
    "        self.sensing_area = (str(element.find('radius').text))\n",
    "        \n",
    "class PressureSensorAnalog(Sensor):\n",
    "    def __init__(self, element):\n",
    "        Sensor.Initialize(self, element)\n",
    "        self.sensing_area = (str(element.find('radius').text))\n",
    "        self.object = str(element.find('object').text)\n",
    "        \n",
    "class BeaconSensor(Sensor):\n",
    "    def __init__(self, element):\n",
    "        Sensor.Initialize(self, element)\n",
    "        self.sensing_area = (str(element.find('radius').text))\n",
    "        self.measuredPower = -69\n",
    "        self.RSSI = self.sensing_area\n",
    "        self.N = 2 #Constant related with the air\n",
    "        self.object = str(element.find('object').text)\n",
    "        self.accelerometer = str(element.find('accelerometer').text)\n",
    "        \n",
    "    # https://iotandelectronics.wordpress.com/2016/10/07/how-to-calculate-distance-from-the-rssi-value-of-the-ble-beacon/\n",
    "    def rssiToMeters(self):\n",
    "        u = (float(self.measuredPower) - float(self.RSSI))/(10 * float(self.N))\n",
    "        dist = 10 ** u\n",
    "        \n",
    "        return dist\n",
    "    \n",
    "   # def distanceToMeasure(self, dist):\n",
    "     #   mp = self.RSSI + (10*n*math.log10(dist)\n",
    "    #    return mp\n",
    "    "
   ]
  },
  {
   "cell_type": "code",
   "execution_count": 6,
   "metadata": {},
   "outputs": [],
   "source": [
    "#Event Class\n",
    "class Event:\n",
    "    source = \"\"\n",
    "    timestamp = float()\n",
    "    RSSI = 0\n",
    "    objectAtt = \"\"\n",
    "    accelerometer = False\n",
    "    sensor = Sensor.sensor_id\n",
    "    sensorType = Sensor.sensor_type\n",
    "    data = int()\n",
    "    hash = \"\"\n",
    "\n",
    "    def __str__(self):\n",
    "        return 'time: %s --> sensor: <%s>, sensor type: %s data: %s' % (\n",
    "        str(self.timestamp), str(self.sensor), str(self.sensorType), str(self.data))"
   ]
  },
  {
   "cell_type": "code",
   "execution_count": 7,
   "metadata": {},
   "outputs": [],
   "source": [
    "class GridMap:\n",
    "    map = \"\""
   ]
  },
  {
   "cell_type": "code",
   "execution_count": 8,
   "metadata": {},
   "outputs": [],
   "source": [
    "#Debug function, not working - just forget about it\n",
    "def checkTypeSensor(sensor):\n",
    "    if(sensor.sensor_type == 'RFID_Reader'):\n",
    "        this_sensor = RFID_Reader(sensor) \n",
    "        return this_sensor\n",
    "\n",
    "    if(sensor.sensor_type == 'MotionSensorBinary'):\n",
    "        this_sensor = MotionSensorBinary(sensor)\n",
    "        #this_sensor = sensor\n",
    "        return this_sensor\n",
    "\n",
    "    if(sensor.sensor_type == 'MotionSensorAnalog'):\n",
    "        this_sensor = MotionSensorAnalog(sensor)\n",
    "        return this_sensor\n",
    "\n",
    "    if(sensor.sensor_type == 'PressureSensorAnalog'):\n",
    "        this_sensor = PressureSensorAnalog(sensor)\n",
    "        return this_sensor\n",
    "    \n",
    "    return \"none\""
   ]
  },
  {
   "cell_type": "code",
   "execution_count": 9,
   "metadata": {},
   "outputs": [],
   "source": [
    "############################################\n",
    "####       PARSE SIMULATION WORLD       ####\n",
    "############################################\n",
    "\n",
    "root = xml.etree.ElementTree.parse(simworldname).getroot()\n",
    "\n",
    "grid2 = np.zeros((int(my_map[2][0]) * 1, int(my_map[2][1]) * 1))\n",
    "grid2 = np.copy(grid_map)\n",
    "\n",
    "# print(grid2)\n",
    "\n",
    "sensors_list = []\n",
    "\n",
    "for element in root:\n",
    "    if(element.tag == 'sensors'):\n",
    "        for sensor in element:\n",
    "            #Choose the kind of sensor we have\n",
    "            if(str(sensor.find('type').text) == 'RFID_Reader'):\n",
    "                this_sensor = RFID_Reader(sensor)\n",
    "                \n",
    "            if(str(sensor.find('type').text) == 'MotionSensorBinary'):\n",
    "                this_sensor = MotionSensorBinary(sensor)\n",
    "                \n",
    "            if(str(sensor.find('type').text) == 'MotionSensorAnalog'):\n",
    "                this_sensor = MotionSensorAnalog(sensor)\n",
    "            \n",
    "            if(str(sensor.find('type').text) == 'PressureSensorAnalog'):\n",
    "                this_sensor = PressureSensorAnalog(sensor)\n",
    "            \n",
    "            if(str(sensor.find('type').text) == 'BeaconSensor'):\n",
    "                this_sensor = BeaconSensor(sensor)\n",
    "                \n",
    "            sensors_list.append(this_sensor)\n",
    "            # print(this_sensor.sensor_type + \" \" + this_sensor.x + \" \" + this_sensor.y)\n",
    "            # sensors_list.append(sensor)\n",
    "            # print(sensors_list[len(sensors_list) - 1])"
   ]
  },
  {
   "cell_type": "code",
   "execution_count": 10,
   "metadata": {},
   "outputs": [],
   "source": [
    "############################################\n",
    "####         LOCALIZATION CLASS         ####\n",
    "############################################\n",
    "\n",
    "class Localizer(threading.Thread):\n",
    "    to_be_localized_queue = []\n",
    "    localizer_lock = threading.Lock()\n",
    "    this_grid_map = []\n",
    "    \n",
    "    \n",
    "    def __init__(self, time):\n",
    "        self.time = time\n",
    "\n",
    "    def run(self, event):\n",
    "        global grid_map\n",
    "        global analyzer\n",
    "        global oracle\n",
    "        global distances\n",
    "        # print(\"Run\")\n",
    "        Localizer.to_be_localized_queue.append(self.time)\n",
    "        with Localizer.localizer_lock:\n",
    "            while len(Localizer.to_be_localized_queue) > 0:\n",
    "                timestamp = Localizer.to_be_localized_queue[0]\n",
    "                Localizer.to_be_localized_queue = Localizer.to_be_localized_queue[1:]\n",
    "                self.localize(timestamp, event)\n",
    "    \n",
    "    def localizer_confidence(self):\n",
    "        return 0.9\n",
    "\n",
    "    def get_event_period(self):\n",
    "        return 1.0\n",
    "\n",
    "    def getLocations(self, time, event):\n",
    "        global grid_map\n",
    "        global analyzer\n",
    "        global oracle\n",
    "        global distances\n",
    "\n",
    "        fired_sensors = []\n",
    "        grid2 = np.copy(grid_map)\n",
    "        fired_sensors = self.FindFiredSensor(event, grid_map, event.timestamp)\n",
    "\n",
    "        if len(fired_sensors) == 0:\n",
    "            return\n",
    "        \n",
    "        counter = 0\n",
    "        try:\n",
    "            m1 = np.min(grid2[np.nonzero(grid2)])\n",
    "            M1 = np.max(grid2[np.nonzero(grid2)])\n",
    "\n",
    "            # print(\"Value in try:\", m1)\n",
    "            # print(\"Value in try:\", M1)\n",
    "            \n",
    "        except:\n",
    "            print(\"start!\")\n",
    "        \n",
    "        for i in range(len(grid2[:,1])):\n",
    "            for j in range(len(grid2[1,:])):\n",
    "                for sensor in fired_sensors:\n",
    "                    \n",
    "                    #my_sensor = checkTypeSensor(sensor)\n",
    "                    my_sensor = sensor\n",
    "                    r = float(my_sensor.sensing_area)/10\n",
    "                    x = float(my_sensor.x)/10\n",
    "                    y = float(my_sensor.y)/10\n",
    "                    \n",
    "                    circ = Circle((int(int(x)), int(int(y))), int(int(r)))\n",
    "                    \n",
    "                    if (circ.contains_point([i, j])):\n",
    "                        grid2[i][j] += 1\n",
    "        \n",
    "        sumofpoints = sum(sum(grid2))/4\n",
    "        \n",
    "        if (sumofpoints == 0):\n",
    "            print(\"no 1\")\n",
    "        else:\n",
    "            grid2 = np.true_divide(grid2, sumofpoints)\n",
    "        \n",
    "        inferred_location = self.AskLocationFromLocalizer(grid2)\n",
    "        real_location2 = self.AskLocationFromOracle(time)\n",
    "   \n",
    "        return inferred_location, real_location2, fired_sensors\n",
    "        \n",
    "    def localize(self, time, event):\n",
    "        global grid_map\n",
    "        global analyzer\n",
    "        global oracle\n",
    "        global distances\n",
    "        \n",
    "        #finds the inferred an real locations, and what sensors were fired\n",
    "        inferred_location, real_location, fired_sensors2 = self.getLocations(event.timestamp, event)    \n",
    "        k = 0\n",
    "        \n",
    "        #Choose what sensor was REALLY deployed based on the probability\n",
    "        i = len(fired_sensors2)\n",
    "        \n",
    "        if(i > 0):\n",
    "            i -= 1\n",
    "        \n",
    "        while(i >= 0):         \n",
    "            current_sensor = fired_sensors2[i]\n",
    "            #get the probability from the gaussian filter\n",
    "            probi = current_sensor.GaussianFiredSensor(inferred_location, real_location)\n",
    "            \n",
    "            if(probi < 0.015):\n",
    "                del fired_sensors2[i]\n",
    "            i -= 1\n",
    "            #print(probi)\n",
    "                \n",
    "        fired_sensors = fired_sensors2\n",
    "        \n",
    "        if len(fired_sensors) == 0:\n",
    "            return\n",
    "        \n",
    "        counter = 0\n",
    "        \n",
    "        try:\n",
    "            m1 = np.min(grid_map[np.nonzero(grid_map)])\n",
    "            M1 = np.max(grid_map[np.nonzero(grid_map)])\n",
    "            \n",
    "        except:\n",
    "            print(\"start!\")\n",
    "        \n",
    "        \n",
    "        for i in range(len(grid_map[:,1])):\n",
    "            for j in range(len(grid_map[1,:])):\n",
    "                for sensor in fired_sensors:\n",
    "                    #my_sensor = checkTypeSensor(sensor)\n",
    "                    my_sensor = sensor\n",
    "                    r = float(my_sensor.sensing_area)/10\n",
    "                    x = float(my_sensor.x)/10\n",
    "                    y = float(my_sensor.y)/10\n",
    "                    #print(\"i: \", i, \"j: \", j)\n",
    "                    #print(\"x: \", x, \"y: \", y, \"r: \", r)\n",
    "                    \n",
    "                    circ = Circle((int(int(x)), int(int(y))), int(int(r)))\n",
    "                    \n",
    "                    if (circ.contains_point([i, j])):\n",
    "                        grid_map[i][j] += 1\n",
    "        \n",
    "        sumofpoints = sum(sum(grid_map))/4\n",
    "          \n",
    "        if (sumofpoints == 0):\n",
    "            print(\"no 2\")\n",
    "        else:\n",
    "            grid_map = np.true_divide(grid_map, sumofpoints)\n",
    "    \n",
    "        dist = self.ReportError(event.timestamp, grid_map)\n",
    "        distances.append(dist) \n",
    "        \n",
    "        analyzer['time'].append(event.timestamp)\n",
    "        analyzer['gridmap'].append(grid_map)\n",
    "\n",
    "        # plt.imshow(zip(*grid_map), cmap='hot', interpolation='nearest')\n",
    "        plt.imshow(grid_map, cmap='hot', interpolation='nearest')\n",
    "        plt.show()\n",
    "        print(\"\\n\")\n",
    "    \n",
    "    def ReportError(self, time, recent_grid):\n",
    "        global oracle\n",
    "        \n",
    "        inferred_location = self.AskLocationFromLocalizer(recent_grid)\n",
    "        real_location = self.AskLocationFromOracle(time)\n",
    "        \n",
    "        #print(inferred_location)\n",
    "        #print(real_location)\n",
    "        \n",
    "        return np.linalg.norm(inferred_location - real_location)\n",
    "        \n",
    "        \n",
    "    def AskLocationFromLocalizer(self, recent_grid):\n",
    "        return np.mean(list(zip(*np.where(recent_grid == np.max(recent_grid)))), axis = 0)\n",
    "    \n",
    "    def AskLocationFromOracle(self, time):  \n",
    "        point = np.mean(np.asarray(oracle['location'])[np.where(np.asarray(oracle['time']) == int(time))], axis = 0)\n",
    "        #print(\"ponto: \", point, \"time: \", time)\n",
    "        return point\n",
    "    \n",
    "    \"\"\"\n",
    "    I'm implementing a randomic action fiture for the sensors, causing false-positive events. Basically, \n",
    "    to choose WHICH sensor will be deployed, I get an random number between [0 - (X - 1)], where X is the length \n",
    "    of the sensor list. To choose WHEN the sensor is deployed, I'll define a variable called \"control = 123\", and\n",
    "    create a list of random 10 numbers between [0 - 150], everytime the list contains whe variable control, we\n",
    "    switch to the random event.\n",
    "    \"\"\"\n",
    "    def FindFiredSensor(self, event, grid_map, time):\n",
    "        fired_sensors2 = []\n",
    "        firedsensor = event.sensor\n",
    "        \n",
    "        listControl = random.sample(range(0, 150), 10)\n",
    "        control = 123\n",
    "        \n",
    "        if(control in listControl):  \n",
    "            rand = randint(0, len(sensors_list) - 1)\n",
    "            current_sensor = sensors_list[rand]\n",
    "            fired_sensors2.append(current_sensor)\n",
    "        \n",
    "        for i in range(len(sensors_list)):\n",
    "            #print(sensors_list[i])\n",
    "            current_sensor = sensors_list[i]\n",
    "\n",
    "            if current_sensor.sensor_id == firedsensor:\n",
    "                fired_sensors2.append(current_sensor)  \n",
    "                \n",
    "        return fired_sensors2\n",
    "\n",
    "\n",
    "    def extract_fired_sensors(self, start, end):\n",
    "        sensors = sensors_list\n",
    "        fired_sensors = []\n",
    "        for s in sensors:\n",
    "            if Event.objects.filter(timestamp__gt=start, timestamp__lt=end, sensor=s).exists():\n",
    "                fired_sensors.append(s)\n",
    "                continue\n",
    "            if Event.objects.filter(sensor=s).exists():\n",
    "                last_event = Event.objects.filter(sensor=s).latest(field_name='timestamp')\n",
    "                if int(last_event.data) == 1:\n",
    "                    # print('latest is 1')\n",
    "                    # print(s)\n",
    "                    fired_sensors.append(s)\n",
    "\n",
    "        return fired_sensors\n"
   ]
  },
  {
   "cell_type": "code",
   "execution_count": 11,
   "metadata": {
    "scrolled": true
   },
   "outputs": [],
   "source": [
    "#temporary:\n",
    "# my_map = [(0.0, 0.0), (0.0, 5.7), (7.05, 5.7), (7.05, 0.0)]\n",
    "# grid_map = np.zeros((int(my_map[2][0]) * 10, int(my_map[2][1]) * 10))\n",
    "\n",
    "\n",
    "\n",
    "# print(np.max(grid_map))\n",
    "# print(\"first input\")\n",
    "# result = \"casiSimulator/sensor_readings/MotionSensorBinary/MotionSensorBinary-288.3-495.0 1538687434000,MotionSensorBinary,MotionSensorBinary-288.3-495.0,TRUE,TRUE1\"\n",
    "# event = ParseResult(result)\n",
    "# start_localizing()\n",
    "# print(np.max(grid_map[np.nonzero(grid_map)]))\n",
    "# print(np.min(grid_map[np.nonzero(grid_map)]))\n",
    "# plt.imshow(grid_map, cmap='hot', interpolation='nearest')\n",
    "# plt.show()\n",
    "\n",
    "# print('---------------------------')\n",
    "\n",
    "# print(np.max(grid_map))\n",
    "# print(\"second input\")\n",
    "# result1 = \"casiSimulator/sensor_readings/MotionSensorBinary/MotionSensorBinary-511.6-343.6 1538687449000,MotionSensorBinary,MotionSensorBinary-511.6-343.6,TRUE,TRUE1\"\n",
    "# event = ParseResult(result1)\n",
    "# start_localizing()\n",
    "# print(np.max(grid_map[np.nonzero(grid_map)]))\n",
    "# print(np.min(grid_map[np.nonzero(grid_map)]))\n",
    "# plt.imshow(grid_map, cmap='hot', interpolation='nearest')\n",
    "# plt.show()\n",
    "\n"
   ]
  },
  {
   "cell_type": "code",
   "execution_count": 12,
   "metadata": {},
   "outputs": [],
   "source": [
    "#Debug function, sees what kind of activity we have\n",
    "def typeAction(type):\n",
    "    if(type == \"Sleep\"):\n",
    "        print(type + \"ENTREI\")\n",
    "\n",
    "    if(type == \"walk\"):\n",
    "        print(type + \"ENTREI\")\n",
    "        \n",
    "    if(type == \"Water\"):\n",
    "        print(type + \"ENTREI\")\n",
    "        \n",
    "    if(type == \"Wash\"):\n",
    "        print(type + \"ENTREI\")\n",
    "        \n",
    "    if(type == \"Entertainment\"):\n",
    "        print(type + \"ENTREI\")\n",
    "        \n",
    "    if(type == \"Exercise\"):\n",
    "        print(type + \"ENTREI\")\n",
    "\n",
    "    if(type == \"Clean\"):\n",
    "        print(type + \"ENTREI\")\n",
    "        \n",
    "    if(type == \"Eat\"):\n",
    "        print(type + \"ENTREI\")\n",
    "        \n",
    "    if(type == \"Sit\"):\n",
    "        print(type + \"ENTREI\")"
   ]
  },
  {
   "cell_type": "code",
   "execution_count": 81,
   "metadata": {},
   "outputs": [],
   "source": [
    "\"\"\"\n",
    "Function to read the path in the csv file and turn it on an event.\n",
    "The event is composed of: (sensor Id, data, hash, source, time)\n",
    "Everytime that a sensor finds\n",
    "\"\"\"\n",
    "def readFileCSV():             \n",
    "    for i in range(1, len(dataset)):\n",
    "        xtrace = float(dataset[i][1])\n",
    "        ytrace = float(dataset[i][2])\n",
    "        x = abs(float(xtrace)) * 100\n",
    "        y = abs(float(ytrace)) * 100\n",
    "        loc = [x, y]\n",
    "        timetoadd = int(round(float(dataset[i][0])))\n",
    "        \n",
    "        if loc not in oracle['location'] and timetoadd not in oracle['time']:\n",
    "            oracle['location'].append(loc)\n",
    "            oracle['time'].append(timetoadd) \n",
    "        \n",
    "        for sensor in sensors_list:\n",
    "            # print(sensor.sensor_type)\n",
    "            if(sensor.sensor_type == \"BeaconSensor\"):\n",
    "                event = Event()\n",
    "                event.RSSI = sensor.RSSI #RSSI, just for beacons\n",
    "                event.accelerometer = sensor.accelerometer #if it's moving or not - jsut for beacon\n",
    "                event.objectAtt = sensor.object #Object where the sensor is\n",
    "                \n",
    "                event.RSSI = 0 #RSSI, just for beacons\n",
    "                event.objectAtt = \"\" #Object where the sensor is\n",
    "                event.accelerometer = False #if it's moving or not - jsut for beacon\n",
    "    \n",
    "                # print(\"Beacons are not working yet!\")\n",
    "            \n",
    "            elif(sensor.sensor_type == \"PressureSensorAnalog\"):\n",
    "                event.objectAtt = sensor.object #Object where the sensor is\n",
    "            \n",
    "            else:                             \n",
    "                circ = Circle((int(int(sensor.x)), int(int(sensor.y))), int(int(sensor.sensing_area)))\n",
    "                if (circ.contains_point([x, y])):\n",
    "                    event = Event()\n",
    "\n",
    "                    event.sensor = sensor.sensor_id #SensorId that created the event\n",
    "                    event.data = \"TRUE\"  #data\n",
    "                    event.hash = \"|hash|\" #hash\n",
    "                    event.source = \"xmlFile\" #where is coming from\n",
    "                    event.timestamp = int(round(float(dataset[i][0]))) #timestamp\n",
    "                    event.sensorType = sensor.sensor_type #type of sensor\n",
    "\n",
    "                    run_localization(event)\n",
    "        \n"
   ]
  },
  {
   "cell_type": "code",
   "execution_count": null,
   "metadata": {},
   "outputs": [
    {
     "name": "stdout",
     "output_type": "stream",
     "text": [
      "real:  [41.8 42.6]\n",
      "simu:  [45.         40.05357143]\n"
     ]
    },
    {
     "data": {
      "image/png": "[encoded data removed]",
      "text/plain": [
       "<Figure size 432x288 with 1 Axes>"
      ]
     },
     "metadata": {
      "needs_background": "light"
     },
     "output_type": "display_data"
    },
    {
     "name": "stdout",
     "output_type": "stream",
     "text": [
      "\n",
      "\n",
      "real:  [60. 65.]\n",
      "simu:  [55.69047619 68.07142857]\n"
     ]
    },
    {
     "data": {
      "image/png": "[encoded data removed]",
      "text/plain": [
       "<Figure size 432x288 with 1 Axes>"
      ]
     },
     "metadata": {
      "needs_background": "light"
     },
     "output_type": "display_data"
    },
    {
     "name": "stdout",
     "output_type": "stream",
     "text": [
      "\n",
      "\n",
      "real:  [600. 650.]\n",
      "simu:  [55.69047619 68.07142857]\n"
     ]
    },
    {
     "data": {
      "image/png": "[encoded data removed]",
      "text/plain": [
       "<Figure size 432x288 with 1 Axes>"
      ]
     },
     "metadata": {
      "needs_background": "light"
     },
     "output_type": "display_data"
    },
    {
     "name": "stdout",
     "output_type": "stream",
     "text": [
      "\n",
      "\n",
      "real:  [nan nan]\n",
      "simu:  [55.69047619 68.07142857]\n",
      "real:  [nan nan]\n",
      "simu:  [55.69047619 68.07142857]\n"
     ]
    },
    {
     "data": {
      "image/png": "[encoded data removed]",
      "text/plain": [
       "<Figure size 432x288 with 1 Axes>"
      ]
     },
     "metadata": {
      "needs_background": "light"
     },
     "output_type": "display_data"
    },
    {
     "name": "stdout",
     "output_type": "stream",
     "text": [
      "\n",
      "\n",
      "real:  [nan nan]\n",
      "simu:  [55.69047619 68.07142857]\n"
     ]
    },
    {
     "data": {
      "image/png": "[encoded data removed]",
      "text/plain": [
       "<Figure size 432x288 with 1 Axes>"
      ]
     },
     "metadata": {
      "needs_background": "light"
     },
     "output_type": "display_data"
    },
    {
     "name": "stdout",
     "output_type": "stream",
     "text": [
      "\n",
      "\n",
      "real:  [nan nan]\n",
      "simu:  [55.69047619 68.07142857]\n"
     ]
    },
    {
     "data": {
      "image/png": "[encoded data removed]",
      "text/plain": [
       "<Figure size 432x288 with 1 Axes>"
      ]
     },
     "metadata": {
      "needs_background": "light"
     },
     "output_type": "display_data"
    },
    {
     "name": "stdout",
     "output_type": "stream",
     "text": [
      "\n",
      "\n",
      "real:  [nan nan]\n",
      "simu:  [55.69047619 68.07142857]\n"
     ]
    },
    {
     "data": {
      "image/png": "[encoded data removed]",
      "text/plain": [
       "<Figure size 432x288 with 1 Axes>"
      ]
     },
     "metadata": {
      "needs_background": "light"
     },
     "output_type": "display_data"
    },
    {
     "name": "stdout",
     "output_type": "stream",
     "text": [
      "\n",
      "\n",
      "real:  [nan nan]\n",
      "simu:  [55.69047619 68.07142857]\n"
     ]
    },
    {
     "data": {
      "image/png": "[encoded data removed]",
      "text/plain": [
       "<Figure size 432x288 with 1 Axes>"
      ]
     },
     "metadata": {
      "needs_background": "light"
     },
     "output_type": "display_data"
    },
    {
     "name": "stdout",
     "output_type": "stream",
     "text": [
      "\n",
      "\n",
      "real:  [nan nan]\n",
      "simu:  [55.69047619 68.07142857]\n"
     ]
    },
    {
     "data": {
      "image/png": "[encoded data removed]",
      "text/plain": [
       "<Figure size 432x288 with 1 Axes>"
      ]
     },
     "metadata": {
      "needs_background": "light"
     },
     "output_type": "display_data"
    },
    {
     "name": "stdout",
     "output_type": "stream",
     "text": [
      "\n",
      "\n",
      "real:  [nan nan]\n",
      "simu:  [55.69047619 68.07142857]\n"
     ]
    },
    {
     "data": {
      "image/png": "[encoded data removed]",
      "text/plain": [
       "<Figure size 432x288 with 1 Axes>"
      ]
     },
     "metadata": {
      "needs_background": "light"
     },
     "output_type": "display_data"
    },
    {
     "name": "stdout",
     "output_type": "stream",
     "text": [
      "\n",
      "\n",
      "real:  [nan nan]\n",
      "simu:  [55.69047619 68.07142857]\n"
     ]
    },
    {
     "data": {
      "image/png": "[encoded data removed]",
      "text/plain": [
       "<Figure size 432x288 with 1 Axes>"
      ]
     },
     "metadata": {
      "needs_background": "light"
     },
     "output_type": "display_data"
    },
    {
     "name": "stdout",
     "output_type": "stream",
     "text": [
      "\n",
      "\n",
      "real:  [nan nan]\n",
      "simu:  [55.69047619 68.07142857]\n"
     ]
    },
    {
     "data": {
      "image/png": "[encoded data removed]",
      "text/plain": [
       "<Figure size 432x288 with 1 Axes>"
      ]
     },
     "metadata": {
      "needs_background": "light"
     },
     "output_type": "display_data"
    },
    {
     "name": "stdout",
     "output_type": "stream",
     "text": [
      "\n",
      "\n",
      "real:  [nan nan]\n",
      "simu:  [55.69047619 68.07142857]\n"
     ]
    },
    {
     "data": {
      "image/png": "[encoded data removed]",
      "text/plain": [
       "<Figure size 432x288 with 1 Axes>"
      ]
     },
     "metadata": {
      "needs_background": "light"
     },
     "output_type": "display_data"
    },
    {
     "name": "stdout",
     "output_type": "stream",
     "text": [
      "\n",
      "\n",
      "real:  [nan nan]\n",
      "simu:  [55.69047619 68.07142857]\n"
     ]
    },
    {
     "data": {
      "image/png": "[encoded data removed]",
      "text/plain": [
       "<Figure size 432x288 with 1 Axes>"
      ]
     },
     "metadata": {
      "needs_background": "light"
     },
     "output_type": "display_data"
    },
    {
     "name": "stdout",
     "output_type": "stream",
     "text": [
      "\n",
      "\n",
      "real:  [nan nan]\n",
      "simu:  [55.69047619 68.07142857]\n"
     ]
    },
    {
     "data": {
      "image/png": "[encoded data removed]",
      "text/plain": [
       "<Figure size 432x288 with 1 Axes>"
      ]
     },
     "metadata": {
      "needs_background": "light"
     },
     "output_type": "display_data"
    },
    {
     "name": "stdout",
     "output_type": "stream",
     "text": [
      "\n",
      "\n",
      "real:  [nan nan]\n",
      "simu:  [55.69047619 68.07142857]\n"
     ]
    },
    {
     "data": {
      "image/png": "[encoded data removed]",
      "text/plain": [
       "<Figure size 432x288 with 1 Axes>"
      ]
     },
     "metadata": {
      "needs_background": "light"
     },
     "output_type": "display_data"
    },
    {
     "name": "stdout",
     "output_type": "stream",
     "text": [
      "\n",
      "\n",
      "real:  [nan nan]\n",
      "simu:  [55.69047619 68.07142857]\n"
     ]
    },
    {
     "data": {
      "image/png": "[encoded data removed]",
      "text/plain": [
       "<Figure size 432x288 with 1 Axes>"
      ]
     },
     "metadata": {
      "needs_background": "light"
     },
     "output_type": "display_data"
    },
    {
     "name": "stdout",
     "output_type": "stream",
     "text": [
      "\n",
      "\n",
      "real:  [nan nan]\n",
      "simu:  [55.69047619 68.07142857]\n"
     ]
    },
    {
     "data": {
      "image/png": "[encoded data removed]",
      "text/plain": [
       "<Figure size 432x288 with 1 Axes>"
      ]
     },
     "metadata": {
      "needs_background": "light"
     },
     "output_type": "display_data"
    },
    {
     "name": "stdout",
     "output_type": "stream",
     "text": [
      "\n",
      "\n",
      "real:  [nan nan]\n",
      "simu:  [55.69047619 68.07142857]\n"
     ]
    },
    {
     "data": {
      "image/png": "[encoded data removed]",
      "text/plain": [
       "<Figure size 432x288 with 1 Axes>"
      ]
     },
     "metadata": {
      "needs_background": "light"
     },
     "output_type": "display_data"
    },
    {
     "name": "stdout",
     "output_type": "stream",
     "text": [
      "\n",
      "\n",
      "real:  [nan nan]\n",
      "simu:  [55.69047619 68.07142857]\n"
     ]
    },
    {
     "data": {
      "image/png": "[encoded data removed]",
      "text/plain": [
       "<Figure size 432x288 with 1 Axes>"
      ]
     },
     "metadata": {
      "needs_background": "light"
     },
     "output_type": "display_data"
    },
    {
     "name": "stdout",
     "output_type": "stream",
     "text": [
      "\n",
      "\n",
      "real:  [nan nan]\n",
      "simu:  [55.69047619 68.07142857]\n"
     ]
    },
    {
     "data": {
      "image/png": "[encoded data removed]",
      "text/plain": [
       "<Figure size 432x288 with 1 Axes>"
      ]
     },
     "metadata": {
      "needs_background": "light"
     },
     "output_type": "display_data"
    },
    {
     "name": "stdout",
     "output_type": "stream",
     "text": [
      "\n",
      "\n",
      "real:  [nan nan]\n",
      "simu:  [55.69047619 68.07142857]\n"
     ]
    },
    {
     "data": {
      "image/png": "[encoded data removed]",
      "text/plain": [
       "<Figure size 432x288 with 1 Axes>"
      ]
     },
     "metadata": {
      "needs_background": "light"
     },
     "output_type": "display_data"
    },
    {
     "name": "stdout",
     "output_type": "stream",
     "text": [
      "\n",
      "\n",
      "real:  [nan nan]\n",
      "simu:  [55.69047619 68.07142857]\n"
     ]
    },
    {
     "data": {
      "image/png": "[encoded data removed]",
      "text/plain": [
       "<Figure size 432x288 with 1 Axes>"
      ]
     },
     "metadata": {
      "needs_background": "light"
     },
     "output_type": "display_data"
    },
    {
     "name": "stdout",
     "output_type": "stream",
     "text": [
      "\n",
      "\n",
      "real:  [nan nan]\n",
      "simu:  [55.69047619 68.07142857]\n"
     ]
    },
    {
     "data": {
      "image/png": "[encoded data removed]",
      "text/plain": [
       "<Figure size 432x288 with 1 Axes>"
      ]
     },
     "metadata": {
      "needs_background": "light"
     },
     "output_type": "display_data"
    },
    {
     "name": "stdout",
     "output_type": "stream",
     "text": [
      "\n",
      "\n",
      "real:  [nan nan]\n",
      "simu:  [55.69047619 68.07142857]\n"
     ]
    },
    {
     "data": {
      "image/png": "[encoded data removed]",
      "text/plain": [
       "<Figure size 432x288 with 1 Axes>"
      ]
     },
     "metadata": {
      "needs_background": "light"
     },
     "output_type": "display_data"
    },
    {
     "name": "stdout",
     "output_type": "stream",
     "text": [
      "\n",
      "\n",
      "real:  [nan nan]\n",
      "simu:  [55.69047619 68.07142857]\n"
     ]
    },
    {
     "data": {
      "image/png": "[encoded data removed]",
      "text/plain": [
       "<Figure size 432x288 with 1 Axes>"
      ]
     },
     "metadata": {
      "needs_background": "light"
     },
     "output_type": "display_data"
    },
    {
     "name": "stdout",
     "output_type": "stream",
     "text": [
      "\n",
      "\n",
      "real:  [nan nan]\n",
      "simu:  [55.69047619 68.07142857]\n"
     ]
    },
    {
     "data": {
      "image/png": "[encoded data removed]",
      "text/plain": [
       "<Figure size 432x288 with 1 Axes>"
      ]
     },
     "metadata": {
      "needs_background": "light"
     },
     "output_type": "display_data"
    },
    {
     "name": "stdout",
     "output_type": "stream",
     "text": [
      "\n",
      "\n",
      "real:  [nan nan]\n",
      "simu:  [55.69047619 68.07142857]\n"
     ]
    },
    {
     "data": {
      "image/png": "[encoded data removed]",
      "text/plain": [
       "<Figure size 432x288 with 1 Axes>"
      ]
     },
     "metadata": {
      "needs_background": "light"
     },
     "output_type": "display_data"
    },
    {
     "name": "stdout",
     "output_type": "stream",
     "text": [
      "\n",
      "\n",
      "real:  [nan nan]\n",
      "simu:  [55.69047619 68.07142857]\n"
     ]
    },
    {
     "data": {
      "image/png": "[encoded data removed]",
      "text/plain": [
       "<Figure size 432x288 with 1 Axes>"
      ]
     },
     "metadata": {
      "needs_background": "light"
     },
     "output_type": "display_data"
    },
    {
     "name": "stdout",
     "output_type": "stream",
     "text": [
      "\n",
      "\n",
      "real:  [nan nan]\n",
      "simu:  [55.69047619 68.07142857]\n"
     ]
    },
    {
     "data": {
      "image/png": "[encoded data removed]",
      "text/plain": [
       "<Figure size 432x288 with 1 Axes>"
      ]
     },
     "metadata": {
      "needs_background": "light"
     },
     "output_type": "display_data"
    },
    {
     "name": "stdout",
     "output_type": "stream",
     "text": [
      "\n",
      "\n",
      "real:  [nan nan]\n",
      "simu:  [55.69047619 68.07142857]\n"
     ]
    },
    {
     "data": {
      "image/png": "[encoded data removed]",
      "text/plain": [
       "<Figure size 432x288 with 1 Axes>"
      ]
     },
     "metadata": {
      "needs_background": "light"
     },
     "output_type": "display_data"
    },
    {
     "name": "stdout",
     "output_type": "stream",
     "text": [
      "\n",
      "\n",
      "real:  [nan nan]\n",
      "simu:  [55.69047619 68.07142857]\n"
     ]
    },
    {
     "data": {
      "image/png": "[encoded data removed]",
      "text/plain": [
       "<Figure size 432x288 with 1 Axes>"
      ]
     },
     "metadata": {
      "needs_background": "light"
     },
     "output_type": "display_data"
    },
    {
     "name": "stdout",
     "output_type": "stream",
     "text": [
      "\n",
      "\n",
      "real:  [nan nan]\n",
      "simu:  [55.69047619 68.07142857]\n"
     ]
    },
    {
     "data": {
      "image/png": "[encoded data removed]",
      "text/plain": [
       "<Figure size 432x288 with 1 Axes>"
      ]
     },
     "metadata": {
      "needs_background": "light"
     },
     "output_type": "display_data"
    },
    {
     "name": "stdout",
     "output_type": "stream",
     "text": [
      "\n",
      "\n",
      "real:  [nan nan]\n",
      "simu:  [55.69047619 68.07142857]\n"
     ]
    },
    {
     "data": {
      "image/png": "[encoded data removed]",
      "text/plain": [
       "<Figure size 432x288 with 1 Axes>"
      ]
     },
     "metadata": {
      "needs_background": "light"
     },
     "output_type": "display_data"
    },
    {
     "name": "stdout",
     "output_type": "stream",
     "text": [
      "\n",
      "\n",
      "real:  [nan nan]\n",
      "simu:  [55.69047619 68.07142857]\n"
     ]
    },
    {
     "data": {
      "image/png": "[encoded data removed]",
      "text/plain": [
       "<Figure size 432x288 with 1 Axes>"
      ]
     },
     "metadata": {
      "needs_background": "light"
     },
     "output_type": "display_data"
    },
    {
     "name": "stdout",
     "output_type": "stream",
     "text": [
      "\n",
      "\n",
      "real:  [nan nan]\n",
      "simu:  [55.69047619 68.07142857]\n"
     ]
    },
    {
     "data": {
      "image/png": "[encoded data removed]",
      "text/plain": [
       "<Figure size 432x288 with 1 Axes>"
      ]
     },
     "metadata": {
      "needs_background": "light"
     },
     "output_type": "display_data"
    },
    {
     "name": "stdout",
     "output_type": "stream",
     "text": [
      "\n",
      "\n",
      "real:  [nan nan]\n",
      "simu:  [55.69047619 68.07142857]\n"
     ]
    },
    {
     "data": {
      "image/png": "[encoded data removed]",
      "text/plain": [
       "<Figure size 432x288 with 1 Axes>"
      ]
     },
     "metadata": {
      "needs_background": "light"
     },
     "output_type": "display_data"
    },
    {
     "name": "stdout",
     "output_type": "stream",
     "text": [
      "\n",
      "\n",
      "real:  [nan nan]\n",
      "simu:  [55.69047619 68.07142857]\n"
     ]
    },
    {
     "data": {
      "image/png": "[encoded data removed]",
      "text/plain": [
       "<Figure size 432x288 with 1 Axes>"
      ]
     },
     "metadata": {
      "needs_background": "light"
     },
     "output_type": "display_data"
    },
    {
     "name": "stdout",
     "output_type": "stream",
     "text": [
      "\n",
      "\n",
      "real:  [nan nan]\n",
      "simu:  [55.69047619 68.07142857]\n"
     ]
    },
    {
     "data": {
      "image/png": "[encoded data removed]",
      "text/plain": [
       "<Figure size 432x288 with 1 Axes>"
      ]
     },
     "metadata": {
      "needs_background": "light"
     },
     "output_type": "display_data"
    },
    {
     "name": "stdout",
     "output_type": "stream",
     "text": [
      "\n",
      "\n",
      "real:  [nan nan]\n",
      "simu:  [55.69047619 68.07142857]\n"
     ]
    },
    {
     "data": {
      "image/png": "[encoded data removed]",
      "text/plain": [
       "<Figure size 432x288 with 1 Axes>"
      ]
     },
     "metadata": {
      "needs_background": "light"
     },
     "output_type": "display_data"
    },
    {
     "name": "stdout",
     "output_type": "stream",
     "text": [
      "\n",
      "\n",
      "real:  [nan nan]\n",
      "simu:  [55.69047619 68.07142857]\n"
     ]
    },
    {
     "data": {
      "image/png": "[encoded data removed]",
      "text/plain": [
       "<Figure size 432x288 with 1 Axes>"
      ]
     },
     "metadata": {
      "needs_background": "light"
     },
     "output_type": "display_data"
    },
    {
     "name": "stdout",
     "output_type": "stream",
     "text": [
      "\n",
      "\n",
      "real:  [nan nan]\n",
      "simu:  [55.69047619 68.07142857]\n"
     ]
    },
    {
     "data": {
      "image/png": "[encoded data removed]",
      "text/plain": [
       "<Figure size 432x288 with 1 Axes>"
      ]
     },
     "metadata": {
      "needs_background": "light"
     },
     "output_type": "display_data"
    },
    {
     "name": "stdout",
     "output_type": "stream",
     "text": [
      "\n",
      "\n",
      "real:  [nan nan]\n",
      "simu:  [55.69047619 68.07142857]\n"
     ]
    },
    {
     "data": {
      "image/png": "[encoded data removed]",
      "text/plain": [
       "<Figure size 432x288 with 1 Axes>"
      ]
     },
     "metadata": {
      "needs_background": "light"
     },
     "output_type": "display_data"
    },
    {
     "name": "stdout",
     "output_type": "stream",
     "text": [
      "\n",
      "\n",
      "real:  [nan nan]\n",
      "simu:  [55.69047619 68.07142857]\n"
     ]
    },
    {
     "data": {
      "image/png": "[encoded data removed]",
      "text/plain": [
       "<Figure size 432x288 with 1 Axes>"
      ]
     },
     "metadata": {
      "needs_background": "light"
     },
     "output_type": "display_data"
    },
    {
     "name": "stdout",
     "output_type": "stream",
     "text": [
      "\n",
      "\n",
      "real:  [nan nan]\n",
      "simu:  [55.69047619 68.07142857]\n"
     ]
    },
    {
     "data": {
      "image/png": "[encoded data removed]",
      "text/plain": [
       "<Figure size 432x288 with 1 Axes>"
      ]
     },
     "metadata": {
      "needs_background": "light"
     },
     "output_type": "display_data"
    },
    {
     "name": "stdout",
     "output_type": "stream",
     "text": [
      "\n",
      "\n",
      "real:  [61.33333 68.     ]\n",
      "simu:  [55.69047619 68.07142857]\n"
     ]
    },
    {
     "data": {
      "image/png": "[encoded data removed]",
      "text/plain": [
       "<Figure size 432x288 with 1 Axes>"
      ]
     },
     "metadata": {
      "needs_background": "light"
     },
     "output_type": "display_data"
    },
    {
     "name": "stdout",
     "output_type": "stream",
     "text": [
      "\n",
      "\n",
      "real:  [nan nan]\n",
      "simu:  [55.69047619 68.07142857]\n"
     ]
    },
    {
     "data": {
      "image/png": "[encoded data removed]",
      "text/plain": [
       "<Figure size 432x288 with 1 Axes>"
      ]
     },
     "metadata": {
      "needs_background": "light"
     },
     "output_type": "display_data"
    },
    {
     "name": "stdout",
     "output_type": "stream",
     "text": [
      "\n",
      "\n",
      "real:  [60. 49.]\n",
      "simu:  [55.69047619 52.07142857]\n"
     ]
    },
    {
     "data": {
      "image/png": "[encoded data removed]",
      "text/plain": [
       "<Figure size 432x288 with 1 Axes>"
      ]
     },
     "metadata": {
      "needs_background": "light"
     },
     "output_type": "display_data"
    },
    {
     "name": "stdout",
     "output_type": "stream",
     "text": [
      "\n",
      "\n",
      "real:  [45.      66.33333]\n",
      "simu:  [42.         62.05357143]\n"
     ]
    },
    {
     "data": {
      "image/png": "[encoded data removed]",
      "text/plain": [
       "<Figure size 432x288 with 1 Axes>"
      ]
     },
     "metadata": {
      "needs_background": "light"
     },
     "output_type": "display_data"
    },
    {
     "name": "stdout",
     "output_type": "stream",
     "text": [
      "\n",
      "\n",
      "real:  [43.63636 67.90909]\n",
      "simu:  [42.         62.05357143]\n"
     ]
    },
    {
     "data": {
      "image/png": "[encoded data removed]",
      "text/plain": [
       "<Figure size 432x288 with 1 Axes>"
      ]
     },
     "metadata": {
      "needs_background": "light"
     },
     "output_type": "display_data"
    },
    {
     "name": "stdout",
     "output_type": "stream",
     "text": [
      "\n",
      "\n",
      "real:  [44.86364 66.49091]\n",
      "simu:  [42.         62.05357143]\n"
     ]
    }
   ],
   "source": [
    "readFileCSV()"
   ]
  },
  {
   "cell_type": "code",
   "execution_count": 80,
   "metadata": {},
   "outputs": [
    {
     "data": {
      "text/plain": [
       "array([['time', 'gt(x)', 'gt(y)', 'motion_readings'],\n",
       "       ['1498670641.0', '1.197742', '5.402001', '0000000000000000000000'],\n",
       "       ['1498670642.0', '1.198065', '5.401716', '0000000000000000000000'],\n",
       "       ...,\n",
       "       ['1498677300.0', '3.4', '3.45', '0000000000000000000000'],\n",
       "       ['1498677303.0', '3.4', '3.45', '0000000000000000000000'],\n",
       "       ['1498677318.0', '3.4', '3.45', '0000000000000000010000']],\n",
       "      dtype='<U32')"
      ]
     },
     "execution_count": 80,
     "metadata": {},
     "output_type": "execute_result"
    }
   ],
   "source": [
    "dataset"
   ]
  },
  {
   "cell_type": "code",
   "execution_count": null,
   "metadata": {
    "scrolled": true
   },
   "outputs": [],
   "source": [
    "print(\"please start simulation in casi now.\")"
   ]
  },
  {
   "cell_type": "raw",
   "metadata": {},
   "source": [
    "################################################\n",
    "#### AFTER SIMULATION SECTION: STORING DATA ####\n",
    "################################################\n",
    "\n",
    "# Run This after simulation has ended...\n",
    "\n",
    "import csv\n",
    "\n",
    "data = []\n",
    "with open(groundtruth, 'r') as user_data:\n",
    "    reader = csv.reader(user_data, delimiter=',', quotechar=',')\n",
    "    for row in reader:\n",
    "        if (reader.line_num != 1):\n",
    "            row[0] = float(row[0])\n",
    "            row[2] = float(row[2])\n",
    "            row[3] = float(row[3])\n",
    "            \n",
    "            data.append(row)\n",
    "        \n",
    "import pickle\n",
    "\n",
    "f = open('Data_22' + simworldname + '.pckl', 'wb')\n",
    "pickle.dump((data, oracle, analyzer), f)\n",
    "f.close()"
   ]
  },
  {
   "cell_type": "raw",
   "metadata": {},
   "source": [
    "# Data from CASI\n",
    "\n",
    "port = 1883\n",
    "host = \"192.168.211.132\"\n",
    "keepalive = 60\n",
    "broker_topic = \"#\"  #All topics have to be read\n",
    "import time\n",
    "\n",
    "client = mqtt.Client()\n",
    "client.on_connect = on_connect\n",
    "client.on_message = on_message\n",
    "client.on_publish = on_publish\n",
    "client.on_subscribed = on_subscribed\n",
    "\n",
    "client.connect(host, port, 60)\n",
    "client.subscribe(broker_topic, 0)\n",
    "\n",
    "client.loop_start()\n",
    "time.sleep(5)"
   ]
  },
  {
   "cell_type": "code",
   "execution_count": null,
   "metadata": {},
   "outputs": [],
   "source": [
    "aa = [[0.8, 0], [0, 0]]\n",
    "print(aa)\n",
    "# print(*np.where(aa == np.max(aa)))\n",
    "print(list(zip(*np.where(aa == np.max(aa)))))\n",
    "np.mean(list(zip(*np.where(aa == np.max(aa)))), axis = 0)"
   ]
  },
  {
   "cell_type": "code",
   "execution_count": null,
   "metadata": {},
   "outputs": [],
   "source": []
  }
 ],
 "metadata": {
  "kernelspec": {
   "display_name": "Python 3",
   "language": "python",
   "name": "python3"
  },
  "language_info": {
   "codemirror_mode": {
    "name": "ipython",
    "version": 3
   },
   "file_extension": ".py",
   "mimetype": "text/x-python",
   "name": "python",
   "nbconvert_exporter": "python",
   "pygments_lexer": "ipython3",
   "version": "3.7.1"
  }
 },
 "nbformat": 4,
 "nbformat_minor": 2
}

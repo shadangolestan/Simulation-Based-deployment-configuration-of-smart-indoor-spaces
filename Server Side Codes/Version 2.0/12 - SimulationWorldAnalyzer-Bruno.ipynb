{
 "cells": [
  {
   "cell_type": "code",
   "execution_count": 1,
   "metadata": {},
   "outputs": [],
   "source": [
    "import paho.mqtt.client as mqtt\n",
    "import threading\n",
    "import os\n",
    "import re\n",
    "# import motionlocalizer.settings\n",
    "import json\n",
    "# import requests\n",
    "from shapely.geometry import Polygon\n",
    "from shapely.ops import cascaded_union\n",
    "import xml.etree.ElementTree\n",
    "import pprint\n",
    "import numpy as np\n",
    "import matplotlib.pyplot as plt\n",
    "from matplotlib.patches import Circle\n",
    "import time as pythonTimer\n",
    "import random\n",
    "from random import randint\n",
    "import scipy.stats as stats\n",
    "from scipy.stats import multivariate_normal\n",
    "import csv\n",
    "import datetime\n",
    "import pandas as pd\n",
    "\n",
    "simworldname = 'simulationWorld2.xml' #ENVIROMENT\n",
    "groundtruth = '28jun2.csv' #AGENT'S MOVEMENTS\n",
    "motion_readings = '28Jun2_motion_events.txt'\n",
    "# groundtruth = 'AgentDetailedTasksFile.csv' #AGENT'S MOVEMENTS\n",
    "\n",
    "my_map = [(0.0, 0.0), (0.0, 10.6), (6.6, 10.6), (6.6, 0.0)]\n",
    "grid_map = np.zeros((int(my_map[2][0]) * 10, int(my_map[2][1]) * 10))\n",
    "distances = []\n",
    "\n",
    "oracle = {}\n",
    "oracle['time'] = []\n",
    "oracle['location'] = []\n",
    "\n",
    "analyzer = {}\n",
    "analyzer['time'] = []\n",
    "analyzer['gridmap'] = []\n",
    " \n",
    "def start_localizing(event):\n",
    "    global analyzer\n",
    "    global oracle\n",
    "    global grid_map\n",
    "    run_localization(event)\n",
    "\n",
    "def run_localization(event):\n",
    "    global analyzer\n",
    "    global oracle\n",
    "    global grid_map\n",
    "    # print(\"run_localization\")\n",
    "    Localizer(pythonTimer.time()).run(event)\n"
   ]
  },
  {
   "cell_type": "code",
   "execution_count": 2,
   "metadata": {},
   "outputs": [],
   "source": [
    "def find_nearest(array, value):\n",
    "    array = np.asarray(array)\n",
    "    idx = (np.abs(array - value)).argmin()\n",
    "    return idx\n",
    "\n",
    "\n",
    "# sensor_readings = open(motion_readings, \"r\")\n",
    "sensor_readings = open(motion_readings, \"r\").readlines()\n",
    "\n",
    "dataset_times = []\n",
    "dataset_readings = []\n",
    "for i in range(0,len(sensor_readings)):\n",
    "    time = sensor_readings[i].split(';')[0]\n",
    "    sensor_array = sensor_readings[i].split(';')[1]\n",
    "    dataset_times.append(int(time))\n",
    "    dataset_readings.append(sensor_array)\n",
    "\n",
    "dataset = ['time', 'gt(x)', 'gt(y)', 'motion_readings']\n",
    "with open(groundtruth, 'r') as user_data:\n",
    "    reader = csv.reader(user_data, delimiter=',', quotechar=',')\n",
    "    for row in reader:\n",
    "        new_row = []\n",
    "        if (reader.line_num != 1):\n",
    "            ind = find_nearest(dataset_times[1:], int(row[0]))\n",
    "            dataset = np.vstack((dataset, [float(row[0]), float(row[4]), float(row[5]), dataset_readings[ind]]))\n",
    "            "
   ]
  },
  {
   "cell_type": "code",
   "execution_count": 13,
   "metadata": {},
   "outputs": [
    {
     "data": {
      "text/plain": [
       "array([['time', 'gt(x)', 'gt(y)', 'motion_readings'],\n",
       "       ['1498670641.0', '1.197742', '5.402001', '0000000000000000000000'],\n",
       "       ['1498670642.0', '1.198065', '5.401716', '0000000000000000000000'],\n",
       "       ...,\n",
       "       ['1498677300.0', '3.4', '3.45', '0000000000000000000000'],\n",
       "       ['1498677303.0', '3.4', '3.45', '0000000000000000000000'],\n",
       "       ['1498677318.0', '3.4', '3.45', '0000000000000000010000']],\n",
       "      dtype='<U32')"
      ]
     },
     "execution_count": 13,
     "metadata": {},
     "output_type": "execute_result"
    }
   ],
   "source": [
    "dataset"
   ]
  },
  {
   "cell_type": "code",
   "execution_count": 3,
   "metadata": {},
   "outputs": [],
   "source": [
    "motions_order = [1, 10, 11, 12, 13, 14, 15, 16, 17, 18, 19, 2, 20, 21, 22, 3, 4, 5, 6, 7, 8, 9]\n",
    "motion_sensors = [1, 10, 11, 12, 13, 14, 2, 3, 4, 5, 6, 7, 8, 9]\n",
    "motions_sensor_data = {}\n",
    "\n",
    "sr_matrix = np.zeros([1, 14])\n",
    "for i in range(1,len(dataset)):\n",
    "    sensor_array = dataset[i][3]\n",
    "    sr_row = []\n",
    "    for j in range(0,len(sensor_array)):\n",
    "        if (motions_order[j] <= 14):\n",
    "            sr_row.append(int(sensor_array[j]))\n",
    "\n",
    "    sr_matrix = np.vstack((sr_matrix,sr_row))\n",
    "\n",
    "i = 0\n",
    "for sensor in motions_order:\n",
    "    if (sensor <= 14):\n",
    "        motions_sensor_data[sensor] = []\n",
    "        motions_sensor_data[sensor] = sr_matrix[:, i]\n",
    "        i = i + 1\n",
    "        \n",
    "for sensor in motion_sensors:\n",
    "    new_readings = []\n",
    "    new_readings.append(motions_sensor_data[sensor][0])\n",
    "    for i in range(1, len(motions_sensor_data[sensor])):\n",
    "        if (new_readings[len(new_readings) - 1] == motions_sensor_data[sensor][i]):\n",
    "            new_readings.append(0)\n",
    "        else:\n",
    "            new_readings.append(1)"
   ]
  },
  {
   "cell_type": "code",
   "execution_count": 4,
   "metadata": {},
   "outputs": [
    {
     "data": {
      "image/png": "[encoded data removed]",
      "text/plain": [
       "<Figure size 432x288 with 1 Axes>"
      ]
     },
     "metadata": {
      "needs_background": "light"
     },
     "output_type": "display_data"
    },
    {
     "data": {
      "image/png": "[encoded data removed]",
      "text/plain": [
       "<Figure size 432x288 with 1 Axes>"
      ]
     },
     "metadata": {
      "needs_background": "light"
     },
     "output_type": "display_data"
    },
    {
     "data": {
      "image/png": "[encoded data removed]",
      "text/plain": [
       "<Figure size 432x288 with 1 Axes>"
      ]
     },
     "metadata": {
      "needs_background": "light"
     },
     "output_type": "display_data"
    },
    {
     "data": {
      "image/png": "[encoded data removed]",
      "text/plain": [
       "<Figure size 432x288 with 1 Axes>"
      ]
     },
     "metadata": {
      "needs_background": "light"
     },
     "output_type": "display_data"
    },
    {
     "data": {
      "image/png": "[encoded data removed]",
      "text/plain": [
       "<Figure size 432x288 with 1 Axes>"
      ]
     },
     "metadata": {
      "needs_background": "light"
     },
     "output_type": "display_data"
    },
    {
     "data": {
      "image/png": "[encoded data removed]",
      "text/plain": [
       "<Figure size 432x288 with 1 Axes>"
      ]
     },
     "metadata": {
      "needs_background": "light"
     },
     "output_type": "display_data"
    },
    {
     "data": {
      "image/png": "[encoded data removed]",
      "text/plain": [
       "<Figure size 432x288 with 1 Axes>"
      ]
     },
     "metadata": {
      "needs_background": "light"
     },
     "output_type": "display_data"
    },
    {
     "data": {
      "image/png": "[encoded data removed]",
      "text/plain": [
       "<Figure size 432x288 with 1 Axes>"
      ]
     },
     "metadata": {
      "needs_background": "light"
     },
     "output_type": "display_data"
    },
    {
     "data": {
      "image/png": "[encoded data removed]",
      "text/plain": [
       "<Figure size 432x288 with 1 Axes>"
      ]
     },
     "metadata": {
      "needs_background": "light"
     },
     "output_type": "display_data"
    },
    {
     "data": {
      "image/png": "[encoded data removed]",
      "text/plain": [
       "<Figure size 432x288 with 1 Axes>"
      ]
     },
     "metadata": {
      "needs_background": "light"
     },
     "output_type": "display_data"
    },
    {
     "data": {
      "image/png": "[encoded data removed]",
      "text/plain": [
       "<Figure size 432x288 with 1 Axes>"
      ]
     },
     "metadata": {
      "needs_background": "light"
     },
     "output_type": "display_data"
    },
    {
     "data": {
      "image/png": "[encoded data removed]",
      "text/plain": [
       "<Figure size 432x288 with 1 Axes>"
      ]
     },
     "metadata": {
      "needs_background": "light"
     },
     "output_type": "display_data"
    },
    {
     "data": {
      "image/png": "[encoded data removed]",
      "text/plain": [
       "<Figure size 432x288 with 1 Axes>"
      ]
     },
     "metadata": {
      "needs_background": "light"
     },
     "output_type": "display_data"
    },
    {
     "data": {
      "image/png": "[encoded data removed]",
      "text/plain": [
       "<Figure size 432x288 with 1 Axes>"
      ]
     },
     "metadata": {
      "needs_background": "light"
     },
     "output_type": "display_data"
    }
   ],
   "source": [
    "import matplotlib.pyplot as plt\n",
    "\n",
    "for i in motion_sensors:\n",
    "    plt.plot(list(range(0,len(motions_sensor_data[i]))), motions_sensor_data[i])\n",
    "    plt.show()"
   ]
  },
  {
   "cell_type": "code",
   "execution_count": 5,
   "metadata": {},
   "outputs": [],
   "source": [
    "##################################\n",
    "####       Sensor Class       ####\n",
    "##################################\n",
    "\n",
    "class Sensor:\n",
    "    sensor_type = \"\"\n",
    "    sensor_id = \"\"\n",
    "    x = float()\n",
    "    y = float()\n",
    "    z = float()\n",
    "\n",
    "    def __str__(self):\n",
    "        return 'type: %s,\\n id: %s,\\n x: %s,\\n y: %s\\n'%(self.sensor_type, self.sensor_id, self.x, self.y)\n",
    "\n",
    "    def Initialize(self, element):\n",
    "        self.x = (str(element.find('point').find('xcoord').text))\n",
    "        self.y = (str(element.find('point').find('ycoord').text))\n",
    "        self.sensor_id = (str(element.find('id').text))\n",
    "        self.sensor_type = (str(element.find('type').text))     \n",
    "            \n",
    "        return 0\n",
    "    \n",
    "    \n",
    "    '''\n",
    "        This fucntion uses an 2D gaussian, that means: X~(x, mean, covarianceMatrix)\n",
    "        Input:\n",
    "        x = [xOracle, yOracle] (Actually we don't care about it anymore)\n",
    "        mean = [xSimulator, ySimulator]\n",
    "        covarianceMatrix= | r  0 | , where r is the circle radious\n",
    "                          | 0  r |\n",
    "\n",
    "        Returns: cdf of the normal distribution\n",
    "        \n",
    "    '''\n",
    "    def GaussianFiredSensor(self, simulated_localization, real_localization):\n",
    "        import math\n",
    "\n",
    "        sensor_location = [float(self.x)/10, float(self.y)/10]\n",
    "        cov = [[self.sensing_area, 0],[0, self.sensing_area]]        \n",
    "        prob = multivariate_normal(simulated_localization, cov)\n",
    "        probCdf = prob.cdf(sensor_location)\n",
    "        \n",
    "        print(\"real: \", real_localization)\n",
    "        print(\"simu: \", simulated_localization)\n",
    "              \n",
    "        return probCdf\n",
    "    \n",
    "\"\"\"\n",
    "System's sensors\n",
    "All this classes are childrens from Sensor Class\n",
    "\"\"\"\n",
    "class MotionSensorBinary(Sensor):\n",
    "    def __init__(self, element):\n",
    "        Sensor.Initialize(self, element)\n",
    "        self.sensing_area = (str(element.find('radius').text))\n",
    "\n",
    "class RFID_Reader(Sensor):\n",
    "    def __init__(self, element):\n",
    "        Sensor.Initialize(self, element)\n",
    "        self.sensing_area = (str(element.find('arcSize').text))\n",
    "\n",
    "class MotionSensorAnalog(Sensor):\n",
    "    def __init__(self, element):\n",
    "        Sensor.Initialize(self, element)\n",
    "        self.sensing_area = (str(element.find('radius').text))\n",
    "        \n",
    "class PressureSensorAnalog(Sensor):\n",
    "    def __init__(self, element):\n",
    "        Sensor.Initialize(self, element)\n",
    "        self.sensing_area = (str(element.find('radius').text))\n",
    "        self.object = str(element.find('object').text)\n",
    "        \n",
    "class BeaconSensor(Sensor):\n",
    "    def __init__(self, element):\n",
    "        Sensor.Initialize(self, element)\n",
    "        self.sensing_area = (str(element.find('radius').text))\n",
    "        self.measuredPower = -69\n",
    "        self.RSSI = self.sensing_area\n",
    "        self.N = 2 #Constant related with the air\n",
    "        self.object = str(element.find('object').text)\n",
    "        self.accelerometer = str(element.find('accelerometer').text)\n",
    "        \n",
    "    # https://iotandelectronics.wordpress.com/2016/10/07/how-to-calculate-distance-from-the-rssi-value-of-the-ble-beacon/\n",
    "    def rssiToMeters(self):\n",
    "        u = (float(self.measuredPower) - float(self.RSSI))/(10 * float(self.N))\n",
    "        dist = 10 ** u\n",
    "        \n",
    "        return dist\n",
    "    \n",
    "   # def distanceToMeasure(self, dist):\n",
    "     #   mp = self.RSSI + (10*n*math.log10(dist)\n",
    "    #    return mp\n",
    "    "
   ]
  },
  {
   "cell_type": "code",
   "execution_count": 6,
   "metadata": {},
   "outputs": [],
   "source": [
    "#Event Class\n",
    "class Event:\n",
    "    source = \"\"\n",
    "    timestamp = float()\n",
    "    RSSI = 0\n",
    "    objectAtt = \"\"\n",
    "    accelerometer = False\n",
    "    sensor = Sensor.sensor_id\n",
    "    sensorType = Sensor.sensor_type\n",
    "    data = int()\n",
    "    hash = \"\"\n",
    "\n",
    "    def __str__(self):\n",
    "        return 'time: %s --> sensor: <%s>, sensor type: %s data: %s' % (\n",
    "        str(self.timestamp), str(self.sensor), str(self.sensorType), str(self.data))"
   ]
  },
  {
   "cell_type": "code",
   "execution_count": 7,
   "metadata": {},
   "outputs": [],
   "source": [
    "class GridMap:\n",
    "    map = \"\""
   ]
  },
  {
   "cell_type": "code",
   "execution_count": 8,
   "metadata": {},
   "outputs": [],
   "source": [
    "#Debug function, not working - just forget about it\n",
    "def checkTypeSensor(sensor):\n",
    "    if(sensor.sensor_type == 'RFID_Reader'):\n",
    "        this_sensor = RFID_Reader(sensor) \n",
    "        return this_sensor\n",
    "\n",
    "    if(sensor.sensor_type == 'MotionSensorBinary'):\n",
    "        this_sensor = MotionSensorBinary(sensor)\n",
    "        #this_sensor = sensor\n",
    "        return this_sensor\n",
    "\n",
    "    if(sensor.sensor_type == 'MotionSensorAnalog'):\n",
    "        this_sensor = MotionSensorAnalog(sensor)\n",
    "        return this_sensor\n",
    "\n",
    "    if(sensor.sensor_type == 'PressureSensorAnalog'):\n",
    "        this_sensor = PressureSensorAnalog(sensor)\n",
    "        return this_sensor\n",
    "    \n",
    "    return \"none\""
   ]
  },
  {
   "cell_type": "code",
   "execution_count": 9,
   "metadata": {},
   "outputs": [],
   "source": [
    "############################################\n",
    "####       PARSE SIMULATION WORLD       ####\n",
    "############################################\n",
    "\n",
    "root = xml.etree.ElementTree.parse(simworldname).getroot()\n",
    "\n",
    "grid2 = np.zeros((int(my_map[2][0]) * 1, int(my_map[2][1]) * 1))\n",
    "grid2 = np.copy(grid_map)\n",
    "\n",
    "# print(grid2)\n",
    "\n",
    "sensors_list = []\n",
    "\n",
    "for element in root:\n",
    "    if(element.tag == 'sensors'):\n",
    "        for sensor in element:\n",
    "            #Choose the kind of sensor we have\n",
    "            if(str(sensor.find('type').text) == 'RFID_Reader'):\n",
    "                this_sensor = RFID_Reader(sensor)\n",
    "                \n",
    "            if(str(sensor.find('type').text) == 'MotionSensorBinary'):\n",
    "                this_sensor = MotionSensorBinary(sensor)\n",
    "                \n",
    "            if(str(sensor.find('type').text) == 'MotionSensorAnalog'):\n",
    "                this_sensor = MotionSensorAnalog(sensor)\n",
    "            \n",
    "            if(str(sensor.find('type').text) == 'PressureSensorAnalog'):\n",
    "                this_sensor = PressureSensorAnalog(sensor)\n",
    "            \n",
    "            if(str(sensor.find('type').text) == 'BeaconSensor'):\n",
    "                this_sensor = BeaconSensor(sensor)\n",
    "                \n",
    "            sensors_list.append(this_sensor)\n",
    "            # print(this_sensor.sensor_type + \" \" + this_sensor.x + \" \" + this_sensor.y)\n",
    "            # sensors_list.append(sensor)\n",
    "            # print(sensors_list[len(sensors_list) - 1])"
   ]
  },
  {
   "cell_type": "code",
   "execution_count": 10,
   "metadata": {},
   "outputs": [],
   "source": [
    "############################################\n",
    "####         LOCALIZATION CLASS         ####\n",
    "############################################\n",
    "\n",
    "class Localizer(threading.Thread):\n",
    "    to_be_localized_queue = []\n",
    "    localizer_lock = threading.Lock()\n",
    "    this_grid_map = []\n",
    "    \n",
    "    \n",
    "    def __init__(self, time):\n",
    "        self.time = time\n",
    "\n",
    "    def run(self, event):\n",
    "        global grid_map\n",
    "        global analyzer\n",
    "        global oracle\n",
    "        global distances\n",
    "        # print(\"Run\")\n",
    "        Localizer.to_be_localized_queue.append(self.time)\n",
    "        with Localizer.localizer_lock:\n",
    "            while len(Localizer.to_be_localized_queue) > 0:\n",
    "                timestamp = Localizer.to_be_localized_queue[0]\n",
    "                Localizer.to_be_localized_queue = Localizer.to_be_localized_queue[1:]\n",
    "                self.localize(timestamp, event)\n",
    "    \n",
    "    def localizer_confidence(self):\n",
    "        return 0.9\n",
    "\n",
    "    def get_event_period(self):\n",
    "        return 1.0\n",
    "\n",
    "    def getLocations(self, time, event):\n",
    "        global grid_map\n",
    "        global analyzer\n",
    "        global oracle\n",
    "        global distances\n",
    "\n",
    "        fired_sensors = []\n",
    "        grid2 = np.copy(grid_map)\n",
    "        fired_sensors = self.FindFiredSensor(event, grid_map, event.timestamp)\n",
    "\n",
    "        if len(fired_sensors) == 0:\n",
    "            return\n",
    "        \n",
    "        counter = 0\n",
    "        try:\n",
    "            m1 = np.min(grid2[np.nonzero(grid2)])\n",
    "            M1 = np.max(grid2[np.nonzero(grid2)])\n",
    "\n",
    "            # print(\"Value in try:\", m1)\n",
    "            # print(\"Value in try:\", M1)\n",
    "            \n",
    "        except:\n",
    "            print(\"start!\")\n",
    "        \n",
    "        for i in range(len(grid2[:,1])):\n",
    "            for j in range(len(grid2[1,:])):\n",
    "                for sensor in fired_sensors:\n",
    "                    \n",
    "                    #my_sensor = checkTypeSensor(sensor)\n",
    "                    my_sensor = sensor\n",
    "                    r = float(my_sensor.sensing_area)/10\n",
    "                    x = float(my_sensor.x)/10\n",
    "                    y = float(my_sensor.y)/10\n",
    "                    \n",
    "                    circ = Circle((int(int(x)), int(int(y))), int(int(r)))\n",
    "                    \n",
    "                    if (circ.contains_point([i, j])):\n",
    "                        grid2[i][j] += 1\n",
    "        \n",
    "        sumofpoints = sum(sum(grid2))/4\n",
    "        \n",
    "        if (sumofpoints == 0):\n",
    "            print(\"no 1\")\n",
    "        else:\n",
    "            grid2 = np.true_divide(grid2, sumofpoints)\n",
    "        \n",
    "        inferred_location = self.AskLocationFromLocalizer(grid2)\n",
    "        real_location2 = self.AskLocationFromOracle(time)\n",
    "   \n",
    "        return inferred_location, real_location2, fired_sensors\n",
    "        \n",
    "    def localize(self, time, event):\n",
    "        global grid_map\n",
    "        global analyzer\n",
    "        global oracle\n",
    "        global distances\n",
    "        \n",
    "        #finds the inferred an real locations, and what sensors were fired\n",
    "        inferred_location, real_location, fired_sensors2 = self.getLocations(event.timestamp, event)    \n",
    "        k = 0\n",
    "        \n",
    "        #Choose what sensor was REALLY deployed based on the probability\n",
    "        i = len(fired_sensors2)\n",
    "        \n",
    "        if(i > 0):\n",
    "            i -= 1\n",
    "        \n",
    "        while(i >= 0):         \n",
    "            current_sensor = fired_sensors2[i]\n",
    "            #get the probability from the gaussian filter\n",
    "            probi = current_sensor.GaussianFiredSensor(inferred_location, real_location)\n",
    "            \n",
    "            if(probi < 0.015):\n",
    "                del fired_sensors2[i]\n",
    "            i -= 1\n",
    "            #print(probi)\n",
    "                \n",
    "        fired_sensors = fired_sensors2\n",
    "        \n",
    "        if len(fired_sensors) == 0:\n",
    "            return\n",
    "        \n",
    "        counter = 0\n",
    "        \n",
    "        try:\n",
    "            m1 = np.min(grid_map[np.nonzero(grid_map)])\n",
    "            M1 = np.max(grid_map[np.nonzero(grid_map)])\n",
    "            \n",
    "        except:\n",
    "            print(\"start!\")\n",
    "        \n",
    "        \n",
    "        for i in range(len(grid_map[:,1])):\n",
    "            for j in range(len(grid_map[1,:])):\n",
    "                for sensor in fired_sensors:\n",
    "                    #my_sensor = checkTypeSensor(sensor)\n",
    "                    my_sensor = sensor\n",
    "                    r = float(my_sensor.sensing_area)/10\n",
    "                    x = float(my_sensor.x)/10\n",
    "                    y = float(my_sensor.y)/10\n",
    "                    #print(\"i: \", i, \"j: \", j)\n",
    "                    #print(\"x: \", x, \"y: \", y, \"r: \", r)\n",
    "                    \n",
    "                    circ = Circle((int(int(x)), int(int(y))), int(int(r)))\n",
    "                    \n",
    "                    if (circ.contains_point([i, j])):\n",
    "                        grid_map[i][j] += 1\n",
    "        \n",
    "        sumofpoints = sum(sum(grid_map))/4\n",
    "          \n",
    "        if (sumofpoints == 0):\n",
    "            print(\"no 2\")\n",
    "        else:\n",
    "            grid_map = np.true_divide(grid_map, sumofpoints)\n",
    "    \n",
    "        dist = self.ReportError(event.timestamp, grid_map)\n",
    "        distances.append(dist) \n",
    "        \n",
    "        analyzer['time'].append(event.timestamp)\n",
    "        analyzer['gridmap'].append(grid_map)\n",
    "\n",
    "        # plt.imshow(zip(*grid_map), cmap='hot', interpolation='nearest')\n",
    "        plt.imshow(grid_map, cmap='hot', interpolation='nearest')\n",
    "        plt.show()\n",
    "        print(\"\\n\")\n",
    "    \n",
    "    def ReportError(self, time, recent_grid):\n",
    "        global oracle\n",
    "        \n",
    "        inferred_location = self.AskLocationFromLocalizer(recent_grid)\n",
    "        real_location = self.AskLocationFromOracle(time)\n",
    "        \n",
    "        #print(inferred_location)\n",
    "        #print(real_location)\n",
    "        \n",
    "        return np.linalg.norm(inferred_location - real_location)\n",
    "        \n",
    "        \n",
    "    def AskLocationFromLocalizer(self, recent_grid):\n",
    "        return np.mean(list(zip(*np.where(recent_grid == np.max(recent_grid)))), axis = 0)\n",
    "    \n",
    "    def AskLocationFromOracle(self, time):  \n",
    "        point = np.mean(np.asarray(oracle['location'])[np.where(np.asarray(oracle['time']) == int(time))], axis = 0)\n",
    "        #print(\"ponto: \", point, \"time: \", time)\n",
    "        return point\n",
    "    \n",
    "    \"\"\"\n",
    "    I'm implementing a randomic action fiture for the sensors, causing false-positive events. Basically, \n",
    "    to choose WHICH sensor will be deployed, I get an random number between [0 - (X - 1)], where X is the length \n",
    "    of the sensor list. To choose WHEN the sensor is deployed, I'll define a variable called \"control = 123\", and\n",
    "    create a list of random 10 numbers between [0 - 150], everytime the list contains whe variable control, we\n",
    "    switch to the random event.\n",
    "    \"\"\"\n",
    "    def FindFiredSensor(self, event, grid_map, time):\n",
    "        fired_sensors2 = []\n",
    "        firedsensor = event.sensor\n",
    "        \n",
    "        listControl = random.sample(range(0, 150), 10)\n",
    "        control = 123\n",
    "        \n",
    "        if(control in listControl):  \n",
    "            rand = randint(0, len(sensors_list) - 1)\n",
    "            current_sensor = sensors_list[rand]\n",
    "            fired_sensors2.append(current_sensor)\n",
    "        \n",
    "        for i in range(len(sensors_list)):\n",
    "            #print(sensors_list[i])\n",
    "            current_sensor = sensors_list[i]\n",
    "\n",
    "            if current_sensor.sensor_id == firedsensor:\n",
    "                fired_sensors2.append(current_sensor)  \n",
    "                \n",
    "        return fired_sensors2\n",
    "\n",
    "\n",
    "    def extract_fired_sensors(self, start, end):\n",
    "        sensors = sensors_list\n",
    "        fired_sensors = []\n",
    "        for s in sensors:\n",
    "            if Event.objects.filter(timestamp__gt=start, timestamp__lt=end, sensor=s).exists():\n",
    "                fired_sensors.append(s)\n",
    "                continue\n",
    "            if Event.objects.filter(sensor=s).exists():\n",
    "                last_event = Event.objects.filter(sensor=s).latest(field_name='timestamp')\n",
    "                if int(last_event.data) == 1:\n",
    "                    # print('latest is 1')\n",
    "                    # print(s)\n",
    "                    fired_sensors.append(s)\n",
    "\n",
    "        return fired_sensors\n"
   ]
  },
  {
   "cell_type": "code",
   "execution_count": 11,
   "metadata": {
    "scrolled": true
   },
   "outputs": [],
   "source": [
    "#temporary:\n",
    "# my_map = [(0.0, 0.0), (0.0, 5.7), (7.05, 5.7), (7.05, 0.0)]\n",
    "# grid_map = np.zeros((int(my_map[2][0]) * 10, int(my_map[2][1]) * 10))\n",
    "\n",
    "\n",
    "\n",
    "# print(np.max(grid_map))\n",
    "# print(\"first input\")\n",
    "# result = \"casiSimulator/sensor_readings/MotionSensorBinary/MotionSensorBinary-288.3-495.0 1538687434000,MotionSensorBinary,MotionSensorBinary-288.3-495.0,TRUE,TRUE1\"\n",
    "# event = ParseResult(result)\n",
    "# start_localizing()\n",
    "# print(np.max(grid_map[np.nonzero(grid_map)]))\n",
    "# print(np.min(grid_map[np.nonzero(grid_map)]))\n",
    "# plt.imshow(grid_map, cmap='hot', interpolation='nearest')\n",
    "# plt.show()\n",
    "\n",
    "# print('---------------------------')\n",
    "\n",
    "# print(np.max(grid_map))\n",
    "# print(\"second input\")\n",
    "# result1 = \"casiSimulator/sensor_readings/MotionSensorBinary/MotionSensorBinary-511.6-343.6 1538687449000,MotionSensorBinary,MotionSensorBinary-511.6-343.6,TRUE,TRUE1\"\n",
    "# event = ParseResult(result1)\n",
    "# start_localizing()\n",
    "# print(np.max(grid_map[np.nonzero(grid_map)]))\n",
    "# print(np.min(grid_map[np.nonzero(grid_map)]))\n",
    "# plt.imshow(grid_map, cmap='hot', interpolation='nearest')\n",
    "# plt.show()\n",
    "\n"
   ]
  },
  {
   "cell_type": "code",
   "execution_count": 12,
   "metadata": {},
   "outputs": [],
   "source": [
    "#Debug function, sees what kind of activity we have\n",
    "def typeAction(type):\n",
    "    if(type == \"Sleep\"):\n",
    "        print(type + \"ENTREI\")\n",
    "\n",
    "    if(type == \"walk\"):\n",
    "        print(type + \"ENTREI\")\n",
    "        \n",
    "    if(type == \"Water\"):\n",
    "        print(type + \"ENTREI\")\n",
    "        \n",
    "    if(type == \"Wash\"):\n",
    "        print(type + \"ENTREI\")\n",
    "        \n",
    "    if(type == \"Entertainment\"):\n",
    "        print(type + \"ENTREI\")\n",
    "        \n",
    "    if(type == \"Exercise\"):\n",
    "        print(type + \"ENTREI\")\n",
    "\n",
    "    if(type == \"Clean\"):\n",
    "        print(type + \"ENTREI\")\n",
    "        \n",
    "    if(type == \"Eat\"):\n",
    "        print(type + \"ENTREI\")\n",
    "        \n",
    "    if(type == \"Sit\"):\n",
    "        print(type + \"ENTREI\")"
   ]
  },
  {
   "cell_type": "code",
   "execution_count": 30,
   "metadata": {},
   "outputs": [],
   "source": [
    "#I did what Shadan asked me, but I cannot test without the real file!\n",
    "\"\"\"\n",
    "Function to read the path in the csv file and turn it on an event.\n",
    "The event is composed of: (sensor Id, data, hasg, source, time)\n",
    "Everytime that a sensor finds\n",
    "\"\"\"\n",
    "def readFileCSV():       \n",
    "    dataFile = []\n",
    "    i = 0\n",
    "    cont = 0\n",
    "    cont2 = 0\n",
    "    \n",
    "    #Read all data from the csv file\n",
    "    # with open(groundtruth, 'r') as csvFile:\n",
    "    #     reader = csv.reader(csvFile)\n",
    "    #     for line in reader:\n",
    "    #         dataFile.append(line)\n",
    "            \n",
    "    # i = len(dataFile) - 1\n",
    "    \n",
    "    for i in range(1, len(dataset) + 1):\n",
    "        xtrace = dataset[i][1]\n",
    "        ytrace = dataset[i][2]\n",
    "        x = abs(float(xtrace)) * 10\n",
    "        y = abs(float(ytrace)) * 10\n",
    "        loc = [x, y]\n",
    "        timetoadd = int(round(float(dataset[i][0])))\n",
    "        \n",
    "        if loc not in oracle['location'] and timetoadd not in oracle['time']:\n",
    "            oracle['location'].append(loc)\n",
    "            oracle['time'].append(timetoadd) \n",
    "\n",
    "        \n",
    "        event = Event()  \n",
    "        \n",
    "            \n",
    "            \n",
    "        \n",
    "        \n",
    "        for sensor in sensors_list:\n",
    "            if(float(xtrace) * 10 >= (float(sensor.x) - float(sensor.sensing_area)) \n",
    "               and float(xtrace) * 10 <= (float(sensor.x) + float(sensor.sensing_area))):\n",
    "                cont2 += 1\n",
    "            else:\n",
    "                cont += 1\n",
    "            \n",
    "            if(abs(float(ytrace)) * 10 >= (float(sensor.y) - float(sensor.sensing_area))\n",
    "            and abs(float(ytrace)) * 10 <= (float(sensor.y) + float(sensor.sensing_area))):\n",
    "                cont2 += 1\n",
    "            else:\n",
    "                cont += 1\n",
    "            \n",
    "\n",
    "            \n",
    "            #If it's inside the sensor area, create an event and send it to the localizer\n",
    "\n",
    "            if(cont2 != 0):\n",
    "                event = Event()\n",
    "                \n",
    "                # Beacon Sensors\n",
    "                if(sensor.sensor_type == \"BeaconSensor\"):\n",
    "                    event.RSSI = sensor.RSSI #RSSI, just for beacons\n",
    "                    event.accelerometer = sensor.accelerometer #if it's moving or not - jsut for beacon\n",
    "                    event.objectAtt = sensor.object #Object where the sensor is\n",
    "                    \n",
    "                # Pressure Sensors\n",
    "                elif(sensor.sensor_type == \"PressureSensorAnalog\"):\n",
    "                    event.objectAtt = sensor.object #Object where the sensor is\n",
    "                    \n",
    "                else:               \n",
    "                    event.RSSI = 0 #RSSI, just for beacons\n",
    "                    event.objectAtt = \"\" #Object where the sensor is\n",
    "                    event.accelerometer = False #if it's moving or not - jsut for beacon\n",
    "                           \n",
    "                event.sensor = sensor.sensor_id #SensorId that created the event\n",
    "                event.data = \"TRUE\"  #data\n",
    "                event.hash = \"|hash|\" #hash\n",
    "                event.source = \"xmlFile\" #where is coming from\n",
    "                event.timestamp = int(round(float(dataset[i][0]))) #timestamp\n",
    "                event.sensorType = sensor.sensor_type #type of sensor\n",
    "                \n",
    "                print(event)\n",
    "                \n",
    "                run_localization(event)\n",
    "            \n",
    "            cont = 0\n",
    "            cont2 = 0\n",
    "        i -= 1"
   ]
  },
  {
   "cell_type": "code",
   "execution_count": 31,
   "metadata": {},
   "outputs": [
    {
     "name": "stdout",
     "output_type": "stream",
     "text": [
      "time: 1498670641 --> sensor: <sensor3>, sensor type: MotionSensorBinary data: TRUE\n",
      "real:  [11.97742 54.02001]\n",
      "simu:  [ 9.         22.05357143]\n",
      "real:  [11.97742 54.02001]\n",
      "simu:  [ 9.         22.05357143]\n"
     ]
    },
    {
     "data": {
      "image/png": "[encoded data removed]",
      "text/plain": [
       "<Figure size 432x288 with 1 Axes>"
      ]
     },
     "metadata": {
      "needs_background": "light"
     },
     "output_type": "display_data"
    },
    {
     "name": "stdout",
     "output_type": "stream",
     "text": [
      "\n",
      "\n",
      "time: 1498670642 --> sensor: <sensor3>, sensor type: MotionSensorBinary data: TRUE\n",
      "real:  [11.98065 54.01716]\n",
      "simu:  [50.         10.05357143]\n"
     ]
    },
    {
     "data": {
      "image/png": "[encoded data removed]",
      "text/plain": [
       "<Figure size 432x288 with 1 Axes>"
      ]
     },
     "metadata": {
      "needs_background": "light"
     },
     "output_type": "display_data"
    },
    {
     "name": "stdout",
     "output_type": "stream",
     "text": [
      "\n",
      "\n",
      "time: 1498670643 --> sensor: <sensor3>, sensor type: MotionSensorBinary data: TRUE\n",
      "real:  [11.98387 54.0143 ]\n",
      "simu:  [50.         10.05357143]\n"
     ]
    },
    {
     "data": {
      "image/png": "[encoded data removed]",
      "text/plain": [
       "<Figure size 432x288 with 1 Axes>"
      ]
     },
     "metadata": {
      "needs_background": "light"
     },
     "output_type": "display_data"
    },
    {
     "name": "stdout",
     "output_type": "stream",
     "text": [
      "\n",
      "\n",
      "time: 1498670644 --> sensor: <sensor3>, sensor type: MotionSensorBinary data: TRUE\n",
      "real:  [11.9871  54.01144]\n",
      "simu:  [50.         10.05357143]\n"
     ]
    },
    {
     "data": {
      "image/png": "[encoded data removed]",
      "text/plain": [
       "<Figure size 432x288 with 1 Axes>"
      ]
     },
     "metadata": {
      "needs_background": "light"
     },
     "output_type": "display_data"
    },
    {
     "name": "stdout",
     "output_type": "stream",
     "text": [
      "\n",
      "\n",
      "time: 1498670645 --> sensor: <sensor3>, sensor type: MotionSensorBinary data: TRUE\n",
      "real:  [11.99032 54.00858]\n",
      "simu:  [50.         10.05357143]\n"
     ]
    },
    {
     "data": {
      "image/png": "[encoded data removed]",
      "text/plain": [
       "<Figure size 432x288 with 1 Axes>"
      ]
     },
     "metadata": {
      "needs_background": "light"
     },
     "output_type": "display_data"
    },
    {
     "name": "stdout",
     "output_type": "stream",
     "text": [
      "\n",
      "\n",
      "time: 1498670646 --> sensor: <sensor3>, sensor type: MotionSensorBinary data: TRUE\n",
      "real:  [11.99355 54.00572]\n",
      "simu:  [50.         10.05357143]\n"
     ]
    },
    {
     "data": {
      "image/png": "[encoded data removed]",
      "text/plain": [
       "<Figure size 432x288 with 1 Axes>"
      ]
     },
     "metadata": {
      "needs_background": "light"
     },
     "output_type": "display_data"
    },
    {
     "name": "stdout",
     "output_type": "stream",
     "text": [
      "\n",
      "\n",
      "time: 1498670688 --> sensor: <sensor3>, sensor type: MotionSensorBinary data: TRUE\n",
      "real:  [12. 54.]\n",
      "simu:  [50.         10.05357143]\n"
     ]
    },
    {
     "data": {
      "image/png": "[encoded data removed]",
      "text/plain": [
       "<Figure size 432x288 with 1 Axes>"
      ]
     },
     "metadata": {
      "needs_background": "light"
     },
     "output_type": "display_data"
    },
    {
     "name": "stdout",
     "output_type": "stream",
     "text": [
      "\n",
      "\n",
      "time: 1498670691 --> sensor: <sensor3>, sensor type: MotionSensorBinary data: TRUE\n",
      "real:  [nan nan]\n",
      "simu:  [50.         10.05357143]\n"
     ]
    },
    {
     "data": {
      "image/png": "[encoded data removed]",
      "text/plain": [
       "<Figure size 432x288 with 1 Axes>"
      ]
     },
     "metadata": {
      "needs_background": "light"
     },
     "output_type": "display_data"
    },
    {
     "name": "stdout",
     "output_type": "stream",
     "text": [
      "\n",
      "\n",
      "time: 1498670694 --> sensor: <sensor3>, sensor type: MotionSensorBinary data: TRUE\n",
      "real:  [nan nan]\n",
      "simu:  [50.         10.05357143]\n"
     ]
    },
    {
     "data": {
      "image/png": "[encoded data removed]",
      "text/plain": [
       "<Figure size 432x288 with 1 Axes>"
      ]
     },
     "metadata": {
      "needs_background": "light"
     },
     "output_type": "display_data"
    },
    {
     "name": "stdout",
     "output_type": "stream",
     "text": [
      "\n",
      "\n",
      "time: 1498670697 --> sensor: <sensor3>, sensor type: MotionSensorBinary data: TRUE\n",
      "real:  [nan nan]\n",
      "simu:  [50.         10.05357143]\n"
     ]
    },
    {
     "data": {
      "image/png": "[encoded data removed]",
      "text/plain": [
       "<Figure size 432x288 with 1 Axes>"
      ]
     },
     "metadata": {
      "needs_background": "light"
     },
     "output_type": "display_data"
    },
    {
     "name": "stdout",
     "output_type": "stream",
     "text": [
      "\n",
      "\n",
      "time: 1498670700 --> sensor: <sensor3>, sensor type: MotionSensorBinary data: TRUE\n",
      "real:  [nan nan]\n",
      "simu:  [50.         10.05357143]\n"
     ]
    },
    {
     "data": {
      "image/png": "[encoded data removed]",
      "text/plain": [
       "<Figure size 432x288 with 1 Axes>"
      ]
     },
     "metadata": {
      "needs_background": "light"
     },
     "output_type": "display_data"
    },
    {
     "name": "stdout",
     "output_type": "stream",
     "text": [
      "\n",
      "\n",
      "time: 1498670703 --> sensor: <sensor3>, sensor type: MotionSensorBinary data: TRUE\n",
      "real:  [nan nan]\n",
      "simu:  [50.         10.05357143]\n"
     ]
    },
    {
     "data": {
      "image/png": "[encoded data removed]",
      "text/plain": [
       "<Figure size 432x288 with 1 Axes>"
      ]
     },
     "metadata": {
      "needs_background": "light"
     },
     "output_type": "display_data"
    },
    {
     "name": "stdout",
     "output_type": "stream",
     "text": [
      "\n",
      "\n",
      "time: 1498670706 --> sensor: <sensor3>, sensor type: MotionSensorBinary data: TRUE\n",
      "real:  [nan nan]\n",
      "simu:  [50.         10.05357143]\n"
     ]
    },
    {
     "data": {
      "image/png": "[encoded data removed]",
      "text/plain": [
       "<Figure size 432x288 with 1 Axes>"
      ]
     },
     "metadata": {
      "needs_background": "light"
     },
     "output_type": "display_data"
    },
    {
     "name": "stdout",
     "output_type": "stream",
     "text": [
      "\n",
      "\n",
      "time: 1498670709 --> sensor: <sensor3>, sensor type: MotionSensorBinary data: TRUE\n",
      "real:  [nan nan]\n",
      "simu:  [50.         10.05357143]\n"
     ]
    },
    {
     "data": {
      "image/png": "[encoded data removed]",
      "text/plain": [
       "<Figure size 432x288 with 1 Axes>"
      ]
     },
     "metadata": {
      "needs_background": "light"
     },
     "output_type": "display_data"
    },
    {
     "name": "stdout",
     "output_type": "stream",
     "text": [
      "\n",
      "\n",
      "time: 1498670712 --> sensor: <sensor3>, sensor type: MotionSensorBinary data: TRUE\n",
      "real:  [nan nan]\n",
      "simu:  [50.         10.05357143]\n"
     ]
    },
    {
     "data": {
      "image/png": "[encoded data removed]",
      "text/plain": [
       "<Figure size 432x288 with 1 Axes>"
      ]
     },
     "metadata": {
      "needs_background": "light"
     },
     "output_type": "display_data"
    },
    {
     "name": "stdout",
     "output_type": "stream",
     "text": [
      "\n",
      "\n",
      "time: 1498670715 --> sensor: <sensor3>, sensor type: MotionSensorBinary data: TRUE\n",
      "real:  [nan nan]\n",
      "simu:  [50.         10.05357143]\n"
     ]
    },
    {
     "data": {
      "image/png": "[encoded data removed]",
      "text/plain": [
       "<Figure size 432x288 with 1 Axes>"
      ]
     },
     "metadata": {
      "needs_background": "light"
     },
     "output_type": "display_data"
    },
    {
     "name": "stdout",
     "output_type": "stream",
     "text": [
      "\n",
      "\n",
      "time: 1498670718 --> sensor: <sensor3>, sensor type: MotionSensorBinary data: TRUE\n",
      "real:  [nan nan]\n",
      "simu:  [50.         10.05357143]\n"
     ]
    },
    {
     "data": {
      "image/png": "[encoded data removed]",
      "text/plain": [
       "<Figure size 432x288 with 1 Axes>"
      ]
     },
     "metadata": {
      "needs_background": "light"
     },
     "output_type": "display_data"
    },
    {
     "name": "stdout",
     "output_type": "stream",
     "text": [
      "\n",
      "\n",
      "time: 1498670721 --> sensor: <sensor3>, sensor type: MotionSensorBinary data: TRUE\n",
      "real:  [15.66667 50.5    ]\n",
      "simu:  [50.         10.05357143]\n"
     ]
    },
    {
     "data": {
      "image/png": "[encoded data removed]",
      "text/plain": [
       "<Figure size 432x288 with 1 Axes>"
      ]
     },
     "metadata": {
      "needs_background": "light"
     },
     "output_type": "display_data"
    },
    {
     "name": "stdout",
     "output_type": "stream",
     "text": [
      "\n",
      "\n",
      "time: 1498670727 --> sensor: <sensor6>, sensor type: MotionSensorBinary data: TRUE\n",
      "real:  [34. 33.]\n",
      "simu:  [ 9.         22.05357143]\n"
     ]
    },
    {
     "data": {
      "image/png": "[encoded data removed]",
      "text/plain": [
       "<Figure size 432x288 with 1 Axes>"
      ]
     },
     "metadata": {
      "needs_background": "light"
     },
     "output_type": "display_data"
    },
    {
     "name": "stdout",
     "output_type": "stream",
     "text": [
      "\n",
      "\n",
      "time: 1498670730 --> sensor: <sensor6>, sensor type: MotionSensorBinary data: TRUE\n",
      "real:  [nan nan]\n",
      "simu:  [ 9.         22.05357143]\n"
     ]
    },
    {
     "data": {
      "image/png": "[encoded data removed]",
      "text/plain": [
       "<Figure size 432x288 with 1 Axes>"
      ]
     },
     "metadata": {
      "needs_background": "light"
     },
     "output_type": "display_data"
    },
    {
     "name": "stdout",
     "output_type": "stream",
     "text": [
      "\n",
      "\n",
      "time: 1498670733 --> sensor: <sensor6>, sensor type: MotionSensorBinary data: TRUE\n",
      "real:  [nan nan]\n",
      "simu:  [ 9.         22.05357143]\n"
     ]
    },
    {
     "data": {
      "image/png": "[encoded data removed]",
      "text/plain": [
       "<Figure size 432x288 with 1 Axes>"
      ]
     },
     "metadata": {
      "needs_background": "light"
     },
     "output_type": "display_data"
    },
    {
     "name": "stdout",
     "output_type": "stream",
     "text": [
      "\n",
      "\n",
      "time: 1498670736 --> sensor: <sensor6>, sensor type: MotionSensorBinary data: TRUE\n",
      "real:  [nan nan]\n",
      "simu:  [ 9.         22.05357143]\n",
      "real:  [nan nan]\n",
      "simu:  [ 9.         22.05357143]\n"
     ]
    },
    {
     "data": {
      "image/png": "[encoded data removed]",
      "text/plain": [
       "<Figure size 432x288 with 1 Axes>"
      ]
     },
     "metadata": {
      "needs_background": "light"
     },
     "output_type": "display_data"
    },
    {
     "name": "stdout",
     "output_type": "stream",
     "text": [
      "\n",
      "\n",
      "time: 1498670739 --> sensor: <sensor6>, sensor type: MotionSensorBinary data: TRUE\n",
      "real:  [nan nan]\n",
      "simu:  [ 9.         22.05357143]\n"
     ]
    },
    {
     "data": {
      "image/png": "[encoded data removed]",
      "text/plain": [
       "<Figure size 432x288 with 1 Axes>"
      ]
     },
     "metadata": {
      "needs_background": "light"
     },
     "output_type": "display_data"
    },
    {
     "name": "stdout",
     "output_type": "stream",
     "text": [
      "\n",
      "\n",
      "time: 1498670742 --> sensor: <sensor6>, sensor type: MotionSensorBinary data: TRUE\n",
      "real:  [nan nan]\n",
      "simu:  [ 9.         22.05357143]\n"
     ]
    },
    {
     "data": {
      "image/png": "[encoded data removed]",
      "text/plain": [
       "<Figure size 432x288 with 1 Axes>"
      ]
     },
     "metadata": {
      "needs_background": "light"
     },
     "output_type": "display_data"
    },
    {
     "name": "stdout",
     "output_type": "stream",
     "text": [
      "\n",
      "\n",
      "time: 1498670745 --> sensor: <sensor6>, sensor type: MotionSensorBinary data: TRUE\n",
      "real:  [nan nan]\n",
      "simu:  [ 9.         22.05357143]\n"
     ]
    },
    {
     "data": {
      "image/png": "[encoded data removed]",
      "text/plain": [
       "<Figure size 432x288 with 1 Axes>"
      ]
     },
     "metadata": {
      "needs_background": "light"
     },
     "output_type": "display_data"
    },
    {
     "name": "stdout",
     "output_type": "stream",
     "text": [
      "\n",
      "\n",
      "time: 1498670748 --> sensor: <sensor6>, sensor type: MotionSensorBinary data: TRUE\n",
      "real:  [nan nan]\n",
      "simu:  [ 9.         22.05357143]\n"
     ]
    },
    {
     "data": {
      "image/png": "[encoded data removed]",
      "text/plain": [
       "<Figure size 432x288 with 1 Axes>"
      ]
     },
     "metadata": {
      "needs_background": "light"
     },
     "output_type": "display_data"
    },
    {
     "name": "stdout",
     "output_type": "stream",
     "text": [
      "\n",
      "\n",
      "time: 1498670751 --> sensor: <sensor6>, sensor type: MotionSensorBinary data: TRUE\n",
      "real:  [nan nan]\n",
      "simu:  [ 9.         22.05357143]\n"
     ]
    },
    {
     "data": {
      "image/png": "[encoded data removed]",
      "text/plain": [
       "<Figure size 432x288 with 1 Axes>"
      ]
     },
     "metadata": {
      "needs_background": "light"
     },
     "output_type": "display_data"
    },
    {
     "name": "stdout",
     "output_type": "stream",
     "text": [
      "\n",
      "\n",
      "time: 1498670754 --> sensor: <sensor6>, sensor type: MotionSensorBinary data: TRUE\n",
      "real:  [nan nan]\n",
      "simu:  [ 9.         22.05357143]\n"
     ]
    },
    {
     "data": {
      "image/png": "[encoded data removed]",
      "text/plain": [
       "<Figure size 432x288 with 1 Axes>"
      ]
     },
     "metadata": {
      "needs_background": "light"
     },
     "output_type": "display_data"
    },
    {
     "name": "stdout",
     "output_type": "stream",
     "text": [
      "\n",
      "\n",
      "time: 1498670757 --> sensor: <sensor6>, sensor type: MotionSensorBinary data: TRUE\n",
      "real:  [nan nan]\n",
      "simu:  [ 9.         22.05357143]\n"
     ]
    },
    {
     "data": {
      "image/png": "[encoded data removed]",
      "text/plain": [
       "<Figure size 432x288 with 1 Axes>"
      ]
     },
     "metadata": {
      "needs_background": "light"
     },
     "output_type": "display_data"
    },
    {
     "name": "stdout",
     "output_type": "stream",
     "text": [
      "\n",
      "\n",
      "time: 1498670760 --> sensor: <sensor6>, sensor type: MotionSensorBinary data: TRUE\n",
      "real:  [nan nan]\n",
      "simu:  [ 9.         22.05357143]\n"
     ]
    },
    {
     "data": {
      "image/png": "[encoded data removed]",
      "text/plain": [
       "<Figure size 432x288 with 1 Axes>"
      ]
     },
     "metadata": {
      "needs_background": "light"
     },
     "output_type": "display_data"
    },
    {
     "name": "stdout",
     "output_type": "stream",
     "text": [
      "\n",
      "\n",
      "time: 1498670763 --> sensor: <sensor6>, sensor type: MotionSensorBinary data: TRUE\n",
      "real:  [nan nan]\n",
      "simu:  [ 9.         22.05357143]\n"
     ]
    },
    {
     "data": {
      "image/png": "[encoded data removed]",
      "text/plain": [
       "<Figure size 432x288 with 1 Axes>"
      ]
     },
     "metadata": {
      "needs_background": "light"
     },
     "output_type": "display_data"
    },
    {
     "name": "stdout",
     "output_type": "stream",
     "text": [
      "\n",
      "\n",
      "time: 1498670766 --> sensor: <sensor6>, sensor type: MotionSensorBinary data: TRUE\n",
      "real:  [nan nan]\n",
      "simu:  [ 9.         22.05357143]\n",
      "real:  [nan nan]\n",
      "simu:  [ 9.         22.05357143]\n"
     ]
    },
    {
     "data": {
      "image/png": "[encoded data removed]",
      "text/plain": [
       "<Figure size 432x288 with 1 Axes>"
      ]
     },
     "metadata": {
      "needs_background": "light"
     },
     "output_type": "display_data"
    },
    {
     "name": "stdout",
     "output_type": "stream",
     "text": [
      "\n",
      "\n",
      "time: 1498670802 --> sensor: <sensor6>, sensor type: MotionSensorBinary data: TRUE\n",
      "real:  [nan nan]\n",
      "simu:  [ 9.         22.05357143]\n"
     ]
    },
    {
     "data": {
      "image/png": "[encoded data removed]",
      "text/plain": [
       "<Figure size 432x288 with 1 Axes>"
      ]
     },
     "metadata": {
      "needs_background": "light"
     },
     "output_type": "display_data"
    },
    {
     "name": "stdout",
     "output_type": "stream",
     "text": [
      "\n",
      "\n",
      "time: 1498670805 --> sensor: <sensor6>, sensor type: MotionSensorBinary data: TRUE\n",
      "real:  [nan nan]\n",
      "simu:  [ 9.         22.05357143]\n"
     ]
    },
    {
     "data": {
      "image/png": "[encoded data removed]",
      "text/plain": [
       "<Figure size 432x288 with 1 Axes>"
      ]
     },
     "metadata": {
      "needs_background": "light"
     },
     "output_type": "display_data"
    },
    {
     "name": "stdout",
     "output_type": "stream",
     "text": [
      "\n",
      "\n",
      "time: 1498670811 --> sensor: <sensor6>, sensor type: MotionSensorBinary data: TRUE\n",
      "real:  [nan nan]\n",
      "simu:  [ 9.         22.05357143]\n"
     ]
    },
    {
     "data": {
      "image/png": "[encoded data removed]",
      "text/plain": [
       "<Figure size 432x288 with 1 Axes>"
      ]
     },
     "metadata": {
      "needs_background": "light"
     },
     "output_type": "display_data"
    },
    {
     "name": "stdout",
     "output_type": "stream",
     "text": [
      "\n",
      "\n",
      "time: 1498670814 --> sensor: <sensor6>, sensor type: MotionSensorBinary data: TRUE\n",
      "real:  [nan nan]\n",
      "simu:  [ 9.         22.05357143]\n"
     ]
    },
    {
     "data": {
      "image/png": "[encoded data removed]",
      "text/plain": [
       "<Figure size 432x288 with 1 Axes>"
      ]
     },
     "metadata": {
      "needs_background": "light"
     },
     "output_type": "display_data"
    },
    {
     "name": "stdout",
     "output_type": "stream",
     "text": [
      "\n",
      "\n",
      "time: 1498670817 --> sensor: <sensor6>, sensor type: MotionSensorBinary data: TRUE\n",
      "real:  [nan nan]\n",
      "simu:  [ 9.         22.05357143]\n"
     ]
    },
    {
     "data": {
      "image/png": "[encoded data removed]",
      "text/plain": [
       "<Figure size 432x288 with 1 Axes>"
      ]
     },
     "metadata": {
      "needs_background": "light"
     },
     "output_type": "display_data"
    },
    {
     "name": "stdout",
     "output_type": "stream",
     "text": [
      "\n",
      "\n",
      "time: 1498670820 --> sensor: <sensor6>, sensor type: MotionSensorBinary data: TRUE\n",
      "real:  [nan nan]\n",
      "simu:  [ 9.         22.05357143]\n"
     ]
    },
    {
     "data": {
      "image/png": "[encoded data removed]",
      "text/plain": [
       "<Figure size 432x288 with 1 Axes>"
      ]
     },
     "metadata": {
      "needs_background": "light"
     },
     "output_type": "display_data"
    },
    {
     "name": "stdout",
     "output_type": "stream",
     "text": [
      "\n",
      "\n",
      "time: 1498670822 --> sensor: <sensor6>, sensor type: MotionSensorBinary data: TRUE\n",
      "real:  [nan nan]\n",
      "simu:  [ 9.         22.05357143]\n"
     ]
    },
    {
     "data": {
      "image/png": "[encoded data removed]",
      "text/plain": [
       "<Figure size 432x288 with 1 Axes>"
      ]
     },
     "metadata": {
      "needs_background": "light"
     },
     "output_type": "display_data"
    },
    {
     "name": "stdout",
     "output_type": "stream",
     "text": [
      "\n",
      "\n",
      "time: 1498670823 --> sensor: <sensor6>, sensor type: MotionSensorBinary data: TRUE\n",
      "real:  [nan nan]\n",
      "simu:  [ 9.         22.05357143]\n"
     ]
    },
    {
     "data": {
      "image/png": "[encoded data removed]",
      "text/plain": [
       "<Figure size 432x288 with 1 Axes>"
      ]
     },
     "metadata": {
      "needs_background": "light"
     },
     "output_type": "display_data"
    },
    {
     "name": "stdout",
     "output_type": "stream",
     "text": [
      "\n",
      "\n",
      "time: 1498670824 --> sensor: <sensor6>, sensor type: MotionSensorBinary data: TRUE\n",
      "real:  [nan nan]\n",
      "simu:  [ 9.         22.05357143]\n"
     ]
    },
    {
     "data": {
      "image/png": "[encoded data removed]",
      "text/plain": [
       "<Figure size 432x288 with 1 Axes>"
      ]
     },
     "metadata": {
      "needs_background": "light"
     },
     "output_type": "display_data"
    },
    {
     "name": "stdout",
     "output_type": "stream",
     "text": [
      "\n",
      "\n",
      "time: 1498670825 --> sensor: <sensor6>, sensor type: MotionSensorBinary data: TRUE\n",
      "real:  [nan nan]\n",
      "simu:  [ 9.         22.05357143]\n"
     ]
    },
    {
     "data": {
      "image/png": "[encoded data removed]",
      "text/plain": [
       "<Figure size 432x288 with 1 Axes>"
      ]
     },
     "metadata": {
      "needs_background": "light"
     },
     "output_type": "display_data"
    },
    {
     "name": "stdout",
     "output_type": "stream",
     "text": [
      "\n",
      "\n",
      "time: 1498670826 --> sensor: <sensor6>, sensor type: MotionSensorBinary data: TRUE\n",
      "real:  [nan nan]\n",
      "simu:  [ 9.         22.05357143]\n"
     ]
    },
    {
     "data": {
      "image/png": "[encoded data removed]",
      "text/plain": [
       "<Figure size 432x288 with 1 Axes>"
      ]
     },
     "metadata": {
      "needs_background": "light"
     },
     "output_type": "display_data"
    },
    {
     "name": "stdout",
     "output_type": "stream",
     "text": [
      "\n",
      "\n",
      "time: 1498670827 --> sensor: <sensor6>, sensor type: MotionSensorBinary data: TRUE\n",
      "real:  [nan nan]\n",
      "simu:  [ 9.         22.05357143]\n"
     ]
    },
    {
     "data": {
      "image/png": "[encoded data removed]",
      "text/plain": [
       "<Figure size 432x288 with 1 Axes>"
      ]
     },
     "metadata": {
      "needs_background": "light"
     },
     "output_type": "display_data"
    },
    {
     "name": "stdout",
     "output_type": "stream",
     "text": [
      "\n",
      "\n",
      "time: 1498670828 --> sensor: <sensor6>, sensor type: MotionSensorBinary data: TRUE\n",
      "real:  [nan nan]\n",
      "simu:  [ 9.         22.05357143]\n"
     ]
    },
    {
     "data": {
      "image/png": "[encoded data removed]",
      "text/plain": [
       "<Figure size 432x288 with 1 Axes>"
      ]
     },
     "metadata": {
      "needs_background": "light"
     },
     "output_type": "display_data"
    },
    {
     "name": "stdout",
     "output_type": "stream",
     "text": [
      "\n",
      "\n",
      "time: 1498670829 --> sensor: <sensor6>, sensor type: MotionSensorBinary data: TRUE\n",
      "real:  [nan nan]\n",
      "simu:  [ 9.         22.05357143]\n"
     ]
    },
    {
     "data": {
      "image/png": "[encoded data removed]",
      "text/plain": [
       "<Figure size 432x288 with 1 Axes>"
      ]
     },
     "metadata": {
      "needs_background": "light"
     },
     "output_type": "display_data"
    },
    {
     "name": "stdout",
     "output_type": "stream",
     "text": [
      "\n",
      "\n",
      "time: 1498670832 --> sensor: <sensor6>, sensor type: MotionSensorBinary data: TRUE\n",
      "real:  [nan nan]\n",
      "simu:  [ 9.         22.05357143]\n"
     ]
    },
    {
     "data": {
      "image/png": "[encoded data removed]",
      "text/plain": [
       "<Figure size 432x288 with 1 Axes>"
      ]
     },
     "metadata": {
      "needs_background": "light"
     },
     "output_type": "display_data"
    },
    {
     "name": "stdout",
     "output_type": "stream",
     "text": [
      "\n",
      "\n",
      "time: 1498670835 --> sensor: <sensor6>, sensor type: MotionSensorBinary data: TRUE\n",
      "real:  [nan nan]\n",
      "simu:  [ 9.         22.05357143]\n"
     ]
    },
    {
     "data": {
      "image/png": "[encoded data removed]",
      "text/plain": [
       "<Figure size 432x288 with 1 Axes>"
      ]
     },
     "metadata": {
      "needs_background": "light"
     },
     "output_type": "display_data"
    },
    {
     "name": "stdout",
     "output_type": "stream",
     "text": [
      "\n",
      "\n",
      "time: 1498670837 --> sensor: <sensor6>, sensor type: MotionSensorBinary data: TRUE\n",
      "real:  [nan nan]\n",
      "simu:  [ 9.         22.05357143]\n"
     ]
    },
    {
     "data": {
      "image/png": "[encoded data removed]",
      "text/plain": [
       "<Figure size 432x288 with 1 Axes>"
      ]
     },
     "metadata": {
      "needs_background": "light"
     },
     "output_type": "display_data"
    },
    {
     "name": "stdout",
     "output_type": "stream",
     "text": [
      "\n",
      "\n",
      "time: 1498670838 --> sensor: <sensor6>, sensor type: MotionSensorBinary data: TRUE\n",
      "real:  [nan nan]\n",
      "simu:  [ 9.         22.05357143]\n"
     ]
    },
    {
     "data": {
      "image/png": "[encoded data removed]",
      "text/plain": [
       "<Figure size 432x288 with 1 Axes>"
      ]
     },
     "metadata": {
      "needs_background": "light"
     },
     "output_type": "display_data"
    },
    {
     "name": "stdout",
     "output_type": "stream",
     "text": [
      "\n",
      "\n",
      "time: 1498670839 --> sensor: <sensor6>, sensor type: MotionSensorBinary data: TRUE\n",
      "real:  [nan nan]\n",
      "simu:  [ 9.         22.05357143]\n"
     ]
    },
    {
     "data": {
      "image/png": "[encoded data removed]",
      "text/plain": [
       "<Figure size 432x288 with 1 Axes>"
      ]
     },
     "metadata": {
      "needs_background": "light"
     },
     "output_type": "display_data"
    },
    {
     "name": "stdout",
     "output_type": "stream",
     "text": [
      "\n",
      "\n",
      "time: 1498670856 --> sensor: <sensor6>, sensor type: MotionSensorBinary data: TRUE\n",
      "real:  [nan nan]\n",
      "simu:  [ 9.         22.05357143]\n"
     ]
    },
    {
     "data": {
      "image/png": "[encoded data removed]",
      "text/plain": [
       "<Figure size 432x288 with 1 Axes>"
      ]
     },
     "metadata": {
      "needs_background": "light"
     },
     "output_type": "display_data"
    },
    {
     "name": "stdout",
     "output_type": "stream",
     "text": [
      "\n",
      "\n",
      "time: 1498670859 --> sensor: <sensor6>, sensor type: MotionSensorBinary data: TRUE\n",
      "real:  [nan nan]\n",
      "simu:  [ 9.         22.05357143]\n"
     ]
    },
    {
     "data": {
      "image/png": "[encoded data removed]",
      "text/plain": [
       "<Figure size 432x288 with 1 Axes>"
      ]
     },
     "metadata": {
      "needs_background": "light"
     },
     "output_type": "display_data"
    },
    {
     "name": "stdout",
     "output_type": "stream",
     "text": [
      "\n",
      "\n",
      "time: 1498670862 --> sensor: <sensor6>, sensor type: MotionSensorBinary data: TRUE\n",
      "real:  [nan nan]\n",
      "simu:  [ 9.         22.05357143]\n"
     ]
    },
    {
     "data": {
      "image/png": "[encoded data removed]",
      "text/plain": [
       "<Figure size 432x288 with 1 Axes>"
      ]
     },
     "metadata": {
      "needs_background": "light"
     },
     "output_type": "display_data"
    },
    {
     "name": "stdout",
     "output_type": "stream",
     "text": [
      "\n",
      "\n",
      "time: 1498670865 --> sensor: <sensor6>, sensor type: MotionSensorBinary data: TRUE\n",
      "real:  [nan nan]\n",
      "simu:  [ 9.         22.05357143]\n"
     ]
    },
    {
     "data": {
      "image/png": "[encoded data removed]",
      "text/plain": [
       "<Figure size 432x288 with 1 Axes>"
      ]
     },
     "metadata": {
      "needs_background": "light"
     },
     "output_type": "display_data"
    },
    {
     "name": "stdout",
     "output_type": "stream",
     "text": [
      "\n",
      "\n",
      "time: 1498670871 --> sensor: <sensor6>, sensor type: MotionSensorBinary data: TRUE\n",
      "real:  [nan nan]\n",
      "simu:  [ 9.         22.05357143]\n"
     ]
    },
    {
     "data": {
      "image/png": "[encoded data removed]",
      "text/plain": [
       "<Figure size 432x288 with 1 Axes>"
      ]
     },
     "metadata": {
      "needs_background": "light"
     },
     "output_type": "display_data"
    },
    {
     "name": "stdout",
     "output_type": "stream",
     "text": [
      "\n",
      "\n",
      "time: 1498670874 --> sensor: <sensor6>, sensor type: MotionSensorBinary data: TRUE\n",
      "real:  [nan nan]\n",
      "simu:  [ 9.         22.05357143]\n"
     ]
    },
    {
     "data": {
      "image/png": "[encoded data removed]",
      "text/plain": [
       "<Figure size 432x288 with 1 Axes>"
      ]
     },
     "metadata": {
      "needs_background": "light"
     },
     "output_type": "display_data"
    },
    {
     "name": "stdout",
     "output_type": "stream",
     "text": [
      "\n",
      "\n",
      "time: 1498670877 --> sensor: <sensor6>, sensor type: MotionSensorBinary data: TRUE\n",
      "real:  [nan nan]\n",
      "simu:  [ 9.         22.05357143]\n"
     ]
    },
    {
     "data": {
      "image/png": "[encoded data removed]",
      "text/plain": [
       "<Figure size 432x288 with 1 Axes>"
      ]
     },
     "metadata": {
      "needs_background": "light"
     },
     "output_type": "display_data"
    },
    {
     "name": "stdout",
     "output_type": "stream",
     "text": [
      "\n",
      "\n",
      "time: 1498670879 --> sensor: <sensor6>, sensor type: MotionSensorBinary data: TRUE\n",
      "real:  [nan nan]\n",
      "simu:  [ 9.         22.05357143]\n"
     ]
    },
    {
     "data": {
      "image/png": "[encoded data removed]",
      "text/plain": [
       "<Figure size 432x288 with 1 Axes>"
      ]
     },
     "metadata": {
      "needs_background": "light"
     },
     "output_type": "display_data"
    },
    {
     "name": "stdout",
     "output_type": "stream",
     "text": [
      "\n",
      "\n",
      "time: 1498670880 --> sensor: <sensor6>, sensor type: MotionSensorBinary data: TRUE\n",
      "real:  [nan nan]\n",
      "simu:  [ 9.         22.05357143]\n"
     ]
    },
    {
     "data": {
      "image/png": "[encoded data removed]",
      "text/plain": [
       "<Figure size 432x288 with 1 Axes>"
      ]
     },
     "metadata": {
      "needs_background": "light"
     },
     "output_type": "display_data"
    },
    {
     "name": "stdout",
     "output_type": "stream",
     "text": [
      "\n",
      "\n",
      "time: 1498670883 --> sensor: <sensor6>, sensor type: MotionSensorBinary data: TRUE\n",
      "real:  [nan nan]\n",
      "simu:  [ 9.         22.05357143]\n"
     ]
    },
    {
     "data": {
      "image/png": "[encoded data removed]",
      "text/plain": [
       "<Figure size 432x288 with 1 Axes>"
      ]
     },
     "metadata": {
      "needs_background": "light"
     },
     "output_type": "display_data"
    },
    {
     "name": "stdout",
     "output_type": "stream",
     "text": [
      "\n",
      "\n",
      "time: 1498670886 --> sensor: <sensor6>, sensor type: MotionSensorBinary data: TRUE\n",
      "real:  [nan nan]\n",
      "simu:  [ 9.         22.05357143]\n"
     ]
    },
    {
     "data": {
      "image/png": "[encoded data removed]",
      "text/plain": [
       "<Figure size 432x288 with 1 Axes>"
      ]
     },
     "metadata": {
      "needs_background": "light"
     },
     "output_type": "display_data"
    },
    {
     "name": "stdout",
     "output_type": "stream",
     "text": [
      "\n",
      "\n",
      "time: 1498670889 --> sensor: <sensor6>, sensor type: MotionSensorBinary data: TRUE\n",
      "real:  [nan nan]\n",
      "simu:  [ 9.         22.05357143]\n"
     ]
    },
    {
     "data": {
      "image/png": "[encoded data removed]",
      "text/plain": [
       "<Figure size 432x288 with 1 Axes>"
      ]
     },
     "metadata": {
      "needs_background": "light"
     },
     "output_type": "display_data"
    },
    {
     "name": "stdout",
     "output_type": "stream",
     "text": [
      "\n",
      "\n",
      "time: 1498670892 --> sensor: <sensor6>, sensor type: MotionSensorBinary data: TRUE\n",
      "real:  [nan nan]\n",
      "simu:  [ 9.         22.05357143]\n",
      "real:  [nan nan]\n",
      "simu:  [ 9.         22.05357143]\n"
     ]
    },
    {
     "data": {
      "image/png": "[encoded data removed]",
      "text/plain": [
       "<Figure size 432x288 with 1 Axes>"
      ]
     },
     "metadata": {
      "needs_background": "light"
     },
     "output_type": "display_data"
    },
    {
     "name": "stdout",
     "output_type": "stream",
     "text": [
      "\n",
      "\n",
      "time: 1498670895 --> sensor: <sensor6>, sensor type: MotionSensorBinary data: TRUE\n",
      "real:  [nan nan]\n",
      "simu:  [ 9.         22.05357143]\n"
     ]
    },
    {
     "data": {
      "image/png": "[encoded data removed]",
      "text/plain": [
       "<Figure size 432x288 with 1 Axes>"
      ]
     },
     "metadata": {
      "needs_background": "light"
     },
     "output_type": "display_data"
    },
    {
     "name": "stdout",
     "output_type": "stream",
     "text": [
      "\n",
      "\n",
      "time: 1498670898 --> sensor: <sensor6>, sensor type: MotionSensorBinary data: TRUE\n",
      "real:  [nan nan]\n",
      "simu:  [ 9.         22.05357143]\n"
     ]
    },
    {
     "data": {
      "image/png": "[encoded data removed]",
      "text/plain": [
       "<Figure size 432x288 with 1 Axes>"
      ]
     },
     "metadata": {
      "needs_background": "light"
     },
     "output_type": "display_data"
    },
    {
     "name": "stdout",
     "output_type": "stream",
     "text": [
      "\n",
      "\n",
      "time: 1498670904 --> sensor: <sensor6>, sensor type: MotionSensorBinary data: TRUE\n",
      "real:  [nan nan]\n",
      "simu:  [ 9.         22.05357143]\n",
      "real:  [nan nan]\n",
      "simu:  [ 9.         22.05357143]\n"
     ]
    },
    {
     "data": {
      "image/png": "[encoded data removed]",
      "text/plain": [
       "<Figure size 432x288 with 1 Axes>"
      ]
     },
     "metadata": {
      "needs_background": "light"
     },
     "output_type": "display_data"
    },
    {
     "name": "stdout",
     "output_type": "stream",
     "text": [
      "\n",
      "\n",
      "time: 1498670907 --> sensor: <sensor6>, sensor type: MotionSensorBinary data: TRUE\n",
      "real:  [nan nan]\n",
      "simu:  [ 9.         22.05357143]\n"
     ]
    },
    {
     "data": {
      "image/png": "[encoded data removed]",
      "text/plain": [
       "<Figure size 432x288 with 1 Axes>"
      ]
     },
     "metadata": {
      "needs_background": "light"
     },
     "output_type": "display_data"
    },
    {
     "name": "stdout",
     "output_type": "stream",
     "text": [
      "\n",
      "\n",
      "time: 1498670910 --> sensor: <sensor6>, sensor type: MotionSensorBinary data: TRUE\n",
      "real:  [nan nan]\n",
      "simu:  [ 9.         22.05357143]\n"
     ]
    },
    {
     "data": {
      "image/png": "[encoded data removed]",
      "text/plain": [
       "<Figure size 432x288 with 1 Axes>"
      ]
     },
     "metadata": {
      "needs_background": "light"
     },
     "output_type": "display_data"
    },
    {
     "name": "stdout",
     "output_type": "stream",
     "text": [
      "\n",
      "\n",
      "time: 1498670913 --> sensor: <sensor6>, sensor type: MotionSensorBinary data: TRUE\n",
      "real:  [nan nan]\n",
      "simu:  [ 9.         22.05357143]\n",
      "real:  [nan nan]\n",
      "simu:  [ 9.         22.05357143]\n"
     ]
    },
    {
     "data": {
      "image/png": "[encoded data removed]",
      "text/plain": [
       "<Figure size 432x288 with 1 Axes>"
      ]
     },
     "metadata": {
      "needs_background": "light"
     },
     "output_type": "display_data"
    },
    {
     "name": "stdout",
     "output_type": "stream",
     "text": [
      "\n",
      "\n",
      "time: 1498670916 --> sensor: <sensor6>, sensor type: MotionSensorBinary data: TRUE\n",
      "real:  [nan nan]\n",
      "simu:  [ 9.         22.05357143]\n"
     ]
    },
    {
     "data": {
      "image/png": "[encoded data removed]",
      "text/plain": [
       "<Figure size 432x288 with 1 Axes>"
      ]
     },
     "metadata": {
      "needs_background": "light"
     },
     "output_type": "display_data"
    },
    {
     "name": "stdout",
     "output_type": "stream",
     "text": [
      "\n",
      "\n",
      "time: 1498670919 --> sensor: <sensor6>, sensor type: MotionSensorBinary data: TRUE\n",
      "real:  [nan nan]\n",
      "simu:  [ 9.         22.05357143]\n"
     ]
    },
    {
     "data": {
      "image/png": "[encoded data removed]",
      "text/plain": [
       "<Figure size 432x288 with 1 Axes>"
      ]
     },
     "metadata": {
      "needs_background": "light"
     },
     "output_type": "display_data"
    },
    {
     "name": "stdout",
     "output_type": "stream",
     "text": [
      "\n",
      "\n",
      "time: 1498670922 --> sensor: <sensor6>, sensor type: MotionSensorBinary data: TRUE\n",
      "real:  [nan nan]\n",
      "simu:  [ 9.         22.05357143]\n"
     ]
    },
    {
     "data": {
      "image/png": "[encoded data removed]",
      "text/plain": [
       "<Figure size 432x288 with 1 Axes>"
      ]
     },
     "metadata": {
      "needs_background": "light"
     },
     "output_type": "display_data"
    },
    {
     "name": "stdout",
     "output_type": "stream",
     "text": [
      "\n",
      "\n",
      "time: 1498670925 --> sensor: <sensor6>, sensor type: MotionSensorBinary data: TRUE\n",
      "real:  [nan nan]\n",
      "simu:  [ 9.         22.05357143]\n"
     ]
    },
    {
     "data": {
      "image/png": "[encoded data removed]",
      "text/plain": [
       "<Figure size 432x288 with 1 Axes>"
      ]
     },
     "metadata": {
      "needs_background": "light"
     },
     "output_type": "display_data"
    },
    {
     "name": "stdout",
     "output_type": "stream",
     "text": [
      "\n",
      "\n",
      "time: 1498670928 --> sensor: <sensor6>, sensor type: MotionSensorBinary data: TRUE\n",
      "real:  [nan nan]\n",
      "simu:  [ 9.         22.05357143]\n"
     ]
    },
    {
     "data": {
      "image/png": "[encoded data removed]",
      "text/plain": [
       "<Figure size 432x288 with 1 Axes>"
      ]
     },
     "metadata": {
      "needs_background": "light"
     },
     "output_type": "display_data"
    },
    {
     "name": "stdout",
     "output_type": "stream",
     "text": [
      "\n",
      "\n",
      "time: 1498670937 --> sensor: <sensor6>, sensor type: MotionSensorBinary data: TRUE\n",
      "real:  [nan nan]\n",
      "simu:  [ 9.         22.05357143]\n"
     ]
    },
    {
     "data": {
      "image/png": "[encoded data removed]",
      "text/plain": [
       "<Figure size 432x288 with 1 Axes>"
      ]
     },
     "metadata": {
      "needs_background": "light"
     },
     "output_type": "display_data"
    },
    {
     "name": "stdout",
     "output_type": "stream",
     "text": [
      "\n",
      "\n",
      "time: 1498670940 --> sensor: <sensor6>, sensor type: MotionSensorBinary data: TRUE\n",
      "real:  [nan nan]\n",
      "simu:  [ 9.         22.05357143]\n"
     ]
    },
    {
     "data": {
      "image/png": "[encoded data removed]",
      "text/plain": [
       "<Figure size 432x288 with 1 Axes>"
      ]
     },
     "metadata": {
      "needs_background": "light"
     },
     "output_type": "display_data"
    },
    {
     "name": "stdout",
     "output_type": "stream",
     "text": [
      "\n",
      "\n",
      "time: 1498670943 --> sensor: <sensor6>, sensor type: MotionSensorBinary data: TRUE\n",
      "real:  [nan nan]\n",
      "simu:  [ 9.         22.05357143]\n"
     ]
    },
    {
     "data": {
      "image/png": "[encoded data removed]",
      "text/plain": [
       "<Figure size 432x288 with 1 Axes>"
      ]
     },
     "metadata": {
      "needs_background": "light"
     },
     "output_type": "display_data"
    },
    {
     "name": "stdout",
     "output_type": "stream",
     "text": [
      "\n",
      "\n",
      "time: 1498670946 --> sensor: <sensor6>, sensor type: MotionSensorBinary data: TRUE\n",
      "real:  [nan nan]\n",
      "simu:  [ 9.         22.05357143]\n"
     ]
    },
    {
     "data": {
      "image/png": "[encoded data removed]",
      "text/plain": [
       "<Figure size 432x288 with 1 Axes>"
      ]
     },
     "metadata": {
      "needs_background": "light"
     },
     "output_type": "display_data"
    },
    {
     "name": "stdout",
     "output_type": "stream",
     "text": [
      "\n",
      "\n",
      "time: 1498670949 --> sensor: <sensor6>, sensor type: MotionSensorBinary data: TRUE\n",
      "real:  [nan nan]\n",
      "simu:  [ 9.         22.05357143]\n"
     ]
    },
    {
     "data": {
      "image/png": "[encoded data removed]",
      "text/plain": [
       "<Figure size 432x288 with 1 Axes>"
      ]
     },
     "metadata": {
      "needs_background": "light"
     },
     "output_type": "display_data"
    },
    {
     "name": "stdout",
     "output_type": "stream",
     "text": [
      "\n",
      "\n",
      "time: 1498670952 --> sensor: <sensor6>, sensor type: MotionSensorBinary data: TRUE\n",
      "real:  [nan nan]\n",
      "simu:  [ 9.         22.05357143]\n"
     ]
    },
    {
     "data": {
      "image/png": "[encoded data removed]",
      "text/plain": [
       "<Figure size 432x288 with 1 Axes>"
      ]
     },
     "metadata": {
      "needs_background": "light"
     },
     "output_type": "display_data"
    },
    {
     "name": "stdout",
     "output_type": "stream",
     "text": [
      "\n",
      "\n",
      "time: 1498670955 --> sensor: <sensor6>, sensor type: MotionSensorBinary data: TRUE\n",
      "real:  [nan nan]\n",
      "simu:  [ 9.         22.05357143]\n"
     ]
    },
    {
     "data": {
      "image/png": "[encoded data removed]",
      "text/plain": [
       "<Figure size 432x288 with 1 Axes>"
      ]
     },
     "metadata": {
      "needs_background": "light"
     },
     "output_type": "display_data"
    },
    {
     "name": "stdout",
     "output_type": "stream",
     "text": [
      "\n",
      "\n",
      "time: 1498670976 --> sensor: <sensor6>, sensor type: MotionSensorBinary data: TRUE\n",
      "real:  [nan nan]\n",
      "simu:  [ 9.         22.05357143]\n"
     ]
    },
    {
     "data": {
      "image/png": "[encoded data removed]",
      "text/plain": [
       "<Figure size 432x288 with 1 Axes>"
      ]
     },
     "metadata": {
      "needs_background": "light"
     },
     "output_type": "display_data"
    },
    {
     "name": "stdout",
     "output_type": "stream",
     "text": [
      "\n",
      "\n",
      "time: 1498670979 --> sensor: <sensor6>, sensor type: MotionSensorBinary data: TRUE\n",
      "real:  [nan nan]\n",
      "simu:  [ 9.         22.05357143]\n"
     ]
    },
    {
     "data": {
      "image/png": "[encoded data removed]",
      "text/plain": [
       "<Figure size 432x288 with 1 Axes>"
      ]
     },
     "metadata": {
      "needs_background": "light"
     },
     "output_type": "display_data"
    },
    {
     "name": "stdout",
     "output_type": "stream",
     "text": [
      "\n",
      "\n",
      "time: 1498670982 --> sensor: <sensor6>, sensor type: MotionSensorBinary data: TRUE\n",
      "real:  [nan nan]\n",
      "simu:  [ 9.         22.05357143]\n"
     ]
    },
    {
     "data": {
      "image/png": "[encoded data removed]",
      "text/plain": [
       "<Figure size 432x288 with 1 Axes>"
      ]
     },
     "metadata": {
      "needs_background": "light"
     },
     "output_type": "display_data"
    },
    {
     "name": "stdout",
     "output_type": "stream",
     "text": [
      "\n",
      "\n",
      "time: 1498670985 --> sensor: <sensor6>, sensor type: MotionSensorBinary data: TRUE\n",
      "real:  [nan nan]\n",
      "simu:  [ 9.         22.05357143]\n"
     ]
    },
    {
     "data": {
      "image/png": "[encoded data removed]",
      "text/plain": [
       "<Figure size 432x288 with 1 Axes>"
      ]
     },
     "metadata": {
      "needs_background": "light"
     },
     "output_type": "display_data"
    },
    {
     "name": "stdout",
     "output_type": "stream",
     "text": [
      "\n",
      "\n",
      "time: 1498670988 --> sensor: <sensor6>, sensor type: MotionSensorBinary data: TRUE\n",
      "real:  [nan nan]\n",
      "simu:  [ 9.         22.05357143]\n"
     ]
    },
    {
     "data": {
      "image/png": "[encoded data removed]",
      "text/plain": [
       "<Figure size 432x288 with 1 Axes>"
      ]
     },
     "metadata": {
      "needs_background": "light"
     },
     "output_type": "display_data"
    },
    {
     "name": "stdout",
     "output_type": "stream",
     "text": [
      "\n",
      "\n",
      "time: 1498670997 --> sensor: <sensor6>, sensor type: MotionSensorBinary data: TRUE\n",
      "real:  [nan nan]\n",
      "simu:  [ 9.         22.05357143]\n"
     ]
    },
    {
     "data": {
      "image/png": "[encoded data removed]",
      "text/plain": [
       "<Figure size 432x288 with 1 Axes>"
      ]
     },
     "metadata": {
      "needs_background": "light"
     },
     "output_type": "display_data"
    },
    {
     "name": "stdout",
     "output_type": "stream",
     "text": [
      "\n",
      "\n",
      "time: 1498671000 --> sensor: <sensor6>, sensor type: MotionSensorBinary data: TRUE\n",
      "real:  [nan nan]\n",
      "simu:  [ 9.         22.05357143]\n",
      "real:  [nan nan]\n",
      "simu:  [ 9.         22.05357143]\n"
     ]
    },
    {
     "data": {
      "image/png": "[encoded data removed]",
      "text/plain": [
       "<Figure size 432x288 with 1 Axes>"
      ]
     },
     "metadata": {
      "needs_background": "light"
     },
     "output_type": "display_data"
    },
    {
     "name": "stdout",
     "output_type": "stream",
     "text": [
      "\n",
      "\n",
      "time: 1498671006 --> sensor: <sensor6>, sensor type: MotionSensorBinary data: TRUE\n",
      "real:  [nan nan]\n",
      "simu:  [ 9.         22.05357143]\n"
     ]
    },
    {
     "data": {
      "image/png": "[encoded data removed]",
      "text/plain": [
       "<Figure size 432x288 with 1 Axes>"
      ]
     },
     "metadata": {
      "needs_background": "light"
     },
     "output_type": "display_data"
    },
    {
     "name": "stdout",
     "output_type": "stream",
     "text": [
      "\n",
      "\n",
      "time: 1498671009 --> sensor: <sensor6>, sensor type: MotionSensorBinary data: TRUE\n",
      "real:  [nan nan]\n",
      "simu:  [ 9.         22.05357143]\n"
     ]
    },
    {
     "data": {
      "image/png": "[encoded data removed]",
      "text/plain": [
       "<Figure size 432x288 with 1 Axes>"
      ]
     },
     "metadata": {
      "needs_background": "light"
     },
     "output_type": "display_data"
    },
    {
     "name": "stdout",
     "output_type": "stream",
     "text": [
      "\n",
      "\n",
      "time: 1498671013 --> sensor: <sensor6>, sensor type: MotionSensorBinary data: TRUE\n",
      "real:  [nan nan]\n",
      "simu:  [ 9.         22.05357143]\n"
     ]
    },
    {
     "data": {
      "image/png": "[encoded data removed]",
      "text/plain": [
       "<Figure size 432x288 with 1 Axes>"
      ]
     },
     "metadata": {
      "needs_background": "light"
     },
     "output_type": "display_data"
    },
    {
     "name": "stdout",
     "output_type": "stream",
     "text": [
      "\n",
      "\n",
      "time: 1498671014 --> sensor: <sensor6>, sensor type: MotionSensorBinary data: TRUE\n",
      "real:  [nan nan]\n",
      "simu:  [ 9.         22.05357143]\n"
     ]
    },
    {
     "data": {
      "image/png": "[encoded data removed]",
      "text/plain": [
       "<Figure size 432x288 with 1 Axes>"
      ]
     },
     "metadata": {
      "needs_background": "light"
     },
     "output_type": "display_data"
    },
    {
     "name": "stdout",
     "output_type": "stream",
     "text": [
      "\n",
      "\n",
      "time: 1498671015 --> sensor: <sensor6>, sensor type: MotionSensorBinary data: TRUE\n",
      "real:  [nan nan]\n",
      "simu:  [ 9.         22.05357143]\n",
      "real:  [nan nan]\n",
      "simu:  [ 9.         22.05357143]\n"
     ]
    },
    {
     "data": {
      "image/png": "[encoded data removed]",
      "text/plain": [
       "<Figure size 432x288 with 1 Axes>"
      ]
     },
     "metadata": {
      "needs_background": "light"
     },
     "output_type": "display_data"
    },
    {
     "name": "stdout",
     "output_type": "stream",
     "text": [
      "\n",
      "\n",
      "time: 1498671016 --> sensor: <sensor6>, sensor type: MotionSensorBinary data: TRUE\n",
      "real:  [nan nan]\n",
      "simu:  [ 9.         22.05357143]\n"
     ]
    },
    {
     "data": {
      "image/png": "[encoded data removed]",
      "text/plain": [
       "<Figure size 432x288 with 1 Axes>"
      ]
     },
     "metadata": {
      "needs_background": "light"
     },
     "output_type": "display_data"
    },
    {
     "name": "stdout",
     "output_type": "stream",
     "text": [
      "\n",
      "\n",
      "time: 1498671030 --> sensor: <sensor6>, sensor type: MotionSensorBinary data: TRUE\n",
      "real:  [nan nan]\n",
      "simu:  [ 9.         22.05357143]\n"
     ]
    },
    {
     "data": {
      "image/png": "[encoded data removed]",
      "text/plain": [
       "<Figure size 432x288 with 1 Axes>"
      ]
     },
     "metadata": {
      "needs_background": "light"
     },
     "output_type": "display_data"
    },
    {
     "name": "stdout",
     "output_type": "stream",
     "text": [
      "\n",
      "\n",
      "time: 1498671033 --> sensor: <sensor6>, sensor type: MotionSensorBinary data: TRUE\n",
      "real:  [nan nan]\n",
      "simu:  [ 9.         22.05357143]\n"
     ]
    },
    {
     "data": {
      "image/png": "[encoded data removed]",
      "text/plain": [
       "<Figure size 432x288 with 1 Axes>"
      ]
     },
     "metadata": {
      "needs_background": "light"
     },
     "output_type": "display_data"
    },
    {
     "name": "stdout",
     "output_type": "stream",
     "text": [
      "\n",
      "\n",
      "time: 1498671039 --> sensor: <sensor6>, sensor type: MotionSensorBinary data: TRUE\n",
      "real:  [nan nan]\n",
      "simu:  [ 9.         22.05357143]\n",
      "real:  [nan nan]\n",
      "simu:  [ 9.         22.05357143]\n"
     ]
    },
    {
     "data": {
      "image/png": "[encoded data removed]",
      "text/plain": [
       "<Figure size 432x288 with 1 Axes>"
      ]
     },
     "metadata": {
      "needs_background": "light"
     },
     "output_type": "display_data"
    },
    {
     "name": "stdout",
     "output_type": "stream",
     "text": [
      "\n",
      "\n",
      "time: 1498671045 --> sensor: <sensor6>, sensor type: MotionSensorBinary data: TRUE\n",
      "real:  [nan nan]\n",
      "simu:  [ 9.         22.05357143]\n"
     ]
    },
    {
     "data": {
      "image/png": "[encoded data removed]",
      "text/plain": [
       "<Figure size 432x288 with 1 Axes>"
      ]
     },
     "metadata": {
      "needs_background": "light"
     },
     "output_type": "display_data"
    },
    {
     "name": "stdout",
     "output_type": "stream",
     "text": [
      "\n",
      "\n",
      "time: 1498671046 --> sensor: <sensor6>, sensor type: MotionSensorBinary data: TRUE\n",
      "real:  [nan nan]\n",
      "simu:  [ 9.         22.05357143]\n"
     ]
    },
    {
     "data": {
      "image/png": "[encoded data removed]",
      "text/plain": [
       "<Figure size 432x288 with 1 Axes>"
      ]
     },
     "metadata": {
      "needs_background": "light"
     },
     "output_type": "display_data"
    },
    {
     "name": "stdout",
     "output_type": "stream",
     "text": [
      "\n",
      "\n",
      "time: 1498671047 --> sensor: <sensor6>, sensor type: MotionSensorBinary data: TRUE\n",
      "real:  [nan nan]\n",
      "simu:  [ 9.         22.05357143]\n"
     ]
    },
    {
     "data": {
      "image/png": "[encoded data removed]",
      "text/plain": [
       "<Figure size 432x288 with 1 Axes>"
      ]
     },
     "metadata": {
      "needs_background": "light"
     },
     "output_type": "display_data"
    },
    {
     "name": "stdout",
     "output_type": "stream",
     "text": [
      "\n",
      "\n",
      "time: 1498671048 --> sensor: <sensor6>, sensor type: MotionSensorBinary data: TRUE\n",
      "real:  [nan nan]\n",
      "simu:  [ 9.         22.05357143]\n"
     ]
    },
    {
     "data": {
      "image/png": "[encoded data removed]",
      "text/plain": [
       "<Figure size 432x288 with 1 Axes>"
      ]
     },
     "metadata": {
      "needs_background": "light"
     },
     "output_type": "display_data"
    },
    {
     "name": "stdout",
     "output_type": "stream",
     "text": [
      "\n",
      "\n",
      "time: 1498671049 --> sensor: <sensor6>, sensor type: MotionSensorBinary data: TRUE\n",
      "real:  [nan nan]\n",
      "simu:  [ 9.         22.05357143]\n"
     ]
    },
    {
     "data": {
      "image/png": "[encoded data removed]",
      "text/plain": [
       "<Figure size 432x288 with 1 Axes>"
      ]
     },
     "metadata": {
      "needs_background": "light"
     },
     "output_type": "display_data"
    },
    {
     "name": "stdout",
     "output_type": "stream",
     "text": [
      "\n",
      "\n",
      "time: 1498671057 --> sensor: <sensor6>, sensor type: MotionSensorBinary data: TRUE\n",
      "real:  [nan nan]\n",
      "simu:  [ 9.         22.05357143]\n"
     ]
    },
    {
     "data": {
      "image/png": "[encoded data removed]",
      "text/plain": [
       "<Figure size 432x288 with 1 Axes>"
      ]
     },
     "metadata": {
      "needs_background": "light"
     },
     "output_type": "display_data"
    },
    {
     "name": "stdout",
     "output_type": "stream",
     "text": [
      "\n",
      "\n",
      "time: 1498671075 --> sensor: <sensor6>, sensor type: MotionSensorBinary data: TRUE\n",
      "real:  [nan nan]\n",
      "simu:  [ 9.         22.05357143]\n"
     ]
    },
    {
     "data": {
      "image/png": "[encoded data removed]",
      "text/plain": [
       "<Figure size 432x288 with 1 Axes>"
      ]
     },
     "metadata": {
      "needs_background": "light"
     },
     "output_type": "display_data"
    },
    {
     "name": "stdout",
     "output_type": "stream",
     "text": [
      "\n",
      "\n",
      "time: 1498671078 --> sensor: <sensor6>, sensor type: MotionSensorBinary data: TRUE\n",
      "real:  [nan nan]\n",
      "simu:  [ 9.         22.05357143]\n"
     ]
    },
    {
     "data": {
      "image/png": "[encoded data removed]",
      "text/plain": [
       "<Figure size 432x288 with 1 Axes>"
      ]
     },
     "metadata": {
      "needs_background": "light"
     },
     "output_type": "display_data"
    },
    {
     "name": "stdout",
     "output_type": "stream",
     "text": [
      "\n",
      "\n",
      "time: 1498671084 --> sensor: <sensor6>, sensor type: MotionSensorBinary data: TRUE\n",
      "real:  [nan nan]\n",
      "simu:  [ 9.         22.05357143]\n"
     ]
    },
    {
     "data": {
      "image/png": "[encoded data removed]",
      "text/plain": [
       "<Figure size 432x288 with 1 Axes>"
      ]
     },
     "metadata": {
      "needs_background": "light"
     },
     "output_type": "display_data"
    },
    {
     "name": "stdout",
     "output_type": "stream",
     "text": [
      "\n",
      "\n",
      "time: 1498671090 --> sensor: <sensor6>, sensor type: MotionSensorBinary data: TRUE\n",
      "real:  [nan nan]\n",
      "simu:  [ 9.         22.05357143]\n"
     ]
    },
    {
     "data": {
      "image/png": "[encoded data removed]",
      "text/plain": [
       "<Figure size 432x288 with 1 Axes>"
      ]
     },
     "metadata": {
      "needs_background": "light"
     },
     "output_type": "display_data"
    },
    {
     "name": "stdout",
     "output_type": "stream",
     "text": [
      "\n",
      "\n",
      "time: 1498671091 --> sensor: <sensor6>, sensor type: MotionSensorBinary data: TRUE\n",
      "real:  [nan nan]\n",
      "simu:  [ 9.         22.05357143]\n"
     ]
    },
    {
     "data": {
      "image/png": "[encoded data removed]",
      "text/plain": [
       "<Figure size 432x288 with 1 Axes>"
      ]
     },
     "metadata": {
      "needs_background": "light"
     },
     "output_type": "display_data"
    },
    {
     "name": "stdout",
     "output_type": "stream",
     "text": [
      "\n",
      "\n",
      "time: 1498671092 --> sensor: <sensor6>, sensor type: MotionSensorBinary data: TRUE\n",
      "real:  [nan nan]\n",
      "simu:  [ 9.         22.05357143]\n"
     ]
    },
    {
     "data": {
      "image/png": "[encoded data removed]",
      "text/plain": [
       "<Figure size 432x288 with 1 Axes>"
      ]
     },
     "metadata": {
      "needs_background": "light"
     },
     "output_type": "display_data"
    },
    {
     "name": "stdout",
     "output_type": "stream",
     "text": [
      "\n",
      "\n",
      "time: 1498671093 --> sensor: <sensor6>, sensor type: MotionSensorBinary data: TRUE\n",
      "real:  [nan nan]\n",
      "simu:  [ 9.         22.05357143]\n"
     ]
    },
    {
     "data": {
      "image/png": "[encoded data removed]",
      "text/plain": [
       "<Figure size 432x288 with 1 Axes>"
      ]
     },
     "metadata": {
      "needs_background": "light"
     },
     "output_type": "display_data"
    },
    {
     "name": "stdout",
     "output_type": "stream",
     "text": [
      "\n",
      "\n",
      "time: 1498671094 --> sensor: <sensor6>, sensor type: MotionSensorBinary data: TRUE\n",
      "real:  [nan nan]\n",
      "simu:  [ 9.         22.05357143]\n"
     ]
    },
    {
     "data": {
      "image/png": "[encoded data removed]",
      "text/plain": [
       "<Figure size 432x288 with 1 Axes>"
      ]
     },
     "metadata": {
      "needs_background": "light"
     },
     "output_type": "display_data"
    },
    {
     "name": "stdout",
     "output_type": "stream",
     "text": [
      "\n",
      "\n",
      "time: 1498671095 --> sensor: <sensor6>, sensor type: MotionSensorBinary data: TRUE\n",
      "real:  [nan nan]\n",
      "simu:  [ 9.         22.05357143]\n"
     ]
    },
    {
     "data": {
      "image/png": "[encoded data removed]",
      "text/plain": [
       "<Figure size 432x288 with 1 Axes>"
      ]
     },
     "metadata": {
      "needs_background": "light"
     },
     "output_type": "display_data"
    },
    {
     "name": "stdout",
     "output_type": "stream",
     "text": [
      "\n",
      "\n",
      "time: 1498671096 --> sensor: <sensor6>, sensor type: MotionSensorBinary data: TRUE\n",
      "real:  [nan nan]\n",
      "simu:  [ 9.         22.05357143]\n"
     ]
    },
    {
     "data": {
      "image/png": "[encoded data removed]",
      "text/plain": [
       "<Figure size 432x288 with 1 Axes>"
      ]
     },
     "metadata": {
      "needs_background": "light"
     },
     "output_type": "display_data"
    },
    {
     "name": "stdout",
     "output_type": "stream",
     "text": [
      "\n",
      "\n",
      "time: 1498671117 --> sensor: <sensor6>, sensor type: MotionSensorBinary data: TRUE\n",
      "real:  [nan nan]\n",
      "simu:  [ 9.         22.05357143]\n"
     ]
    },
    {
     "data": {
      "image/png": "[encoded data removed]",
      "text/plain": [
       "<Figure size 432x288 with 1 Axes>"
      ]
     },
     "metadata": {
      "needs_background": "light"
     },
     "output_type": "display_data"
    },
    {
     "name": "stdout",
     "output_type": "stream",
     "text": [
      "\n",
      "\n",
      "time: 1498671126 --> sensor: <sensor6>, sensor type: MotionSensorBinary data: TRUE\n",
      "real:  [nan nan]\n",
      "simu:  [ 9.         22.05357143]\n"
     ]
    },
    {
     "data": {
      "image/png": "[encoded data removed]",
      "text/plain": [
       "<Figure size 432x288 with 1 Axes>"
      ]
     },
     "metadata": {
      "needs_background": "light"
     },
     "output_type": "display_data"
    },
    {
     "name": "stdout",
     "output_type": "stream",
     "text": [
      "\n",
      "\n",
      "time: 1498671135 --> sensor: <sensor6>, sensor type: MotionSensorBinary data: TRUE\n",
      "real:  [nan nan]\n",
      "simu:  [ 9.         22.05357143]\n"
     ]
    },
    {
     "data": {
      "image/png": "[encoded data removed]",
      "text/plain": [
       "<Figure size 432x288 with 1 Axes>"
      ]
     },
     "metadata": {
      "needs_background": "light"
     },
     "output_type": "display_data"
    },
    {
     "name": "stdout",
     "output_type": "stream",
     "text": [
      "\n",
      "\n",
      "time: 1498671147 --> sensor: <sensor6>, sensor type: MotionSensorBinary data: TRUE\n",
      "real:  [nan nan]\n",
      "simu:  [ 9.         22.05357143]\n"
     ]
    },
    {
     "data": {
      "image/png": "[encoded data removed]",
      "text/plain": [
       "<Figure size 432x288 with 1 Axes>"
      ]
     },
     "metadata": {
      "needs_background": "light"
     },
     "output_type": "display_data"
    },
    {
     "name": "stdout",
     "output_type": "stream",
     "text": [
      "\n",
      "\n",
      "time: 1498671150 --> sensor: <sensor6>, sensor type: MotionSensorBinary data: TRUE\n",
      "real:  [nan nan]\n",
      "simu:  [ 9.         22.05357143]\n",
      "real:  [nan nan]\n",
      "simu:  [ 9.         22.05357143]\n"
     ]
    },
    {
     "data": {
      "image/png": "[encoded data removed]",
      "text/plain": [
       "<Figure size 432x288 with 1 Axes>"
      ]
     },
     "metadata": {
      "needs_background": "light"
     },
     "output_type": "display_data"
    },
    {
     "name": "stdout",
     "output_type": "stream",
     "text": [
      "\n",
      "\n",
      "time: 1498671153 --> sensor: <sensor6>, sensor type: MotionSensorBinary data: TRUE\n",
      "real:  [nan nan]\n",
      "simu:  [ 9.         22.05357143]\n"
     ]
    },
    {
     "data": {
      "image/png": "[encoded data removed]",
      "text/plain": [
       "<Figure size 432x288 with 1 Axes>"
      ]
     },
     "metadata": {
      "needs_background": "light"
     },
     "output_type": "display_data"
    },
    {
     "name": "stdout",
     "output_type": "stream",
     "text": [
      "\n",
      "\n",
      "time: 1498671156 --> sensor: <sensor6>, sensor type: MotionSensorBinary data: TRUE\n",
      "real:  [nan nan]\n",
      "simu:  [ 9.         22.05357143]\n"
     ]
    },
    {
     "data": {
      "image/png": "[encoded data removed]",
      "text/plain": [
       "<Figure size 432x288 with 1 Axes>"
      ]
     },
     "metadata": {
      "needs_background": "light"
     },
     "output_type": "display_data"
    },
    {
     "name": "stdout",
     "output_type": "stream",
     "text": [
      "\n",
      "\n",
      "time: 1498671171 --> sensor: <sensor6>, sensor type: MotionSensorBinary data: TRUE\n",
      "real:  [nan nan]\n",
      "simu:  [ 9.         22.05357143]\n"
     ]
    },
    {
     "data": {
      "image/png": "[encoded data removed]",
      "text/plain": [
       "<Figure size 432x288 with 1 Axes>"
      ]
     },
     "metadata": {
      "needs_background": "light"
     },
     "output_type": "display_data"
    },
    {
     "name": "stdout",
     "output_type": "stream",
     "text": [
      "\n",
      "\n",
      "time: 1498671182 --> sensor: <sensor6>, sensor type: MotionSensorBinary data: TRUE\n",
      "real:  [nan nan]\n",
      "simu:  [ 9.         22.05357143]\n",
      "real:  [nan nan]\n",
      "simu:  [ 9.         22.05357143]\n"
     ]
    },
    {
     "data": {
      "image/png": "[encoded data removed]",
      "text/plain": [
       "<Figure size 432x288 with 1 Axes>"
      ]
     },
     "metadata": {
      "needs_background": "light"
     },
     "output_type": "display_data"
    },
    {
     "name": "stdout",
     "output_type": "stream",
     "text": [
      "\n",
      "\n",
      "time: 1498671183 --> sensor: <sensor6>, sensor type: MotionSensorBinary data: TRUE\n",
      "real:  [nan nan]\n",
      "simu:  [ 9.         22.05357143]\n"
     ]
    },
    {
     "data": {
      "image/png": "[encoded data removed]",
      "text/plain": [
       "<Figure size 432x288 with 1 Axes>"
      ]
     },
     "metadata": {
      "needs_background": "light"
     },
     "output_type": "display_data"
    },
    {
     "name": "stdout",
     "output_type": "stream",
     "text": [
      "\n",
      "\n",
      "time: 1498671184 --> sensor: <sensor6>, sensor type: MotionSensorBinary data: TRUE\n",
      "real:  [nan nan]\n",
      "simu:  [ 9.         22.05357143]\n"
     ]
    },
    {
     "data": {
      "image/png": "[encoded data removed]",
      "text/plain": [
       "<Figure size 432x288 with 1 Axes>"
      ]
     },
     "metadata": {
      "needs_background": "light"
     },
     "output_type": "display_data"
    },
    {
     "name": "stdout",
     "output_type": "stream",
     "text": [
      "\n",
      "\n",
      "time: 1498671185 --> sensor: <sensor6>, sensor type: MotionSensorBinary data: TRUE\n",
      "real:  [nan nan]\n",
      "simu:  [ 9.         22.05357143]\n"
     ]
    },
    {
     "data": {
      "image/png": "[encoded data removed]",
      "text/plain": [
       "<Figure size 432x288 with 1 Axes>"
      ]
     },
     "metadata": {
      "needs_background": "light"
     },
     "output_type": "display_data"
    },
    {
     "name": "stdout",
     "output_type": "stream",
     "text": [
      "\n",
      "\n",
      "time: 1498671186 --> sensor: <sensor6>, sensor type: MotionSensorBinary data: TRUE\n",
      "real:  [nan nan]\n",
      "simu:  [ 9.         22.05357143]\n"
     ]
    },
    {
     "data": {
      "image/png": "[encoded data removed]",
      "text/plain": [
       "<Figure size 432x288 with 1 Axes>"
      ]
     },
     "metadata": {
      "needs_background": "light"
     },
     "output_type": "display_data"
    },
    {
     "name": "stdout",
     "output_type": "stream",
     "text": [
      "\n",
      "\n",
      "time: 1498671187 --> sensor: <sensor6>, sensor type: MotionSensorBinary data: TRUE\n",
      "real:  [nan nan]\n",
      "simu:  [ 9.         22.05357143]\n"
     ]
    },
    {
     "data": {
      "image/png": "[encoded data removed]",
      "text/plain": [
       "<Figure size 432x288 with 1 Axes>"
      ]
     },
     "metadata": {
      "needs_background": "light"
     },
     "output_type": "display_data"
    },
    {
     "name": "stdout",
     "output_type": "stream",
     "text": [
      "\n",
      "\n",
      "time: 1498671188 --> sensor: <sensor6>, sensor type: MotionSensorBinary data: TRUE\n",
      "real:  [nan nan]\n",
      "simu:  [ 9.         22.05357143]\n"
     ]
    },
    {
     "data": {
      "image/png": "[encoded data removed]",
      "text/plain": [
       "<Figure size 432x288 with 1 Axes>"
      ]
     },
     "metadata": {
      "needs_background": "light"
     },
     "output_type": "display_data"
    },
    {
     "name": "stdout",
     "output_type": "stream",
     "text": [
      "\n",
      "\n",
      "time: 1498671189 --> sensor: <sensor6>, sensor type: MotionSensorBinary data: TRUE\n",
      "real:  [nan nan]\n",
      "simu:  [ 9.         22.05357143]\n"
     ]
    },
    {
     "data": {
      "image/png": "[encoded data removed]",
      "text/plain": [
       "<Figure size 432x288 with 1 Axes>"
      ]
     },
     "metadata": {
      "needs_background": "light"
     },
     "output_type": "display_data"
    },
    {
     "name": "stdout",
     "output_type": "stream",
     "text": [
      "\n",
      "\n",
      "time: 1498671190 --> sensor: <sensor6>, sensor type: MotionSensorBinary data: TRUE\n",
      "real:  [nan nan]\n",
      "simu:  [ 9.         22.05357143]\n"
     ]
    },
    {
     "data": {
      "image/png": "[encoded data removed]",
      "text/plain": [
       "<Figure size 432x288 with 1 Axes>"
      ]
     },
     "metadata": {
      "needs_background": "light"
     },
     "output_type": "display_data"
    },
    {
     "name": "stdout",
     "output_type": "stream",
     "text": [
      "\n",
      "\n",
      "time: 1498671207 --> sensor: <sensor6>, sensor type: MotionSensorBinary data: TRUE\n",
      "real:  [nan nan]\n",
      "simu:  [ 9.         22.05357143]\n"
     ]
    },
    {
     "data": {
      "image/png": "[encoded data removed]",
      "text/plain": [
       "<Figure size 432x288 with 1 Axes>"
      ]
     },
     "metadata": {
      "needs_background": "light"
     },
     "output_type": "display_data"
    },
    {
     "name": "stdout",
     "output_type": "stream",
     "text": [
      "\n",
      "\n",
      "time: 1498671222 --> sensor: <sensor6>, sensor type: MotionSensorBinary data: TRUE\n",
      "real:  [nan nan]\n",
      "simu:  [ 9.         22.05357143]\n"
     ]
    },
    {
     "data": {
      "image/png": "[encoded data removed]",
      "text/plain": [
       "<Figure size 432x288 with 1 Axes>"
      ]
     },
     "metadata": {
      "needs_background": "light"
     },
     "output_type": "display_data"
    },
    {
     "name": "stdout",
     "output_type": "stream",
     "text": [
      "\n",
      "\n",
      "time: 1498671224 --> sensor: <sensor6>, sensor type: MotionSensorBinary data: TRUE\n",
      "real:  [nan nan]\n",
      "simu:  [ 9.         22.05357143]\n"
     ]
    },
    {
     "data": {
      "image/png": "[encoded data removed]",
      "text/plain": [
       "<Figure size 432x288 with 1 Axes>"
      ]
     },
     "metadata": {
      "needs_background": "light"
     },
     "output_type": "display_data"
    },
    {
     "name": "stdout",
     "output_type": "stream",
     "text": [
      "\n",
      "\n",
      "time: 1498671225 --> sensor: <sensor6>, sensor type: MotionSensorBinary data: TRUE\n",
      "real:  [nan nan]\n",
      "simu:  [ 9.         22.05357143]\n"
     ]
    },
    {
     "data": {
      "image/png": "[encoded data removed]",
      "text/plain": [
       "<Figure size 432x288 with 1 Axes>"
      ]
     },
     "metadata": {
      "needs_background": "light"
     },
     "output_type": "display_data"
    },
    {
     "name": "stdout",
     "output_type": "stream",
     "text": [
      "\n",
      "\n",
      "time: 1498671226 --> sensor: <sensor6>, sensor type: MotionSensorBinary data: TRUE\n",
      "real:  [nan nan]\n",
      "simu:  [ 9.         22.05357143]\n"
     ]
    },
    {
     "data": {
      "image/png": "[encoded data removed]",
      "text/plain": [
       "<Figure size 432x288 with 1 Axes>"
      ]
     },
     "metadata": {
      "needs_background": "light"
     },
     "output_type": "display_data"
    },
    {
     "name": "stdout",
     "output_type": "stream",
     "text": [
      "\n",
      "\n",
      "time: 1498671227 --> sensor: <sensor6>, sensor type: MotionSensorBinary data: TRUE\n",
      "real:  [nan nan]\n",
      "simu:  [ 9.         22.05357143]\n"
     ]
    },
    {
     "data": {
      "image/png": "[encoded data removed]",
      "text/plain": [
       "<Figure size 432x288 with 1 Axes>"
      ]
     },
     "metadata": {
      "needs_background": "light"
     },
     "output_type": "display_data"
    },
    {
     "name": "stdout",
     "output_type": "stream",
     "text": [
      "\n",
      "\n",
      "time: 1498671228 --> sensor: <sensor6>, sensor type: MotionSensorBinary data: TRUE\n",
      "real:  [nan nan]\n",
      "simu:  [ 9.         22.05357143]\n"
     ]
    },
    {
     "data": {
      "image/png": "[encoded data removed]",
      "text/plain": [
       "<Figure size 432x288 with 1 Axes>"
      ]
     },
     "metadata": {
      "needs_background": "light"
     },
     "output_type": "display_data"
    },
    {
     "name": "stdout",
     "output_type": "stream",
     "text": [
      "\n",
      "\n",
      "time: 1498671229 --> sensor: <sensor6>, sensor type: MotionSensorBinary data: TRUE\n",
      "real:  [nan nan]\n",
      "simu:  [ 9.         22.05357143]\n"
     ]
    },
    {
     "data": {
      "image/png": "[encoded data removed]",
      "text/plain": [
       "<Figure size 432x288 with 1 Axes>"
      ]
     },
     "metadata": {
      "needs_background": "light"
     },
     "output_type": "display_data"
    },
    {
     "name": "stdout",
     "output_type": "stream",
     "text": [
      "\n",
      "\n",
      "time: 1498671230 --> sensor: <sensor6>, sensor type: MotionSensorBinary data: TRUE\n",
      "real:  [nan nan]\n",
      "simu:  [ 9.         22.05357143]\n"
     ]
    },
    {
     "data": {
      "image/png": "[encoded data removed]",
      "text/plain": [
       "<Figure size 432x288 with 1 Axes>"
      ]
     },
     "metadata": {
      "needs_background": "light"
     },
     "output_type": "display_data"
    },
    {
     "name": "stdout",
     "output_type": "stream",
     "text": [
      "\n",
      "\n",
      "time: 1498671231 --> sensor: <sensor6>, sensor type: MotionSensorBinary data: TRUE\n",
      "real:  [nan nan]\n",
      "simu:  [ 9.         22.05357143]\n"
     ]
    },
    {
     "data": {
      "image/png": "[encoded data removed]",
      "text/plain": [
       "<Figure size 432x288 with 1 Axes>"
      ]
     },
     "metadata": {
      "needs_background": "light"
     },
     "output_type": "display_data"
    },
    {
     "name": "stdout",
     "output_type": "stream",
     "text": [
      "\n",
      "\n",
      "time: 1498671234 --> sensor: <sensor6>, sensor type: MotionSensorBinary data: TRUE\n",
      "real:  [nan nan]\n",
      "simu:  [ 9.         22.05357143]\n"
     ]
    },
    {
     "data": {
      "image/png": "[encoded data removed]",
      "text/plain": [
       "<Figure size 432x288 with 1 Axes>"
      ]
     },
     "metadata": {
      "needs_background": "light"
     },
     "output_type": "display_data"
    },
    {
     "name": "stdout",
     "output_type": "stream",
     "text": [
      "\n",
      "\n",
      "time: 1498671246 --> sensor: <sensor6>, sensor type: MotionSensorBinary data: TRUE\n",
      "real:  [nan nan]\n",
      "simu:  [ 9.         22.05357143]\n"
     ]
    },
    {
     "data": {
      "image/png": "[encoded data removed]",
      "text/plain": [
       "<Figure size 432x288 with 1 Axes>"
      ]
     },
     "metadata": {
      "needs_background": "light"
     },
     "output_type": "display_data"
    },
    {
     "name": "stdout",
     "output_type": "stream",
     "text": [
      "\n",
      "\n",
      "time: 1498671255 --> sensor: <sensor6>, sensor type: MotionSensorBinary data: TRUE\n",
      "real:  [nan nan]\n",
      "simu:  [ 9.         22.05357143]\n"
     ]
    },
    {
     "data": {
      "image/png": "[encoded data removed]",
      "text/plain": [
       "<Figure size 432x288 with 1 Axes>"
      ]
     },
     "metadata": {
      "needs_background": "light"
     },
     "output_type": "display_data"
    },
    {
     "name": "stdout",
     "output_type": "stream",
     "text": [
      "\n",
      "\n",
      "time: 1498671256 --> sensor: <sensor6>, sensor type: MotionSensorBinary data: TRUE\n",
      "real:  [nan nan]\n",
      "simu:  [ 9.         22.05357143]\n"
     ]
    },
    {
     "data": {
      "image/png": "[encoded data removed]",
      "text/plain": [
       "<Figure size 432x288 with 1 Axes>"
      ]
     },
     "metadata": {
      "needs_background": "light"
     },
     "output_type": "display_data"
    },
    {
     "name": "stdout",
     "output_type": "stream",
     "text": [
      "\n",
      "\n",
      "time: 1498671257 --> sensor: <sensor6>, sensor type: MotionSensorBinary data: TRUE\n",
      "real:  [nan nan]\n",
      "simu:  [ 9.         22.05357143]\n"
     ]
    },
    {
     "data": {
      "image/png": "[encoded data removed]",
      "text/plain": [
       "<Figure size 432x288 with 1 Axes>"
      ]
     },
     "metadata": {
      "needs_background": "light"
     },
     "output_type": "display_data"
    },
    {
     "name": "stdout",
     "output_type": "stream",
     "text": [
      "\n",
      "\n",
      "time: 1498671258 --> sensor: <sensor6>, sensor type: MotionSensorBinary data: TRUE\n",
      "real:  [nan nan]\n",
      "simu:  [ 9.         22.05357143]\n"
     ]
    },
    {
     "data": {
      "image/png": "[encoded data removed]",
      "text/plain": [
       "<Figure size 432x288 with 1 Axes>"
      ]
     },
     "metadata": {
      "needs_background": "light"
     },
     "output_type": "display_data"
    },
    {
     "name": "stdout",
     "output_type": "stream",
     "text": [
      "\n",
      "\n",
      "time: 1498671267 --> sensor: <sensor6>, sensor type: MotionSensorBinary data: TRUE\n",
      "real:  [nan nan]\n",
      "simu:  [ 9.         22.05357143]\n"
     ]
    },
    {
     "data": {
      "image/png": "[encoded data removed]",
      "text/plain": [
       "<Figure size 432x288 with 1 Axes>"
      ]
     },
     "metadata": {
      "needs_background": "light"
     },
     "output_type": "display_data"
    },
    {
     "name": "stdout",
     "output_type": "stream",
     "text": [
      "\n",
      "\n",
      "time: 1498671276 --> sensor: <sensor6>, sensor type: MotionSensorBinary data: TRUE\n",
      "real:  [nan nan]\n",
      "simu:  [ 9.         22.05357143]\n"
     ]
    },
    {
     "data": {
      "image/png": "[encoded data removed]",
      "text/plain": [
       "<Figure size 432x288 with 1 Axes>"
      ]
     },
     "metadata": {
      "needs_background": "light"
     },
     "output_type": "display_data"
    },
    {
     "name": "stdout",
     "output_type": "stream",
     "text": [
      "\n",
      "\n",
      "time: 1498671279 --> sensor: <sensor6>, sensor type: MotionSensorBinary data: TRUE\n",
      "real:  [nan nan]\n",
      "simu:  [ 9.         22.05357143]\n"
     ]
    },
    {
     "data": {
      "image/png": "[encoded data removed]",
      "text/plain": [
       "<Figure size 432x288 with 1 Axes>"
      ]
     },
     "metadata": {
      "needs_background": "light"
     },
     "output_type": "display_data"
    },
    {
     "name": "stdout",
     "output_type": "stream",
     "text": [
      "\n",
      "\n",
      "time: 1498671284 --> sensor: <sensor6>, sensor type: MotionSensorBinary data: TRUE\n",
      "real:  [nan nan]\n",
      "simu:  [ 9.         22.05357143]\n"
     ]
    },
    {
     "data": {
      "image/png": "[encoded data removed]",
      "text/plain": [
       "<Figure size 432x288 with 1 Axes>"
      ]
     },
     "metadata": {
      "needs_background": "light"
     },
     "output_type": "display_data"
    },
    {
     "name": "stdout",
     "output_type": "stream",
     "text": [
      "\n",
      "\n",
      "time: 1498671285 --> sensor: <sensor6>, sensor type: MotionSensorBinary data: TRUE\n",
      "real:  [nan nan]\n",
      "simu:  [ 9.         22.05357143]\n"
     ]
    },
    {
     "data": {
      "image/png": "[encoded data removed]",
      "text/plain": [
       "<Figure size 432x288 with 1 Axes>"
      ]
     },
     "metadata": {
      "needs_background": "light"
     },
     "output_type": "display_data"
    },
    {
     "name": "stdout",
     "output_type": "stream",
     "text": [
      "\n",
      "\n",
      "time: 1498671291 --> sensor: <sensor6>, sensor type: MotionSensorBinary data: TRUE\n",
      "real:  [nan nan]\n",
      "simu:  [ 9.         22.05357143]\n"
     ]
    },
    {
     "data": {
      "image/png": "[encoded data removed]",
      "text/plain": [
       "<Figure size 432x288 with 1 Axes>"
      ]
     },
     "metadata": {
      "needs_background": "light"
     },
     "output_type": "display_data"
    },
    {
     "name": "stdout",
     "output_type": "stream",
     "text": [
      "\n",
      "\n",
      "time: 1498671294 --> sensor: <sensor6>, sensor type: MotionSensorBinary data: TRUE\n",
      "real:  [nan nan]\n",
      "simu:  [ 9.         22.05357143]\n"
     ]
    },
    {
     "data": {
      "image/png": "[encoded data removed]",
      "text/plain": [
       "<Figure size 432x288 with 1 Axes>"
      ]
     },
     "metadata": {
      "needs_background": "light"
     },
     "output_type": "display_data"
    },
    {
     "name": "stdout",
     "output_type": "stream",
     "text": [
      "\n",
      "\n",
      "time: 1498671297 --> sensor: <sensor6>, sensor type: MotionSensorBinary data: TRUE\n",
      "real:  [nan nan]\n",
      "simu:  [ 9.         22.05357143]\n"
     ]
    },
    {
     "data": {
      "image/png": "[encoded data removed]",
      "text/plain": [
       "<Figure size 432x288 with 1 Axes>"
      ]
     },
     "metadata": {
      "needs_background": "light"
     },
     "output_type": "display_data"
    },
    {
     "name": "stdout",
     "output_type": "stream",
     "text": [
      "\n",
      "\n",
      "time: 1498671305 --> sensor: <sensor6>, sensor type: MotionSensorBinary data: TRUE\n",
      "real:  [nan nan]\n",
      "simu:  [ 9.         22.05357143]\n"
     ]
    },
    {
     "data": {
      "image/png": "[encoded data removed]",
      "text/plain": [
       "<Figure size 432x288 with 1 Axes>"
      ]
     },
     "metadata": {
      "needs_background": "light"
     },
     "output_type": "display_data"
    },
    {
     "name": "stdout",
     "output_type": "stream",
     "text": [
      "\n",
      "\n",
      "time: 1498671306 --> sensor: <sensor6>, sensor type: MotionSensorBinary data: TRUE\n",
      "real:  [nan nan]\n",
      "simu:  [ 9.         22.05357143]\n"
     ]
    },
    {
     "data": {
      "image/png": "[encoded data removed]",
      "text/plain": [
       "<Figure size 432x288 with 1 Axes>"
      ]
     },
     "metadata": {
      "needs_background": "light"
     },
     "output_type": "display_data"
    },
    {
     "name": "stdout",
     "output_type": "stream",
     "text": [
      "\n",
      "\n",
      "time: 1498671307 --> sensor: <sensor6>, sensor type: MotionSensorBinary data: TRUE\n",
      "real:  [nan nan]\n",
      "simu:  [ 9.         22.05357143]\n"
     ]
    },
    {
     "data": {
      "image/png": "[encoded data removed]",
      "text/plain": [
       "<Figure size 432x288 with 1 Axes>"
      ]
     },
     "metadata": {
      "needs_background": "light"
     },
     "output_type": "display_data"
    },
    {
     "name": "stdout",
     "output_type": "stream",
     "text": [
      "\n",
      "\n",
      "time: 1498671309 --> sensor: <sensor6>, sensor type: MotionSensorBinary data: TRUE\n",
      "real:  [nan nan]\n",
      "simu:  [ 9.         22.05357143]\n"
     ]
    },
    {
     "data": {
      "image/png": "[encoded data removed]",
      "text/plain": [
       "<Figure size 432x288 with 1 Axes>"
      ]
     },
     "metadata": {
      "needs_background": "light"
     },
     "output_type": "display_data"
    },
    {
     "name": "stdout",
     "output_type": "stream",
     "text": [
      "\n",
      "\n",
      "time: 1498671318 --> sensor: <sensor6>, sensor type: MotionSensorBinary data: TRUE\n",
      "real:  [nan nan]\n",
      "simu:  [ 9.         22.05357143]\n"
     ]
    },
    {
     "data": {
      "image/png": "[encoded data removed]",
      "text/plain": [
       "<Figure size 432x288 with 1 Axes>"
      ]
     },
     "metadata": {
      "needs_background": "light"
     },
     "output_type": "display_data"
    },
    {
     "name": "stdout",
     "output_type": "stream",
     "text": [
      "\n",
      "\n",
      "time: 1498671321 --> sensor: <sensor6>, sensor type: MotionSensorBinary data: TRUE\n",
      "real:  [nan nan]\n",
      "simu:  [ 9.         22.05357143]\n"
     ]
    },
    {
     "data": {
      "image/png": "[encoded data removed]",
      "text/plain": [
       "<Figure size 432x288 with 1 Axes>"
      ]
     },
     "metadata": {
      "needs_background": "light"
     },
     "output_type": "display_data"
    },
    {
     "name": "stdout",
     "output_type": "stream",
     "text": [
      "\n",
      "\n",
      "time: 1498671330 --> sensor: <sensor6>, sensor type: MotionSensorBinary data: TRUE\n",
      "real:  [nan nan]\n",
      "simu:  [ 9.         22.05357143]\n"
     ]
    },
    {
     "data": {
      "image/png": "[encoded data removed]",
      "text/plain": [
       "<Figure size 432x288 with 1 Axes>"
      ]
     },
     "metadata": {
      "needs_background": "light"
     },
     "output_type": "display_data"
    },
    {
     "name": "stdout",
     "output_type": "stream",
     "text": [
      "\n",
      "\n",
      "time: 1498671331 --> sensor: <sensor6>, sensor type: MotionSensorBinary data: TRUE\n",
      "real:  [nan nan]\n",
      "simu:  [ 9.         22.05357143]\n"
     ]
    },
    {
     "data": {
      "image/png": "[encoded data removed]",
      "text/plain": [
       "<Figure size 432x288 with 1 Axes>"
      ]
     },
     "metadata": {
      "needs_background": "light"
     },
     "output_type": "display_data"
    },
    {
     "name": "stdout",
     "output_type": "stream",
     "text": [
      "\n",
      "\n",
      "time: 1498671332 --> sensor: <sensor6>, sensor type: MotionSensorBinary data: TRUE\n",
      "real:  [nan nan]\n",
      "simu:  [ 9.         22.05357143]\n",
      "real:  [nan nan]\n",
      "simu:  [ 9.         22.05357143]\n"
     ]
    },
    {
     "data": {
      "image/png": "[encoded data removed]",
      "text/plain": [
       "<Figure size 432x288 with 1 Axes>"
      ]
     },
     "metadata": {
      "needs_background": "light"
     },
     "output_type": "display_data"
    },
    {
     "name": "stdout",
     "output_type": "stream",
     "text": [
      "\n",
      "\n",
      "time: 1498671333 --> sensor: <sensor6>, sensor type: MotionSensorBinary data: TRUE\n",
      "real:  [nan nan]\n",
      "simu:  [ 9.         22.05357143]\n"
     ]
    },
    {
     "data": {
      "image/png": "[encoded data removed]",
      "text/plain": [
       "<Figure size 432x288 with 1 Axes>"
      ]
     },
     "metadata": {
      "needs_background": "light"
     },
     "output_type": "display_data"
    },
    {
     "name": "stdout",
     "output_type": "stream",
     "text": [
      "\n",
      "\n",
      "time: 1498671334 --> sensor: <sensor6>, sensor type: MotionSensorBinary data: TRUE\n"
     ]
    },
    {
     "ename": "KeyboardInterrupt",
     "evalue": "",
     "output_type": "error",
     "traceback": [
      "\u001b[1;31m---------------------------------------------------------------------------\u001b[0m",
      "\u001b[1;31mKeyboardInterrupt\u001b[0m                         Traceback (most recent call last)",
      "\u001b[1;32m<ipython-input-31-e1968dfb2f03>\u001b[0m in \u001b[0;36m<module>\u001b[1;34m\u001b[0m\n\u001b[1;32m----> 1\u001b[1;33m \u001b[0mreadFileCSV\u001b[0m\u001b[1;33m(\u001b[0m\u001b[1;33m)\u001b[0m\u001b[1;33m\u001b[0m\u001b[1;33m\u001b[0m\u001b[0m\n\u001b[0m",
      "\u001b[1;32m<ipython-input-30-299902df0aee>\u001b[0m in \u001b[0;36mreadFileCSV\u001b[1;34m()\u001b[0m\n\u001b[0;32m     88\u001b[0m                 \u001b[0mprint\u001b[0m\u001b[1;33m(\u001b[0m\u001b[0mevent\u001b[0m\u001b[1;33m)\u001b[0m\u001b[1;33m\u001b[0m\u001b[1;33m\u001b[0m\u001b[0m\n\u001b[0;32m     89\u001b[0m \u001b[1;33m\u001b[0m\u001b[0m\n\u001b[1;32m---> 90\u001b[1;33m                 \u001b[0mrun_localization\u001b[0m\u001b[1;33m(\u001b[0m\u001b[0mevent\u001b[0m\u001b[1;33m)\u001b[0m\u001b[1;33m\u001b[0m\u001b[1;33m\u001b[0m\u001b[0m\n\u001b[0m\u001b[0;32m     91\u001b[0m \u001b[1;33m\u001b[0m\u001b[0m\n\u001b[0;32m     92\u001b[0m             \u001b[0mcont\u001b[0m \u001b[1;33m=\u001b[0m \u001b[1;36m0\u001b[0m\u001b[1;33m\u001b[0m\u001b[1;33m\u001b[0m\u001b[0m\n",
      "\u001b[1;32m<ipython-input-1-29dd6f4c54cf>\u001b[0m in \u001b[0;36mrun_localization\u001b[1;34m(event)\u001b[0m\n\u001b[0;32m     50\u001b[0m     \u001b[1;32mglobal\u001b[0m \u001b[0mgrid_map\u001b[0m\u001b[1;33m\u001b[0m\u001b[1;33m\u001b[0m\u001b[0m\n\u001b[0;32m     51\u001b[0m     \u001b[1;31m# print(\"run_localization\")\u001b[0m\u001b[1;33m\u001b[0m\u001b[1;33m\u001b[0m\u001b[1;33m\u001b[0m\u001b[0m\n\u001b[1;32m---> 52\u001b[1;33m     \u001b[0mLocalizer\u001b[0m\u001b[1;33m(\u001b[0m\u001b[0mpythonTimer\u001b[0m\u001b[1;33m.\u001b[0m\u001b[0mtime\u001b[0m\u001b[1;33m(\u001b[0m\u001b[1;33m)\u001b[0m\u001b[1;33m)\u001b[0m\u001b[1;33m.\u001b[0m\u001b[0mrun\u001b[0m\u001b[1;33m(\u001b[0m\u001b[0mevent\u001b[0m\u001b[1;33m)\u001b[0m\u001b[1;33m\u001b[0m\u001b[1;33m\u001b[0m\u001b[0m\n\u001b[0m",
      "\u001b[1;32m<ipython-input-10-e7310219450d>\u001b[0m in \u001b[0;36mrun\u001b[1;34m(self, event)\u001b[0m\n\u001b[0;32m     23\u001b[0m                 \u001b[0mtimestamp\u001b[0m \u001b[1;33m=\u001b[0m \u001b[0mLocalizer\u001b[0m\u001b[1;33m.\u001b[0m\u001b[0mto_be_localized_queue\u001b[0m\u001b[1;33m[\u001b[0m\u001b[1;36m0\u001b[0m\u001b[1;33m]\u001b[0m\u001b[1;33m\u001b[0m\u001b[1;33m\u001b[0m\u001b[0m\n\u001b[0;32m     24\u001b[0m                 \u001b[0mLocalizer\u001b[0m\u001b[1;33m.\u001b[0m\u001b[0mto_be_localized_queue\u001b[0m \u001b[1;33m=\u001b[0m \u001b[0mLocalizer\u001b[0m\u001b[1;33m.\u001b[0m\u001b[0mto_be_localized_queue\u001b[0m\u001b[1;33m[\u001b[0m\u001b[1;36m1\u001b[0m\u001b[1;33m:\u001b[0m\u001b[1;33m]\u001b[0m\u001b[1;33m\u001b[0m\u001b[1;33m\u001b[0m\u001b[0m\n\u001b[1;32m---> 25\u001b[1;33m                 \u001b[0mself\u001b[0m\u001b[1;33m.\u001b[0m\u001b[0mlocalize\u001b[0m\u001b[1;33m(\u001b[0m\u001b[0mtimestamp\u001b[0m\u001b[1;33m,\u001b[0m \u001b[0mevent\u001b[0m\u001b[1;33m)\u001b[0m\u001b[1;33m\u001b[0m\u001b[1;33m\u001b[0m\u001b[0m\n\u001b[0m\u001b[0;32m     26\u001b[0m \u001b[1;33m\u001b[0m\u001b[0m\n\u001b[0;32m     27\u001b[0m     \u001b[1;32mdef\u001b[0m \u001b[0mlocalizer_confidence\u001b[0m\u001b[1;33m(\u001b[0m\u001b[0mself\u001b[0m\u001b[1;33m)\u001b[0m\u001b[1;33m:\u001b[0m\u001b[1;33m\u001b[0m\u001b[1;33m\u001b[0m\u001b[0m\n",
      "\u001b[1;32m<ipython-input-10-e7310219450d>\u001b[0m in \u001b[0;36mlocalize\u001b[1;34m(self, time, event)\u001b[0m\n\u001b[0;32m     89\u001b[0m \u001b[1;33m\u001b[0m\u001b[0m\n\u001b[0;32m     90\u001b[0m         \u001b[1;31m#finds the inferred an real locations, and what sensors were fired\u001b[0m\u001b[1;33m\u001b[0m\u001b[1;33m\u001b[0m\u001b[1;33m\u001b[0m\u001b[0m\n\u001b[1;32m---> 91\u001b[1;33m         \u001b[0minferred_location\u001b[0m\u001b[1;33m,\u001b[0m \u001b[0mreal_location\u001b[0m\u001b[1;33m,\u001b[0m \u001b[0mfired_sensors2\u001b[0m \u001b[1;33m=\u001b[0m \u001b[0mself\u001b[0m\u001b[1;33m.\u001b[0m\u001b[0mgetLocations\u001b[0m\u001b[1;33m(\u001b[0m\u001b[0mevent\u001b[0m\u001b[1;33m.\u001b[0m\u001b[0mtimestamp\u001b[0m\u001b[1;33m,\u001b[0m \u001b[0mevent\u001b[0m\u001b[1;33m)\u001b[0m\u001b[1;33m\u001b[0m\u001b[1;33m\u001b[0m\u001b[0m\n\u001b[0m\u001b[0;32m     92\u001b[0m         \u001b[0mk\u001b[0m \u001b[1;33m=\u001b[0m \u001b[1;36m0\u001b[0m\u001b[1;33m\u001b[0m\u001b[1;33m\u001b[0m\u001b[0m\n\u001b[0;32m     93\u001b[0m \u001b[1;33m\u001b[0m\u001b[0m\n",
      "\u001b[1;32m<ipython-input-10-e7310219450d>\u001b[0m in \u001b[0;36mgetLocations\u001b[1;34m(self, time, event)\u001b[0m\n\u001b[0;32m     67\u001b[0m                     \u001b[0mcirc\u001b[0m \u001b[1;33m=\u001b[0m \u001b[0mCircle\u001b[0m\u001b[1;33m(\u001b[0m\u001b[1;33m(\u001b[0m\u001b[0mint\u001b[0m\u001b[1;33m(\u001b[0m\u001b[0mint\u001b[0m\u001b[1;33m(\u001b[0m\u001b[0mx\u001b[0m\u001b[1;33m)\u001b[0m\u001b[1;33m)\u001b[0m\u001b[1;33m,\u001b[0m \u001b[0mint\u001b[0m\u001b[1;33m(\u001b[0m\u001b[0mint\u001b[0m\u001b[1;33m(\u001b[0m\u001b[0my\u001b[0m\u001b[1;33m)\u001b[0m\u001b[1;33m)\u001b[0m\u001b[1;33m)\u001b[0m\u001b[1;33m,\u001b[0m \u001b[0mint\u001b[0m\u001b[1;33m(\u001b[0m\u001b[0mint\u001b[0m\u001b[1;33m(\u001b[0m\u001b[0mr\u001b[0m\u001b[1;33m)\u001b[0m\u001b[1;33m)\u001b[0m\u001b[1;33m)\u001b[0m\u001b[1;33m\u001b[0m\u001b[1;33m\u001b[0m\u001b[0m\n\u001b[0;32m     68\u001b[0m \u001b[1;33m\u001b[0m\u001b[0m\n\u001b[1;32m---> 69\u001b[1;33m                     \u001b[1;32mif\u001b[0m \u001b[1;33m(\u001b[0m\u001b[0mcirc\u001b[0m\u001b[1;33m.\u001b[0m\u001b[0mcontains_point\u001b[0m\u001b[1;33m(\u001b[0m\u001b[1;33m[\u001b[0m\u001b[0mi\u001b[0m\u001b[1;33m,\u001b[0m \u001b[0mj\u001b[0m\u001b[1;33m]\u001b[0m\u001b[1;33m)\u001b[0m\u001b[1;33m)\u001b[0m\u001b[1;33m:\u001b[0m\u001b[1;33m\u001b[0m\u001b[1;33m\u001b[0m\u001b[0m\n\u001b[0m\u001b[0;32m     70\u001b[0m                         \u001b[0mgrid2\u001b[0m\u001b[1;33m[\u001b[0m\u001b[0mi\u001b[0m\u001b[1;33m]\u001b[0m\u001b[1;33m[\u001b[0m\u001b[0mj\u001b[0m\u001b[1;33m]\u001b[0m \u001b[1;33m+=\u001b[0m \u001b[1;36m1\u001b[0m\u001b[1;33m\u001b[0m\u001b[1;33m\u001b[0m\u001b[0m\n\u001b[0;32m     71\u001b[0m \u001b[1;33m\u001b[0m\u001b[0m\n",
      "\u001b[1;32m~\\Anaconda3\\lib\\site-packages\\matplotlib\\patches.py\u001b[0m in \u001b[0;36mcontains_point\u001b[1;34m(self, point, radius)\u001b[0m\n\u001b[0;32m    144\u001b[0m         return self.get_path().contains_point(point,\n\u001b[0;32m    145\u001b[0m                                               \u001b[0mself\u001b[0m\u001b[1;33m.\u001b[0m\u001b[0mget_transform\u001b[0m\u001b[1;33m(\u001b[0m\u001b[1;33m)\u001b[0m\u001b[1;33m,\u001b[0m\u001b[1;33m\u001b[0m\u001b[1;33m\u001b[0m\u001b[0m\n\u001b[1;32m--> 146\u001b[1;33m                                               radius)\n\u001b[0m\u001b[0;32m    147\u001b[0m \u001b[1;33m\u001b[0m\u001b[0m\n\u001b[0;32m    148\u001b[0m     \u001b[1;32mdef\u001b[0m \u001b[0mcontains_points\u001b[0m\u001b[1;33m(\u001b[0m\u001b[0mself\u001b[0m\u001b[1;33m,\u001b[0m \u001b[0mpoints\u001b[0m\u001b[1;33m,\u001b[0m \u001b[0mradius\u001b[0m\u001b[1;33m=\u001b[0m\u001b[1;32mNone\u001b[0m\u001b[1;33m)\u001b[0m\u001b[1;33m:\u001b[0m\u001b[1;33m\u001b[0m\u001b[1;33m\u001b[0m\u001b[0m\n",
      "\u001b[1;32m~\\Anaconda3\\lib\\site-packages\\matplotlib\\path.py\u001b[0m in \u001b[0;36mcontains_point\u001b[1;34m(self, point, transform, radius)\u001b[0m\n\u001b[0;32m    486\u001b[0m             \u001b[0mself\u001b[0m \u001b[1;33m=\u001b[0m \u001b[0mtransform\u001b[0m\u001b[1;33m.\u001b[0m\u001b[0mtransform_path\u001b[0m\u001b[1;33m(\u001b[0m\u001b[0mself\u001b[0m\u001b[1;33m)\u001b[0m\u001b[1;33m\u001b[0m\u001b[1;33m\u001b[0m\u001b[0m\n\u001b[0;32m    487\u001b[0m             \u001b[0mtransform\u001b[0m \u001b[1;33m=\u001b[0m \u001b[1;32mNone\u001b[0m\u001b[1;33m\u001b[0m\u001b[1;33m\u001b[0m\u001b[0m\n\u001b[1;32m--> 488\u001b[1;33m         \u001b[1;32mreturn\u001b[0m \u001b[0m_path\u001b[0m\u001b[1;33m.\u001b[0m\u001b[0mpoint_in_path\u001b[0m\u001b[1;33m(\u001b[0m\u001b[0mpoint\u001b[0m\u001b[1;33m[\u001b[0m\u001b[1;36m0\u001b[0m\u001b[1;33m]\u001b[0m\u001b[1;33m,\u001b[0m \u001b[0mpoint\u001b[0m\u001b[1;33m[\u001b[0m\u001b[1;36m1\u001b[0m\u001b[1;33m]\u001b[0m\u001b[1;33m,\u001b[0m \u001b[0mradius\u001b[0m\u001b[1;33m,\u001b[0m \u001b[0mself\u001b[0m\u001b[1;33m,\u001b[0m \u001b[0mtransform\u001b[0m\u001b[1;33m)\u001b[0m\u001b[1;33m\u001b[0m\u001b[1;33m\u001b[0m\u001b[0m\n\u001b[0m\u001b[0;32m    489\u001b[0m \u001b[1;33m\u001b[0m\u001b[0m\n\u001b[0;32m    490\u001b[0m     \u001b[1;32mdef\u001b[0m \u001b[0mcontains_points\u001b[0m\u001b[1;33m(\u001b[0m\u001b[0mself\u001b[0m\u001b[1;33m,\u001b[0m \u001b[0mpoints\u001b[0m\u001b[1;33m,\u001b[0m \u001b[0mtransform\u001b[0m\u001b[1;33m=\u001b[0m\u001b[1;32mNone\u001b[0m\u001b[1;33m,\u001b[0m \u001b[0mradius\u001b[0m\u001b[1;33m=\u001b[0m\u001b[1;36m0.0\u001b[0m\u001b[1;33m)\u001b[0m\u001b[1;33m:\u001b[0m\u001b[1;33m\u001b[0m\u001b[1;33m\u001b[0m\u001b[0m\n",
      "\u001b[1;32m~\\Anaconda3\\lib\\site-packages\\matplotlib\\transforms.py\u001b[0m in \u001b[0;36m__array__\u001b[1;34m(self, *args, **kwargs)\u001b[0m\n\u001b[0;32m   1727\u001b[0m         \u001b[0mself\u001b[0m\u001b[1;33m.\u001b[0m\u001b[0m_inverted\u001b[0m \u001b[1;33m=\u001b[0m \u001b[1;32mNone\u001b[0m\u001b[1;33m\u001b[0m\u001b[1;33m\u001b[0m\u001b[0m\n\u001b[0;32m   1728\u001b[0m \u001b[1;33m\u001b[0m\u001b[0m\n\u001b[1;32m-> 1729\u001b[1;33m     \u001b[1;32mdef\u001b[0m \u001b[0m__array__\u001b[0m\u001b[1;33m(\u001b[0m\u001b[0mself\u001b[0m\u001b[1;33m,\u001b[0m \u001b[1;33m*\u001b[0m\u001b[0margs\u001b[0m\u001b[1;33m,\u001b[0m \u001b[1;33m**\u001b[0m\u001b[0mkwargs\u001b[0m\u001b[1;33m)\u001b[0m\u001b[1;33m:\u001b[0m\u001b[1;33m\u001b[0m\u001b[1;33m\u001b[0m\u001b[0m\n\u001b[0m\u001b[0;32m   1730\u001b[0m         \u001b[1;31m# optimises the access of the transform matrix vs the superclass\u001b[0m\u001b[1;33m\u001b[0m\u001b[1;33m\u001b[0m\u001b[1;33m\u001b[0m\u001b[0m\n\u001b[0;32m   1731\u001b[0m         \u001b[1;32mreturn\u001b[0m \u001b[0mself\u001b[0m\u001b[1;33m.\u001b[0m\u001b[0mget_matrix\u001b[0m\u001b[1;33m(\u001b[0m\u001b[1;33m)\u001b[0m\u001b[1;33m\u001b[0m\u001b[1;33m\u001b[0m\u001b[0m\n",
      "\u001b[1;31mKeyboardInterrupt\u001b[0m: "
     ]
    }
   ],
   "source": [
    "readFileCSV()"
   ]
  },
  {
   "cell_type": "code",
   "execution_count": null,
   "metadata": {
    "scrolled": true
   },
   "outputs": [],
   "source": [
    "print(\"please start simulation in casi now.\")"
   ]
  },
  {
   "cell_type": "raw",
   "metadata": {},
   "source": [
    "################################################\n",
    "#### AFTER SIMULATION SECTION: STORING DATA ####\n",
    "################################################\n",
    "\n",
    "# Run This after simulation has ended...\n",
    "\n",
    "import csv\n",
    "\n",
    "data = []\n",
    "with open(groundtruth, 'r') as user_data:\n",
    "    reader = csv.reader(user_data, delimiter=',', quotechar=',')\n",
    "    for row in reader:\n",
    "        if (reader.line_num != 1):\n",
    "            row[0] = float(row[0])\n",
    "            row[2] = float(row[2])\n",
    "            row[3] = float(row[3])\n",
    "            \n",
    "            data.append(row)\n",
    "        \n",
    "import pickle\n",
    "\n",
    "f = open('Data_22' + simworldname + '.pckl', 'wb')\n",
    "pickle.dump((data, oracle, analyzer), f)\n",
    "f.close()"
   ]
  },
  {
   "cell_type": "raw",
   "metadata": {},
   "source": [
    "# Data from CASI\n",
    "\n",
    "port = 1883\n",
    "host = \"192.168.211.132\"\n",
    "keepalive = 60\n",
    "broker_topic = \"#\"  #All topics have to be read\n",
    "import time\n",
    "\n",
    "client = mqtt.Client()\n",
    "client.on_connect = on_connect\n",
    "client.on_message = on_message\n",
    "client.on_publish = on_publish\n",
    "client.on_subscribed = on_subscribed\n",
    "\n",
    "client.connect(host, port, 60)\n",
    "client.subscribe(broker_topic, 0)\n",
    "\n",
    "client.loop_start()\n",
    "time.sleep(5)"
   ]
  },
  {
   "cell_type": "code",
   "execution_count": null,
   "metadata": {},
   "outputs": [],
   "source": [
    "aa = [[0.8, 0], [0, 0]]\n",
    "print(aa)\n",
    "# print(*np.where(aa == np.max(aa)))\n",
    "print(list(zip(*np.where(aa == np.max(aa)))))\n",
    "np.mean(list(zip(*np.where(aa == np.max(aa)))), axis = 0)"
   ]
  },
  {
   "cell_type": "code",
   "execution_count": null,
   "metadata": {},
   "outputs": [],
   "source": []
  }
 ],
 "metadata": {
  "kernelspec": {
   "display_name": "Python 3",
   "language": "python",
   "name": "python3"
  },
  "language_info": {
   "codemirror_mode": {
    "name": "ipython",
    "version": 3
   },
   "file_extension": ".py",
   "mimetype": "text/x-python",
   "name": "python",
   "nbconvert_exporter": "python",
   "pygments_lexer": "ipython3",
   "version": "3.7.1"
  }
 },
 "nbformat": 4,
 "nbformat_minor": 2
}

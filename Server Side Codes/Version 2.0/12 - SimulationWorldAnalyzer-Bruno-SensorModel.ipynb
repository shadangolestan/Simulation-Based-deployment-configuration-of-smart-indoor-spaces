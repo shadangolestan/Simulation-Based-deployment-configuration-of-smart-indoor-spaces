{
 "cells": [
  {
   "cell_type": "code",
   "execution_count": 83,
   "metadata": {},
   "outputs": [],
   "source": [
    "import paho.mqtt.client as mqtt\n",
    "import threading\n",
    "import os\n",
    "import re\n",
    "# import motionlocalizer.settings\n",
    "import json\n",
    "# import requests\n",
    "from shapely.geometry import Polygon\n",
    "from shapely.ops import cascaded_union\n",
    "import xml.etree.ElementTree\n",
    "import pprint\n",
    "import numpy as np\n",
    "import matplotlib.pyplot as plt\n",
    "# import matplotlib.pylab as plt\n",
    "import matplotlib\n",
    "from matplotlib.patches import Circle\n",
    "import time as pythonTimer\n",
    "import random\n",
    "from random import randint\n",
    "import scipy.stats as stats\n",
    "from scipy.stats import multivariate_normal\n",
    "import csv\n",
    "import datetime\n",
    "import pandas as pd\n",
    "import datetime\n",
    "import pandas as pd\n",
    "import numpy as np\n",
    "\n",
    "def RestartVariables():\n",
    "    global simworldname\n",
    "    global groundtruth\n",
    "    global motion_readings\n",
    "    global my_map\n",
    "    global grid_map\n",
    "    global distances\n",
    "    global oracle\n",
    "    global analyzer\n",
    "    global dataset_times\n",
    "    global dataset_readings\n",
    "    global dataset\n",
    "    global motions_order\n",
    "    global motion_sensors\n",
    "    global motions_sensor_data\n",
    "    global simulated_sensor_readings\n",
    "    global sensors_list\n",
    "    global sr_matrix\n",
    "    global indices_to_keep\n",
    "    global gtx\n",
    "    global gty\n",
    "    global rsr\n",
    "    global df_\n",
    "    global gtt\n",
    "    global human_readable_sensor_array\n",
    "    global sensed_areas\n",
    "    \n",
    "    sensed_areas = {}\n",
    "    human_readable_sensor_array = []\n",
    "    gtt = []\n",
    "    gtx = []\n",
    "    gty = []\n",
    "    rsr = []\n",
    "    indices_to_keep = [0, 1, 2, 3, 4, 5, 11, 15, 16, 17, 18, 19, 20, 21]\n",
    "    simworldname = 'simulationWorld2.xml' #ENVIROMENT\n",
    "    groundtruth = '28jun2.csv' #AGENT'S MOVEMENTS\n",
    "    motion_readings = '28Jun2_motion_events.txt'\n",
    "    # groundtruth = 'AgentDetailedTasksFile.csv' #AGENT'S MOVEMENTS\n",
    "\n",
    "    my_map = [(0.0, 0.0), (0.0, 10.6), (6.6, 10.6), (6.6, 0.0)]\n",
    "    grid_map = np.zeros((int(my_map[2][0]) * 10, int(my_map[2][1]) * 10))\n",
    "    distances = []\n",
    "\n",
    "    oracle = {}\n",
    "    oracle['time'] = []\n",
    "    oracle['location'] = []\n",
    "\n",
    "    analyzer = {}\n",
    "    analyzer['time'] = []\n",
    "    analyzer['gridmap'] = []\n",
    "    dataset_times = []\n",
    "    dataset_readings = []\n",
    "    dataset = ['time', 'gt(x)', 'gt(y)', 'motion_readings']\n",
    "    \n",
    "    motions_order = [1, 10, 11, 12, 13, 14, 15, 16, 17, 18, 19, 2, 20, 21, 22, 3, 4, 5, 6, 7, 8, 9]\n",
    "    motion_sensors = [1, 10, 11, 12, 13, 14, 2, 3, 4, 5, 6, 7, 8, 9]\n",
    "    motions_sensor_data = {}\n",
    "    simulated_sensor_readings = []\n",
    "    sensors_list = []\n",
    "    sr_matrix = np.zeros([1, 14])\n",
    "    \n",
    "    # sensor_readings = open(motion_readings, \"r\")\n",
    "    sensor_readings = open(motion_readings, \"r\").readlines()\n",
    "\n",
    "#----- Extracting sensors reading from the groundtruth dataset    \n",
    "    for i in range(0,len(sensor_readings)):\n",
    "        time = sensor_readings[i].split(';')[0]\n",
    "        sensor_array = sensor_readings[i].split(';')[1]\n",
    "        dataset_times.append(int(time))\n",
    "        dataset_readings.append(sensor_array)\n",
    "        \n",
    "#----- Convert sensor readings to human readable format\n",
    "    human_readable_sensor_array = SensorReadingInterpretation(dataset_readings)\n",
    "\n",
    "#----- Aligning sensor readings with agent's trace\n",
    "    temp_gtx = []\n",
    "    temp_gty = []\n",
    "    temp_gtt = []\n",
    "    counter = 0\n",
    "    with open(groundtruth, 'r') as user_data:\n",
    "        reader = csv.reader(user_data, delimiter=',', quotechar=',')\n",
    "        line = 0\n",
    "        for row in reader:\n",
    "            new_row = []\n",
    "            if (reader.line_num != 1):\n",
    "                \n",
    "                if (float(row[4]) > 6.6):\n",
    "                    temp_gtx.append(0.1)\n",
    "                else:\n",
    "                    temp_gtx.append(6.6 - float(row[4]))\n",
    "                   \n",
    "                temp_gty.append(float(row[5]))\n",
    "                temp_gtt.append(int(row[0]))\n",
    "                \n",
    "            counter += 1\n",
    "\n",
    "    gtt.append(temp_gtt[0])\n",
    "    gtx.append(temp_gtx[0])\n",
    "    gty.append(temp_gty[0])\n",
    "\n",
    "    for i in range(1, len(temp_gtt)):\n",
    "        if (temp_gtt[i] - temp_gtt[i - 1] <= 3):\n",
    "            gtt.append(temp_gtt[i])\n",
    "            gtx.append(temp_gtx[i])\n",
    "            gty.append(temp_gty[i])\n",
    "            \n",
    "        else:\n",
    "            intervals = int((temp_gtt[i] - temp_gtt[i - 1])/2)\n",
    "\n",
    "            ts = np.linspace(temp_gtt[i - 1], temp_gtt[i], num=intervals, endpoint=True)\n",
    "            xs = np.linspace(temp_gtx[i - 1], temp_gtx[i], num=intervals, endpoint=True)\n",
    "            ys = np.linspace(temp_gty[i - 1], temp_gty[i], num=intervals, endpoint=True)\n",
    "\n",
    "            for intdata in range(0, len(ts)):\n",
    "                gtx.append(xs[intdata])\n",
    "                gty.append(ys[intdata])\n",
    "                gtt.append(ts[intdata])\n",
    "\n",
    "    for i in range(0, len(gtt)):\n",
    "        ind = find_nearest(dataset_times[1:], int(gtt[i]))\n",
    "        rsr.append(human_readable_sensor_array[ind])            \n",
    "    \n",
    "    columns = ['time', 'gtx', 'gty', 'gt_motion_readings', 'synthetic_motion_readings']\n",
    "    index = range(0, len(gtx))\n",
    "\n",
    "    df_ = pd.DataFrame(index=index, columns=columns)\n",
    "\n",
    "    df_.time = gtt[0: len(gtx)]\n",
    "    df_.gtx = gtx[: len(gtx)]\n",
    "    df_.gty = gty[: len(gtx)]\n",
    "    df_.gt_motion_readings = rsr[: len(rsr)]\n",
    "                \n",
    "def SensorReadingInterpretation(dataset_readings):\n",
    "    templist = [[0] * 14]\n",
    "    for i in range(0, len(dataset_readings)):\n",
    "        numlist = [int(s) for s in dataset_readings[i] if s.isdigit()]\n",
    "        numlist = [numlist[j] for j in range(0, len(numlist)) if j in indices_to_keep]\n",
    "        templist.append(numlist)\n",
    "        \n",
    "    templist_modified = [[0] * 14]\n",
    "    for row in range(1, len(templist)):\n",
    "        history = templist_modified[row - 1]\n",
    "        row_modified = [0] * 14\n",
    "        for i in range(len(history)):    \n",
    "            if (templist[row][i] == 0 and history[i] == 1):\n",
    "                row_modified[i] = 1\n",
    "   \n",
    "            elif (templist[row][i] == 0 and history[i] == 0):\n",
    "                row_modified[i] = 0\n",
    "\n",
    "            elif (templist[row][i] == 1 and history[i] == 1):\n",
    "                row_modified[i] = 0\n",
    "\n",
    "            elif (templist[row][i] == 1 and history[i] == 0):\n",
    "                row_modified[i] = 1\n",
    "\n",
    "        templist_modified.append(row_modified)\n",
    "\n",
    "    del templist_modified[0]\n",
    "    return templist\n",
    "    \n",
    "def start_localizing(event):\n",
    "    global analyzer\n",
    "    global oracle\n",
    "    global grid_map\n",
    "    run_localization(event)\n",
    "\n",
    "def run_localization(event):\n",
    "    global analyzer\n",
    "    global oracle\n",
    "    global grid_map\n",
    "    # print(\"run_localization\")\n",
    "    Localizer(pythonTimer.time()).run(event)"
   ]
  },
  {
   "cell_type": "code",
   "execution_count": 84,
   "metadata": {},
   "outputs": [],
   "source": [
    "def find_nearest(array, value):\n",
    "    array = np.asarray(array)\n",
    "    idx = (np.abs(array - value)).argmin()\n",
    "    # print(value - array[idx])\n",
    "    return idx\n",
    "\n",
    "RestartVariables()"
   ]
  },
  {
   "cell_type": "code",
   "execution_count": 85,
   "metadata": {},
   "outputs": [],
   "source": [
    "##################################\n",
    "####       Sensor Class       ####\n",
    "##################################\n",
    "\n",
    "class Sensor:\n",
    "    sensor_type = \"\"\n",
    "    sensor_id = \"\"\n",
    "    x = float()\n",
    "    y = float()\n",
    "    z = float()\n",
    "    r = float()\n",
    "\n",
    "    def __str__(self):\n",
    "        return 'type: %s,\\n id: %s,\\n x: %s,\\n y: %s\\n'%(self.sensor_type, self.sensor_id, self.x, self.y)\n",
    "\n",
    "    def Initialize(self, element):\n",
    "        self.x = str(660 - int(str(element.find('point').find('xcoord').text)))\n",
    "        self.y = (str(element.find('point').find('ycoord').text))\n",
    "        self.sensor_id = (str(element.find('id').text)).replace('sensor','')\n",
    "        self.sensor_type = (str(element.find('type').text))     \n",
    "            \n",
    "        return 0\n",
    "    \n",
    "    def GaussianFiredSensor(self, simulated_localization, real_localization):\n",
    "        import math\n",
    "\n",
    "        sensor_location = [float(self.x)/10, float(self.y)/10]\n",
    "        cov = [[self.sensing_area, 0],[0, self.sensing_area]]        \n",
    "        prob = multivariate_normal(simulated_localization, cov)\n",
    "        probCdf = prob.cdf(sensor_location)\n",
    "        \n",
    "        # print(\"real: \", real_localization)\n",
    "        # print(\"simu: \", simulated_localization)\n",
    "              \n",
    "        return probCdf\n",
    "    \n",
    "class MotionSensorBinary(Sensor):\n",
    "    def __init__(self, element, radius):\n",
    "        Sensor.Initialize(self, element)\n",
    "        # self.sensing_area = (str(element.find('radius').text))\n",
    "        self.sensing_area = (str(radius))\n",
    "\n",
    "class RFID_Reader(Sensor):\n",
    "    def __init__(self, element):\n",
    "        Sensor.Initialize(self, element)\n",
    "        self.sensing_area = (str(element.find('arcSize').text))\n",
    "\n",
    "class MotionSensorAnalog(Sensor):\n",
    "    def __init__(self, element):\n",
    "        Sensor.Initialize(self, element)\n",
    "        self.sensing_area = (str(element.find('radius').text))\n",
    "        \n",
    "class PressureSensorAnalog(Sensor):\n",
    "    def __init__(self, element):\n",
    "        Sensor.Initialize(self, element)\n",
    "        self.sensing_area = (str(element.find('radius').text))\n",
    "        self.object = str(element.find('object').text)\n",
    "        \n",
    "class BeaconSensor(Sensor):\n",
    "    def __init__(self, element):\n",
    "        Sensor.Initialize(self, element)\n",
    "        self.sensing_area = (str(element.find('radius').text))\n",
    "        self.measuredPower = -69\n",
    "        self.RSSI = self.sensing_area\n",
    "        self.N = 2 #Constant related with the air\n",
    "        self.object = str(element.find('object').text)\n",
    "        self.accelerometer = str(element.find('accelerometer').text)\n",
    "        \n",
    "    # https://iotandelectronics.wordpress.com/2016/10/07/how-to-calculate-distance-from-the-rssi-value-of-the-ble-beacon/\n",
    "    def rssiToMeters(self):\n",
    "        u = (float(self.measuredPower) - float(self.RSSI))/(10 * float(self.N))\n",
    "        dist = 10 ** u\n",
    "        \n",
    "        return dist    "
   ]
  },
  {
   "cell_type": "code",
   "execution_count": 86,
   "metadata": {},
   "outputs": [],
   "source": [
    "#Event Class\n",
    "class Event:\n",
    "    source = \"\"\n",
    "    timestamp = float()\n",
    "    RSSI = 0\n",
    "    objectAtt = \"\"\n",
    "    accelerometer = False\n",
    "    sensor = Sensor.sensor_id\n",
    "    sensorType = Sensor.sensor_type\n",
    "    data = int()\n",
    "    hash = \"\"\n",
    "\n",
    "    def __str__(self):\n",
    "        return 'time: %s --> sensor: <%s>, sensor type: %s data: %s' % (\n",
    "        str(self.timestamp), str(self.sensor), str(self.sensorType), str(self.data))\n",
    "    \n",
    "class GridMap:\n",
    "    map = \"\""
   ]
  },
  {
   "cell_type": "code",
   "execution_count": 87,
   "metadata": {},
   "outputs": [],
   "source": [
    "#Debug function, not working - just forget about it\n",
    "def checkTypeSensor(sensor):\n",
    "    if(sensor.sensor_type == 'RFID_Reader'):\n",
    "        this_sensor = RFID_Reader(sensor) \n",
    "        return this_sensor\n",
    "\n",
    "    if(sensor.sensor_type == 'MotionSensorBinary'):\n",
    "        this_sensor = MotionSensorBinary(sensor)\n",
    "        #this_sensor = sensor\n",
    "        return this_sensor\n",
    "\n",
    "    if(sensor.sensor_type == 'MotionSensorAnalog'):\n",
    "        this_sensor = MotionSensorAnalog(sensor)\n",
    "        return this_sensor\n",
    "\n",
    "    if(sensor.sensor_type == 'PressureSensorAnalog'):\n",
    "        this_sensor = PressureSensorAnalog(sensor)\n",
    "        return this_sensor\n",
    "    \n",
    "    return \"none\""
   ]
  },
  {
   "cell_type": "code",
   "execution_count": 88,
   "metadata": {},
   "outputs": [],
   "source": [
    "############################################\n",
    "####       PARSE SIMULATION WORLD       ####\n",
    "############################################\n",
    "\n",
    "def ParseSimulationWorld(radius):\n",
    "    root = xml.etree.ElementTree.parse(simworldname).getroot()\n",
    "\n",
    "    grid2 = np.zeros((int(my_map[2][0]) * 1, int(my_map[2][1]) * 1))\n",
    "    grid2 = np.copy(grid_map)\n",
    "\n",
    "    for element in root:\n",
    "        if(element.tag == 'sensors'):\n",
    "            for sensor in element:\n",
    "                #Choose the kind of sensor we have\n",
    "                if(str(sensor.find('type').text) == 'RFID_Reader'):\n",
    "                    # this_sensor = RFID_Reader(sensor)\n",
    "                    continue\n",
    "\n",
    "                if(str(sensor.find('type').text) == 'MotionSensorBinary'):\n",
    "                    this_sensor = MotionSensorBinary(sensor, radius)\n",
    "\n",
    "                if(str(sensor.find('type').text) == 'MotionSensorAnalog'):\n",
    "                    this_sensor = MotionSensorAnalog(sensor)\n",
    "\n",
    "                if(str(sensor.find('type').text) == 'PressureSensorAnalog'):\n",
    "                    # this_sensor = PressureSensorAnalog(sensor)\n",
    "                    continue\n",
    "\n",
    "                if(str(sensor.find('type').text) == 'BeaconSensor'):\n",
    "                    #this_sensor = BeaconSensor(sensor)\n",
    "                    continue\n",
    "\n",
    "                sensors_list.append(this_sensor)\n",
    "                print(this_sensor.sensor_type + \" \" + this_sensor.x + \" \" + this_sensor.y + \" \" + this_sensor.sensor_id)"
   ]
  },
  {
   "cell_type": "code",
   "execution_count": 89,
   "metadata": {},
   "outputs": [],
   "source": [
    "############################################\n",
    "####         LOCALIZATION CLASS         ####\n",
    "############################################\n",
    "class Localizer(threading.Thread):\n",
    "    to_be_localized_queue = []\n",
    "    localizer_lock = threading.Lock()\n",
    "    this_grid_map = []\n",
    "    \n",
    "    \n",
    "    def __init__(self, time):\n",
    "        self.time = time\n",
    "\n",
    "    def run(self, event):\n",
    "        global grid_map\n",
    "        global analyzer\n",
    "        global oracle\n",
    "        global distances\n",
    "        # print(\"Run\")\n",
    "        Localizer.to_be_localized_queue.append(self.time)\n",
    "        with Localizer.localizer_lock:\n",
    "            while len(Localizer.to_be_localized_queue) > 0:\n",
    "                timestamp = Localizer.to_be_localized_queue[0]\n",
    "                Localizer.to_be_localized_queue = Localizer.to_be_localized_queue[1:]\n",
    "                self.localize(timestamp, event)\n",
    "    \n",
    "    def localizer_confidence(self):\n",
    "        return 0.9\n",
    "\n",
    "    def get_event_period(self):\n",
    "        return 1.0\n",
    "\n",
    "    def getLocations(self, time, event):\n",
    "        global grid_map\n",
    "        global analyzer\n",
    "        global oracle\n",
    "        global distances\n",
    "\n",
    "        fired_sensors = []\n",
    "        fired_sensors = self.FindFiredSensor(event, grid_map, event.timestamp)\n",
    "\n",
    "        if len(fired_sensors) == 0:\n",
    "            return\n",
    "        \n",
    "        counter = 0\n",
    "        try:\n",
    "            m1 = np.min(grid2[np.nonzero(grid2)])\n",
    "            M1 = np.max(grid2[np.nonzero(grid2)])\n",
    "            \n",
    "        except:\n",
    "            print(\"start!\")\n",
    "        \n",
    "        for i in range(len(grid2[:,1])):\n",
    "            for j in range(len(grid2[1,:])):\n",
    "                for sensor in fired_sensors:\n",
    "                                 \n",
    "                    #my_sensor = checkTypeSensor(sensor)\n",
    "                    my_sensor = sensor\n",
    "                    r = float(my_sensor.sensing_area)/10\n",
    "                    x = float(my_sensor.x)/10\n",
    "                    y = float(my_sensor.y)/10\n",
    "                    \n",
    "                    circ = Circle((int(int(x)), int(int(y))), int(int(r)))\n",
    "                    \n",
    "                    if (circ.contains_point([i, j])):\n",
    "                        grid2[i][j] += 1\n",
    "        \n",
    "        sumofpoints = sum(sum(grid2))/4\n",
    "        \n",
    "        if (sumofpoints == 0):\n",
    "            print(\"no 1\")\n",
    "        else:\n",
    "            grid2 = np.true_divide(grid2, sumofpoints)\n",
    "        \n",
    "        inferred_location = self.AskLocationFromLocalizer(grid2)\n",
    "        real_location2 = self.AskLocationFromOracle(time)\n",
    "   \n",
    "        return inferred_location, real_location2, fired_sensors\n",
    "        \n",
    "    def localize(self, time, event):   \n",
    "        global grid_map\n",
    "        global analyzer\n",
    "        global oracle\n",
    "        global distances\n",
    "\n",
    "        fired_sensors = []\n",
    "        fired_sensors = self.FindFiredSensor(event)\n",
    "        if len(fired_sensors) == 0:\n",
    "            return\n",
    "        \n",
    "        counter = 0\n",
    "        try:\n",
    "            m1 = np.min(grid_map[np.nonzero(grid_map)])\n",
    "            M1 = np.max(grid_map[np.nonzero(grid_map)])\n",
    "\n",
    "        except:\n",
    "            print(\"start!\")\n",
    "                \n",
    "        for i in range(len(grid_map[:,1])):\n",
    "            for j in range(len(grid_map[1,:])):\n",
    "                for sensor in fired_sensors:\n",
    "                    circ = Circle((int(float(sensor.x)/10), int(float(sensor.y)/10)), int(float(sensor.sensing_area)/10))\n",
    "                    if (circ.contains_point([i, j])):\n",
    "                        grid_map[i][j] += 1\n",
    "        \n",
    "        sumofpoints = sum(sum(grid_map))/4\n",
    "          \n",
    "        if (sumofpoints == 0):\n",
    "            print(\"no 2\")\n",
    "        else:\n",
    "            grid_map = np.true_divide(grid_map, sumofpoints)\n",
    "            \n",
    "        analyzer['time'].append(event.timestamp)\n",
    "        analyzer['gridmap'].append(grid_map)\n",
    "        \n",
    "        dist = self.ReportError(event.timestamp, grid_map)\n",
    "        distances.append(dist)\n",
    "        \n",
    "        \n",
    "    def ReportError(self, time, recent_grid):\n",
    "        global oracle\n",
    "        \n",
    "        inferred_location = self.AskLocationFromLocalizer(recent_grid)\n",
    "        real_location = self.AskLocationFromOracle(time)\n",
    "        \n",
    "        # print(\"infered loc:\")\n",
    "        # print(inferred_location)\n",
    "        # print(\"real loc:\")\n",
    "        # print(type(real_location[0]))\n",
    "        \n",
    "\n",
    "        \n",
    "        return np.linalg.norm(inferred_location - real_location)\n",
    "            \n",
    "    def AskLocationFromLocalizer(self, recent_grid):\n",
    "        return np.mean(list(zip(*np.where(recent_grid == np.max(recent_grid)))), axis = 0)\n",
    "    \n",
    "    def AskLocationFromOracle(self, time):  \n",
    "        point = np.mean(np.asarray(oracle['location'])[np.where(np.asarray(oracle['time']) == time)], axis = 0)\n",
    "        # print(\"ponto: \", point, \"time: \", time)\n",
    "        return point\n",
    "    \n",
    "    def FindFiredSensor(self, event):\n",
    "        fired_sensors2 = []\n",
    "        firedsensor = event.sensor\n",
    "        \n",
    "        for i in range(len(sensors_list)):\n",
    "            current_sensor = Sensor()\n",
    "            current_sensor = sensors_list[i]\n",
    "            if current_sensor.sensor_id == firedsensor:\n",
    "                fired_sensors2.append(current_sensor)  \n",
    "                \n",
    "        return fired_sensors2\n",
    "\n",
    "\n",
    "    def extract_fired_sensors(self, start, end):\n",
    "        sensors = sensors_list\n",
    "        fired_sensors = []\n",
    "        for s in sensors:\n",
    "            if Event.objects.filter(timestamp__gt=start, timestamp__lt=end, sensor=s).exists():\n",
    "                fired_sensors.append(s)\n",
    "                continue\n",
    "            if Event.objects.filter(sensor=s).exists():\n",
    "                last_event = Event.objects.filter(sensor=s).latest(field_name='timestamp')\n",
    "                if int(last_event.data) == 1:\n",
    "                    # print('latest is 1')\n",
    "                    # print(s)\n",
    "                    fired_sensors.append(s)\n",
    "\n",
    "        return fired_sensors\n"
   ]
  },
  {
   "cell_type": "code",
   "execution_count": 90,
   "metadata": {},
   "outputs": [],
   "source": [
    "def SimulateSensorReading(fs):\n",
    "    sensor_bins = [0] * 14\n",
    "    if len(fs) == 0:\n",
    "        simulated_sensor_readings.append(sensor_bins)\n",
    "    \n",
    "    else:\n",
    "        for sensor in fs:\n",
    "            if (sensor.sensor_type == 'MotionSensorBinary'):\n",
    "                snum = int(sensor.sensor_id.replace('sensor',''))\n",
    "                sensor_bins[motion_sensors.index(snum)] = 1\n",
    "\n",
    "        simulated_sensor_readings.append(sensor_bins)\n",
    "        \n",
    "        if (len(simulated_sensor_readings) % 100 == 0):\n",
    "            print(len(simulated_sensor_readings))\n",
    "\n",
    "\n",
    "def readFileCSV():             \n",
    "    for i in range(1, len(df_)):     \n",
    "        myfs = []\n",
    "        no_event_flag = 1\n",
    "        xtrace = df_.gtx[i]\n",
    "        ytrace = df_.gty[i]\n",
    "        x = abs(float(xtrace)) * 10\n",
    "        y = abs(float(ytrace)) * 10\n",
    "        loc = [x, y]\n",
    "        # print(loc)\n",
    "        timetoadd = df_.time[i]\n",
    "        \n",
    "        # if loc not in oracle['location'] and timetoadd not in oracle['time']:\n",
    "        oracle['location'].append(loc)\n",
    "        oracle['time'].append(timetoadd) \n",
    "            # print(oracle)\n",
    "        \n",
    "        for sensor in sensors_list:\n",
    "            # pp = ax.plot(int(sensor.x) / 100, int(sensor.y) / 100 , marker='.', color='k', lw=5)\n",
    "            if (sensor.sensor_type == \"MotionSensorBinary\"):    \n",
    "                circ = Circle((float(int(sensor.x) / 10), float(int(sensor.y) / 10)), float(int(sensor.sensing_area) / 10))\n",
    "                if (circ.contains_point([x, y])):\n",
    "                    no_event_flag = 0\n",
    "                    event = Event()\n",
    "                    event.sensor = sensor.sensor_id #SensorId that created the event\n",
    "                    event.data = \"TRUE\"  #data\n",
    "                    event.hash = \"|hash|\" #hash\n",
    "                    event.source = \"xmlFile\" #where is coming from\n",
    "                    event.timestamp = timetoadd\n",
    "                    event.sensorType = sensor.sensor_type #type of sensor\n",
    "                    \n",
    "                    \n",
    "                    # print(\"synthetic sensor:\", int(sensor.x) / 10, int(sensor.y) / 10)\n",
    "                    \n",
    "                    # p3 = ax.plot(float(int(sensor.x) / 100), float(int(sensor.y) / 100) , marker='D', color='r', lw=10)\n",
    "                    \n",
    "                    run_localization(event)\n",
    "                    myfs.append(sensor)\n",
    "                \n",
    "                \n",
    "        real_fired = [i for i, e in enumerate(df_.gt_motion_readings[i]) if e == 1]\n",
    "\n",
    "        for rf in real_fired:\n",
    "            sid = str(motions_order[rf])\n",
    "            for s in sensors_list:\n",
    "                if (s.sensor_id == sid):\n",
    "                    sensed_areas[s.sensor_id].append((df_.gtx[i], df_.gty[i]))\n",
    "                    # p4 = ax.plot(float(int(s.x) / 100), float(int(s.y) / 100) , marker='o', color='b', lw=5)\n",
    "        \n",
    "        no_event_flag = 0\n",
    "        \n",
    "        SimulateSensorReading(myfs) \n",
    "        \n",
    "        # xlim=(0, 6)\n",
    "        # ylim=(0, 10)\n",
    "        # p1 = ax.plot(df_.gtx[i], df_.gty[i], marker='+', color='k', lw=10)\n",
    "        # plt.xlim(*xlim)\n",
    "        # plt.ylim(*ylim)\n",
    "        # plt.gca().invert_yaxis()\n",
    "        # plt.show()\n",
    "        \n",
    "        \n",
    "        \n",
    "        \n",
    "        # fig.canvas.draw()\n",
    "        # ax.cla()\n",
    "        # ax.imshow(img, extent=[0, 6, 0, 10])\n",
    "        "
   ]
  },
  {
   "cell_type": "code",
   "execution_count": 91,
   "metadata": {},
   "outputs": [],
   "source": [
    "def CreateUltilmateDataset():\n",
    "    simulated_sensor_readings.append([0]*14)\n",
    "    df_.synthetic_motion_readings = simulated_sensor_readings[0: len(gtx)]\n",
    "    \n",
    "def PrintingData(df):\n",
    "    %matplotlib inline\n",
    "    gt_readings = {}\n",
    "\n",
    "    for sensor in range(0, 14):\n",
    "        gt_readings[sensor] = []\n",
    "        for i in range(0, len(df['gt_motion_readings'])):\n",
    "            gt_readings[sensor].append(df['gt_motion_readings'][i][sensor])\n",
    "\n",
    "\n",
    "    sim_readings = {}\n",
    "\n",
    "    for sensor in range(0, 14):\n",
    "        sim_readings[sensor] = []\n",
    "        for i in range(0, len(df_['synthetic_motion_readings'])):\n",
    "            sim_readings[sensor].append(df['synthetic_motion_readings'][i][sensor])\n",
    "            \n",
    "    import matplotlib.pyplot as plt\n",
    "\n",
    "    for i in range(len(gt_readings)):\n",
    "        \n",
    "        look_up_id = motion_sensors[i]\n",
    "    \n",
    "        for j in range(0, len(sensors_list)):\n",
    "            if (int(sensors_list[j].sensor_id) == look_up_id):\n",
    "                thissensor = sensors_list[j]\n",
    "\n",
    "        print(print(thissensor.sensor_id, thissensor.x, thissensor.y))\n",
    "        # xticks(np.arange(12), df_.times, rotation=90)\n",
    "        plt.figure(figsize=(10,6))\n",
    "        plt.plot(list(range(0,len(gt_readings[i]))), gt_readings[i], label='Real Sensor Readings')\n",
    "        plt.plot(list(range(0,len(sim_readings[i]))), sim_readings[i], label='Synthetic Sensor Readings')\n",
    "        plt.legend()\n",
    "        plt.show()\n",
    "\n",
    "    plt.tight_layout()"
   ]
  },
  {
   "cell_type": "code",
   "execution_count": 82,
   "metadata": {},
   "outputs": [
    {
     "data": {
      "application/javascript": [
       "Jupyter.notebook.execute_cells([0, 1, 2, 3, 4, 5, 6, 7, 8])"
      ],
      "text/plain": [
       "<IPython.core.display.Javascript object>"
      ]
     },
     "execution_count": 82,
     "metadata": {},
     "output_type": "execute_result"
    }
   ],
   "source": [
    "from IPython.display import Javascript\n",
    "\n",
    "Javascript(\"Jupyter.notebook.execute_cells([0, 1, 2, 3, 4, 5, 6, 7, 8])\")"
   ]
  },
  {
   "cell_type": "code",
   "execution_count": null,
   "metadata": {
    "scrolled": false
   },
   "outputs": [
    {
     "name": "stdout",
     "output_type": "stream",
     "text": [
      "MotionSensorBinary 205 405 1\n",
      "MotionSensorBinary 181 284 2\n",
      "MotionSensorBinary 151 101 3\n",
      "MotionSensorBinary 477 389 4\n",
      "MotionSensorBinary 389 225 5\n",
      "MotionSensorBinary 569 225 6\n",
      "MotionSensorBinary 194 894 7\n",
      "MotionSensorBinary 234 626 8\n",
      "MotionSensorBinary 538 861 9\n",
      "MotionSensorBinary 416 1003 10\n",
      "MotionSensorBinary 445 711 11\n",
      "MotionSensorBinary 477 577 12\n",
      "MotionSensorBinary 86 527 13\n",
      "MotionSensorBinary 86 688 14\n",
      "start!\n",
      "800\n",
      "1300\n",
      "1700\n",
      "2000\n",
      "2100\n",
      "2200\n"
     ]
    }
   ],
   "source": [
    "radius_array = [70]\n",
    "\n",
    "global fig\n",
    "global ax\n",
    "\n",
    "# %matplotlib notebook\n",
    "\n",
    "# fig, ax = plt.subplots(figsize = (6, 10))\n",
    "\n",
    "# plt.ion()\n",
    "# fig = plt.figure()\n",
    "\n",
    "# plt.figure()\n",
    "# img = plt.imread(\"sc.png\")\n",
    "# fig, ax = plt.subplots(figsize=(5, 10))\n",
    "# ax.imshow(img, extent=[0, 7, 0, 11])\n",
    "\n",
    "\n",
    "\n",
    "for r in radius_array:\n",
    "    RestartVariables()\n",
    "    ParseSimulationWorld(r)\n",
    "    \n",
    "    for s in sensors_list:\n",
    "        sensed_areas[s.sensor_id] = []\n",
    "\n",
    "    readFileCSV()\n",
    "    \n",
    "    print(\"------------radius change\")\n",
    "    print(r)\n",
    "    \n",
    "    \n",
    "    CreateUltilmateDataset()\n",
    "    PrintingData(df_)"
   ]
  },
  {
   "cell_type": "code",
   "execution_count": 65,
   "metadata": {
    "scrolled": false
   },
   "outputs": [
    {
     "name": "stdout",
     "output_type": "stream",
     "text": [
      "sadasd\n",
      "1 205 405\n",
      "None\n"
     ]
    },
    {
     "data": {
      "image/png": "[encoded data removed]",
      "text/plain": [
       "<Figure size 720x432 with 1 Axes>"
      ]
     },
     "metadata": {
      "needs_background": "light"
     },
     "output_type": "display_data"
    },
    {
     "name": "stdout",
     "output_type": "stream",
     "text": [
      "sadasd\n",
      "10 416 1003\n",
      "None\n"
     ]
    },
    {
     "data": {
      "image/png": "[encoded data removed]",
      "text/plain": [
       "<Figure size 720x432 with 1 Axes>"
      ]
     },
     "metadata": {
      "needs_background": "light"
     },
     "output_type": "display_data"
    },
    {
     "name": "stdout",
     "output_type": "stream",
     "text": [
      "sadasd\n",
      "11 445 711\n",
      "None\n"
     ]
    },
    {
     "data": {
      "image/png": "[encoded data removed]",
      "text/plain": [
       "<Figure size 720x432 with 1 Axes>"
      ]
     },
     "metadata": {
      "needs_background": "light"
     },
     "output_type": "display_data"
    },
    {
     "name": "stdout",
     "output_type": "stream",
     "text": [
      "sadasd\n",
      "12 477 577\n",
      "None\n"
     ]
    },
    {
     "data": {
      "image/png": "[encoded data removed]",
      "text/plain": [
       "<Figure size 720x432 with 1 Axes>"
      ]
     },
     "metadata": {
      "needs_background": "light"
     },
     "output_type": "display_data"
    },
    {
     "name": "stdout",
     "output_type": "stream",
     "text": [
      "sadasd\n",
      "13 86 527\n",
      "None\n"
     ]
    },
    {
     "data": {
      "image/png": "[encoded data removed]",
      "text/plain": [
       "<Figure size 720x432 with 1 Axes>"
      ]
     },
     "metadata": {
      "needs_background": "light"
     },
     "output_type": "display_data"
    },
    {
     "name": "stdout",
     "output_type": "stream",
     "text": [
      "sadasd\n",
      "14 86 688\n",
      "None\n"
     ]
    },
    {
     "data": {
      "image/png": "[encoded data removed]",
      "text/plain": [
       "<Figure size 720x432 with 1 Axes>"
      ]
     },
     "metadata": {
      "needs_background": "light"
     },
     "output_type": "display_data"
    },
    {
     "name": "stdout",
     "output_type": "stream",
     "text": [
      "sadasd\n",
      "2 181 284\n",
      "None\n"
     ]
    },
    {
     "data": {
      "image/png": "[encoded data removed]",
      "text/plain": [
       "<Figure size 720x432 with 1 Axes>"
      ]
     },
     "metadata": {
      "needs_background": "light"
     },
     "output_type": "display_data"
    },
    {
     "name": "stdout",
     "output_type": "stream",
     "text": [
      "sadasd\n",
      "3 151 101\n",
      "None\n"
     ]
    },
    {
     "data": {
      "image/png": "[encoded data removed]",
      "text/plain": [
       "<Figure size 720x432 with 1 Axes>"
      ]
     },
     "metadata": {
      "needs_background": "light"
     },
     "output_type": "display_data"
    },
    {
     "name": "stdout",
     "output_type": "stream",
     "text": [
      "sadasd\n",
      "4 477 389\n",
      "None\n"
     ]
    },
    {
     "data": {
      "image/png": "[encoded data removed]",
      "text/plain": [
       "<Figure size 720x432 with 1 Axes>"
      ]
     },
     "metadata": {
      "needs_background": "light"
     },
     "output_type": "display_data"
    },
    {
     "name": "stdout",
     "output_type": "stream",
     "text": [
      "sadasd\n",
      "5 389 225\n",
      "None\n"
     ]
    },
    {
     "data": {
      "image/png": "[encoded data removed]",
      "text/plain": [
       "<Figure size 720x432 with 1 Axes>"
      ]
     },
     "metadata": {
      "needs_background": "light"
     },
     "output_type": "display_data"
    },
    {
     "name": "stdout",
     "output_type": "stream",
     "text": [
      "sadasd\n",
      "6 569 225\n",
      "None\n"
     ]
    },
    {
     "data": {
      "image/png": "[encoded data removed]",
      "text/plain": [
       "<Figure size 720x432 with 1 Axes>"
      ]
     },
     "metadata": {
      "needs_background": "light"
     },
     "output_type": "display_data"
    },
    {
     "name": "stdout",
     "output_type": "stream",
     "text": [
      "sadasd\n",
      "7 194 894\n",
      "None\n"
     ]
    },
    {
     "data": {
      "image/png": "[encoded data removed]",
      "text/plain": [
       "<Figure size 720x432 with 1 Axes>"
      ]
     },
     "metadata": {
      "needs_background": "light"
     },
     "output_type": "display_data"
    },
    {
     "name": "stdout",
     "output_type": "stream",
     "text": [
      "sadasd\n",
      "8 234 626\n",
      "None\n"
     ]
    },
    {
     "data": {
      "image/png": "[encoded data removed]",
      "text/plain": [
       "<Figure size 720x432 with 1 Axes>"
      ]
     },
     "metadata": {
      "needs_background": "light"
     },
     "output_type": "display_data"
    },
    {
     "name": "stdout",
     "output_type": "stream",
     "text": [
      "sadasd\n",
      "9 538 861\n",
      "None\n"
     ]
    },
    {
     "data": {
      "image/png": "[encoded data removed]",
      "text/plain": [
       "<Figure size 720x432 with 1 Axes>"
      ]
     },
     "metadata": {
      "needs_background": "light"
     },
     "output_type": "display_data"
    },
    {
     "data": {
      "text/plain": [
       "<Figure size 432x288 with 0 Axes>"
      ]
     },
     "metadata": {},
     "output_type": "display_data"
    }
   ],
   "source": [
    "CreateUltilmateDataset()\n",
    "PrintingData(df_)"
   ]
  },
  {
   "cell_type": "code",
   "execution_count": 66,
   "metadata": {},
   "outputs": [
    {
     "data": {
      "text/plain": [
       "{'PS1': [],\n",
       " '1': [],\n",
       " '2': [],\n",
       " '3': [],\n",
       " '4': [],\n",
       " '5': [],\n",
       " '6': [],\n",
       " '7': [],\n",
       " '8': [],\n",
       " '9': [],\n",
       " '10': [],\n",
       " '11': [],\n",
       " '12': [],\n",
       " '13': [],\n",
       " '14': []}"
      ]
     },
     "execution_count": 66,
     "metadata": {},
     "output_type": "execute_result"
    }
   ],
   "source": [
    "sensed_areas"
   ]
  },
  {
   "cell_type": "code",
   "execution_count": 64,
   "metadata": {},
   "outputs": [
    {
     "data": {
      "text/plain": [
       "[<__main__.MotionSensorBinary at 0x2bb68e90550>,\n",
       " <__main__.MotionSensorBinary at 0x2bb68e90eb8>,\n",
       " <__main__.MotionSensorBinary at 0x2bb7ca9a2b0>,\n",
       " <__main__.MotionSensorBinary at 0x2bb7ca9a630>,\n",
       " <__main__.MotionSensorBinary at 0x2bb7ca9add8>,\n",
       " <__main__.MotionSensorBinary at 0x2bb7ca9aa90>,\n",
       " <__main__.MotionSensorBinary at 0x2bb7ca9ab70>,\n",
       " <__main__.MotionSensorBinary at 0x2bb7ca9a198>,\n",
       " <__main__.MotionSensorBinary at 0x2bb7ca9ada0>,\n",
       " <__main__.MotionSensorBinary at 0x2bb7ca9af28>,\n",
       " <__main__.MotionSensorBinary at 0x2bb7ca9a4a8>,\n",
       " <__main__.MotionSensorBinary at 0x2bb7ca9acf8>,\n",
       " <__main__.MotionSensorBinary at 0x2bb7ca9a6d8>,\n",
       " <__main__.MotionSensorBinary at 0x2bb7ca9af98>]"
      ]
     },
     "execution_count": 64,
     "metadata": {},
     "output_type": "execute_result"
    }
   ],
   "source": [
    "sensors_list"
   ]
  },
  {
   "cell_type": "raw",
   "metadata": {
    "scrolled": false
   },
   "source": [
    "%matplotlib inline\n",
    "\n",
    "del sensors_list[0]\n",
    "del sensors_list[0]\n",
    "\n",
    "gt_readings = {}\n",
    "\n",
    "for sensor in range(0, 14):\n",
    "    gt_readings[sensor] = []\n",
    "    for i in range(0, len(df_['gt_motion_readings'])):\n",
    "        gt_readings[sensor].append(df_['gt_motion_readings'][i][sensor])\n",
    "\n",
    "for i in range(0, 14):\n",
    "    fig, ax = plt.subplots(figsize = (6, 10))\n",
    "    # plt.figure()\n",
    "    img = plt.imread(\"sc.png\")\n",
    "    fig, ax = plt.subplots(figsize=(5, 10))\n",
    "    ax.imshow(img, extent=[0, 7, 0, 11])\n",
    "    \n",
    "    look_up_id = motion_sensors[i]\n",
    "    \n",
    "    for j in range(0, len(sensors_list)):\n",
    "        if (int(sensors_list[j].sensor_id) == look_up_id):\n",
    "            print(\"sadasd\")\n",
    "            thissensor = sensors_list[j]\n",
    "            break\n",
    "    \n",
    "    print(print(thissensor.sensor_id, thissensor.x, thissensor.y))\n",
    "    p4 = ax.plot(float(int(thissensor.x) / 100), float(int(thissensor.y) / 100) , marker='o', color='b', lw=5)  \n",
    "    xlim=(0, 6)\n",
    "    ylim=(0, 10)\n",
    "    plt.xlim(*xlim)\n",
    "    plt.ylim(*ylim)\n",
    "    plt.gca().invert_yaxis()\n",
    "    plt.show()"
   ]
  },
  {
   "cell_type": "code",
   "execution_count": null,
   "metadata": {
    "scrolled": true
   },
   "outputs": [],
   "source": [
    "print(\"please start simulation in casi now.\")"
   ]
  },
  {
   "cell_type": "raw",
   "metadata": {},
   "source": [
    "################################################\n",
    "#### AFTER SIMULATION SECTION: STORING DATA ####\n",
    "################################################\n",
    "\n",
    "# Run This after simulation has ended...\n",
    "\n",
    "import csv\n",
    "\n",
    "data = []\n",
    "with open(groundtruth, 'r') as user_data:\n",
    "    reader = csv.reader(user_data, delimiter=',', quotechar=',')\n",
    "    for row in reader:\n",
    "        if (reader.line_num != 1):\n",
    "            row[0] = float(row[0])\n",
    "            row[2] = float(row[2])\n",
    "            row[3] = float(row[3])\n",
    "            \n",
    "            data.append(row)\n",
    "        \n",
    "import pickle\n",
    "\n",
    "f = open('Data_22' + simworldname + '.pckl', 'wb')\n",
    "pickle.dump((data, oracle, analyzer), f)\n",
    "f.close()"
   ]
  },
  {
   "cell_type": "raw",
   "metadata": {},
   "source": [
    "# Data from CASI\n",
    "\n",
    "port = 1883\n",
    "host = \"192.168.211.132\"\n",
    "keepalive = 60\n",
    "broker_topic = \"#\"  #All topics have to be read\n",
    "import time\n",
    "\n",
    "client = mqtt.Client()\n",
    "client.on_connect = on_connect\n",
    "client.on_message = on_message\n",
    "client.on_publish = on_publish\n",
    "client.on_subscribed = on_subscribed\n",
    "\n",
    "client.connect(host, port, 60)\n",
    "client.subscribe(broker_topic, 0)\n",
    "\n",
    "client.loop_start()\n",
    "time.sleep(5)"
   ]
  },
  {
   "cell_type": "code",
   "execution_count": null,
   "metadata": {},
   "outputs": [],
   "source": [
    "aa = [[0.8, 0], [0, 0]]\n",
    "print(aa)\n",
    "# print(*np.where(aa == np.max(aa)))\n",
    "print(list(zip(*np.where(aa == np.max(aa)))))\n",
    "np.mean(list(zip(*np.where(aa == np.max(aa)))), axis = 0)"
   ]
  },
  {
   "cell_type": "code",
   "execution_count": null,
   "metadata": {},
   "outputs": [],
   "source": [
    "from random import shuffle\n",
    "x = [i for i in range(8)]\n",
    "shuffle(x)\n",
    "print(x)"
   ]
  }
 ],
 "metadata": {
  "kernelspec": {
   "display_name": "Python 3",
   "language": "python",
   "name": "python3"
  },
  "language_info": {
   "codemirror_mode": {
    "name": "ipython",
    "version": 3
   },
   "file_extension": ".py",
   "mimetype": "text/x-python",
   "name": "python",
   "nbconvert_exporter": "python",
   "pygments_lexer": "ipython3",
   "version": "3.7.1"
  }
 },
 "nbformat": 4,
 "nbformat_minor": 2
}

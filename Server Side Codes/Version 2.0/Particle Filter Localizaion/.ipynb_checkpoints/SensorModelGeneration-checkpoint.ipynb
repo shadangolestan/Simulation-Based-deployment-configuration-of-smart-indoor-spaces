{
 "cells": [
  {
   "cell_type": "code",
   "execution_count": 1,
   "metadata": {},
   "outputs": [],
   "source": [
    "import numpy as np\n",
    "import math\n",
    "\n",
    "def draw_sample(d, v):\n",
    "    N = 2\n",
    "    mp = -69\n",
    "    rssi_mean = -(10 * N) * math.log10(d) + mp\n",
    "    return np.random.normal(rssi_mean, math.sqrt(v))\n",
    "\n",
    "def rssi_sampling(v):\n",
    "    sample_num = 10000\n",
    "    rssi = {}\n",
    "    dists = [1, 2, 3, 4, 5, 6, 7]\n",
    "    for d in range(len(dists)):\n",
    "        print(\"sampling for: \" + str(dists[d]))\n",
    "        rssi[d] = []\n",
    "        for i in range(sample_num):\n",
    "            rssi[d].append(draw_sample(dists[d], v))\n",
    "            \n",
    "    return rssi"
   ]
  },
  {
   "cell_type": "code",
   "execution_count": 2,
   "metadata": {},
   "outputs": [
    {
     "name": "stdout",
     "output_type": "stream",
     "text": [
      "sampling for: 1\n",
      "sampling for: 2\n",
      "sampling for: 3\n",
      "sampling for: 4\n",
      "sampling for: 5\n",
      "sampling for: 6\n",
      "sampling for: 7\n"
     ]
    }
   ],
   "source": [
    "v = 7\n",
    "rssi_dict = rssi_sampling(v)"
   ]
  },
  {
   "cell_type": "code",
   "execution_count": 7,
   "metadata": {},
   "outputs": [
    {
     "ename": "NameError",
     "evalue": "name 'sensor' is not defined",
     "output_type": "error",
     "traceback": [
      "\u001b[1;31m---------------------------------------------------------------------------\u001b[0m",
      "\u001b[1;31mNameError\u001b[0m                                 Traceback (most recent call last)",
      "\u001b[1;32m<ipython-input-7-a77444c45ac4>\u001b[0m in \u001b[0;36m<module>\u001b[1;34m()\u001b[0m\n\u001b[0;32m     10\u001b[0m \u001b[0mplt\u001b[0m\u001b[1;33m.\u001b[0m\u001b[0mylabel\u001b[0m\u001b[1;33m(\u001b[0m\u001b[1;34m'Distance'\u001b[0m\u001b[1;33m)\u001b[0m\u001b[1;33m\u001b[0m\u001b[0m\n\u001b[0;32m     11\u001b[0m \u001b[0mplt\u001b[0m\u001b[1;33m.\u001b[0m\u001b[0mylabel\u001b[0m\u001b[1;33m(\u001b[0m\u001b[1;34m'RSSI Average'\u001b[0m\u001b[1;33m)\u001b[0m\u001b[1;33m\u001b[0m\u001b[0m\n\u001b[1;32m---> 12\u001b[1;33m \u001b[0mprint\u001b[0m\u001b[1;33m(\u001b[0m\u001b[0msensor\u001b[0m\u001b[1;33m)\u001b[0m\u001b[1;33m\u001b[0m\u001b[0m\n\u001b[0m\u001b[0;32m     13\u001b[0m \u001b[0mplt\u001b[0m\u001b[1;33m.\u001b[0m\u001b[0mshow\u001b[0m\u001b[1;33m(\u001b[0m\u001b[1;33m)\u001b[0m\u001b[1;33m\u001b[0m\u001b[0m\n",
      "\u001b[1;31mNameError\u001b[0m: name 'sensor' is not defined"
     ]
    },
    {
     "data": {
      "image/png": "[encoded data removed]",
      "text/plain": [
       "<Figure size 432x288 with 1 Axes>"
      ]
     },
     "metadata": {},
     "output_type": "display_data"
    }
   ],
   "source": [
    "import matplotlib.pyplot as plt\n",
    "\n",
    "dists = [1, 2, 3, 4, 5, 6, 7]\n",
    "xdata = []\n",
    "\n",
    "for d in range(len(dists)):\n",
    "    xdata.append(sum(rssi_dict[d]) / float(len(rssi_dict[d])))\n",
    "    \n",
    "plt.plot(xdata)\n",
    "plt.ylabel('Distance')\n",
    "plt.ylabel('RSSI Average')\n",
    "print(sensor)\n",
    "plt.show()"
   ]
  },
  {
   "cell_type": "code",
   "execution_count": 6,
   "metadata": {},
   "outputs": [
    {
     "data": {
      "text/plain": [
       "7"
      ]
     },
     "execution_count": 6,
     "metadata": {},
     "output_type": "execute_result"
    }
   ],
   "source": [
    "dists[d]"
   ]
  },
  {
   "cell_type": "code",
   "execution_count": null,
   "metadata": {},
   "outputs": [],
   "source": []
  }
 ],
 "metadata": {
  "kernelspec": {
   "display_name": "Python 3",
   "language": "python",
   "name": "python3"
  },
  "language_info": {
   "codemirror_mode": {
    "name": "ipython",
    "version": 3
   },
   "file_extension": ".py",
   "mimetype": "text/x-python",
   "name": "python",
   "nbconvert_exporter": "python",
   "pygments_lexer": "ipython3",
   "version": "3.6.5"
  }
 },
 "nbformat": 4,
 "nbformat_minor": 2
}

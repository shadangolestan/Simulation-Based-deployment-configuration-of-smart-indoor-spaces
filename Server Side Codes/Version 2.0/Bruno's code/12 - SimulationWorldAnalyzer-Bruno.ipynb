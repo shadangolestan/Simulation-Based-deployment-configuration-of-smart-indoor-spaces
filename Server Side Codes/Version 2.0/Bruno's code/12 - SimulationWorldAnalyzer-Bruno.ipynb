{
 "cells": [
  {
   "cell_type": "code",
   "execution_count": 3,
   "metadata": {},
   "outputs": [],
   "source": [
    "import paho.mqtt.client as mqtt\n",
    "import threading\n",
    "import os\n",
    "import re\n",
    "# import motionlocalizer.settings\n",
    "import json\n",
    "# import requests\n",
    "from shapely.geometry import Polygon\n",
    "from shapely.ops import cascaded_union\n",
    "import xml.etree.ElementTree\n",
    "import pprint\n",
    "import numpy as np\n",
    "import matplotlib.pyplot as plt\n",
    "from matplotlib.patches import Circle\n",
    "import time as pythonTimer\n",
    "import random\n",
    "from random import randint\n",
    "import scipy.stats as stats\n",
    "from scipy.stats import multivariate_normal\n",
    "\n",
    "simworldname = 'simulationWorld2.xml' #ENVIROMENT\n",
    "groundtruth = 'AgentDetailedTasksFile.csv' #AGENT'S MOVEMENTS\n",
    "\n",
    "my_map = [(0.0, 0.0), (0.0, 10.6), (6.6, 10.6), (6.6, 0.0)]\n",
    "grid_map = np.zeros((int(my_map[2][0]) * 10, int(my_map[2][1]) * 10))\n",
    "distances = []\n",
    "\n",
    "oracle = {}\n",
    "oracle['time'] = []\n",
    "oracle['location'] = []\n",
    "\n",
    "analyzer = {}\n",
    "analyzer['time'] = []\n",
    "analyzer['gridmap'] = []\n",
    " \n",
    "def start_localizing(event):\n",
    "    global analyzer\n",
    "    global oracle\n",
    "    global grid_map\n",
    "    run_localization(event)\n",
    "\n",
    "def run_localization(event):\n",
    "    global analyzer\n",
    "    global oracle\n",
    "    global grid_map\n",
    "    # print(\"run_localization\")\n",
    "    Localizer(pythonTimer.time()).run(event)\n"
   ]
  },
  {
   "cell_type": "code",
   "execution_count": 46,
   "metadata": {},
   "outputs": [],
   "source": [
    "##################################\n",
    "####       Sensor Class       ####\n",
    "##################################\n",
    "\n",
    "class Sensor:\n",
    "    sensor_type = \"\"\n",
    "    sensor_id = \"\"\n",
    "    x = float()\n",
    "    y = float()\n",
    "    z = float()\n",
    "\n",
    "    def __str__(self):\n",
    "        return 'type: %s,\\n id: %s,\\n x: %s,\\n y: %s\\n'%(self.sensor_type, self.sensor_id, self.x, self.y)\n",
    "\n",
    "    def Initialize(self, element):\n",
    "        self.x = (str(element.find('point').find('xcoord').text))\n",
    "        self.y = (str(element.find('point').find('ycoord').text))\n",
    "        self.sensor_id = (str(element.find('id').text))\n",
    "        self.sensor_type = (str(element.find('type').text))     \n",
    "            \n",
    "        return 0\n",
    "    \n",
    "    \n",
    "    '''\n",
    "        This fucntion uses an 2D gaussian, that means: X~(x, mean, covarianceMatrix)\n",
    "        Input:\n",
    "        x = [xOracle, yOracle] (Actually we don't care about it anymore)\n",
    "        mean = [xSimulator, ySimulator]\n",
    "        covarianceMatrix= | r  0 | , where r is the circle radious\n",
    "                          | 0  r |\n",
    "\n",
    "        Returns: cdf of the normal distribution\n",
    "        \n",
    "    '''\n",
    "    def GaussianFiredSensor(self, simulated_localization, real_localization):\n",
    "        import math\n",
    "\n",
    "        sensor_location = [float(self.x)/10, float(self.y)/10]\n",
    "        cov = [[self.sensing_area, 0],[0, self.sensing_area]]        \n",
    "        prob = multivariate_normal(simulated_localization, cov)\n",
    "        probCdf = prob.cdf(sensor_location)\n",
    "        \n",
    "        print(\"real: \", real_localization)\n",
    "        print(\"simu: \", simulated_localization)\n",
    "              \n",
    "        return probCdf\n",
    "    \n",
    "\"\"\"\n",
    "System's sensors\n",
    "All this classes are childrens from Sensor Class\n",
    "\"\"\"\n",
    "class MotionSensorBinary(Sensor):\n",
    "    def __init__(self, element):\n",
    "        Sensor.Initialize(self, element)\n",
    "        self.sensing_area = (str(element.find('radius').text))\n",
    "\n",
    "class RFID_Reader(Sensor):\n",
    "    def __init__(self, element):\n",
    "        Sensor.Initialize(self, element)\n",
    "        self.sensing_area = (str(element.find('arcSize').text))\n",
    "\n",
    "class MotionSensorAnalog(Sensor):\n",
    "    def __init__(self, element):\n",
    "        Sensor.Initialize(self, element)\n",
    "        self.sensing_area = (str(element.find('radius').text))\n",
    "        \n",
    "class PressureSensorAnalog(Sensor):\n",
    "    def __init__(self, element):\n",
    "        Sensor.Initialize(self, element)\n",
    "        self.sensing_area = (str(element.find('radius').text))\n",
    "        self.object = str(element.find('object').text)\n",
    "        \n",
    "class BeaconSensor(Sensor):\n",
    "    def __init__(self, element):\n",
    "        Sensor.Initialize(self, element)\n",
    "        self.sensing_area = (str(element.find('radius').text))\n",
    "        self.measuredPower = -69\n",
    "        self.RSSI = self.sensing_area\n",
    "        self.N = 2 #Constant related with the air\n",
    "        self.object = str(element.find('object').text)\n",
    "        self.accelerometer = str(element.find('accelerometer').text)\n",
    "        \n",
    "    # https://iotandelectronics.wordpress.com/2016/10/07/how-to-calculate-distance-from-the-rssi-value-of-the-ble-beacon/\n",
    "    def rssiToMeters(self):\n",
    "        u = (float(self.measuredPower) - float(self.RSSI))/(10 * float(self.N))\n",
    "        dist = 10 ** u\n",
    "        \n",
    "        return dist\n",
    "    \n",
    "   # def distanceToMeasure(self, dist):\n",
    "     #   mp = self.RSSI + (10*n*math.log10(dist)\n",
    "    #    return mp\n",
    "    "
   ]
  },
  {
   "cell_type": "code",
   "execution_count": 47,
   "metadata": {},
   "outputs": [],
   "source": [
    "#Event Class\n",
    "class Event:\n",
    "    source = \"\"\n",
    "    timestamp = float()\n",
    "    RSSI = 0\n",
    "    objectAtt = \"\"\n",
    "    accelerometer = False\n",
    "    sensor = Sensor.sensor_id\n",
    "    sensorType = Sensor.sensor_type\n",
    "    data = int()\n",
    "    hash = \"\"\n",
    "\n",
    "    def __str__(self):\n",
    "        return 'time: %s --> sensor: <%s>, sensor type: %s data: %s' % (\n",
    "        str(self.timestamp), str(self.sensor), str(self.sensorType), str(self.data))"
   ]
  },
  {
   "cell_type": "code",
   "execution_count": 48,
   "metadata": {},
   "outputs": [],
   "source": [
    "class GridMap:\n",
    "    map = \"\""
   ]
  },
  {
   "cell_type": "code",
   "execution_count": 49,
   "metadata": {},
   "outputs": [],
   "source": [
    "#Debug function, not working - just forget about it\n",
    "def checkTypeSensor(sensor):\n",
    "    if(sensor.sensor_type == 'RFID_Reader'):\n",
    "        this_sensor = RFID_Reader(sensor) \n",
    "        return this_sensor\n",
    "\n",
    "    if(sensor.sensor_type == 'MotionSensorBinary'):\n",
    "        this_sensor = MotionSensorBinary(sensor)\n",
    "        #this_sensor = sensor\n",
    "        return this_sensor\n",
    "\n",
    "    if(sensor.sensor_type == 'MotionSensorAnalog'):\n",
    "        this_sensor = MotionSensorAnalog(sensor)\n",
    "        return this_sensor\n",
    "\n",
    "    if(sensor.sensor_type == 'PressureSensorAnalog'):\n",
    "        this_sensor = PressureSensorAnalog(sensor)\n",
    "        return this_sensor\n",
    "    \n",
    "    return \"none\""
   ]
  },
  {
   "cell_type": "code",
   "execution_count": 50,
   "metadata": {},
   "outputs": [],
   "source": [
    "############################################\n",
    "####       PARSE SIMULATION WORLD       ####\n",
    "############################################\n",
    "\n",
    "root = xml.etree.ElementTree.parse(simworldname).getroot()\n",
    "\n",
    "grid2 = np.zeros((int(my_map[2][0]) * 1, int(my_map[2][1]) * 1))\n",
    "grid2 = np.copy(grid_map)\n",
    "\n",
    "# print(grid2)\n",
    "\n",
    "sensors_list = []\n",
    "\n",
    "for element in root:\n",
    "    if(element.tag == 'sensors'):\n",
    "        for sensor in element:\n",
    "            #Choose the kind of sensor we have\n",
    "            if(str(sensor.find('type').text) == 'RFID_Reader'):\n",
    "                this_sensor = RFID_Reader(sensor) \n",
    "                \n",
    "            if(str(sensor.find('type').text) == 'MotionSensorBinary'):\n",
    "                this_sensor = MotionSensorBinary(sensor)\n",
    "                \n",
    "            if(str(sensor.find('type').text) == 'MotionSensorAnalog'):\n",
    "                this_sensor = MotionSensorAnalog(sensor)\n",
    "            \n",
    "            if(str(sensor.find('type').text) == 'PressureSensorAnalog'):\n",
    "                this_sensor = PressureSensorAnalog(sensor)\n",
    "            \n",
    "            if(str(sensor.find('type').text) == 'BeaconSensor'):\n",
    "                this_sensor = BeaconSensor(sensor)\n",
    "                \n",
    "            sensors_list.append(this_sensor)\n",
    "            # print(this_sensor.sensor_type + \" \" + this_sensor.x + \" \" + this_sensor.y)\n",
    "            # sensors_list.append(sensor)\n",
    "            # print(sensors_list[len(sensors_list) - 1])"
   ]
  },
  {
   "cell_type": "code",
   "execution_count": 51,
   "metadata": {},
   "outputs": [],
   "source": [
    "############################################\n",
    "####         LOCALIZATION CLASS         ####\n",
    "############################################\n",
    "\n",
    "class Localizer(threading.Thread):\n",
    "    to_be_localized_queue = []\n",
    "    localizer_lock = threading.Lock()\n",
    "    this_grid_map = []\n",
    "    \n",
    "    \n",
    "    def __init__(self, time):\n",
    "        self.time = time\n",
    "\n",
    "    def run(self, event):\n",
    "        global grid_map\n",
    "        global analyzer\n",
    "        global oracle\n",
    "        global distances\n",
    "        # print(\"Run\")\n",
    "        Localizer.to_be_localized_queue.append(self.time)\n",
    "        with Localizer.localizer_lock:\n",
    "            while len(Localizer.to_be_localized_queue) > 0:\n",
    "                timestamp = Localizer.to_be_localized_queue[0]\n",
    "                Localizer.to_be_localized_queue = Localizer.to_be_localized_queue[1:]\n",
    "                self.localize(timestamp, event)\n",
    "    \n",
    "    def localizer_confidence(self):\n",
    "        return 0.9\n",
    "\n",
    "    def get_event_period(self):\n",
    "        return 1.0\n",
    "\n",
    "    def getLocations(self, time, event):\n",
    "        global grid_map\n",
    "        global analyzer\n",
    "        global oracle\n",
    "        global distances\n",
    "\n",
    "        fired_sensors = []\n",
    "        grid2 = np.copy(grid_map)\n",
    "        fired_sensors = self.FindFiredSensor(event, grid_map, event.timestamp)\n",
    "\n",
    "        if len(fired_sensors) == 0:\n",
    "            return\n",
    "        \n",
    "        counter = 0\n",
    "        try:\n",
    "            m1 = np.min(grid2[np.nonzero(grid2)])\n",
    "            M1 = np.max(grid2[np.nonzero(grid2)])\n",
    "\n",
    "            # print(\"Value in try:\", m1)\n",
    "            # print(\"Value in try:\", M1)\n",
    "            \n",
    "        except:\n",
    "            print(\"start!\")\n",
    "        \n",
    "        for i in range(len(grid2[:,1])):\n",
    "            for j in range(len(grid2[1,:])):\n",
    "                for sensor in fired_sensors:\n",
    "                    \n",
    "                    #my_sensor = checkTypeSensor(sensor)\n",
    "                    my_sensor = sensor\n",
    "                    r = float(my_sensor.sensing_area)/10\n",
    "                    x = float(my_sensor.x)/10\n",
    "                    y = float(my_sensor.y)/10\n",
    "                    \n",
    "                    circ = Circle((int(int(x)), int(int(y))), int(int(r)))\n",
    "                    \n",
    "                    if (circ.contains_point([i, j])):\n",
    "                        grid2[i][j] += 1\n",
    "        \n",
    "        sumofpoints = sum(sum(grid2))/4\n",
    "        \n",
    "        if (sumofpoints == 0):\n",
    "            print(\"no 1\")\n",
    "        else:\n",
    "            grid2 = np.true_divide(grid2, sumofpoints)\n",
    "        \n",
    "        inferred_location = self.AskLocationFromLocalizer(grid2)\n",
    "        real_location2 = self.AskLocationFromOracle(time)\n",
    "   \n",
    "        return inferred_location, real_location2, fired_sensors\n",
    "        \n",
    "    def localize(self, time, event):\n",
    "        global grid_map\n",
    "        global analyzer\n",
    "        global oracle\n",
    "        global distances\n",
    "        \n",
    "        #finds the inferred an real locations, and what sensors were fired\n",
    "        inferred_location, real_location, fired_sensors2 = self.getLocations(event.timestamp, event)    \n",
    "        k = 0\n",
    "        \n",
    "        #Choose what sensor was REALLY deployed based on the probability\n",
    "        i = len(fired_sensors2)\n",
    "        \n",
    "        if(i > 0):\n",
    "            i -= 1\n",
    "        \n",
    "        while(i >= 0):         \n",
    "            current_sensor = fired_sensors2[i]\n",
    "            #get the probability from the gaussian filter\n",
    "            probi = current_sensor.GaussianFiredSensor(inferred_location, real_location)\n",
    "            \n",
    "            if(probi < 0.015):\n",
    "                del fired_sensors2[i]\n",
    "            i -= 1\n",
    "            #print(probi)\n",
    "                \n",
    "        fired_sensors = fired_sensors2\n",
    "        \n",
    "        if len(fired_sensors) == 0:\n",
    "            return\n",
    "        \n",
    "        counter = 0\n",
    "        \n",
    "        try:\n",
    "            m1 = np.min(grid_map[np.nonzero(grid_map)])\n",
    "            M1 = np.max(grid_map[np.nonzero(grid_map)])\n",
    "            \n",
    "        except:\n",
    "            print(\"start!\")\n",
    "        \n",
    "        \n",
    "        for i in range(len(grid_map[:,1])):\n",
    "            for j in range(len(grid_map[1,:])):\n",
    "                for sensor in fired_sensors:\n",
    "                    #my_sensor = checkTypeSensor(sensor)\n",
    "                    my_sensor = sensor\n",
    "                    r = float(my_sensor.sensing_area)/10\n",
    "                    x = float(my_sensor.x)/10\n",
    "                    y = float(my_sensor.y)/10\n",
    "                    #print(\"i: \", i, \"j: \", j)\n",
    "                    #print(\"x: \", x, \"y: \", y, \"r: \", r)\n",
    "                    \n",
    "                    circ = Circle((int(int(x)), int(int(y))), int(int(r)))\n",
    "                    \n",
    "                    if (circ.contains_point([i, j])):\n",
    "                        grid_map[i][j] += 1\n",
    "        \n",
    "        sumofpoints = sum(sum(grid_map))/4\n",
    "          \n",
    "        if (sumofpoints == 0):\n",
    "            print(\"no 2\")\n",
    "        else:\n",
    "            grid_map = np.true_divide(grid_map, sumofpoints)\n",
    "    \n",
    "        dist = self.ReportError(event.timestamp, grid_map)\n",
    "        distances.append(dist) \n",
    "        \n",
    "        analyzer['time'].append(event.timestamp)\n",
    "        analyzer['gridmap'].append(grid_map)\n",
    "\n",
    "        # plt.imshow(zip(*grid_map), cmap='hot', interpolation='nearest')\n",
    "        plt.imshow(grid_map, cmap='hot', interpolation='nearest')\n",
    "        plt.show()\n",
    "        print(\"\\n\")\n",
    "    \n",
    "    def ReportError(self, time, recent_grid):\n",
    "        global oracle\n",
    "        \n",
    "        inferred_location = self.AskLocationFromLocalizer(recent_grid)\n",
    "        real_location = self.AskLocationFromOracle(time)\n",
    "        \n",
    "        #print(inferred_location)\n",
    "        #print(real_location)\n",
    "        \n",
    "        return np.linalg.norm(inferred_location - real_location)\n",
    "        \n",
    "        \n",
    "    def AskLocationFromLocalizer(self, recent_grid):\n",
    "        return np.mean(list(zip(*np.where(recent_grid == np.max(recent_grid)))), axis = 0)\n",
    "    \n",
    "    def AskLocationFromOracle(self, time):  \n",
    "        point = np.mean(np.asarray(oracle['location'])[np.where(np.asarray(oracle['time']) == int(time))], axis = 0)\n",
    "        #print(\"ponto: \", point, \"time: \", time)\n",
    "        return point\n",
    "    \n",
    "    \"\"\"\n",
    "    I'm implementing a randomic action fiture for the sensors, causing false-positive events. Basically, \n",
    "    to choose WHICH sensor will be deployed, I get an random number between [0 - (X - 1)], where X is the length \n",
    "    of the sensor list. To choose WHEN the sensor is deployed, I'll define a variable called \"control = 123\", and\n",
    "    create a list of random 10 numbers between [0 - 150], everytime the list contains whe variable control, we\n",
    "    switch to the random event.\n",
    "    \"\"\"\n",
    "    def FindFiredSensor(self, event, grid_map, time):\n",
    "        fired_sensors2 = []\n",
    "        firedsensor = event.sensor\n",
    "        \n",
    "        listControl = random.sample(range(0, 150), 10)\n",
    "        control = 123\n",
    "        \n",
    "        if(control in listControl):  \n",
    "            rand = randint(0, len(sensors_list) - 1)\n",
    "            current_sensor = sensors_list[rand]\n",
    "            fired_sensors2.append(current_sensor)\n",
    "        \n",
    "        for i in range(len(sensors_list)):\n",
    "            #print(sensors_list[i])\n",
    "            current_sensor = sensors_list[i]\n",
    "\n",
    "            if current_sensor.sensor_id == firedsensor:\n",
    "                fired_sensors2.append(current_sensor)  \n",
    "                \n",
    "        return fired_sensors2\n",
    "\n",
    "\n",
    "    def extract_fired_sensors(self, start, end):\n",
    "        sensors = sensors_list\n",
    "        fired_sensors = []\n",
    "        for s in sensors:\n",
    "            if Event.objects.filter(timestamp__gt=start, timestamp__lt=end, sensor=s).exists():\n",
    "                fired_sensors.append(s)\n",
    "                continue\n",
    "            if Event.objects.filter(sensor=s).exists():\n",
    "                last_event = Event.objects.filter(sensor=s).latest(field_name='timestamp')\n",
    "                if int(last_event.data) == 1:\n",
    "                    # print('latest is 1')\n",
    "                    # print(s)\n",
    "                    fired_sensors.append(s)\n",
    "\n",
    "        return fired_sensors\n"
   ]
  },
  {
   "cell_type": "code",
   "execution_count": 52,
   "metadata": {
    "scrolled": true
   },
   "outputs": [],
   "source": [
    "#temporary:\n",
    "# my_map = [(0.0, 0.0), (0.0, 5.7), (7.05, 5.7), (7.05, 0.0)]\n",
    "# grid_map = np.zeros((int(my_map[2][0]) * 10, int(my_map[2][1]) * 10))\n",
    "\n",
    "\n",
    "\n",
    "# print(np.max(grid_map))\n",
    "# print(\"first input\")\n",
    "# result = \"casiSimulator/sensor_readings/MotionSensorBinary/MotionSensorBinary-288.3-495.0 1538687434000,MotionSensorBinary,MotionSensorBinary-288.3-495.0,TRUE,TRUE1\"\n",
    "# event = ParseResult(result)\n",
    "# start_localizing()\n",
    "# print(np.max(grid_map[np.nonzero(grid_map)]))\n",
    "# print(np.min(grid_map[np.nonzero(grid_map)]))\n",
    "# plt.imshow(grid_map, cmap='hot', interpolation='nearest')\n",
    "# plt.show()\n",
    "\n",
    "# print('---------------------------')\n",
    "\n",
    "# print(np.max(grid_map))\n",
    "# print(\"second input\")\n",
    "# result1 = \"casiSimulator/sensor_readings/MotionSensorBinary/MotionSensorBinary-511.6-343.6 1538687449000,MotionSensorBinary,MotionSensorBinary-511.6-343.6,TRUE,TRUE1\"\n",
    "# event = ParseResult(result1)\n",
    "# start_localizing()\n",
    "# print(np.max(grid_map[np.nonzero(grid_map)]))\n",
    "# print(np.min(grid_map[np.nonzero(grid_map)]))\n",
    "# plt.imshow(grid_map, cmap='hot', interpolation='nearest')\n",
    "# plt.show()\n",
    "\n"
   ]
  },
  {
   "cell_type": "code",
   "execution_count": 53,
   "metadata": {},
   "outputs": [],
   "source": [
    "#Debug function, sees what kind of activity we have\n",
    "def typeAction(type):\n",
    "    if(type == \"Sleep\"):\n",
    "        print(type + \"ENTREI\")\n",
    "\n",
    "    if(type == \"walk\"):\n",
    "        print(type + \"ENTREI\")\n",
    "        \n",
    "    if(type == \"Water\"):\n",
    "        print(type + \"ENTREI\")\n",
    "        \n",
    "    if(type == \"Wash\"):\n",
    "        print(type + \"ENTREI\")\n",
    "        \n",
    "    if(type == \"Entertainment\"):\n",
    "        print(type + \"ENTREI\")\n",
    "        \n",
    "    if(type == \"Exercise\"):\n",
    "        print(type + \"ENTREI\")\n",
    "\n",
    "    if(type == \"Clean\"):\n",
    "        print(type + \"ENTREI\")\n",
    "        \n",
    "    if(type == \"Eat\"):\n",
    "        print(type + \"ENTREI\")\n",
    "        \n",
    "    if(type == \"Sit\"):\n",
    "        print(type + \"ENTREI\")"
   ]
  },
  {
   "cell_type": "code",
   "execution_count": 54,
   "metadata": {},
   "outputs": [],
   "source": [
    "#I did what Shadan asked me, but I cannot test without the real file!\n",
    "\"\"\"\n",
    "Function to read the path in the csv file and turn it on an event.\n",
    "The event is composed of: (sensor Id, data, hasg, source, time)\n",
    "Everytime that a sensor finds\n",
    "\"\"\"\n",
    "def readFileCSV():    \n",
    "    import csv \n",
    "    \n",
    "    print(\"Starting...\")\n",
    "    \n",
    "    dataFile = []\n",
    "    i = 0\n",
    "    cont = 0\n",
    "    cont2 = 0\n",
    "    \n",
    "    #Read all data from the csv file\n",
    "    with open('AgentDetailedTasksFile.csv', 'r') as csvFile:\n",
    "        reader = csv.reader(csvFile)\n",
    "        print(reader)\n",
    "        for line in reader:\n",
    "            dataFile.append(line)\n",
    "            \n",
    "    i = len(dataFile) - 1\n",
    "    \n",
    "    #Verify if there's some sensoring\n",
    "    while(i >= 1):\n",
    "        print(i)\n",
    "        for sensor in sensors_list:\n",
    "            #typeAction(dataFile[i][5])\n",
    "            #print(sensor.sensor_type)\n",
    "                \n",
    "            if(float(dataFile[i][2]) * (-10) >= (float(sensor.x) - float(sensor.sensing_area)) \n",
    "               and float(dataFile[i][2]) * (-10) <= (float(sensor.x) + float(sensor.sensing_area))):\n",
    "                cont2 += 1\n",
    "            else:\n",
    "                cont += 1\n",
    "            \n",
    "            if(abs(float(dataFile[i][3])) * 10 >= (float(sensor.y) - float(sensor.sensing_area))\n",
    "            and abs(float(dataFile[i][3])) * 10 <= (float(sensor.y) + float(sensor.sensing_area))):\n",
    "                cont2 += 1\n",
    "            else:\n",
    "                cont += 1\n",
    "            \n",
    "            #If it's not int the sensor area, just put it in the oracle\n",
    "            x = abs(float(dataFile[i][2])) * 10\n",
    "            y = abs(float(dataFile[i][3])) * 10\n",
    "            loc = [x, y]\n",
    "            timetoadd = int(round(float(dataFile[i][0])))\n",
    "\n",
    "            if loc not in oracle['location'] and timetoadd not in oracle['time']:\n",
    "                oracle['location'].append(loc)\n",
    "                oracle['time'].append(timetoadd) \n",
    "            \n",
    "            #If it's inside the sensor area, create an event and send it to the localizer\n",
    "\n",
    "            if(cont2 != 0):\n",
    "                event = Event()\n",
    "                \n",
    "                # Beacon Sensors\n",
    "                if(sensor.sensor_type == \"BeaconSensor\"):\n",
    "                    event.RSSI = sensor.RSSI #RSSI, just for beacons\n",
    "                    event.accelerometer = sensor.accelerometer #if it's moving or not - jsut for beacon\n",
    "                    event.objectAtt = sensor.object #Object where the sensor is\n",
    "                    \n",
    "                # Pressure Sensors\n",
    "                elif(sensor.sensor_type == \"PressureSensorAnalog\"):\n",
    "                    event.objectAtt = sensor.object #Object where the sensor is\n",
    "                    \n",
    "                else:               \n",
    "                    event.RSSI = 0 #RSSI, just for beacons\n",
    "                    event.objectAtt = \"\" #Object where the sensor is\n",
    "                    event.accelerometer = False #if it's moving or not - jsut for beacon\n",
    "                           \n",
    "                event.sensor = sensor.sensor_id #SensorId that created the event\n",
    "                event.data = \"TRUE\"  #data\n",
    "                event.hash = \"|hash|\" #hash\n",
    "                event.source = \"xmlFile\" #where is coming from\n",
    "                event.timestamp = int(round(float(dataFile[i][0]))) #timestamp\n",
    "                event.sensorType = sensor.sensor_type #type of sensor\n",
    "                \n",
    "                print(event)\n",
    "                \n",
    "                run_localization(event)\n",
    "            \n",
    "            cont = 0\n",
    "            cont2 = 0\n",
    "        i -= 1"
   ]
  },
  {
   "cell_type": "code",
   "execution_count": 55,
   "metadata": {},
   "outputs": [
    {
     "name": "stdout",
     "output_type": "stream",
     "text": [
      "Starting...\n",
      "<_csv.reader object at 0x00000204C14E1A70>\n",
      "484\n",
      "time: 910 --> sensor: <sensor3>, sensor type: MotionSensorBinary data: TRUE\n",
      "start!\n",
      "real:  [54.16195 87.64584]\n",
      "simu:  [50.         10.05357143]\n",
      "start!\n"
     ]
    },
    {
     "data": {
      "image/png": "[encoded data removed]",
      "text/plain": [
       "<Figure size 432x288 with 1 Axes>"
      ]
     },
     "metadata": {
      "needs_background": "light"
     },
     "output_type": "display_data"
    },
    {
     "name": "stdout",
     "output_type": "stream",
     "text": [
      "\n",
      "\n",
      "time: 910 --> sensor: <sensor6>, sensor type: MotionSensorBinary data: TRUE\n",
      "real:  [54.16195 87.64584]\n",
      "simu:  [25.5        42.05357143]\n",
      "real:  [54.16195 87.64584]\n",
      "simu:  [25.5        42.05357143]\n"
     ]
    },
    {
     "data": {
      "image/png": "[encoded data removed]",
      "text/plain": [
       "<Figure size 432x288 with 1 Axes>"
      ]
     },
     "metadata": {
      "needs_background": "light"
     },
     "output_type": "display_data"
    },
    {
     "name": "stdout",
     "output_type": "stream",
     "text": [
      "\n",
      "\n",
      "483\n",
      "time: 908 --> sensor: <sensor3>, sensor type: MotionSensorBinary data: TRUE\n"
     ]
    },
    {
     "name": "stderr",
     "output_type": "stream",
     "text": [
      "C:\\Users\\shada\\Anaconda3\\lib\\site-packages\\numpy\\core\\fromnumeric.py:2957: RuntimeWarning: Mean of empty slice.\n",
      "  out=out, **kwargs)\n",
      "C:\\Users\\shada\\Anaconda3\\lib\\site-packages\\numpy\\core\\_methods.py:73: RuntimeWarning: invalid value encountered in true_divide\n",
      "  ret, rcount, out=ret, casting='unsafe', subok=False)\n"
     ]
    },
    {
     "name": "stdout",
     "output_type": "stream",
     "text": [
      "real:  [nan nan]\n",
      "simu:  [50.         10.05357143]\n"
     ]
    },
    {
     "data": {
      "image/png": "[encoded data removed]",
      "text/plain": [
       "<Figure size 432x288 with 1 Axes>"
      ]
     },
     "metadata": {
      "needs_background": "light"
     },
     "output_type": "display_data"
    },
    {
     "name": "stdout",
     "output_type": "stream",
     "text": [
      "\n",
      "\n",
      "time: 908 --> sensor: <sensor6>, sensor type: MotionSensorBinary data: TRUE\n",
      "real:  [nan nan]\n",
      "simu:  [ 9.         22.05357143]\n"
     ]
    },
    {
     "data": {
      "image/png": "[encoded data removed]",
      "text/plain": [
       "<Figure size 432x288 with 1 Axes>"
      ]
     },
     "metadata": {
      "needs_background": "light"
     },
     "output_type": "display_data"
    },
    {
     "name": "stdout",
     "output_type": "stream",
     "text": [
      "\n",
      "\n",
      "482\n",
      "time: 906 --> sensor: <sensor3>, sensor type: MotionSensorBinary data: TRUE\n",
      "real:  [nan nan]\n",
      "simu:  [50.         10.05357143]\n",
      "real:  [nan nan]\n",
      "simu:  [50.         10.05357143]\n"
     ]
    },
    {
     "data": {
      "image/png": "[encoded data removed]",
      "text/plain": [
       "<Figure size 432x288 with 1 Axes>"
      ]
     },
     "metadata": {
      "needs_background": "light"
     },
     "output_type": "display_data"
    },
    {
     "name": "stdout",
     "output_type": "stream",
     "text": [
      "\n",
      "\n",
      "time: 906 --> sensor: <sensor6>, sensor type: MotionSensorBinary data: TRUE\n",
      "real:  [nan nan]\n",
      "simu:  [ 9.         22.05357143]\n"
     ]
    },
    {
     "data": {
      "image/png": "[encoded data removed]",
      "text/plain": [
       "<Figure size 432x288 with 1 Axes>"
      ]
     },
     "metadata": {
      "needs_background": "light"
     },
     "output_type": "display_data"
    },
    {
     "name": "stdout",
     "output_type": "stream",
     "text": [
      "\n",
      "\n",
      "481\n",
      "time: 904 --> sensor: <sensor3>, sensor type: MotionSensorBinary data: TRUE\n",
      "real:  [nan nan]\n",
      "simu:  [50.         10.05357143]\n"
     ]
    },
    {
     "data": {
      "image/png": "[encoded data removed]",
      "text/plain": [
       "<Figure size 432x288 with 1 Axes>"
      ]
     },
     "metadata": {
      "needs_background": "light"
     },
     "output_type": "display_data"
    },
    {
     "name": "stdout",
     "output_type": "stream",
     "text": [
      "\n",
      "\n",
      "time: 904 --> sensor: <sensor6>, sensor type: MotionSensorBinary data: TRUE\n",
      "real:  [nan nan]\n",
      "simu:  [ 9.         22.05357143]\n"
     ]
    },
    {
     "data": {
      "image/png": "[encoded data removed]",
      "text/plain": [
       "<Figure size 432x288 with 1 Axes>"
      ]
     },
     "metadata": {
      "needs_background": "light"
     },
     "output_type": "display_data"
    },
    {
     "name": "stdout",
     "output_type": "stream",
     "text": [
      "\n",
      "\n",
      "480\n",
      "time: 902 --> sensor: <sensor3>, sensor type: MotionSensorBinary data: TRUE\n",
      "real:  [nan nan]\n",
      "simu:  [50.         10.05357143]\n"
     ]
    },
    {
     "data": {
      "image/png": "[encoded data removed]",
      "text/plain": [
       "<Figure size 432x288 with 1 Axes>"
      ]
     },
     "metadata": {
      "needs_background": "light"
     },
     "output_type": "display_data"
    },
    {
     "name": "stdout",
     "output_type": "stream",
     "text": [
      "\n",
      "\n",
      "time: 902 --> sensor: <sensor6>, sensor type: MotionSensorBinary data: TRUE\n",
      "real:  [nan nan]\n",
      "simu:  [ 9.         22.05357143]\n"
     ]
    },
    {
     "data": {
      "image/png": "[encoded data removed]",
      "text/plain": [
       "<Figure size 432x288 with 1 Axes>"
      ]
     },
     "metadata": {
      "needs_background": "light"
     },
     "output_type": "display_data"
    },
    {
     "name": "stdout",
     "output_type": "stream",
     "text": [
      "\n",
      "\n",
      "479\n",
      "time: 900 --> sensor: <sensor3>, sensor type: MotionSensorBinary data: TRUE\n",
      "real:  [nan nan]\n",
      "simu:  [50.         10.05357143]\n"
     ]
    },
    {
     "data": {
      "image/png": "[encoded data removed]",
      "text/plain": [
       "<Figure size 432x288 with 1 Axes>"
      ]
     },
     "metadata": {
      "needs_background": "light"
     },
     "output_type": "display_data"
    },
    {
     "name": "stdout",
     "output_type": "stream",
     "text": [
      "\n",
      "\n",
      "time: 900 --> sensor: <sensor6>, sensor type: MotionSensorBinary data: TRUE\n",
      "real:  [nan nan]\n",
      "simu:  [ 9.         22.05357143]\n"
     ]
    },
    {
     "data": {
      "image/png": "[encoded data removed]",
      "text/plain": [
       "<Figure size 432x288 with 1 Axes>"
      ]
     },
     "metadata": {
      "needs_background": "light"
     },
     "output_type": "display_data"
    },
    {
     "name": "stdout",
     "output_type": "stream",
     "text": [
      "\n",
      "\n",
      "478\n",
      "time: 898 --> sensor: <sensor3>, sensor type: MotionSensorBinary data: TRUE\n",
      "real:  [nan nan]\n",
      "simu:  [50.         10.05357143]\n"
     ]
    },
    {
     "data": {
      "image/png": "[encoded data removed]",
      "text/plain": [
       "<Figure size 432x288 with 1 Axes>"
      ]
     },
     "metadata": {
      "needs_background": "light"
     },
     "output_type": "display_data"
    },
    {
     "name": "stdout",
     "output_type": "stream",
     "text": [
      "\n",
      "\n",
      "time: 898 --> sensor: <sensor6>, sensor type: MotionSensorBinary data: TRUE\n",
      "real:  [nan nan]\n",
      "simu:  [ 9.         22.05357143]\n"
     ]
    },
    {
     "data": {
      "image/png": "[encoded data removed]",
      "text/plain": [
       "<Figure size 432x288 with 1 Axes>"
      ]
     },
     "metadata": {
      "needs_background": "light"
     },
     "output_type": "display_data"
    },
    {
     "name": "stdout",
     "output_type": "stream",
     "text": [
      "\n",
      "\n",
      "477\n",
      "time: 896 --> sensor: <sensor3>, sensor type: MotionSensorBinary data: TRUE\n",
      "real:  [53.92153 83.51711]\n",
      "simu:  [50.         10.05357143]\n"
     ]
    },
    {
     "data": {
      "image/png": "[encoded data removed]",
      "text/plain": [
       "<Figure size 432x288 with 1 Axes>"
      ]
     },
     "metadata": {
      "needs_background": "light"
     },
     "output_type": "display_data"
    },
    {
     "name": "stdout",
     "output_type": "stream",
     "text": [
      "\n",
      "\n",
      "time: 896 --> sensor: <sensor6>, sensor type: MotionSensorBinary data: TRUE\n",
      "real:  [53.92153 83.51711]\n",
      "simu:  [ 9.         22.05357143]\n"
     ]
    },
    {
     "data": {
      "image/png": "[encoded data removed]",
      "text/plain": [
       "<Figure size 432x288 with 1 Axes>"
      ]
     },
     "metadata": {
      "needs_background": "light"
     },
     "output_type": "display_data"
    },
    {
     "name": "stdout",
     "output_type": "stream",
     "text": [
      "\n",
      "\n",
      "476\n",
      "time: 894 --> sensor: <sensor3>, sensor type: MotionSensorBinary data: TRUE\n",
      "real:  [53.45942 73.51594]\n",
      "simu:  [50.         10.05357143]\n"
     ]
    },
    {
     "data": {
      "image/png": "[encoded data removed]",
      "text/plain": [
       "<Figure size 432x288 with 1 Axes>"
      ]
     },
     "metadata": {
      "needs_background": "light"
     },
     "output_type": "display_data"
    },
    {
     "name": "stdout",
     "output_type": "stream",
     "text": [
      "\n",
      "\n",
      "time: 894 --> sensor: <sensor6>, sensor type: MotionSensorBinary data: TRUE\n",
      "real:  [53.45942 73.51594]\n",
      "simu:  [ 9.         22.05357143]\n"
     ]
    },
    {
     "data": {
      "image/png": "[encoded data removed]",
      "text/plain": [
       "<Figure size 432x288 with 1 Axes>"
      ]
     },
     "metadata": {
      "needs_background": "light"
     },
     "output_type": "display_data"
    },
    {
     "name": "stdout",
     "output_type": "stream",
     "text": [
      "\n",
      "\n",
      "475\n",
      "time: 892 --> sensor: <sensor3>, sensor type: MotionSensorBinary data: TRUE\n",
      "real:  [54.67742 63.59179]\n",
      "simu:  [50.         10.05357143]\n"
     ]
    },
    {
     "data": {
      "image/png": "[encoded data removed]",
      "text/plain": [
       "<Figure size 432x288 with 1 Axes>"
      ]
     },
     "metadata": {
      "needs_background": "light"
     },
     "output_type": "display_data"
    },
    {
     "name": "stdout",
     "output_type": "stream",
     "text": [
      "\n",
      "\n",
      "time: 892 --> sensor: <sensor6>, sensor type: MotionSensorBinary data: TRUE\n",
      "real:  [54.67742 63.59179]\n",
      "simu:  [ 9.         22.05357143]\n"
     ]
    },
    {
     "data": {
      "image/png": "[encoded data removed]",
      "text/plain": [
       "<Figure size 432x288 with 1 Axes>"
      ]
     },
     "metadata": {
      "needs_background": "light"
     },
     "output_type": "display_data"
    },
    {
     "name": "stdout",
     "output_type": "stream",
     "text": [
      "\n",
      "\n",
      "474\n",
      "time: 890 --> sensor: <sensor3>, sensor type: MotionSensorBinary data: TRUE\n",
      "real:  [57.     55.6933]\n",
      "simu:  [50.         10.05357143]\n"
     ]
    },
    {
     "data": {
      "image/png": "[encoded data removed]",
      "text/plain": [
       "<Figure size 432x288 with 1 Axes>"
      ]
     },
     "metadata": {
      "needs_background": "light"
     },
     "output_type": "display_data"
    },
    {
     "name": "stdout",
     "output_type": "stream",
     "text": [
      "\n",
      "\n",
      "time: 890 --> sensor: <sensor6>, sensor type: MotionSensorBinary data: TRUE\n",
      "real:  [57.     55.6933]\n",
      "simu:  [ 9.         22.05357143]\n"
     ]
    },
    {
     "data": {
      "image/png": "[encoded data removed]",
      "text/plain": [
       "<Figure size 432x288 with 1 Axes>"
      ]
     },
     "metadata": {
      "needs_background": "light"
     },
     "output_type": "display_data"
    },
    {
     "name": "stdout",
     "output_type": "stream",
     "text": [
      "\n",
      "\n",
      "473\n",
      "time: 888 --> sensor: <sensor3>, sensor type: MotionSensorBinary data: TRUE\n",
      "real:  [54.2     46.45807]\n",
      "simu:  [50.         10.05357143]\n"
     ]
    },
    {
     "data": {
      "image/png": "[encoded data removed]",
      "text/plain": [
       "<Figure size 432x288 with 1 Axes>"
      ]
     },
     "metadata": {
      "needs_background": "light"
     },
     "output_type": "display_data"
    },
    {
     "name": "stdout",
     "output_type": "stream",
     "text": [
      "\n",
      "\n",
      "time: 888 --> sensor: <sensor6>, sensor type: MotionSensorBinary data: TRUE\n",
      "real:  [54.2     46.45807]\n",
      "simu:  [ 9.         22.05357143]\n"
     ]
    },
    {
     "data": {
      "image/png": "[encoded data removed]",
      "text/plain": [
       "<Figure size 432x288 with 1 Axes>"
      ]
     },
     "metadata": {
      "needs_background": "light"
     },
     "output_type": "display_data"
    },
    {
     "name": "stdout",
     "output_type": "stream",
     "text": [
      "\n",
      "\n",
      "472\n",
      "time: 886 --> sensor: <sensor6>, sensor type: MotionSensorBinary data: TRUE\n",
      "real:  [54.26003 36.50895]\n",
      "simu:  [ 9.         22.05357143]\n"
     ]
    },
    {
     "data": {
      "image/png": "[encoded data removed]",
      "text/plain": [
       "<Figure size 432x288 with 1 Axes>"
      ]
     },
     "metadata": {
      "needs_background": "light"
     },
     "output_type": "display_data"
    },
    {
     "name": "stdout",
     "output_type": "stream",
     "text": [
      "\n",
      "\n",
      "471\n",
      "time: 884 --> sensor: <sensor6>, sensor type: MotionSensorBinary data: TRUE\n",
      "real:  [54.77694 26.46886]\n",
      "simu:  [ 9.         22.05357143]\n"
     ]
    },
    {
     "data": {
      "image/png": "[encoded data removed]",
      "text/plain": [
       "<Figure size 432x288 with 1 Axes>"
      ]
     },
     "metadata": {
      "needs_background": "light"
     },
     "output_type": "display_data"
    },
    {
     "name": "stdout",
     "output_type": "stream",
     "text": [
      "\n",
      "\n",
      "470\n",
      "time: 882 --> sensor: <sensor6>, sensor type: MotionSensorBinary data: TRUE\n",
      "real:  [55.27221 16.39842]\n",
      "simu:  [ 9.         22.05357143]\n"
     ]
    },
    {
     "data": {
      "image/png": "[encoded data removed]",
      "text/plain": [
       "<Figure size 432x288 with 1 Axes>"
      ]
     },
     "metadata": {
      "needs_background": "light"
     },
     "output_type": "display_data"
    },
    {
     "name": "stdout",
     "output_type": "stream",
     "text": [
      "\n",
      "\n",
      "469\n",
      "time: 881 --> sensor: <sensor6>, sensor type: MotionSensorBinary data: TRUE\n",
      "real:  [55.4 13.8]\n",
      "simu:  [ 9.         22.05357143]\n"
     ]
    },
    {
     "data": {
      "image/png": "[encoded data removed]",
      "text/plain": [
       "<Figure size 432x288 with 1 Axes>"
      ]
     },
     "metadata": {
      "needs_background": "light"
     },
     "output_type": "display_data"
    },
    {
     "name": "stdout",
     "output_type": "stream",
     "text": [
      "\n",
      "\n",
      "468\n",
      "time: 879 --> sensor: <sensor6>, sensor type: MotionSensorBinary data: TRUE\n",
      "real:  [nan nan]\n",
      "simu:  [ 9.         22.05357143]\n",
      "real:  [nan nan]\n",
      "simu:  [ 9.         22.05357143]\n"
     ]
    },
    {
     "data": {
      "image/png": "[encoded data removed]",
      "text/plain": [
       "<Figure size 432x288 with 1 Axes>"
      ]
     },
     "metadata": {
      "needs_background": "light"
     },
     "output_type": "display_data"
    },
    {
     "name": "stdout",
     "output_type": "stream",
     "text": [
      "\n",
      "\n",
      "467\n",
      "time: 877 --> sensor: <sensor6>, sensor type: MotionSensorBinary data: TRUE\n",
      "real:  [nan nan]\n",
      "simu:  [ 9.         22.05357143]\n"
     ]
    },
    {
     "data": {
      "image/png": "[encoded data removed]",
      "text/plain": [
       "<Figure size 432x288 with 1 Axes>"
      ]
     },
     "metadata": {
      "needs_background": "light"
     },
     "output_type": "display_data"
    },
    {
     "name": "stdout",
     "output_type": "stream",
     "text": [
      "\n",
      "\n",
      "466\n",
      "time: 875 --> sensor: <sensor6>, sensor type: MotionSensorBinary data: TRUE\n",
      "real:  [nan nan]\n",
      "simu:  [ 9.         22.05357143]\n"
     ]
    },
    {
     "data": {
      "image/png": "[encoded data removed]",
      "text/plain": [
       "<Figure size 432x288 with 1 Axes>"
      ]
     },
     "metadata": {
      "needs_background": "light"
     },
     "output_type": "display_data"
    },
    {
     "name": "stdout",
     "output_type": "stream",
     "text": [
      "\n",
      "\n",
      "465\n",
      "time: 874 --> sensor: <sensor6>, sensor type: MotionSensorBinary data: TRUE\n",
      "real:  [55.41316 18.39999]\n",
      "simu:  [ 9.         22.05357143]\n"
     ]
    },
    {
     "data": {
      "image/png": "[encoded data removed]",
      "text/plain": [
       "<Figure size 432x288 with 1 Axes>"
      ]
     },
     "metadata": {
      "needs_background": "light"
     },
     "output_type": "display_data"
    },
    {
     "name": "stdout",
     "output_type": "stream",
     "text": [
      "\n",
      "\n",
      "464\n",
      "time: 872 --> sensor: <sensor6>, sensor type: MotionSensorBinary data: TRUE\n",
      "real:  [55.50382 25.28981]\n",
      "simu:  [ 9.         22.05357143]\n"
     ]
    },
    {
     "data": {
      "image/png": "[encoded data removed]",
      "text/plain": [
       "<Figure size 432x288 with 1 Axes>"
      ]
     },
     "metadata": {
      "needs_background": "light"
     },
     "output_type": "display_data"
    },
    {
     "name": "stdout",
     "output_type": "stream",
     "text": [
      "\n",
      "\n",
      "463\n",
      "time: 870 --> sensor: <sensor6>, sensor type: MotionSensorBinary data: TRUE\n",
      "real:  [nan nan]\n",
      "simu:  [ 9.         22.05357143]\n"
     ]
    },
    {
     "data": {
      "image/png": "[encoded data removed]",
      "text/plain": [
       "<Figure size 432x288 with 1 Axes>"
      ]
     },
     "metadata": {
      "needs_background": "light"
     },
     "output_type": "display_data"
    },
    {
     "name": "stdout",
     "output_type": "stream",
     "text": [
      "\n",
      "\n",
      "462\n",
      "time: 868 --> sensor: <sensor6>, sensor type: MotionSensorBinary data: TRUE\n",
      "real:  [nan nan]\n",
      "simu:  [ 9.         22.05357143]\n"
     ]
    },
    {
     "data": {
      "image/png": "[encoded data removed]",
      "text/plain": [
       "<Figure size 432x288 with 1 Axes>"
      ]
     },
     "metadata": {
      "needs_background": "light"
     },
     "output_type": "display_data"
    },
    {
     "name": "stdout",
     "output_type": "stream",
     "text": [
      "\n",
      "\n",
      "461\n",
      "time: 868 --> sensor: <sensor6>, sensor type: MotionSensorBinary data: TRUE\n",
      "real:  [55.41366 26.18043]\n",
      "simu:  [ 9.         22.05357143]\n"
     ]
    },
    {
     "data": {
      "image/png": "[encoded data removed]",
      "text/plain": [
       "<Figure size 432x288 with 1 Axes>"
      ]
     },
     "metadata": {
      "needs_background": "light"
     },
     "output_type": "display_data"
    },
    {
     "name": "stdout",
     "output_type": "stream",
     "text": [
      "\n",
      "\n",
      "460\n",
      "time: 866 --> sensor: <sensor6>, sensor type: MotionSensorBinary data: TRUE\n",
      "real:  [54.46436 35.55918]\n",
      "simu:  [ 9.         22.05357143]\n",
      "real:  [54.46436 35.55918]\n",
      "simu:  [ 9.         22.05357143]\n"
     ]
    },
    {
     "data": {
      "image/png": "[encoded data removed]",
      "text/plain": [
       "<Figure size 432x288 with 1 Axes>"
      ]
     },
     "metadata": {
      "needs_background": "light"
     },
     "output_type": "display_data"
    },
    {
     "name": "stdout",
     "output_type": "stream",
     "text": [
      "\n",
      "\n",
      "459\n",
      "time: 864 --> sensor: <sensor3>, sensor type: MotionSensorBinary data: TRUE\n",
      "real:  [54.18894 45.59551]\n",
      "simu:  [50.         10.05357143]\n"
     ]
    },
    {
     "data": {
      "image/png": "[encoded data removed]",
      "text/plain": [
       "<Figure size 432x288 with 1 Axes>"
      ]
     },
     "metadata": {
      "needs_background": "light"
     },
     "output_type": "display_data"
    },
    {
     "name": "stdout",
     "output_type": "stream",
     "text": [
      "\n",
      "\n",
      "time: 864 --> sensor: <sensor6>, sensor type: MotionSensorBinary data: TRUE\n",
      "real:  [54.18894 45.59551]\n",
      "simu:  [ 9.         22.05357143]\n"
     ]
    },
    {
     "data": {
      "image/png": "[encoded data removed]",
      "text/plain": [
       "<Figure size 432x288 with 1 Axes>"
      ]
     },
     "metadata": {
      "needs_background": "light"
     },
     "output_type": "display_data"
    },
    {
     "name": "stdout",
     "output_type": "stream",
     "text": [
      "\n",
      "\n",
      "458\n",
      "time: 862 --> sensor: <sensor3>, sensor type: MotionSensorBinary data: TRUE\n",
      "real:  [57.00651 55.05398]\n",
      "simu:  [50.         10.05357143]\n"
     ]
    },
    {
     "data": {
      "image/png": "[encoded data removed]",
      "text/plain": [
       "<Figure size 432x288 with 1 Axes>"
      ]
     },
     "metadata": {
      "needs_background": "light"
     },
     "output_type": "display_data"
    },
    {
     "name": "stdout",
     "output_type": "stream",
     "text": [
      "\n",
      "\n",
      "time: 862 --> sensor: <sensor6>, sensor type: MotionSensorBinary data: TRUE\n",
      "real:  [57.00651 55.05398]\n",
      "simu:  [ 9.         22.05357143]\n"
     ]
    },
    {
     "data": {
      "image/png": "[encoded data removed]",
      "text/plain": [
       "<Figure size 432x288 with 1 Axes>"
      ]
     },
     "metadata": {
      "needs_background": "light"
     },
     "output_type": "display_data"
    },
    {
     "name": "stdout",
     "output_type": "stream",
     "text": [
      "\n",
      "\n",
      "457\n",
      "time: 860 --> sensor: <sensor3>, sensor type: MotionSensorBinary data: TRUE\n",
      "real:  [54.60673 63.9059 ]\n",
      "simu:  [50.         10.05357143]\n"
     ]
    },
    {
     "data": {
      "image/png": "[encoded data removed]",
      "text/plain": [
       "<Figure size 432x288 with 1 Axes>"
      ]
     },
     "metadata": {
      "needs_background": "light"
     },
     "output_type": "display_data"
    },
    {
     "name": "stdout",
     "output_type": "stream",
     "text": [
      "\n",
      "\n",
      "time: 860 --> sensor: <sensor6>, sensor type: MotionSensorBinary data: TRUE\n",
      "real:  [54.60673 63.9059 ]\n",
      "simu:  [ 9.         22.05357143]\n"
     ]
    },
    {
     "data": {
      "image/png": "[encoded data removed]",
      "text/plain": [
       "<Figure size 432x288 with 1 Axes>"
      ]
     },
     "metadata": {
      "needs_background": "light"
     },
     "output_type": "display_data"
    },
    {
     "name": "stdout",
     "output_type": "stream",
     "text": [
      "\n",
      "\n",
      "456\n",
      "time: 858 --> sensor: <sensor3>, sensor type: MotionSensorBinary data: TRUE\n",
      "real:  [53.47182 73.81641]\n",
      "simu:  [50.         10.05357143]\n"
     ]
    },
    {
     "data": {
      "image/png": "[encoded data removed]",
      "text/plain": [
       "<Figure size 432x288 with 1 Axes>"
      ]
     },
     "metadata": {
      "needs_background": "light"
     },
     "output_type": "display_data"
    },
    {
     "name": "stdout",
     "output_type": "stream",
     "text": [
      "\n",
      "\n",
      "time: 858 --> sensor: <sensor6>, sensor type: MotionSensorBinary data: TRUE\n",
      "real:  [53.47182 73.81641]\n",
      "simu:  [ 9.         22.05357143]\n"
     ]
    },
    {
     "data": {
      "image/png": "[encoded data removed]",
      "text/plain": [
       "<Figure size 432x288 with 1 Axes>"
      ]
     },
     "metadata": {
      "needs_background": "light"
     },
     "output_type": "display_data"
    },
    {
     "name": "stdout",
     "output_type": "stream",
     "text": [
      "\n",
      "\n",
      "455\n",
      "time: 856 --> sensor: <sensor3>, sensor type: MotionSensorBinary data: TRUE\n",
      "real:  [53.9338  83.82074]\n",
      "simu:  [50.         10.05357143]\n"
     ]
    },
    {
     "data": {
      "image/png": "[encoded data removed]",
      "text/plain": [
       "<Figure size 432x288 with 1 Axes>"
      ]
     },
     "metadata": {
      "needs_background": "light"
     },
     "output_type": "display_data"
    },
    {
     "name": "stdout",
     "output_type": "stream",
     "text": [
      "\n",
      "\n",
      "time: 856 --> sensor: <sensor6>, sensor type: MotionSensorBinary data: TRUE\n",
      "real:  [53.9338  83.82074]\n",
      "simu:  [ 9.         22.05357143]\n"
     ]
    },
    {
     "data": {
      "image/png": "[encoded data removed]",
      "text/plain": [
       "<Figure size 432x288 with 1 Axes>"
      ]
     },
     "metadata": {
      "needs_background": "light"
     },
     "output_type": "display_data"
    },
    {
     "name": "stdout",
     "output_type": "stream",
     "text": [
      "\n",
      "\n",
      "454\n",
      "time: 854 --> sensor: <sensor3>, sensor type: MotionSensorBinary data: TRUE\n",
      "real:  [nan nan]\n",
      "simu:  [50.         10.05357143]\n"
     ]
    },
    {
     "data": {
      "image/png": "[encoded data removed]",
      "text/plain": [
       "<Figure size 432x288 with 1 Axes>"
      ]
     },
     "metadata": {
      "needs_background": "light"
     },
     "output_type": "display_data"
    },
    {
     "name": "stdout",
     "output_type": "stream",
     "text": [
      "\n",
      "\n",
      "time: 854 --> sensor: <sensor6>, sensor type: MotionSensorBinary data: TRUE\n",
      "real:  [nan nan]\n",
      "simu:  [ 9.         22.05357143]\n"
     ]
    },
    {
     "data": {
      "image/png": "[encoded data removed]",
      "text/plain": [
       "<Figure size 432x288 with 1 Axes>"
      ]
     },
     "metadata": {
      "needs_background": "light"
     },
     "output_type": "display_data"
    },
    {
     "name": "stdout",
     "output_type": "stream",
     "text": [
      "\n",
      "\n",
      "453\n",
      "time: 852 --> sensor: <sensor3>, sensor type: MotionSensorBinary data: TRUE\n",
      "real:  [nan nan]\n",
      "simu:  [50.         10.05357143]\n"
     ]
    },
    {
     "data": {
      "image/png": "[encoded data removed]",
      "text/plain": [
       "<Figure size 432x288 with 1 Axes>"
      ]
     },
     "metadata": {
      "needs_background": "light"
     },
     "output_type": "display_data"
    },
    {
     "name": "stdout",
     "output_type": "stream",
     "text": [
      "\n",
      "\n",
      "time: 852 --> sensor: <sensor6>, sensor type: MotionSensorBinary data: TRUE\n",
      "real:  [nan nan]\n",
      "simu:  [ 9.         22.05357143]\n",
      "real:  [nan nan]\n",
      "simu:  [ 9.         22.05357143]\n"
     ]
    },
    {
     "data": {
      "image/png": "[encoded data removed]",
      "text/plain": [
       "<Figure size 432x288 with 1 Axes>"
      ]
     },
     "metadata": {
      "needs_background": "light"
     },
     "output_type": "display_data"
    },
    {
     "name": "stdout",
     "output_type": "stream",
     "text": [
      "\n",
      "\n",
      "452\n",
      "time: 850 --> sensor: <sensor3>, sensor type: MotionSensorBinary data: TRUE\n",
      "real:  [nan nan]\n",
      "simu:  [50.         10.05357143]\n"
     ]
    },
    {
     "data": {
      "image/png": "[encoded data removed]",
      "text/plain": [
       "<Figure size 432x288 with 1 Axes>"
      ]
     },
     "metadata": {
      "needs_background": "light"
     },
     "output_type": "display_data"
    },
    {
     "name": "stdout",
     "output_type": "stream",
     "text": [
      "\n",
      "\n",
      "time: 850 --> sensor: <sensor6>, sensor type: MotionSensorBinary data: TRUE\n",
      "real:  [nan nan]\n",
      "simu:  [ 9.         22.05357143]\n"
     ]
    },
    {
     "data": {
      "image/png": "[encoded data removed]",
      "text/plain": [
       "<Figure size 432x288 with 1 Axes>"
      ]
     },
     "metadata": {
      "needs_background": "light"
     },
     "output_type": "display_data"
    },
    {
     "name": "stdout",
     "output_type": "stream",
     "text": [
      "\n",
      "\n",
      "451\n",
      "time: 848 --> sensor: <sensor3>, sensor type: MotionSensorBinary data: TRUE\n",
      "real:  [nan nan]\n",
      "simu:  [50.         10.05357143]\n"
     ]
    },
    {
     "data": {
      "image/png": "[encoded data removed]",
      "text/plain": [
       "<Figure size 432x288 with 1 Axes>"
      ]
     },
     "metadata": {
      "needs_background": "light"
     },
     "output_type": "display_data"
    },
    {
     "name": "stdout",
     "output_type": "stream",
     "text": [
      "\n",
      "\n",
      "time: 848 --> sensor: <sensor6>, sensor type: MotionSensorBinary data: TRUE\n",
      "real:  [nan nan]\n",
      "simu:  [ 9.         22.05357143]\n"
     ]
    },
    {
     "data": {
      "image/png": "[encoded data removed]",
      "text/plain": [
       "<Figure size 432x288 with 1 Axes>"
      ]
     },
     "metadata": {
      "needs_background": "light"
     },
     "output_type": "display_data"
    },
    {
     "name": "stdout",
     "output_type": "stream",
     "text": [
      "\n",
      "\n",
      "450\n",
      "time: 846 --> sensor: <sensor3>, sensor type: MotionSensorBinary data: TRUE\n",
      "real:  [nan nan]\n",
      "simu:  [50.         10.05357143]\n"
     ]
    },
    {
     "data": {
      "image/png": "[encoded data removed]",
      "text/plain": [
       "<Figure size 432x288 with 1 Axes>"
      ]
     },
     "metadata": {
      "needs_background": "light"
     },
     "output_type": "display_data"
    },
    {
     "name": "stdout",
     "output_type": "stream",
     "text": [
      "\n",
      "\n",
      "time: 846 --> sensor: <sensor6>, sensor type: MotionSensorBinary data: TRUE\n",
      "real:  [nan nan]\n",
      "simu:  [ 9.         22.05357143]\n",
      "real:  [nan nan]\n",
      "simu:  [ 9.         22.05357143]\n"
     ]
    },
    {
     "data": {
      "image/png": "[encoded data removed]",
      "text/plain": [
       "<Figure size 432x288 with 1 Axes>"
      ]
     },
     "metadata": {
      "needs_background": "light"
     },
     "output_type": "display_data"
    },
    {
     "name": "stdout",
     "output_type": "stream",
     "text": [
      "\n",
      "\n",
      "449\n",
      "time: 844 --> sensor: <sensor3>, sensor type: MotionSensorBinary data: TRUE\n",
      "real:  [nan nan]\n",
      "simu:  [50.         10.05357143]\n"
     ]
    },
    {
     "data": {
      "image/png": "[encoded data removed]",
      "text/plain": [
       "<Figure size 432x288 with 1 Axes>"
      ]
     },
     "metadata": {
      "needs_background": "light"
     },
     "output_type": "display_data"
    },
    {
     "name": "stdout",
     "output_type": "stream",
     "text": [
      "\n",
      "\n",
      "time: 844 --> sensor: <sensor6>, sensor type: MotionSensorBinary data: TRUE\n",
      "real:  [nan nan]\n",
      "simu:  [ 9.         22.05357143]\n"
     ]
    },
    {
     "data": {
      "image/png": "[encoded data removed]",
      "text/plain": [
       "<Figure size 432x288 with 1 Axes>"
      ]
     },
     "metadata": {
      "needs_background": "light"
     },
     "output_type": "display_data"
    },
    {
     "name": "stdout",
     "output_type": "stream",
     "text": [
      "\n",
      "\n",
      "448\n",
      "time: 842 --> sensor: <sensor3>, sensor type: MotionSensorBinary data: TRUE\n",
      "real:  [nan nan]\n",
      "simu:  [50.         10.05357143]\n"
     ]
    },
    {
     "data": {
      "image/png": "[encoded data removed]",
      "text/plain": [
       "<Figure size 432x288 with 1 Axes>"
      ]
     },
     "metadata": {
      "needs_background": "light"
     },
     "output_type": "display_data"
    },
    {
     "name": "stdout",
     "output_type": "stream",
     "text": [
      "\n",
      "\n",
      "time: 842 --> sensor: <sensor6>, sensor type: MotionSensorBinary data: TRUE\n",
      "real:  [nan nan]\n",
      "simu:  [ 9.         22.05357143]\n"
     ]
    },
    {
     "data": {
      "image/png": "[encoded data removed]",
      "text/plain": [
       "<Figure size 432x288 with 1 Axes>"
      ]
     },
     "metadata": {
      "needs_background": "light"
     },
     "output_type": "display_data"
    },
    {
     "name": "stdout",
     "output_type": "stream",
     "text": [
      "\n",
      "\n",
      "447\n",
      "time: 841 --> sensor: <sensor3>, sensor type: MotionSensorBinary data: TRUE\n",
      "real:  [52.60331 84.5117 ]\n",
      "simu:  [50.         10.05357143]\n",
      "real:  [52.60331 84.5117 ]\n",
      "simu:  [50.         10.05357143]\n"
     ]
    },
    {
     "data": {
      "image/png": "[encoded data removed]",
      "text/plain": [
       "<Figure size 432x288 with 1 Axes>"
      ]
     },
     "metadata": {
      "needs_background": "light"
     },
     "output_type": "display_data"
    },
    {
     "name": "stdout",
     "output_type": "stream",
     "text": [
      "\n",
      "\n",
      "time: 841 --> sensor: <sensor6>, sensor type: MotionSensorBinary data: TRUE\n",
      "real:  [52.60331 84.5117 ]\n",
      "simu:  [ 9.         22.05357143]\n"
     ]
    },
    {
     "data": {
      "image/png": "[encoded data removed]",
      "text/plain": [
       "<Figure size 432x288 with 1 Axes>"
      ]
     },
     "metadata": {
      "needs_background": "light"
     },
     "output_type": "display_data"
    },
    {
     "name": "stdout",
     "output_type": "stream",
     "text": [
      "\n",
      "\n",
      "446\n",
      "time: 839 --> sensor: <sensor3>, sensor type: MotionSensorBinary data: TRUE\n",
      "real:  [48.14319 75.54321]\n",
      "simu:  [50.         10.05357143]\n"
     ]
    },
    {
     "data": {
      "image/png": "[encoded data removed]",
      "text/plain": [
       "<Figure size 432x288 with 1 Axes>"
      ]
     },
     "metadata": {
      "needs_background": "light"
     },
     "output_type": "display_data"
    },
    {
     "name": "stdout",
     "output_type": "stream",
     "text": [
      "\n",
      "\n",
      "time: 839 --> sensor: <sensor6>, sensor type: MotionSensorBinary data: TRUE\n",
      "real:  [48.14319 75.54321]\n",
      "simu:  [ 9.         22.05357143]\n"
     ]
    },
    {
     "data": {
      "image/png": "[encoded data removed]",
      "text/plain": [
       "<Figure size 432x288 with 1 Axes>"
      ]
     },
     "metadata": {
      "needs_background": "light"
     },
     "output_type": "display_data"
    },
    {
     "name": "stdout",
     "output_type": "stream",
     "text": [
      "\n",
      "\n",
      "445\n",
      "time: 837 --> sensor: <sensor3>, sensor type: MotionSensorBinary data: TRUE\n",
      "real:  [43.66533 66.53905]\n",
      "simu:  [50.         10.05357143]\n"
     ]
    },
    {
     "data": {
      "image/png": "[encoded data removed]",
      "text/plain": [
       "<Figure size 432x288 with 1 Axes>"
      ]
     },
     "metadata": {
      "needs_background": "light"
     },
     "output_type": "display_data"
    },
    {
     "name": "stdout",
     "output_type": "stream",
     "text": [
      "\n",
      "\n",
      "time: 837 --> sensor: <sensor6>, sensor type: MotionSensorBinary data: TRUE\n",
      "real:  [43.66533 66.53905]\n",
      "simu:  [ 9.         22.05357143]\n"
     ]
    },
    {
     "data": {
      "image/png": "[encoded data removed]",
      "text/plain": [
       "<Figure size 432x288 with 1 Axes>"
      ]
     },
     "metadata": {
      "needs_background": "light"
     },
     "output_type": "display_data"
    },
    {
     "name": "stdout",
     "output_type": "stream",
     "text": [
      "\n",
      "\n",
      "444\n",
      "time: 836 --> sensor: <sensor3>, sensor type: MotionSensorBinary data: TRUE\n",
      "real:  [41.8 61.6]\n",
      "simu:  [50.         10.05357143]\n"
     ]
    },
    {
     "data": {
      "image/png": "[encoded data removed]",
      "text/plain": [
       "<Figure size 432x288 with 1 Axes>"
      ]
     },
     "metadata": {
      "needs_background": "light"
     },
     "output_type": "display_data"
    },
    {
     "name": "stdout",
     "output_type": "stream",
     "text": [
      "\n",
      "\n",
      "time: 836 --> sensor: <sensor6>, sensor type: MotionSensorBinary data: TRUE\n",
      "real:  [41.8 61.6]\n",
      "simu:  [ 9.         22.05357143]\n"
     ]
    },
    {
     "data": {
      "image/png": "[encoded data removed]",
      "text/plain": [
       "<Figure size 432x288 with 1 Axes>"
      ]
     },
     "metadata": {
      "needs_background": "light"
     },
     "output_type": "display_data"
    },
    {
     "name": "stdout",
     "output_type": "stream",
     "text": [
      "\n",
      "\n",
      "443\n",
      "time: 834 --> sensor: <sensor3>, sensor type: MotionSensorBinary data: TRUE\n",
      "real:  [nan nan]\n",
      "simu:  [50.         10.05357143]\n"
     ]
    },
    {
     "data": {
      "image/png": "[encoded data removed]",
      "text/plain": [
       "<Figure size 432x288 with 1 Axes>"
      ]
     },
     "metadata": {
      "needs_background": "light"
     },
     "output_type": "display_data"
    },
    {
     "name": "stdout",
     "output_type": "stream",
     "text": [
      "\n",
      "\n",
      "time: 834 --> sensor: <sensor6>, sensor type: MotionSensorBinary data: TRUE\n",
      "real:  [nan nan]\n",
      "simu:  [ 9.         22.05357143]\n"
     ]
    },
    {
     "data": {
      "image/png": "[encoded data removed]",
      "text/plain": [
       "<Figure size 432x288 with 1 Axes>"
      ]
     },
     "metadata": {
      "needs_background": "light"
     },
     "output_type": "display_data"
    },
    {
     "name": "stdout",
     "output_type": "stream",
     "text": [
      "\n",
      "\n",
      "442\n",
      "time: 832 --> sensor: <sensor3>, sensor type: MotionSensorBinary data: TRUE\n",
      "real:  [nan nan]\n",
      "simu:  [50.         10.05357143]\n"
     ]
    },
    {
     "data": {
      "image/png": "[encoded data removed]",
      "text/plain": [
       "<Figure size 432x288 with 1 Axes>"
      ]
     },
     "metadata": {
      "needs_background": "light"
     },
     "output_type": "display_data"
    },
    {
     "name": "stdout",
     "output_type": "stream",
     "text": [
      "\n",
      "\n",
      "time: 832 --> sensor: <sensor6>, sensor type: MotionSensorBinary data: TRUE\n",
      "real:  [nan nan]\n",
      "simu:  [ 9.         22.05357143]\n"
     ]
    },
    {
     "data": {
      "image/png": "[encoded data removed]",
      "text/plain": [
       "<Figure size 432x288 with 1 Axes>"
      ]
     },
     "metadata": {
      "needs_background": "light"
     },
     "output_type": "display_data"
    },
    {
     "name": "stdout",
     "output_type": "stream",
     "text": [
      "\n",
      "\n",
      "441\n",
      "time: 830 --> sensor: <sensor3>, sensor type: MotionSensorBinary data: TRUE\n",
      "real:  [nan nan]\n",
      "simu:  [50.         10.05357143]\n"
     ]
    },
    {
     "data": {
      "image/png": "[encoded data removed]",
      "text/plain": [
       "<Figure size 432x288 with 1 Axes>"
      ]
     },
     "metadata": {
      "needs_background": "light"
     },
     "output_type": "display_data"
    },
    {
     "name": "stdout",
     "output_type": "stream",
     "text": [
      "\n",
      "\n",
      "time: 830 --> sensor: <sensor6>, sensor type: MotionSensorBinary data: TRUE\n",
      "real:  [nan nan]\n",
      "simu:  [ 9.         22.05357143]\n"
     ]
    },
    {
     "data": {
      "image/png": "[encoded data removed]",
      "text/plain": [
       "<Figure size 432x288 with 1 Axes>"
      ]
     },
     "metadata": {
      "needs_background": "light"
     },
     "output_type": "display_data"
    },
    {
     "name": "stdout",
     "output_type": "stream",
     "text": [
      "\n",
      "\n",
      "440\n",
      "time: 829 --> sensor: <sensor3>, sensor type: MotionSensorBinary data: TRUE\n",
      "real:  [39.79625 61.638  ]\n",
      "simu:  [50.         10.05357143]\n"
     ]
    },
    {
     "data": {
      "image/png": "[encoded data removed]",
      "text/plain": [
       "<Figure size 432x288 with 1 Axes>"
      ]
     },
     "metadata": {
      "needs_background": "light"
     },
     "output_type": "display_data"
    },
    {
     "name": "stdout",
     "output_type": "stream",
     "text": [
      "\n",
      "\n",
      "time: 829 --> sensor: <sensor6>, sensor type: MotionSensorBinary data: TRUE\n",
      "real:  [39.79625 61.638  ]\n",
      "simu:  [ 9.         22.05357143]\n"
     ]
    },
    {
     "data": {
      "image/png": "[encoded data removed]",
      "text/plain": [
       "<Figure size 432x288 with 1 Axes>"
      ]
     },
     "metadata": {
      "needs_background": "light"
     },
     "output_type": "display_data"
    },
    {
     "name": "stdout",
     "output_type": "stream",
     "text": [
      "\n",
      "\n",
      "439\n",
      "time: 827 --> sensor: <sensor3>, sensor type: MotionSensorBinary data: TRUE\n",
      "real:  [34.39067 55.0543 ]\n",
      "simu:  [50.         10.05357143]\n"
     ]
    },
    {
     "data": {
      "image/png": "[encoded data removed]",
      "text/plain": [
       "<Figure size 432x288 with 1 Axes>"
      ]
     },
     "metadata": {
      "needs_background": "light"
     },
     "output_type": "display_data"
    },
    {
     "name": "stdout",
     "output_type": "stream",
     "text": [
      "\n",
      "\n",
      "time: 827 --> sensor: <sensor6>, sensor type: MotionSensorBinary data: TRUE\n",
      "real:  [34.39067 55.0543 ]\n",
      "simu:  [ 9.         22.05357143]\n",
      "real:  [34.39067 55.0543 ]\n",
      "simu:  [ 9.         22.05357143]\n"
     ]
    },
    {
     "data": {
      "image/png": "[encoded data removed]",
      "text/plain": [
       "<Figure size 432x288 with 1 Axes>"
      ]
     },
     "metadata": {
      "needs_background": "light"
     },
     "output_type": "display_data"
    },
    {
     "name": "stdout",
     "output_type": "stream",
     "text": [
      "\n",
      "\n",
      "438\n",
      "time: 825 --> sensor: <sensor3>, sensor type: MotionSensorBinary data: TRUE\n",
      "real:  [36.81546 45.4103 ]\n",
      "simu:  [50.         10.05357143]\n"
     ]
    },
    {
     "data": {
      "image/png": "[encoded data removed]",
      "text/plain": [
       "<Figure size 432x288 with 1 Axes>"
      ]
     },
     "metadata": {
      "needs_background": "light"
     },
     "output_type": "display_data"
    },
    {
     "name": "stdout",
     "output_type": "stream",
     "text": [
      "\n",
      "\n",
      "time: 825 --> sensor: <sensor6>, sensor type: MotionSensorBinary data: TRUE\n",
      "real:  [36.81546 45.4103 ]\n",
      "simu:  [ 9.         22.05357143]\n"
     ]
    },
    {
     "data": {
      "image/png": "[encoded data removed]",
      "text/plain": [
       "<Figure size 432x288 with 1 Axes>"
      ]
     },
     "metadata": {
      "needs_background": "light"
     },
     "output_type": "display_data"
    },
    {
     "name": "stdout",
     "output_type": "stream",
     "text": [
      "\n",
      "\n",
      "437\n",
      "time: 823 --> sensor: <sensor6>, sensor type: MotionSensorBinary data: TRUE\n",
      "real:  [39.07589 35.69822]\n",
      "simu:  [ 9.         22.05357143]\n"
     ]
    },
    {
     "data": {
      "image/png": "[encoded data removed]",
      "text/plain": [
       "<Figure size 432x288 with 1 Axes>"
      ]
     },
     "metadata": {
      "needs_background": "light"
     },
     "output_type": "display_data"
    },
    {
     "name": "stdout",
     "output_type": "stream",
     "text": [
      "\n",
      "\n",
      "436\n",
      "time: 821 --> sensor: <sensor6>, sensor type: MotionSensorBinary data: TRUE\n",
      "real:  [39.94289 25.6851 ]\n",
      "simu:  [ 9.         22.05357143]\n"
     ]
    },
    {
     "data": {
      "image/png": "[encoded data removed]",
      "text/plain": [
       "<Figure size 432x288 with 1 Axes>"
      ]
     },
     "metadata": {
      "needs_background": "light"
     },
     "output_type": "display_data"
    },
    {
     "name": "stdout",
     "output_type": "stream",
     "text": [
      "\n",
      "\n",
      "435\n",
      "time: 820 --> sensor: <sensor6>, sensor type: MotionSensorBinary data: TRUE\n",
      "real:  [40.      25.02968]\n",
      "simu:  [ 9.         22.05357143]\n"
     ]
    },
    {
     "data": {
      "image/png": "[encoded data removed]",
      "text/plain": [
       "<Figure size 432x288 with 1 Axes>"
      ]
     },
     "metadata": {
      "needs_background": "light"
     },
     "output_type": "display_data"
    },
    {
     "name": "stdout",
     "output_type": "stream",
     "text": [
      "\n",
      "\n",
      "434\n",
      "time: 818 --> sensor: <sensor6>, sensor type: MotionSensorBinary data: TRUE\n",
      "real:  [nan nan]\n",
      "simu:  [ 9.         22.05357143]\n"
     ]
    },
    {
     "data": {
      "image/png": "[encoded data removed]",
      "text/plain": [
       "<Figure size 432x288 with 1 Axes>"
      ]
     },
     "metadata": {
      "needs_background": "light"
     },
     "output_type": "display_data"
    },
    {
     "name": "stdout",
     "output_type": "stream",
     "text": [
      "\n",
      "\n",
      "433\n",
      "time: 816 --> sensor: <sensor6>, sensor type: MotionSensorBinary data: TRUE\n",
      "real:  [nan nan]\n",
      "simu:  [ 9.         22.05357143]\n"
     ]
    },
    {
     "data": {
      "image/png": "[encoded data removed]",
      "text/plain": [
       "<Figure size 432x288 with 1 Axes>"
      ]
     },
     "metadata": {
      "needs_background": "light"
     },
     "output_type": "display_data"
    },
    {
     "name": "stdout",
     "output_type": "stream",
     "text": [
      "\n",
      "\n",
      "432\n",
      "time: 814 --> sensor: <sensor6>, sensor type: MotionSensorBinary data: TRUE\n",
      "real:  [nan nan]\n",
      "simu:  [ 9.         22.05357143]\n"
     ]
    },
    {
     "data": {
      "image/png": "[encoded data removed]",
      "text/plain": [
       "<Figure size 432x288 with 1 Axes>"
      ]
     },
     "metadata": {
      "needs_background": "light"
     },
     "output_type": "display_data"
    },
    {
     "name": "stdout",
     "output_type": "stream",
     "text": [
      "\n",
      "\n",
      "431\n",
      "time: 812 --> sensor: <sensor6>, sensor type: MotionSensorBinary data: TRUE\n",
      "real:  [nan nan]\n",
      "simu:  [ 9.         22.05357143]\n"
     ]
    },
    {
     "data": {
      "image/png": "[encoded data removed]",
      "text/plain": [
       "<Figure size 432x288 with 1 Axes>"
      ]
     },
     "metadata": {
      "needs_background": "light"
     },
     "output_type": "display_data"
    },
    {
     "name": "stdout",
     "output_type": "stream",
     "text": [
      "\n",
      "\n",
      "430\n",
      "time: 810 --> sensor: <sensor6>, sensor type: MotionSensorBinary data: TRUE\n",
      "real:  [nan nan]\n",
      "simu:  [ 9.         22.05357143]\n"
     ]
    },
    {
     "data": {
      "image/png": "[encoded data removed]",
      "text/plain": [
       "<Figure size 432x288 with 1 Axes>"
      ]
     },
     "metadata": {
      "needs_background": "light"
     },
     "output_type": "display_data"
    },
    {
     "name": "stdout",
     "output_type": "stream",
     "text": [
      "\n",
      "\n",
      "429\n",
      "time: 808 --> sensor: <sensor6>, sensor type: MotionSensorBinary data: TRUE\n",
      "real:  [nan nan]\n",
      "simu:  [ 9.         22.05357143]\n"
     ]
    },
    {
     "data": {
      "image/png": "[encoded data removed]",
      "text/plain": [
       "<Figure size 432x288 with 1 Axes>"
      ]
     },
     "metadata": {
      "needs_background": "light"
     },
     "output_type": "display_data"
    },
    {
     "name": "stdout",
     "output_type": "stream",
     "text": [
      "\n",
      "\n",
      "428\n",
      "time: 806 --> sensor: <sensor6>, sensor type: MotionSensorBinary data: TRUE\n",
      "real:  [40.46616 31.45288]\n",
      "simu:  [ 9.         22.05357143]\n"
     ]
    },
    {
     "data": {
      "image/png": "[encoded data removed]",
      "text/plain": [
       "<Figure size 432x288 with 1 Axes>"
      ]
     },
     "metadata": {
      "needs_background": "light"
     },
     "output_type": "display_data"
    },
    {
     "name": "stdout",
     "output_type": "stream",
     "text": [
      "\n",
      "\n",
      "427\n",
      "time: 804 --> sensor: <sensor6>, sensor type: MotionSensorBinary data: TRUE\n",
      "real:  [46.5315  39.43155]\n",
      "simu:  [ 9.         22.05357143]\n"
     ]
    },
    {
     "data": {
      "image/png": "[encoded data removed]",
      "text/plain": [
       "<Figure size 432x288 with 1 Axes>"
      ]
     },
     "metadata": {
      "needs_background": "light"
     },
     "output_type": "display_data"
    },
    {
     "name": "stdout",
     "output_type": "stream",
     "text": [
      "\n",
      "\n",
      "426\n",
      "time: 802 --> sensor: <sensor3>, sensor type: MotionSensorBinary data: TRUE\n",
      "real:  [52.61225 47.38115]\n",
      "simu:  [50.         10.05357143]\n"
     ]
    },
    {
     "data": {
      "image/png": "[encoded data removed]",
      "text/plain": [
       "<Figure size 432x288 with 1 Axes>"
      ]
     },
     "metadata": {
      "needs_background": "light"
     },
     "output_type": "display_data"
    },
    {
     "name": "stdout",
     "output_type": "stream",
     "text": [
      "\n",
      "\n",
      "time: 802 --> sensor: <sensor6>, sensor type: MotionSensorBinary data: TRUE\n",
      "real:  [52.61225 47.38115]\n",
      "simu:  [ 9.         22.05357143]\n"
     ]
    },
    {
     "data": {
      "image/png": "[encoded data removed]",
      "text/plain": [
       "<Figure size 432x288 with 1 Axes>"
      ]
     },
     "metadata": {
      "needs_background": "light"
     },
     "output_type": "display_data"
    },
    {
     "name": "stdout",
     "output_type": "stream",
     "text": [
      "\n",
      "\n",
      "425\n",
      "time: 800 --> sensor: <sensor3>, sensor type: MotionSensorBinary data: TRUE\n",
      "real:  [57.02792 55.93639]\n",
      "simu:  [50.         10.05357143]\n"
     ]
    },
    {
     "data": {
      "image/png": "[encoded data removed]",
      "text/plain": [
       "<Figure size 432x288 with 1 Axes>"
      ]
     },
     "metadata": {
      "needs_background": "light"
     },
     "output_type": "display_data"
    },
    {
     "name": "stdout",
     "output_type": "stream",
     "text": [
      "\n",
      "\n",
      "time: 800 --> sensor: <sensor6>, sensor type: MotionSensorBinary data: TRUE\n",
      "real:  [57.02792 55.93639]\n",
      "simu:  [ 9.         22.05357143]\n"
     ]
    },
    {
     "data": {
      "image/png": "[encoded data removed]",
      "text/plain": [
       "<Figure size 432x288 with 1 Axes>"
      ]
     },
     "metadata": {
      "needs_background": "light"
     },
     "output_type": "display_data"
    },
    {
     "name": "stdout",
     "output_type": "stream",
     "text": [
      "\n",
      "\n",
      "424\n",
      "time: 798 --> sensor: <sensor3>, sensor type: MotionSensorBinary data: TRUE\n",
      "real:  [54.36257 64.68506]\n",
      "simu:  [50.         10.05357143]\n"
     ]
    },
    {
     "data": {
      "image/png": "[encoded data removed]",
      "text/plain": [
       "<Figure size 432x288 with 1 Axes>"
      ]
     },
     "metadata": {
      "needs_background": "light"
     },
     "output_type": "display_data"
    },
    {
     "name": "stdout",
     "output_type": "stream",
     "text": [
      "\n",
      "\n",
      "time: 798 --> sensor: <sensor6>, sensor type: MotionSensorBinary data: TRUE\n",
      "real:  [54.36257 64.68506]\n",
      "simu:  [ 9.         22.05357143]\n"
     ]
    },
    {
     "data": {
      "image/png": "[encoded data removed]",
      "text/plain": [
       "<Figure size 432x288 with 1 Axes>"
      ]
     },
     "metadata": {
      "needs_background": "light"
     },
     "output_type": "display_data"
    },
    {
     "name": "stdout",
     "output_type": "stream",
     "text": [
      "\n",
      "\n",
      "423\n",
      "time: 796 --> sensor: <sensor3>, sensor type: MotionSensorBinary data: TRUE\n",
      "real:  [53.50653 74.61338]\n",
      "simu:  [50.         10.05357143]\n"
     ]
    },
    {
     "data": {
      "image/png": "[encoded data removed]",
      "text/plain": [
       "<Figure size 432x288 with 1 Axes>"
      ]
     },
     "metadata": {
      "needs_background": "light"
     },
     "output_type": "display_data"
    },
    {
     "name": "stdout",
     "output_type": "stream",
     "text": [
      "\n",
      "\n",
      "time: 796 --> sensor: <sensor6>, sensor type: MotionSensorBinary data: TRUE\n",
      "real:  [53.50653 74.61338]\n",
      "simu:  [ 9.         22.05357143]\n"
     ]
    },
    {
     "data": {
      "image/png": "[encoded data removed]",
      "text/plain": [
       "<Figure size 432x288 with 1 Axes>"
      ]
     },
     "metadata": {
      "needs_background": "light"
     },
     "output_type": "display_data"
    },
    {
     "name": "stdout",
     "output_type": "stream",
     "text": [
      "\n",
      "\n",
      "422\n",
      "time: 794 --> sensor: <sensor3>, sensor type: MotionSensorBinary data: TRUE\n",
      "real:  [53.9829  84.65219]\n",
      "simu:  [50.         10.05357143]\n"
     ]
    },
    {
     "data": {
      "image/png": "[encoded data removed]",
      "text/plain": [
       "<Figure size 432x288 with 1 Axes>"
      ]
     },
     "metadata": {
      "needs_background": "light"
     },
     "output_type": "display_data"
    },
    {
     "name": "stdout",
     "output_type": "stream",
     "text": [
      "\n",
      "\n",
      "time: 794 --> sensor: <sensor6>, sensor type: MotionSensorBinary data: TRUE\n",
      "real:  [53.9829  84.65219]\n",
      "simu:  [ 9.         22.05357143]\n"
     ]
    },
    {
     "data": {
      "image/png": "[encoded data removed]",
      "text/plain": [
       "<Figure size 432x288 with 1 Axes>"
      ]
     },
     "metadata": {
      "needs_background": "light"
     },
     "output_type": "display_data"
    },
    {
     "name": "stdout",
     "output_type": "stream",
     "text": [
      "\n",
      "\n",
      "421\n",
      "time: 793 --> sensor: <sensor3>, sensor type: MotionSensorBinary data: TRUE\n",
      "real:  [nan nan]\n",
      "simu:  [50.         10.05357143]\n"
     ]
    },
    {
     "data": {
      "image/png": "[encoded data removed]",
      "text/plain": [
       "<Figure size 432x288 with 1 Axes>"
      ]
     },
     "metadata": {
      "needs_background": "light"
     },
     "output_type": "display_data"
    },
    {
     "name": "stdout",
     "output_type": "stream",
     "text": [
      "\n",
      "\n",
      "time: 793 --> sensor: <sensor6>, sensor type: MotionSensorBinary data: TRUE\n",
      "real:  [nan nan]\n",
      "simu:  [ 9.         22.05357143]\n"
     ]
    },
    {
     "data": {
      "image/png": "[encoded data removed]",
      "text/plain": [
       "<Figure size 432x288 with 1 Axes>"
      ]
     },
     "metadata": {
      "needs_background": "light"
     },
     "output_type": "display_data"
    },
    {
     "name": "stdout",
     "output_type": "stream",
     "text": [
      "\n",
      "\n",
      "420\n",
      "time: 791 --> sensor: <sensor3>, sensor type: MotionSensorBinary data: TRUE\n",
      "real:  [nan nan]\n",
      "simu:  [50.         10.05357143]\n"
     ]
    },
    {
     "data": {
      "image/png": "[encoded data removed]",
      "text/plain": [
       "<Figure size 432x288 with 1 Axes>"
      ]
     },
     "metadata": {
      "needs_background": "light"
     },
     "output_type": "display_data"
    },
    {
     "name": "stdout",
     "output_type": "stream",
     "text": [
      "\n",
      "\n",
      "time: 791 --> sensor: <sensor6>, sensor type: MotionSensorBinary data: TRUE\n",
      "real:  [nan nan]\n",
      "simu:  [ 9.         22.05357143]\n"
     ]
    },
    {
     "data": {
      "image/png": "[encoded data removed]",
      "text/plain": [
       "<Figure size 432x288 with 1 Axes>"
      ]
     },
     "metadata": {
      "needs_background": "light"
     },
     "output_type": "display_data"
    },
    {
     "name": "stdout",
     "output_type": "stream",
     "text": [
      "\n",
      "\n",
      "419\n",
      "time: 789 --> sensor: <sensor3>, sensor type: MotionSensorBinary data: TRUE\n",
      "real:  [nan nan]\n",
      "simu:  [50.         10.05357143]\n"
     ]
    },
    {
     "data": {
      "image/png": "[encoded data removed]",
      "text/plain": [
       "<Figure size 432x288 with 1 Axes>"
      ]
     },
     "metadata": {
      "needs_background": "light"
     },
     "output_type": "display_data"
    },
    {
     "name": "stdout",
     "output_type": "stream",
     "text": [
      "\n",
      "\n",
      "time: 789 --> sensor: <sensor6>, sensor type: MotionSensorBinary data: TRUE\n",
      "real:  [nan nan]\n",
      "simu:  [ 9.         22.05357143]\n"
     ]
    },
    {
     "data": {
      "image/png": "[encoded data removed]",
      "text/plain": [
       "<Figure size 432x288 with 1 Axes>"
      ]
     },
     "metadata": {
      "needs_background": "light"
     },
     "output_type": "display_data"
    },
    {
     "name": "stdout",
     "output_type": "stream",
     "text": [
      "\n",
      "\n",
      "418\n",
      "time: 787 --> sensor: <sensor3>, sensor type: MotionSensorBinary data: TRUE\n",
      "real:  [nan nan]\n",
      "simu:  [50.         10.05357143]\n"
     ]
    },
    {
     "data": {
      "image/png": "[encoded data removed]",
      "text/plain": [
       "<Figure size 432x288 with 1 Axes>"
      ]
     },
     "metadata": {
      "needs_background": "light"
     },
     "output_type": "display_data"
    },
    {
     "name": "stdout",
     "output_type": "stream",
     "text": [
      "\n",
      "\n",
      "time: 787 --> sensor: <sensor6>, sensor type: MotionSensorBinary data: TRUE\n",
      "real:  [nan nan]\n",
      "simu:  [ 9.         22.05357143]\n"
     ]
    },
    {
     "data": {
      "image/png": "[encoded data removed]",
      "text/plain": [
       "<Figure size 432x288 with 1 Axes>"
      ]
     },
     "metadata": {
      "needs_background": "light"
     },
     "output_type": "display_data"
    },
    {
     "name": "stdout",
     "output_type": "stream",
     "text": [
      "\n",
      "\n",
      "417\n",
      "time: 785 --> sensor: <sensor3>, sensor type: MotionSensorBinary data: TRUE\n",
      "real:  [nan nan]\n",
      "simu:  [50.         10.05357143]\n"
     ]
    },
    {
     "data": {
      "image/png": "[encoded data removed]",
      "text/plain": [
       "<Figure size 432x288 with 1 Axes>"
      ]
     },
     "metadata": {
      "needs_background": "light"
     },
     "output_type": "display_data"
    },
    {
     "name": "stdout",
     "output_type": "stream",
     "text": [
      "\n",
      "\n",
      "time: 785 --> sensor: <sensor6>, sensor type: MotionSensorBinary data: TRUE\n",
      "real:  [nan nan]\n",
      "simu:  [ 9.         22.05357143]\n"
     ]
    },
    {
     "data": {
      "image/png": "[encoded data removed]",
      "text/plain": [
       "<Figure size 432x288 with 1 Axes>"
      ]
     },
     "metadata": {
      "needs_background": "light"
     },
     "output_type": "display_data"
    },
    {
     "name": "stdout",
     "output_type": "stream",
     "text": [
      "\n",
      "\n",
      "416\n",
      "time: 783 --> sensor: <sensor3>, sensor type: MotionSensorBinary data: TRUE\n",
      "real:  [nan nan]\n",
      "simu:  [50.         10.05357143]\n"
     ]
    },
    {
     "data": {
      "image/png": "[encoded data removed]",
      "text/plain": [
       "<Figure size 432x288 with 1 Axes>"
      ]
     },
     "metadata": {
      "needs_background": "light"
     },
     "output_type": "display_data"
    },
    {
     "name": "stdout",
     "output_type": "stream",
     "text": [
      "\n",
      "\n",
      "time: 783 --> sensor: <sensor6>, sensor type: MotionSensorBinary data: TRUE\n",
      "real:  [nan nan]\n",
      "simu:  [ 9.         22.05357143]\n"
     ]
    },
    {
     "data": {
      "image/png": "[encoded data removed]",
      "text/plain": [
       "<Figure size 432x288 with 1 Axes>"
      ]
     },
     "metadata": {
      "needs_background": "light"
     },
     "output_type": "display_data"
    },
    {
     "name": "stdout",
     "output_type": "stream",
     "text": [
      "\n",
      "\n",
      "415\n",
      "time: 781 --> sensor: <sensor3>, sensor type: MotionSensorBinary data: TRUE\n",
      "real:  [nan nan]\n",
      "simu:  [50.         10.05357143]\n"
     ]
    },
    {
     "data": {
      "image/png": "[encoded data removed]",
      "text/plain": [
       "<Figure size 432x288 with 1 Axes>"
      ]
     },
     "metadata": {
      "needs_background": "light"
     },
     "output_type": "display_data"
    },
    {
     "name": "stdout",
     "output_type": "stream",
     "text": [
      "\n",
      "\n",
      "time: 781 --> sensor: <sensor6>, sensor type: MotionSensorBinary data: TRUE\n",
      "real:  [nan nan]\n",
      "simu:  [ 9.         22.05357143]\n"
     ]
    },
    {
     "data": {
      "image/png": "[encoded data removed]",
      "text/plain": [
       "<Figure size 432x288 with 1 Axes>"
      ]
     },
     "metadata": {
      "needs_background": "light"
     },
     "output_type": "display_data"
    },
    {
     "name": "stdout",
     "output_type": "stream",
     "text": [
      "\n",
      "\n",
      "414\n",
      "time: 780 --> sensor: <sensor3>, sensor type: MotionSensorBinary data: TRUE\n",
      "real:  [52.29674 83.89503]\n",
      "simu:  [50.         10.05357143]\n"
     ]
    },
    {
     "data": {
      "image/png": "[encoded data removed]",
      "text/plain": [
       "<Figure size 432x288 with 1 Axes>"
      ]
     },
     "metadata": {
      "needs_background": "light"
     },
     "output_type": "display_data"
    },
    {
     "name": "stdout",
     "output_type": "stream",
     "text": [
      "\n",
      "\n",
      "time: 780 --> sensor: <sensor6>, sensor type: MotionSensorBinary data: TRUE\n",
      "real:  [52.29674 83.89503]\n",
      "simu:  [ 9.         22.05357143]\n"
     ]
    },
    {
     "data": {
      "image/png": "[encoded data removed]",
      "text/plain": [
       "<Figure size 432x288 with 1 Axes>"
      ]
     },
     "metadata": {
      "needs_background": "light"
     },
     "output_type": "display_data"
    },
    {
     "name": "stdout",
     "output_type": "stream",
     "text": [
      "\n",
      "\n",
      "413\n",
      "time: 778 --> sensor: <sensor3>, sensor type: MotionSensorBinary data: TRUE\n",
      "real:  [47.8006  74.85366]\n",
      "simu:  [50.         10.05357143]\n"
     ]
    },
    {
     "data": {
      "image/png": "[encoded data removed]",
      "text/plain": [
       "<Figure size 432x288 with 1 Axes>"
      ]
     },
     "metadata": {
      "needs_background": "light"
     },
     "output_type": "display_data"
    },
    {
     "name": "stdout",
     "output_type": "stream",
     "text": [
      "\n",
      "\n",
      "time: 778 --> sensor: <sensor6>, sensor type: MotionSensorBinary data: TRUE\n",
      "real:  [47.8006  74.85366]\n",
      "simu:  [ 9.         22.05357143]\n"
     ]
    },
    {
     "data": {
      "image/png": "[encoded data removed]",
      "text/plain": [
       "<Figure size 432x288 with 1 Axes>"
      ]
     },
     "metadata": {
      "needs_background": "light"
     },
     "output_type": "display_data"
    },
    {
     "name": "stdout",
     "output_type": "stream",
     "text": [
      "\n",
      "\n",
      "412\n",
      "time: 776 --> sensor: <sensor3>, sensor type: MotionSensorBinary data: TRUE\n",
      "real:  [43.31492 65.83327]\n",
      "simu:  [50.         10.05357143]\n"
     ]
    },
    {
     "data": {
      "image/png": "[encoded data removed]",
      "text/plain": [
       "<Figure size 432x288 with 1 Axes>"
      ]
     },
     "metadata": {
      "needs_background": "light"
     },
     "output_type": "display_data"
    },
    {
     "name": "stdout",
     "output_type": "stream",
     "text": [
      "\n",
      "\n",
      "time: 776 --> sensor: <sensor6>, sensor type: MotionSensorBinary data: TRUE\n",
      "real:  [43.31492 65.83327]\n",
      "simu:  [ 9.         22.05357143]\n"
     ]
    },
    {
     "data": {
      "image/png": "[encoded data removed]",
      "text/plain": [
       "<Figure size 432x288 with 1 Axes>"
      ]
     },
     "metadata": {
      "needs_background": "light"
     },
     "output_type": "display_data"
    },
    {
     "name": "stdout",
     "output_type": "stream",
     "text": [
      "\n",
      "\n",
      "411\n",
      "time: 775 --> sensor: <sensor3>, sensor type: MotionSensorBinary data: TRUE\n",
      "real:  [nan nan]\n",
      "simu:  [50.         10.05357143]\n"
     ]
    },
    {
     "data": {
      "image/png": "[encoded data removed]",
      "text/plain": [
       "<Figure size 432x288 with 1 Axes>"
      ]
     },
     "metadata": {
      "needs_background": "light"
     },
     "output_type": "display_data"
    },
    {
     "name": "stdout",
     "output_type": "stream",
     "text": [
      "\n",
      "\n",
      "time: 775 --> sensor: <sensor6>, sensor type: MotionSensorBinary data: TRUE\n",
      "real:  [nan nan]\n",
      "simu:  [ 9.         22.05357143]\n"
     ]
    },
    {
     "data": {
      "image/png": "[encoded data removed]",
      "text/plain": [
       "<Figure size 432x288 with 1 Axes>"
      ]
     },
     "metadata": {
      "needs_background": "light"
     },
     "output_type": "display_data"
    },
    {
     "name": "stdout",
     "output_type": "stream",
     "text": [
      "\n",
      "\n",
      "410\n",
      "time: 773 --> sensor: <sensor3>, sensor type: MotionSensorBinary data: TRUE\n",
      "real:  [nan nan]\n",
      "simu:  [50.         10.05357143]\n"
     ]
    },
    {
     "data": {
      "image/png": "[encoded data removed]",
      "text/plain": [
       "<Figure size 432x288 with 1 Axes>"
      ]
     },
     "metadata": {
      "needs_background": "light"
     },
     "output_type": "display_data"
    },
    {
     "name": "stdout",
     "output_type": "stream",
     "text": [
      "\n",
      "\n",
      "time: 773 --> sensor: <sensor6>, sensor type: MotionSensorBinary data: TRUE\n",
      "real:  [nan nan]\n",
      "simu:  [ 9.         22.05357143]\n"
     ]
    },
    {
     "data": {
      "image/png": "[encoded data removed]",
      "text/plain": [
       "<Figure size 432x288 with 1 Axes>"
      ]
     },
     "metadata": {
      "needs_background": "light"
     },
     "output_type": "display_data"
    },
    {
     "name": "stdout",
     "output_type": "stream",
     "text": [
      "\n",
      "\n",
      "409\n",
      "time: 771 --> sensor: <sensor3>, sensor type: MotionSensorBinary data: TRUE\n",
      "real:  [nan nan]\n",
      "simu:  [50.         10.05357143]\n"
     ]
    },
    {
     "data": {
      "image/png": "[encoded data removed]",
      "text/plain": [
       "<Figure size 432x288 with 1 Axes>"
      ]
     },
     "metadata": {
      "needs_background": "light"
     },
     "output_type": "display_data"
    },
    {
     "name": "stdout",
     "output_type": "stream",
     "text": [
      "\n",
      "\n",
      "time: 771 --> sensor: <sensor6>, sensor type: MotionSensorBinary data: TRUE\n",
      "real:  [nan nan]\n",
      "simu:  [ 9.         22.05357143]\n"
     ]
    },
    {
     "data": {
      "image/png": "[encoded data removed]",
      "text/plain": [
       "<Figure size 432x288 with 1 Axes>"
      ]
     },
     "metadata": {
      "needs_background": "light"
     },
     "output_type": "display_data"
    },
    {
     "name": "stdout",
     "output_type": "stream",
     "text": [
      "\n",
      "\n",
      "408\n",
      "time: 769 --> sensor: <sensor3>, sensor type: MotionSensorBinary data: TRUE\n",
      "real:  [nan nan]\n",
      "simu:  [50.         10.05357143]\n"
     ]
    },
    {
     "data": {
      "image/png": "[encoded data removed]",
      "text/plain": [
       "<Figure size 432x288 with 1 Axes>"
      ]
     },
     "metadata": {
      "needs_background": "light"
     },
     "output_type": "display_data"
    },
    {
     "name": "stdout",
     "output_type": "stream",
     "text": [
      "\n",
      "\n",
      "time: 769 --> sensor: <sensor6>, sensor type: MotionSensorBinary data: TRUE\n",
      "real:  [nan nan]\n",
      "simu:  [ 9.         22.05357143]\n"
     ]
    },
    {
     "data": {
      "image/png": "[encoded data removed]",
      "text/plain": [
       "<Figure size 432x288 with 1 Axes>"
      ]
     },
     "metadata": {
      "needs_background": "light"
     },
     "output_type": "display_data"
    },
    {
     "name": "stdout",
     "output_type": "stream",
     "text": [
      "\n",
      "\n",
      "407\n",
      "time: 768 --> sensor: <sensor3>, sensor type: MotionSensorBinary data: TRUE\n",
      "real:  [40.53238 63.91424]\n",
      "simu:  [50.         10.05357143]\n"
     ]
    },
    {
     "data": {
      "image/png": "[encoded data removed]",
      "text/plain": [
       "<Figure size 432x288 with 1 Axes>"
      ]
     },
     "metadata": {
      "needs_background": "light"
     },
     "output_type": "display_data"
    },
    {
     "name": "stdout",
     "output_type": "stream",
     "text": [
      "\n",
      "\n",
      "time: 768 --> sensor: <sensor6>, sensor type: MotionSensorBinary data: TRUE\n"
     ]
    },
    {
     "ename": "KeyboardInterrupt",
     "evalue": "",
     "output_type": "error",
     "traceback": [
      "\u001b[1;31m---------------------------------------------------------------------------\u001b[0m",
      "\u001b[1;31mKeyboardInterrupt\u001b[0m                         Traceback (most recent call last)",
      "\u001b[1;32m<ipython-input-55-e1968dfb2f03>\u001b[0m in \u001b[0;36m<module>\u001b[1;34m\u001b[0m\n\u001b[1;32m----> 1\u001b[1;33m \u001b[0mreadFileCSV\u001b[0m\u001b[1;33m(\u001b[0m\u001b[1;33m)\u001b[0m\u001b[1;33m\u001b[0m\u001b[1;33m\u001b[0m\u001b[0m\n\u001b[0m",
      "\u001b[1;32m<ipython-input-54-708042f5505f>\u001b[0m in \u001b[0;36mreadFileCSV\u001b[1;34m()\u001b[0m\n\u001b[0;32m     82\u001b[0m                 \u001b[0mprint\u001b[0m\u001b[1;33m(\u001b[0m\u001b[0mevent\u001b[0m\u001b[1;33m)\u001b[0m\u001b[1;33m\u001b[0m\u001b[1;33m\u001b[0m\u001b[0m\n\u001b[0;32m     83\u001b[0m \u001b[1;33m\u001b[0m\u001b[0m\n\u001b[1;32m---> 84\u001b[1;33m                 \u001b[0mrun_localization\u001b[0m\u001b[1;33m(\u001b[0m\u001b[0mevent\u001b[0m\u001b[1;33m)\u001b[0m\u001b[1;33m\u001b[0m\u001b[1;33m\u001b[0m\u001b[0m\n\u001b[0m\u001b[0;32m     85\u001b[0m \u001b[1;33m\u001b[0m\u001b[0m\n\u001b[0;32m     86\u001b[0m             \u001b[0mcont\u001b[0m \u001b[1;33m=\u001b[0m \u001b[1;36m0\u001b[0m\u001b[1;33m\u001b[0m\u001b[1;33m\u001b[0m\u001b[0m\n",
      "\u001b[1;32m<ipython-input-3-22a073c9deea>\u001b[0m in \u001b[0;36mrun_localization\u001b[1;34m(event)\u001b[0m\n\u001b[0;32m     45\u001b[0m     \u001b[1;32mglobal\u001b[0m \u001b[0mgrid_map\u001b[0m\u001b[1;33m\u001b[0m\u001b[1;33m\u001b[0m\u001b[0m\n\u001b[0;32m     46\u001b[0m     \u001b[1;31m# print(\"run_localization\")\u001b[0m\u001b[1;33m\u001b[0m\u001b[1;33m\u001b[0m\u001b[1;33m\u001b[0m\u001b[0m\n\u001b[1;32m---> 47\u001b[1;33m     \u001b[0mLocalizer\u001b[0m\u001b[1;33m(\u001b[0m\u001b[0mpythonTimer\u001b[0m\u001b[1;33m.\u001b[0m\u001b[0mtime\u001b[0m\u001b[1;33m(\u001b[0m\u001b[1;33m)\u001b[0m\u001b[1;33m)\u001b[0m\u001b[1;33m.\u001b[0m\u001b[0mrun\u001b[0m\u001b[1;33m(\u001b[0m\u001b[0mevent\u001b[0m\u001b[1;33m)\u001b[0m\u001b[1;33m\u001b[0m\u001b[1;33m\u001b[0m\u001b[0m\n\u001b[0m",
      "\u001b[1;32m<ipython-input-51-e7310219450d>\u001b[0m in \u001b[0;36mrun\u001b[1;34m(self, event)\u001b[0m\n\u001b[0;32m     23\u001b[0m                 \u001b[0mtimestamp\u001b[0m \u001b[1;33m=\u001b[0m \u001b[0mLocalizer\u001b[0m\u001b[1;33m.\u001b[0m\u001b[0mto_be_localized_queue\u001b[0m\u001b[1;33m[\u001b[0m\u001b[1;36m0\u001b[0m\u001b[1;33m]\u001b[0m\u001b[1;33m\u001b[0m\u001b[1;33m\u001b[0m\u001b[0m\n\u001b[0;32m     24\u001b[0m                 \u001b[0mLocalizer\u001b[0m\u001b[1;33m.\u001b[0m\u001b[0mto_be_localized_queue\u001b[0m \u001b[1;33m=\u001b[0m \u001b[0mLocalizer\u001b[0m\u001b[1;33m.\u001b[0m\u001b[0mto_be_localized_queue\u001b[0m\u001b[1;33m[\u001b[0m\u001b[1;36m1\u001b[0m\u001b[1;33m:\u001b[0m\u001b[1;33m]\u001b[0m\u001b[1;33m\u001b[0m\u001b[1;33m\u001b[0m\u001b[0m\n\u001b[1;32m---> 25\u001b[1;33m                 \u001b[0mself\u001b[0m\u001b[1;33m.\u001b[0m\u001b[0mlocalize\u001b[0m\u001b[1;33m(\u001b[0m\u001b[0mtimestamp\u001b[0m\u001b[1;33m,\u001b[0m \u001b[0mevent\u001b[0m\u001b[1;33m)\u001b[0m\u001b[1;33m\u001b[0m\u001b[1;33m\u001b[0m\u001b[0m\n\u001b[0m\u001b[0;32m     26\u001b[0m \u001b[1;33m\u001b[0m\u001b[0m\n\u001b[0;32m     27\u001b[0m     \u001b[1;32mdef\u001b[0m \u001b[0mlocalizer_confidence\u001b[0m\u001b[1;33m(\u001b[0m\u001b[0mself\u001b[0m\u001b[1;33m)\u001b[0m\u001b[1;33m:\u001b[0m\u001b[1;33m\u001b[0m\u001b[1;33m\u001b[0m\u001b[0m\n",
      "\u001b[1;32m<ipython-input-51-e7310219450d>\u001b[0m in \u001b[0;36mlocalize\u001b[1;34m(self, time, event)\u001b[0m\n\u001b[0;32m     89\u001b[0m \u001b[1;33m\u001b[0m\u001b[0m\n\u001b[0;32m     90\u001b[0m         \u001b[1;31m#finds the inferred an real locations, and what sensors were fired\u001b[0m\u001b[1;33m\u001b[0m\u001b[1;33m\u001b[0m\u001b[1;33m\u001b[0m\u001b[0m\n\u001b[1;32m---> 91\u001b[1;33m         \u001b[0minferred_location\u001b[0m\u001b[1;33m,\u001b[0m \u001b[0mreal_location\u001b[0m\u001b[1;33m,\u001b[0m \u001b[0mfired_sensors2\u001b[0m \u001b[1;33m=\u001b[0m \u001b[0mself\u001b[0m\u001b[1;33m.\u001b[0m\u001b[0mgetLocations\u001b[0m\u001b[1;33m(\u001b[0m\u001b[0mevent\u001b[0m\u001b[1;33m.\u001b[0m\u001b[0mtimestamp\u001b[0m\u001b[1;33m,\u001b[0m \u001b[0mevent\u001b[0m\u001b[1;33m)\u001b[0m\u001b[1;33m\u001b[0m\u001b[1;33m\u001b[0m\u001b[0m\n\u001b[0m\u001b[0;32m     92\u001b[0m         \u001b[0mk\u001b[0m \u001b[1;33m=\u001b[0m \u001b[1;36m0\u001b[0m\u001b[1;33m\u001b[0m\u001b[1;33m\u001b[0m\u001b[0m\n\u001b[0;32m     93\u001b[0m \u001b[1;33m\u001b[0m\u001b[0m\n",
      "\u001b[1;32m<ipython-input-51-e7310219450d>\u001b[0m in \u001b[0;36mgetLocations\u001b[1;34m(self, time, event)\u001b[0m\n\u001b[0;32m     67\u001b[0m                     \u001b[0mcirc\u001b[0m \u001b[1;33m=\u001b[0m \u001b[0mCircle\u001b[0m\u001b[1;33m(\u001b[0m\u001b[1;33m(\u001b[0m\u001b[0mint\u001b[0m\u001b[1;33m(\u001b[0m\u001b[0mint\u001b[0m\u001b[1;33m(\u001b[0m\u001b[0mx\u001b[0m\u001b[1;33m)\u001b[0m\u001b[1;33m)\u001b[0m\u001b[1;33m,\u001b[0m \u001b[0mint\u001b[0m\u001b[1;33m(\u001b[0m\u001b[0mint\u001b[0m\u001b[1;33m(\u001b[0m\u001b[0my\u001b[0m\u001b[1;33m)\u001b[0m\u001b[1;33m)\u001b[0m\u001b[1;33m)\u001b[0m\u001b[1;33m,\u001b[0m \u001b[0mint\u001b[0m\u001b[1;33m(\u001b[0m\u001b[0mint\u001b[0m\u001b[1;33m(\u001b[0m\u001b[0mr\u001b[0m\u001b[1;33m)\u001b[0m\u001b[1;33m)\u001b[0m\u001b[1;33m)\u001b[0m\u001b[1;33m\u001b[0m\u001b[1;33m\u001b[0m\u001b[0m\n\u001b[0;32m     68\u001b[0m \u001b[1;33m\u001b[0m\u001b[0m\n\u001b[1;32m---> 69\u001b[1;33m                     \u001b[1;32mif\u001b[0m \u001b[1;33m(\u001b[0m\u001b[0mcirc\u001b[0m\u001b[1;33m.\u001b[0m\u001b[0mcontains_point\u001b[0m\u001b[1;33m(\u001b[0m\u001b[1;33m[\u001b[0m\u001b[0mi\u001b[0m\u001b[1;33m,\u001b[0m \u001b[0mj\u001b[0m\u001b[1;33m]\u001b[0m\u001b[1;33m)\u001b[0m\u001b[1;33m)\u001b[0m\u001b[1;33m:\u001b[0m\u001b[1;33m\u001b[0m\u001b[1;33m\u001b[0m\u001b[0m\n\u001b[0m\u001b[0;32m     70\u001b[0m                         \u001b[0mgrid2\u001b[0m\u001b[1;33m[\u001b[0m\u001b[0mi\u001b[0m\u001b[1;33m]\u001b[0m\u001b[1;33m[\u001b[0m\u001b[0mj\u001b[0m\u001b[1;33m]\u001b[0m \u001b[1;33m+=\u001b[0m \u001b[1;36m1\u001b[0m\u001b[1;33m\u001b[0m\u001b[1;33m\u001b[0m\u001b[0m\n\u001b[0;32m     71\u001b[0m \u001b[1;33m\u001b[0m\u001b[0m\n",
      "\u001b[1;32m~\\Anaconda3\\lib\\site-packages\\matplotlib\\patches.py\u001b[0m in \u001b[0;36mcontains_point\u001b[1;34m(self, point, radius)\u001b[0m\n\u001b[0;32m    143\u001b[0m         \u001b[0mradius\u001b[0m \u001b[1;33m=\u001b[0m \u001b[0mself\u001b[0m\u001b[1;33m.\u001b[0m\u001b[0m_process_radius\u001b[0m\u001b[1;33m(\u001b[0m\u001b[0mradius\u001b[0m\u001b[1;33m)\u001b[0m\u001b[1;33m\u001b[0m\u001b[1;33m\u001b[0m\u001b[0m\n\u001b[0;32m    144\u001b[0m         return self.get_path().contains_point(point,\n\u001b[1;32m--> 145\u001b[1;33m                                               \u001b[0mself\u001b[0m\u001b[1;33m.\u001b[0m\u001b[0mget_transform\u001b[0m\u001b[1;33m(\u001b[0m\u001b[1;33m)\u001b[0m\u001b[1;33m,\u001b[0m\u001b[1;33m\u001b[0m\u001b[1;33m\u001b[0m\u001b[0m\n\u001b[0m\u001b[0;32m    146\u001b[0m                                               radius)\n\u001b[0;32m    147\u001b[0m \u001b[1;33m\u001b[0m\u001b[0m\n",
      "\u001b[1;32m~\\Anaconda3\\lib\\site-packages\\matplotlib\\patches.py\u001b[0m in \u001b[0;36mget_transform\u001b[1;34m(self)\u001b[0m\n\u001b[0;32m    194\u001b[0m         \u001b[0mto\u001b[0m \u001b[0mthe\u001b[0m \u001b[1;33m:\u001b[0m\u001b[1;32mclass\u001b[0m\u001b[1;33m:\u001b[0m\u001b[0;31m`\u001b[0m\u001b[0mPatch\u001b[0m\u001b[0;31m`\u001b[0m\u001b[1;33m.\u001b[0m\u001b[1;33m\u001b[0m\u001b[1;33m\u001b[0m\u001b[0m\n\u001b[0;32m    195\u001b[0m         \"\"\"\n\u001b[1;32m--> 196\u001b[1;33m         \u001b[1;32mreturn\u001b[0m \u001b[0mself\u001b[0m\u001b[1;33m.\u001b[0m\u001b[0mget_patch_transform\u001b[0m\u001b[1;33m(\u001b[0m\u001b[1;33m)\u001b[0m \u001b[1;33m+\u001b[0m \u001b[0martist\u001b[0m\u001b[1;33m.\u001b[0m\u001b[0mArtist\u001b[0m\u001b[1;33m.\u001b[0m\u001b[0mget_transform\u001b[0m\u001b[1;33m(\u001b[0m\u001b[0mself\u001b[0m\u001b[1;33m)\u001b[0m\u001b[1;33m\u001b[0m\u001b[1;33m\u001b[0m\u001b[0m\n\u001b[0m\u001b[0;32m    197\u001b[0m \u001b[1;33m\u001b[0m\u001b[0m\n\u001b[0;32m    198\u001b[0m     \u001b[1;32mdef\u001b[0m \u001b[0mget_data_transform\u001b[0m\u001b[1;33m(\u001b[0m\u001b[0mself\u001b[0m\u001b[1;33m)\u001b[0m\u001b[1;33m:\u001b[0m\u001b[1;33m\u001b[0m\u001b[1;33m\u001b[0m\u001b[0m\n",
      "\u001b[1;32m~\\Anaconda3\\lib\\site-packages\\matplotlib\\patches.py\u001b[0m in \u001b[0;36mget_patch_transform\u001b[1;34m(self)\u001b[0m\n\u001b[0;32m   1465\u001b[0m \u001b[1;33m\u001b[0m\u001b[0m\n\u001b[0;32m   1466\u001b[0m     \u001b[1;32mdef\u001b[0m \u001b[0mget_patch_transform\u001b[0m\u001b[1;33m(\u001b[0m\u001b[0mself\u001b[0m\u001b[1;33m)\u001b[0m\u001b[1;33m:\u001b[0m\u001b[1;33m\u001b[0m\u001b[1;33m\u001b[0m\u001b[0m\n\u001b[1;32m-> 1467\u001b[1;33m         \u001b[0mself\u001b[0m\u001b[1;33m.\u001b[0m\u001b[0m_recompute_transform\u001b[0m\u001b[1;33m(\u001b[0m\u001b[1;33m)\u001b[0m\u001b[1;33m\u001b[0m\u001b[1;33m\u001b[0m\u001b[0m\n\u001b[0m\u001b[0;32m   1468\u001b[0m         \u001b[1;32mreturn\u001b[0m \u001b[0mself\u001b[0m\u001b[1;33m.\u001b[0m\u001b[0m_patch_transform\u001b[0m\u001b[1;33m\u001b[0m\u001b[1;33m\u001b[0m\u001b[0m\n\u001b[0;32m   1469\u001b[0m \u001b[1;33m\u001b[0m\u001b[0m\n",
      "\u001b[1;32m~\\Anaconda3\\lib\\site-packages\\matplotlib\\patches.py\u001b[0m in \u001b[0;36m_recompute_transform\u001b[1;34m(self)\u001b[0m\n\u001b[0;32m   1454\u001b[0m         \u001b[0mheight\u001b[0m \u001b[1;33m=\u001b[0m \u001b[0mself\u001b[0m\u001b[1;33m.\u001b[0m\u001b[0mconvert_yunits\u001b[0m\u001b[1;33m(\u001b[0m\u001b[0mself\u001b[0m\u001b[1;33m.\u001b[0m\u001b[0mheight\u001b[0m\u001b[1;33m)\u001b[0m\u001b[1;33m\u001b[0m\u001b[1;33m\u001b[0m\u001b[0m\n\u001b[0;32m   1455\u001b[0m         \u001b[0mself\u001b[0m\u001b[1;33m.\u001b[0m\u001b[0m_patch_transform\u001b[0m \u001b[1;33m=\u001b[0m \u001b[0mtransforms\u001b[0m\u001b[1;33m.\u001b[0m\u001b[0mAffine2D\u001b[0m\u001b[1;33m(\u001b[0m\u001b[1;33m)\u001b[0m\u001b[0;31m \u001b[0m\u001b[0;31m\\\u001b[0m\u001b[1;33m\u001b[0m\u001b[1;33m\u001b[0m\u001b[0m\n\u001b[1;32m-> 1456\u001b[1;33m             \u001b[1;33m.\u001b[0m\u001b[0mscale\u001b[0m\u001b[1;33m(\u001b[0m\u001b[0mwidth\u001b[0m \u001b[1;33m*\u001b[0m \u001b[1;36m0.5\u001b[0m\u001b[1;33m,\u001b[0m \u001b[0mheight\u001b[0m \u001b[1;33m*\u001b[0m \u001b[1;36m0.5\u001b[0m\u001b[1;33m)\u001b[0m\u001b[0;31m \u001b[0m\u001b[0;31m\\\u001b[0m\u001b[1;33m\u001b[0m\u001b[1;33m\u001b[0m\u001b[0m\n\u001b[0m\u001b[0;32m   1457\u001b[0m             \u001b[1;33m.\u001b[0m\u001b[0mrotate_deg\u001b[0m\u001b[1;33m(\u001b[0m\u001b[0mself\u001b[0m\u001b[1;33m.\u001b[0m\u001b[0mangle\u001b[0m\u001b[1;33m)\u001b[0m\u001b[0;31m \u001b[0m\u001b[0;31m\\\u001b[0m\u001b[1;33m\u001b[0m\u001b[1;33m\u001b[0m\u001b[0m\n\u001b[0;32m   1458\u001b[0m             \u001b[1;33m.\u001b[0m\u001b[0mtranslate\u001b[0m\u001b[1;33m(\u001b[0m\u001b[1;33m*\u001b[0m\u001b[0mcenter\u001b[0m\u001b[1;33m)\u001b[0m\u001b[1;33m\u001b[0m\u001b[1;33m\u001b[0m\u001b[0m\n",
      "\u001b[1;32m~\\Anaconda3\\lib\\site-packages\\matplotlib\\transforms.py\u001b[0m in \u001b[0;36mscale\u001b[1;34m(self, sx, sy)\u001b[0m\n\u001b[0;32m   2040\u001b[0m         scale_mtx = np.array(\n\u001b[0;32m   2041\u001b[0m             [[sx, 0.0, 0.0], [0.0, sy, 0.0], [0.0, 0.0, 1.0]], float)\n\u001b[1;32m-> 2042\u001b[1;33m         \u001b[0mself\u001b[0m\u001b[1;33m.\u001b[0m\u001b[0m_mtx\u001b[0m \u001b[1;33m=\u001b[0m \u001b[0mnp\u001b[0m\u001b[1;33m.\u001b[0m\u001b[0mdot\u001b[0m\u001b[1;33m(\u001b[0m\u001b[0mscale_mtx\u001b[0m\u001b[1;33m,\u001b[0m \u001b[0mself\u001b[0m\u001b[1;33m.\u001b[0m\u001b[0m_mtx\u001b[0m\u001b[1;33m)\u001b[0m\u001b[1;33m\u001b[0m\u001b[1;33m\u001b[0m\u001b[0m\n\u001b[0m\u001b[0;32m   2043\u001b[0m         \u001b[0mself\u001b[0m\u001b[1;33m.\u001b[0m\u001b[0minvalidate\u001b[0m\u001b[1;33m(\u001b[0m\u001b[1;33m)\u001b[0m\u001b[1;33m\u001b[0m\u001b[1;33m\u001b[0m\u001b[0m\n\u001b[0;32m   2044\u001b[0m         \u001b[1;32mreturn\u001b[0m \u001b[0mself\u001b[0m\u001b[1;33m\u001b[0m\u001b[1;33m\u001b[0m\u001b[0m\n",
      "\u001b[1;31mKeyboardInterrupt\u001b[0m: "
     ]
    }
   ],
   "source": [
    "readFileCSV()"
   ]
  },
  {
   "cell_type": "code",
   "execution_count": null,
   "metadata": {
    "scrolled": true
   },
   "outputs": [],
   "source": [
    "print(\"please start simulation in casi now.\")"
   ]
  },
  {
   "cell_type": "raw",
   "metadata": {},
   "source": [
    "################################################\n",
    "#### AFTER SIMULATION SECTION: STORING DATA ####\n",
    "################################################\n",
    "\n",
    "# Run This after simulation has ended...\n",
    "\n",
    "import csv\n",
    "\n",
    "data = []\n",
    "with open(groundtruth, 'r') as user_data:\n",
    "    reader = csv.reader(user_data, delimiter=',', quotechar=',')\n",
    "    for row in reader:\n",
    "        if (reader.line_num != 1):\n",
    "            row[0] = float(row[0])\n",
    "            row[2] = float(row[2])\n",
    "            row[3] = float(row[3])\n",
    "            \n",
    "            data.append(row)\n",
    "        \n",
    "import pickle\n",
    "\n",
    "f = open('Data_22' + simworldname + '.pckl', 'wb')\n",
    "pickle.dump((data, oracle, analyzer), f)\n",
    "f.close()"
   ]
  },
  {
   "cell_type": "raw",
   "metadata": {},
   "source": [
    "# Data from CASI\n",
    "\n",
    "port = 1883\n",
    "host = \"192.168.211.132\"\n",
    "keepalive = 60\n",
    "broker_topic = \"#\"  #All topics have to be read\n",
    "import time\n",
    "\n",
    "client = mqtt.Client()\n",
    "client.on_connect = on_connect\n",
    "client.on_message = on_message\n",
    "client.on_publish = on_publish\n",
    "client.on_subscribed = on_subscribed\n",
    "\n",
    "client.connect(host, port, 60)\n",
    "client.subscribe(broker_topic, 0)\n",
    "\n",
    "client.loop_start()\n",
    "time.sleep(5)"
   ]
  },
  {
   "cell_type": "code",
   "execution_count": null,
   "metadata": {},
   "outputs": [],
   "source": [
    "aa = [[0.8, 0], [0, 0]]\n",
    "print(aa)\n",
    "# print(*np.where(aa == np.max(aa)))\n",
    "print(list(zip(*np.where(aa == np.max(aa)))))\n",
    "np.mean(list(zip(*np.where(aa == np.max(aa)))), axis = 0)"
   ]
  },
  {
   "cell_type": "code",
   "execution_count": null,
   "metadata": {},
   "outputs": [],
   "source": []
  }
 ],
 "metadata": {
  "kernelspec": {
   "display_name": "Python 3",
   "language": "python",
   "name": "python3"
  },
  "language_info": {
   "codemirror_mode": {
    "name": "ipython",
    "version": 3
   },
   "file_extension": ".py",
   "mimetype": "text/x-python",
   "name": "python",
   "nbconvert_exporter": "python",
   "pygments_lexer": "ipython3",
   "version": "3.7.1"
  }
 },
 "nbformat": 4,
 "nbformat_minor": 2
}

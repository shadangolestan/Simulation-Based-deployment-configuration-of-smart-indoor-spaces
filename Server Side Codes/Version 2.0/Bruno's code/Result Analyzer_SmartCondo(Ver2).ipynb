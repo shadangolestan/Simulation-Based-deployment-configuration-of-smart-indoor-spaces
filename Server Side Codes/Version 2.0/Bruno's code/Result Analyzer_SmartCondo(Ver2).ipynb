{
 "cells": [
  {
   "cell_type": "code",
   "execution_count": 1,
   "metadata": {},
   "outputs": [],
   "source": [
    "import pickle\n",
    "from scipy.spatial import distance\n",
    "from matplotlib.patches import Circle\n",
    "from datetime import datetime\n",
    "import numpy as np\n",
    "import matplotlib.pyplot as plt\n",
    "\n",
    "my_map = [(0.0, 0.0), (0.0, 10.6), (6.6, 10.6), (6.6, 0.0)]\n",
    "error_heatmap = np.zeros((int(my_map[2][0]) * 10, int(my_map[2][1]) * 10))\n",
    "error_heatmap_performanceVSlocation = np.zeros((int(my_map[2][0]) * 10, int(my_map[2][1]) * 10))\n",
    "average_maker = np.ones((int(my_map[2][0]) * 10, int(my_map[2][1]) * 10))\n",
    "performance_location_maker = np.ones((int(my_map[2][0]) * 10, int(my_map[2][1]) * 10))\n",
    "counter = 0\n",
    "\n",
    "def AskLocationFromLocalizer(recent_grid):\n",
    "    x, y = np.mean(zip(*np.where(recent_grid == np.max(recent_grid))), axis = 0)\n",
    "    return [x/10, y/10]\n",
    "\n",
    "# simworldname = ['simulationWorld(28jun1).xml', 'simulationWorld(28jun2).xml', 'simulationWorld(4jul11p).xml',\n",
    "#                 'simulationWorld(4jul12p).xml', 'simulationWorld(4jul23p).xml', 'simulationWorld(4jul24p - unstable!).xml',\n",
    "#                 'simulationWorld(5jul11p).xml', 'simulationWorld(5jul12p).xml', 'simulationWorld(6jul13p).xml',\n",
    "#                 'simulationWorld(6jul14p).xml']\n",
    "\n",
    "simworldname = ['simulationWorld(28jun1).xml', 'simulationWorld(28jun2).xml', 'simulationWorld(4jul11p).xml',\n",
    "                'simulationWorld(4jul12p).xml', 'simulationWorld(4jul23p).xml',\n",
    "                'simulationWorld(5jul11p).xml', 'simulationWorld(5jul12p).xml', 'simulationWorld(6jul13p).xml',\n",
    "                'simulationWorld(6jul14p).xml']\n",
    "\n",
    "# groundtruth = ['28jun1.csv', '28jun2.csv', '4jul11p.csv', '4jul12p.csv',\n",
    "#                '4jul23p.csv', '4jul24p.csv', '5jul11p.csv', '5jul12p.csv',\n",
    "#                '6jul13p.csv', '6jul14p.csv'"
   ]
  },
  {
   "cell_type": "code",
   "execution_count": 2,
   "metadata": {},
   "outputs": [],
   "source": [
    "#####################################\n",
    "##### ERROR HEATMAP CALCULATOR ######\n",
    "#####################################\n",
    "\n",
    "for dataselector in range(len(simworldname)):\n",
    "    f = open('Data_' + simworldname[dataselector] + '.pckl', 'rb')\n",
    "    data1, oracle1, analyzer1 = pickle.load(f)\n",
    "    f.close()\n",
    "    \n",
    "    readable_time_oracle = []\n",
    "    readable_time_analyzer = []\n",
    "    estimated_location = []\n",
    "    oracle_location = []\n",
    "\n",
    "    for t in oracle1['time']:\n",
    "        readable_time_oracle.append(int(datetime.utcfromtimestamp(t/1000).strftime('%H%M%S')))\n",
    "\n",
    "    for t in analyzer1['time']:\n",
    "        readable_time_analyzer.append(int(datetime.utcfromtimestamp(int(t)/1000).strftime('%H%M%S')))\n",
    "\n",
    "    for g in analyzer1['gridmap']:\n",
    "        estimated_location.append(AskLocationFromLocalizer(g))\n",
    "\n",
    "    for t in oracle1['location']:\n",
    "        oracle_location.append([t[0]/100, t[1]/100])\n",
    "\n",
    "    for t in range(len(analyzer1['time'])):\n",
    "        analyzer1['time'][t] = int(analyzer1['time'][t])\n",
    "        \n",
    "    deleted_times = []\n",
    "    data2 = {}\n",
    "    data2['time'] = []\n",
    "    data2['location'] = []\n",
    "    unpredicted_start = 0\n",
    "\n",
    "    data2['time'] = sorted(set(analyzer1['time'] + oracle1['time']))\n",
    "\n",
    "    for t in data2['time']:\n",
    "        try:\n",
    "            data2['location'].append(AskLocationFromLocalizer(analyzer1['gridmap'][analyzer1['time'].index(t)]))\n",
    "        except:\n",
    "            try:\n",
    "                # print(len(data2['location']) - 1)\n",
    "                # print(data2['location'][len(data2['location']) - 1])\n",
    "                data2['location'].append(data2['location'][len(data2['location']) - 1])\n",
    "                # print(len(data2['location']))\n",
    "            except:\n",
    "                #print(\"wtg\")\n",
    "                deleted_times.append(t)\n",
    "                unpredicted_start = unpredicted_start + 1\n",
    "                data2['location'].append([0,0])\n",
    "\n",
    "    \n",
    "    # for t in deleted_times:\n",
    "    #    data2['time'].remove(t)\n",
    "\n",
    "    temp_time = []\n",
    "    for t in data2['time']:\n",
    "        temp_time.append(int(datetime.utcfromtimestamp(int(t)/1000).strftime('%H%M%S')))\n",
    "    \n",
    "    for t in oracle1['time']:\n",
    "        counter = counter + 1\n",
    "        r = 60\n",
    "        x = oracle1['location'][oracle1['time'].index(t)][0]\n",
    "        y = oracle1['location'][oracle1['time'].index(t)][1]\n",
    "        \n",
    "        # print((x, y))\n",
    "        \n",
    "        circ = Circle((int(int(x)/10), int(int(y)/10)), int(int(r)/10))\n",
    "\n",
    "        for i in range(len(error_heatmap[:,1])):\n",
    "            for j in range(len(error_heatmap[1,:])):        \n",
    "                if (circ.contains_point([i, j])):\n",
    "                    x_hat = data2['location'][data2['time'].index(t)][0] * 100\n",
    "                    y_hat = data2['location'][data2['time'].index(t)][1] * 100\n",
    "                    # print((x_hat, y_hat))\n",
    "                    # print(\"------------------------\")\n",
    "                    error_heatmap[i][j] += (distance.euclidean([x, y], [x_hat, y_hat])/100)\n",
    "                    average_maker[i][j] += 1\n",
    "\n"
   ]
  },
  {
   "cell_type": "code",
   "execution_count": 3,
   "metadata": {},
   "outputs": [
    {
     "data": {
      "text/plain": [
       "2.745703159818397"
      ]
     },
     "execution_count": 3,
     "metadata": {},
     "output_type": "execute_result"
    }
   ],
   "source": [
    "distance.euclidean([x, y], [x_hat, y_hat])/100"
   ]
  },
  {
   "cell_type": "code",
   "execution_count": 4,
   "metadata": {},
   "outputs": [
    {
     "data": {
      "text/plain": [
       "478.0"
      ]
     },
     "execution_count": 4,
     "metadata": {},
     "output_type": "execute_result"
    }
   ],
   "source": [
    "y"
   ]
  },
  {
   "cell_type": "code",
   "execution_count": 5,
   "metadata": {},
   "outputs": [
    {
     "data": {
      "text/plain": [
       "1.0"
      ]
     },
     "execution_count": 5,
     "metadata": {},
     "output_type": "execute_result"
    }
   ],
   "source": [
    "np.min(performance_location_maker)"
   ]
  },
  {
   "cell_type": "code",
   "execution_count": 6,
   "metadata": {},
   "outputs": [],
   "source": [
    "performance_location_maker = pow(average_maker, 1/counter)\n",
    "mask1 = (error_heatmap == average_maker) & (error_heatmap == 0)\n",
    "mask2 = (error_heatmap == performance_location_maker) & (error_heatmap == 0)\n",
    "error_heatmap_averaged = np.where(mask1, 0, np.true_divide(error_heatmap, average_maker))\n",
    "error_heatmap_performanceVSlocation = np.where(mask2, 0, np.true_divide(error_heatmap, counter))\n",
    "\n",
    "# xmax, xmin = error_heatmap_averaged.max(), error_heatmap_averaged.min()\n",
    "# error_heatmap_averaged = (error_heatmap_averaged - xmin)/(xmax - xmin)\n",
    "\n",
    "# xmax, xmin = error_heatmap_performanceVSlocation.max(), error_heatmap_performanceVSlocation.min()\n",
    "# error_heatmap_performanceVSlocation = (error_heatmap_performanceVSlocation - xmin)/(xmax - xmin)"
   ]
  },
  {
   "cell_type": "code",
   "execution_count": 7,
   "metadata": {},
   "outputs": [],
   "source": [
    "error_heatmap_averaged[error_heatmap_averaged == 0] = 'nan' # or use np.nan\n",
    "error_heatmap_performanceVSlocation[error_heatmap_performanceVSlocation == 0] = 'nan' # or use np.nan"
   ]
  },
  {
   "cell_type": "code",
   "execution_count": 8,
   "metadata": {},
   "outputs": [
    {
     "data": {
      "image/png": "[encoded data removed]",
      "text/plain": [
       "<Figure size 288x480 with 2 Axes>"
      ]
     },
     "metadata": {
      "needs_background": "light"
     },
     "output_type": "display_data"
    }
   ],
   "source": [
    "#######################################################\n",
    "##### ERROR HEATMAP BASED ON OVERALL PERFORMANCE ######\n",
    "#######################################################\n",
    "import pylab as pl\n",
    "from matplotlib.colors import LogNorm\n",
    "from matplotlib.colors import PowerNorm\n",
    "\n",
    "# im = plt.matshow(zip(*error_heatmap_averaged), cmap=pl.cm.RdYlGn_r) # pl is pylab imported a pl\n",
    "\n",
    "im = plt.matshow(zip(*error_heatmap_averaged), cmap=pl.cm.gnuplot_r)\n",
    "# im = plt.matshow(zip(*error_heatmap_averaged), cmap=pl.cm.gnuplot_r, norm=LogNorm(vmin=0.1, vmax=1)) # pl is pylab imported a pl\n",
    "#im = plt.matshow(zip(*error_heatmap_averaged), cmap=pl.cm.gnuplot_r, norm=LogNorm(vmin=0.1, vmax=1)) # pl is pylab imported a pl\n",
    "#im = plt.matshow(zip(*error_heatmap_averaged), cmap=pl.cm.summer_r, norm=LogNorm(vmin=0.1, vmax=1)) # pl is pylab imported a pl\n",
    "\n",
    "plt.colorbar(im)\n",
    "plt.show()"
   ]
  },
  {
   "cell_type": "code",
   "execution_count": 9,
   "metadata": {
    "scrolled": true
   },
   "outputs": [
    {
     "data": {
      "image/png": "[encoded data removed]",
      "text/plain": [
       "<Figure size 288x480 with 2 Axes>"
      ]
     },
     "metadata": {
      "needs_background": "light"
     },
     "output_type": "display_data"
    }
   ],
   "source": [
    "##########################################################\n",
    "##### ERROR HEATMAP BASED ON IMPORTANCE OF LOCATION ######\n",
    "##########################################################\n",
    "import pylab as pl\n",
    "from matplotlib.colors import LogNorm\n",
    "\n",
    "im = plt.matshow(zip(*error_heatmap_performanceVSlocation), cmap=pl.cm.gnuplot_r)\n",
    "# im = plt.matshow(zip(*error_heatmap_performanceVSlocation), cmap=pl.cm.gnuplot_r ,norm=LogNorm(vmin=0.1, vmax=1))  # pl is pylab imported a pl\n",
    "# im = plt.matshow(zip(*error_heatmap_performanceVSlocation), cmap=pl.cm.viridis_r ,norm=LogNorm(vmin=0.1, vmax=1))  # pl is pylab imported a pl\n",
    "plt.colorbar(im)\n",
    "plt.show()\n"
   ]
  },
  {
   "cell_type": "code",
   "execution_count": null,
   "metadata": {},
   "outputs": [],
   "source": []
  },
  {
   "cell_type": "code",
   "execution_count": null,
   "metadata": {},
   "outputs": [],
   "source": []
  },
  {
   "cell_type": "code",
   "execution_count": null,
   "metadata": {},
   "outputs": [],
   "source": [
    "####################################\n",
    "##### GRANULARITY LEVEL: ROOM ######\n",
    "####################################\n",
    "\n",
    "my_map = [(0.0, 0.0), (0.0, 10.6), (6.6, 10.6), (6.6, 0.0)]\n",
    "error_heatmap = np.zeros((int(my_map[2][0]) * 10, int(my_map[2][1]) * 10))\n",
    "average_maker = np.ones((int(my_map[2][0]) * 10, int(my_map[2][1]) * 10))\n",
    "\n",
    "bedroom_area = [(0.0, 0.0), (2.9, 4.6)]\n",
    "living_area = [(3.0, 0.0), (6.6, 4.7)]\n",
    "dining_area = [(1.7, 4.7), (6.6, 7.7)]\n",
    "kitchen_area = [(1.7, 7.8), (6.6, 10.6)]\n",
    "bathroom_area = [(0.0, 4.7), (1.5, 7.6)]\n",
    "\n",
    "CMatrix = np.zeros((5, 5))\n",
    "\n",
    "for dataselector in range(len(simworldname)):\n",
    "    f = open('Data_' + simworldname[dataselector] + '.pckl', 'rb')\n",
    "    data1, oracle1, analyzer1 = pickle.load(f)\n",
    "    f.close()\n",
    "    \n",
    "    readable_time_oracle = []\n",
    "    readable_time_analyzer = []\n",
    "    estimated_location = []\n",
    "    oracle_location = []\n",
    "\n",
    "    for t in oracle1['time']:\n",
    "        readable_time_oracle.append(int(datetime.utcfromtimestamp(t/1000).strftime('%H%M%S')))\n",
    "\n",
    "    for t in analyzer1['time']:\n",
    "        readable_time_analyzer.append(int(datetime.utcfromtimestamp(int(t)/1000).strftime('%H%M%S')))\n",
    "\n",
    "    for g in analyzer1['gridmap']:\n",
    "        estimated_location.append(AskLocationFromLocalizer(g))\n",
    "\n",
    "    for t in oracle1['location']:\n",
    "        oracle_location.append([t[0]/100, t[1]/100])\n",
    "\n",
    "    for t in range(len(analyzer1['time'])):\n",
    "        analyzer1['time'][t] = int(analyzer1['time'][t])\n",
    "        \n",
    "    deleted_times = []\n",
    "    data2 = {}\n",
    "    data2['time'] = []\n",
    "    data2['location'] = []\n",
    "    unpredicted_start = 0\n",
    "\n",
    "    data2['time'] = sorted(set(analyzer1['time'] + oracle1['time']))\n",
    "\n",
    "    for t in data2['time']:\n",
    "        try:\n",
    "            data2['location'].append(AskLocationFromLocalizer(analyzer1['gridmap'][analyzer1['time'].index(t)]))\n",
    "        except:\n",
    "            try:\n",
    "                # print(len(data2['location']) - 1)\n",
    "                # print(data2['location'][len(data2['location']) - 1])\n",
    "                data2['location'].append(data2['location'][len(data2['location']) - 1])\n",
    "                # print(len(data2['location']))\n",
    "            except:\n",
    "                #print(\"wtg\")\n",
    "                deleted_times.append(t)\n",
    "                unpredicted_start = unpredicted_start + 1\n",
    "                data2['location'].append([0,0])\n",
    "\n",
    "    \n",
    "    # for t in deleted_times:\n",
    "    #    data2['time'].remove(t)\n",
    "\n",
    "    temp_time = []\n",
    "    for t in data2['time']:\n",
    "        temp_time.append(int(datetime.utcfromtimestamp(int(t)/1000).strftime('%H%M%S')))\n",
    "    \n",
    "    for t in oracle1['time']:\n",
    "        x = oracle1['location'][oracle1['time'].index(t)][0] /100\n",
    "        y = oracle1['location'][oracle1['time'].index(t)][1] /100\n",
    "        \n",
    "        x_hat = data2['location'][data2['time'].index(t)][0]\n",
    "        y_hat = data2['location'][data2['time'].index(t)][1]\n",
    "        \n",
    "        # print((x, y))\n",
    "        # print((x_hat, y_hat))\n",
    "        # print(\"-------------\")\n",
    "        \n",
    "        if (x >= bedroom_area[0][0] and x <= bedroom_area[1][0] and y >= bedroom_area[0][1] and y <= bedroom_area[1][1]):    \n",
    "            if (x_hat >= bedroom_area[0][0] and x_hat <= bedroom_area[1][0] and y_hat >= bedroom_area[0][1] and y_hat <= bedroom_area[1][1]):\n",
    "                CMatrix[0,0] = CMatrix[0,0] + 1\n",
    "            if (x_hat >= living_area[0][0] and x_hat <= living_area[1][0] and y_hat >= living_area[0][1] and y_hat <= living_area[1][1]):\n",
    "                CMatrix[1,0] = CMatrix[1,0] + 1\n",
    "            if (x_hat >= dining_area[0][0] and x_hat <= dining_area[1][0] and y_hat >= dining_area[0][1] and y_hat <= dining_area[1][1]):\n",
    "                CMatrix[2,0] = CMatrix[2,0] + 1\n",
    "            if (x_hat >= kitchen_area[0][0] and x_hat <= kitchen_area[1][0] and y_hat >= kitchen_area[0][1] and y_hat <= kitchen_area[1][1]):\n",
    "                CMatrix[3,0] = CMatrix[3,0] + 1\n",
    "            if (x_hat >= bathroom_area[0][0] and x_hat <= bathroom_area[1][0] and y_hat >= bathroom_area[0][1] and y_hat <= bathroom_area[1][1]):\n",
    "                CMatrix[4,0] = CMatrix[4,0] + 1\n",
    "\n",
    "        if (x >= living_area[0][0] and x <= living_area[1][0] and y >= living_area[0][1] and y <= living_area[1][1]):     \n",
    "            if (x_hat >= bedroom_area[0][0] and x_hat <= bedroom_area[1][0] and y_hat >= bedroom_area[0][1] and y_hat <= bedroom_area[1][1]):\n",
    "                CMatrix[0,1] = CMatrix[0,1] + 1\n",
    "            if (x_hat >= living_area[0][0] and x_hat <= living_area[1][0] and y_hat >= living_area[0][1] and y_hat <= living_area[1][1]):\n",
    "                CMatrix[1,1] = CMatrix[1,1] + 1\n",
    "            if (x_hat >= dining_area[0][0] and x_hat <= dining_area[1][0] and y_hat >= dining_area[0][1] and y_hat <= dining_area[1][1]):\n",
    "                CMatrix[2,1] = CMatrix[2,1] + 1\n",
    "            if (x_hat >= kitchen_area[0][0] and x_hat <= kitchen_area[1][0] and y_hat >= kitchen_area[0][1] and y_hat <= kitchen_area[1][1]):\n",
    "                CMatrix[3,1] = CMatrix[3,1] + 1\n",
    "            if (x_hat >= bathroom_area[0][0] and x_hat <= bathroom_area[1][0] and y_hat >= bathroom_area[0][1] and y_hat <= bathroom_area[1][1]):\n",
    "                CMatrix[4,1] = CMatrix[4,1] + 1\n",
    "        \n",
    "        if (x >= dining_area[0][0] and x <= dining_area[1][0] and y >= dining_area[0][1] and y <= dining_area[1][1]):    \n",
    "            if (x_hat >= bedroom_area[0][0] and x_hat <= bedroom_area[1][0] and y_hat >= bedroom_area[0][1] and y_hat <= bedroom_area[1][1]):\n",
    "                CMatrix[0,2] = CMatrix[0,2] + 1\n",
    "            if (x_hat >= living_area[0][0] and x_hat <= living_area[1][0] and y_hat >= living_area[0][1] and y_hat <= living_area[1][1]):\n",
    "                CMatrix[1,2] = CMatrix[1,2] + 1\n",
    "            if (x_hat >= dining_area[0][0] and x_hat <= dining_area[1][0] and y_hat >= dining_area[0][1] and y_hat <= dining_area[1][1]):\n",
    "                CMatrix[2,2] = CMatrix[2,2] + 1\n",
    "            if (x_hat >= kitchen_area[0][0] and x_hat <= kitchen_area[1][0] and y_hat >= kitchen_area[0][1] and y_hat <= kitchen_area[1][1]):\n",
    "                CMatrix[3,2] = CMatrix[3,2] + 1\n",
    "            if (x_hat >= bathroom_area[0][0] and x_hat <= bathroom_area[1][0] and y_hat >= bathroom_area[0][1] and y_hat <= bathroom_area[1][1]):\n",
    "                CMatrix[4,2] = CMatrix[4,2] + 1\n",
    "        \n",
    "        if (x >= kitchen_area[0][0] and x <= kitchen_area[1][0] and y >= kitchen_area[0][1] and y <= kitchen_area[1][1]):    \n",
    "            if (x_hat >= bedroom_area[0][0] and x_hat <= bedroom_area[1][0] and y_hat >= bedroom_area[0][1] and y_hat <= bedroom_area[1][1]):\n",
    "                CMatrix[0,3] = CMatrix[0,3] + 1\n",
    "            if (x_hat >= living_area[0][0] and x_hat <= living_area[1][0] and y_hat >= living_area[0][1] and y_hat <= living_area[1][1]):\n",
    "                CMatrix[1,3] = CMatrix[1,3] + 1\n",
    "            if (x_hat >= dining_area[0][0] and x_hat <= dining_area[1][0] and y_hat >= dining_area[0][1] and y_hat <= dining_area[1][1]):\n",
    "                CMatrix[2,3] = CMatrix[2,3] + 1\n",
    "            if (x_hat >= kitchen_area[0][0] and x_hat <= kitchen_area[1][0] and y_hat >= kitchen_area[0][1] and y_hat <= kitchen_area[1][1]):\n",
    "                CMatrix[3,3] = CMatrix[3,3] + 1\n",
    "            if (x_hat >= bathroom_area[0][0] and x_hat <= bathroom_area[1][0] and y_hat >= bathroom_area[0][1] and y_hat <= bathroom_area[1][1]):\n",
    "                CMatrix[4,3] = CMatrix[4,3] + 1\n",
    "                \n",
    "        if (x >= bathroom_area[0][0] and x <= bathroom_area[1][0] and y >= bathroom_area[0][1] and y <= bathroom_area[1][1]):    \n",
    "            if (x_hat >= bedroom_area[0][0] and x_hat <= bedroom_area[1][0] and y_hat >= bedroom_area[0][1] and y_hat <= bedroom_area[1][1]):\n",
    "                CMatrix[0,4] = CMatrix[0,4] + 1\n",
    "            if (x_hat >= living_area[0][0] and x_hat <= living_area[1][0] and y_hat >= living_area[0][1] and y_hat <= living_area[1][1]):\n",
    "                CMatrix[1,4] = CMatrix[1,4] + 1\n",
    "            if (x_hat >= dining_area[0][0] and x_hat <= dining_area[1][0] and y_hat >= dining_area[0][1] and y_hat <= dining_area[1][1]):\n",
    "                CMatrix[2,4] = CMatrix[2,4] + 1\n",
    "            if (x_hat >= kitchen_area[0][0] and x_hat <= kitchen_area[1][0] and y_hat >= kitchen_area[0][1] and y_hat <= kitchen_area[1][1]):\n",
    "                CMatrix[3,4] = CMatrix[3,4] + 1\n",
    "            if (x_hat >= bathroom_area[0][0] and x_hat <= bathroom_area[1][0] and y_hat >= bathroom_area[0][1] and y_hat <= bathroom_area[1][1]):\n",
    "                CMatrix[4,4] = CMatrix[4,4] + 1\n",
    "\n",
    "print(\"finished\")"
   ]
  },
  {
   "cell_type": "code",
   "execution_count": null,
   "metadata": {},
   "outputs": [],
   "source": [
    "import itertools\n",
    "import numpy as np\n",
    "import matplotlib.pyplot as plt\n",
    "\n",
    "from sklearn import svm, datasets\n",
    "from sklearn.model_selection import train_test_split\n",
    "from sklearn.metrics import confusion_matrix\n",
    "\n",
    "\n",
    "\n",
    "def plot_confusion_matrix(cm, title='Confusion matrix', cmap=plt.cm.Oranges):\n",
    "    plt.imshow(cm, interpolation='nearest', cmap=cmap)\n",
    "    plt.title(title)\n",
    "    plt.colorbar()\n",
    "    classNames = ['Bedroom','Living Room', 'Dining Room', 'kitchen', 'Bathroom']\n",
    "    tick_marks = np.arange(len(classNames))\n",
    "    plt.xticks(tick_marks, classNames, rotation=20)\n",
    "    ax = plt.gca()\n",
    "    ax.set_xticklabels(classNames)\n",
    "    \n",
    "    plt.yticks(tick_marks, classNames)\n",
    "\n",
    "    thresh = cm.max() / 2.\n",
    "    for i, j in itertools.product(range(cm.shape[0]), range(cm.shape[1])):\n",
    "        plt.text(j, i, cm[i, j],\n",
    "                 horizontalalignment=\"center\",\n",
    "                 color=\"white\" if cm[i, j] > thresh else \"black\")\n",
    "\n",
    "    plt.tight_layout()\n",
    "    plt.ylabel('Predicted Location')\n",
    "    plt.xlabel('Ground Truth Location')\n",
    "\n",
    "    \n",
    "matr =  np.zeros((5, 5))\n",
    "for i in range(len(CMatrix[1,:])):\n",
    "    matr[:, i] = (CMatrix[:,i] / np.sum(CMatrix[:,i]))\n",
    "    \n",
    "\n",
    "cm = matr\n",
    "np.set_printoptions(precision=2)\n",
    "print('Confusion matrix, without normalization')\n",
    "print(cm)\n",
    "fig, ax = plt.subplots()\n",
    "plot_confusion_matrix(np.round(cm, 2))\n",
    "\n",
    "plt.show()"
   ]
  },
  {
   "cell_type": "code",
   "execution_count": null,
   "metadata": {},
   "outputs": [],
   "source": [
    "np.arange(5)"
   ]
  },
  {
   "cell_type": "code",
   "execution_count": null,
   "metadata": {},
   "outputs": [],
   "source": [
    "matr = np.zeros((5, 5))\n",
    "for i in range(0,5):\n",
    "    for j in range(0,5):\n",
    "        matr[i, j] = CMatrix[i,j] / np.sum(CMatrix[:,j])\n",
    "\n",
    "\n",
    "# bedroom_acc = CMatrix[0,0] / np.sum(CMatrix[:,0])\n",
    "# living_acc = CMatrix[1,1] / np.sum(CMatrix[:,1])\n",
    "# dining_acc = CMatrix[2,2] / np.sum(CMatrix[:,2])\n",
    "# kitchen_acc = CMatrix[3,3] / np.sum(CMatrix[:,3])\n",
    "# bathroom_acc = CMatrix[4,4] / np.sum(CMatrix[:,4])\n",
    "\n",
    "# acc = (bedroom_acc + living_acc + kitchen_acc + bathroom_acc + bathroom_acc) / 5\n",
    "# print(acc)\n",
    "# print(CMatrix)"
   ]
  },
  {
   "cell_type": "code",
   "execution_count": null,
   "metadata": {},
   "outputs": [],
   "source": [
    "matr"
   ]
  },
  {
   "cell_type": "code",
   "execution_count": null,
   "metadata": {},
   "outputs": [],
   "source": [
    "print(bedroom_acc)\n",
    "print(living_acc)\n",
    "print(kitchen_acc)\n",
    "print(bathroom_acc)\n",
    "print(dining_acc)"
   ]
  },
  {
   "cell_type": "code",
   "execution_count": null,
   "metadata": {},
   "outputs": [],
   "source": [
    "import plotly.plotly as py\n",
    "from plotly.graph_objs import *\n",
    "py.sign_in('shadan.golestan', 'ujOKl127sOV8VR20pT5j')\n",
    "trace1 = {\n",
    "  \"x\": [\"Bed Room\", \"Living Room\", \"Dining Room\", \"Kitchen\", \"Bathroom\"], \n",
    "  \"y\": [\"Bed Room\", \"Living Room\", \"Dining Room\", \"Kitchen\", \"Bathroom\"], \n",
    "  \"z\": np.ndarray.tolist(CMatrix) ,\n",
    "  \"colorscale\": \"Jet\", \n",
    "  \"type\": \"heatmap\"\n",
    "}\n",
    "data = Data([trace1])\n",
    "layout = {\n",
    "  \"barmode\": \"overlay\", \n",
    "  \"title\": \"Confusion Matrix\", \n",
    "  \"xaxis\": {\n",
    "    \"title\": \"Predicted value\", \n",
    "    \"titlefont\": {\n",
    "      \"color\": \"#7f7f7f\", \n",
    "      \"family\": \"Courier New, monospace\", \n",
    "      \"size\": 18\n",
    "    }\n",
    "  }, \n",
    "  \"yaxis\": {\n",
    "    \"title\": \"True Value\", \n",
    "    \"titlefont\": {\n",
    "      \"color\": \"#7f7f7f\", \n",
    "      \"family\": \"Courier New, monospace\", \n",
    "      \"size\": 18\n",
    "    }\n",
    "  }\n",
    "}\n",
    "fig = Figure(data=data, layout=layout)\n",
    "plot_url = py.plot(fig)"
   ]
  },
  {
   "cell_type": "code",
   "execution_count": null,
   "metadata": {},
   "outputs": [],
   "source": []
  },
  {
   "cell_type": "code",
   "execution_count": null,
   "metadata": {},
   "outputs": [],
   "source": []
  }
 ],
 "metadata": {
  "kernelspec": {
   "display_name": "Python 2",
   "language": "python",
   "name": "python2"
  },
  "language_info": {
   "codemirror_mode": {
    "name": "ipython",
    "version": 2
   },
   "file_extension": ".py",
   "mimetype": "text/x-python",
   "name": "python",
   "nbconvert_exporter": "python",
   "pygments_lexer": "ipython2",
   "version": "2.7.15rc1"
  }
 },
 "nbformat": 4,
 "nbformat_minor": 2
}

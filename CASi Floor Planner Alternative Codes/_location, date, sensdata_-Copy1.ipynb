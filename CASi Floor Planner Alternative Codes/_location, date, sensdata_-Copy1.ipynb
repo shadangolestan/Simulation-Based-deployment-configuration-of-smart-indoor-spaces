{
 "cells": [
  {
   "cell_type": "code",
   "execution_count": 1,
   "metadata": {},
   "outputs": [],
   "source": [
    "import csv\n",
    "from datetime import datetime\n",
    "import re\n",
    "import xml.etree.ElementTree as ET\n",
    "import csv\n",
    "from datetime import datetime\n",
    "import math\n",
    "from random import randint\n",
    "from scipy.spatial import distance\n",
    "\n",
    "data = []\n",
    "\n",
    "def mapper(x):\n",
    "    return {\n",
    "        'A': 0, 'B': 1, 'C': 2, 'D': 3, 'E': 4, 'F': 5, 'G': 6, 'H': 7, 'I': 8, 'J': 9, 'K': 10, 'L': 11, 'M': 12, 'N': 13, \n",
    "        'O': 14, 'P': 15, 'Q': 16, 'R': 17, 'S': 18, 'T': 19, 'U': 20, 'V': 21, 'W': 21\n",
    "    }[x]\n",
    "\n",
    "with open('rssi.csv', 'r') as user_data:\n",
    "    reader = csv.reader(user_data, delimiter=',', quotechar=',')\n",
    "    for row in reader:\n",
    "        if (reader.line_num > 1):\n",
    "            temp = re.split('(\\d+)',row[0])\n",
    "            y = int(temp[1]) * 30.48\n",
    "            x = int(mapper(temp[0])) * 30.48\n",
    "            # print(str(x) + \":\" + str(y))\n",
    "            data.append([x, y])"
   ]
  },
  {
   "cell_type": "code",
   "execution_count": 2,
   "metadata": {},
   "outputs": [],
   "source": [
    "sensor_locations = []\n",
    "sensor_num = 20\n",
    "y_building = 18\n",
    "x_building = 21\n",
    "sensor_radius = 40\n",
    "counter = 1\n",
    "\n",
    "for i in range(sensor_num):\n",
    "    y = int(randint(1, y_building) * 30.48)\n",
    "    x = int(randint(1, x_building) * 30.48)\n",
    "    sensor_locations.append([x, y])\n",
    "\n",
    "tree = ET.parse('emptymodel.xml')\n",
    "root = tree.getroot()\n",
    "\n",
    "for element in root:\n",
    "    if(element.tag == 'sensors'):\n",
    "        for i in range(sensor_num):\n",
    "            child = ET.SubElement(element, \"sensor\")\n",
    "            subelement1 = ET.SubElement(child, \"id\")\n",
    "            subelement1.text = \"sensor\" + str(counter)\n",
    "            subelement2 = ET.SubElement(child, \"point\")\n",
    "            subsubelement1 = ET.SubElement(subelement2, \"xcoord\")\n",
    "            subsubelement1.text = str(sensor_locations[i][0])\n",
    "            subsubelement2 = ET.SubElement(subelement2, \"ycoord\")\n",
    "            subsubelement2.text = str(sensor_locations[i][1])\n",
    "            subelement3 = ET.SubElement(child, \"type\")\n",
    "            subelement3.text = \"MotionSensorBinary\"\n",
    "            subelement4 = ET.SubElement(child, \"color\")\n",
    "            subelement5 = ET.SubElement(child, \"radius\")\n",
    "            subelement5.text = str(sensor_radius)\n",
    "            counter = counter + 1\n",
    "\n",
    "tree.write(\"simulationWorld1.xml\")"
   ]
  },
  {
   "cell_type": "code",
   "execution_count": null,
   "metadata": {},
   "outputs": [],
   "source": []
  },
  {
   "cell_type": "code",
   "execution_count": null,
   "metadata": {},
   "outputs": [],
   "source": []
  },
  {
   "cell_type": "code",
   "execution_count": 3,
   "metadata": {},
   "outputs": [],
   "source": [
    "# pruned_data_gt = []\n",
    "pruned_data_re = []\n",
    "# candidate_data_gt = [data[0][4], data[0][5]]\n",
    "candidate_data_re = [data[0][0], data[0][1]]\n",
    "flag = 1\n",
    "\n",
    "for i in range(len(data) - 1):\n",
    "    if(flag == 1):\n",
    "        # pruned_data_gt.append(candidate_data_gt)\n",
    "        pruned_data_re.append(candidate_data_re)\n",
    "        flag = 0\n",
    "    \n",
    "    dist = distance.euclidean(candidate_data_re, [data[i][0], data[i][1]])\n",
    "    #print(dist)\n",
    "    if(dist >= 10):\n",
    "        flag = 1\n",
    "        # candidate_data_gt = [data[i][4], data[i][5]]\n",
    "        candidate_data_re = [data[i][0], data[i][1]]\n",
    "\n",
    "data = []\n",
    "data = pruned_data_re"
   ]
  },
  {
   "cell_type": "code",
   "execution_count": 4,
   "metadata": {},
   "outputs": [
    {
     "data": {
      "text/plain": [
       "134"
      ]
     },
     "execution_count": 4,
     "metadata": {},
     "output_type": "execute_result"
    }
   ],
   "source": [
    "len(data)"
   ]
  },
  {
   "cell_type": "code",
   "execution_count": 5,
   "metadata": {},
   "outputs": [
    {
     "name": "stdout",
     "output_type": "stream",
     "text": [
      "file has been opened\n",
      "creating room in process\n",
      "creating room in process\n",
      "creating room in process\n",
      "creating room in process\n",
      "rooms has been added!\n"
     ]
    }
   ],
   "source": [
    "tree = ET.parse('simulationWorld1.xml')\n",
    "root = tree.getroot()\n",
    "\n",
    "for element in root:\n",
    "    if(element.tag == 'rooms'):\n",
    "        with open('roomsinfo.csv', 'r') as f:\n",
    "            reader = csv.reader(f, delimiter=',', quotechar=',')\n",
    "            print(\"file has been opened\")\n",
    "            for row in reader:\n",
    "                child = ET.SubElement(element, \"room\")\n",
    "                subelement1 = ET.SubElement(child, \"roomid\")\n",
    "                subelement1.text = row[0]\n",
    "                for i in range(0, len(row) - 1, 2):\n",
    "                    print(\"creating room in process\")\n",
    "                    subelement2 = ET.SubElement(child, \"wall\")\n",
    "                    if (i + 2 == len(row) - 1):\n",
    "                        subsubelement1 = ET.SubElement(subelement2, \"point\")\n",
    "                        sub3element1 = ET.SubElement(subsubelement1, \"xcoord\")\n",
    "                        sub3element1.text = row[i + 1]\n",
    "                        sub3element2 = ET.SubElement(subsubelement1, \"ycoord\")\n",
    "                        sub3element2.text = row[i + 2]\n",
    "                        \n",
    "                        subsubelement2 = ET.SubElement(subelement2, \"point\")\n",
    "                        sub3element3 = ET.SubElement(subsubelement2, \"xcoord\")\n",
    "                        sub3element3.text = row[1]\n",
    "                        sub3element4 = ET.SubElement(subsubelement2, \"ycoord\")\n",
    "                        sub3element4.text = row[2]\n",
    "                        \n",
    "                        tree.write(\"simulationWorld1.xml\")\n",
    "\n",
    "                        \n",
    "                    else:\n",
    "                        subsubelement1 = ET.SubElement(subelement2, \"point\")\n",
    "                        sub3element1 = ET.SubElement(subsubelement1, \"xcoord\")\n",
    "                        sub3element1.text = row[i + 1]\n",
    "                        sub3element2 = ET.SubElement(subsubelement1, \"ycoord\")\n",
    "                        sub3element2.text = row[i + 2]\n",
    "                        \n",
    "                        subsubelement2 = ET.SubElement(subelement2, \"point\")\n",
    "                        sub3element3 = ET.SubElement(subsubelement2, \"xcoord\")\n",
    "                        sub3element3.text = row[i + 3]\n",
    "                        sub3element4 = ET.SubElement(subsubelement2, \"ycoord\")\n",
    "                        sub3element4.text = row[i + 4]\n",
    "                        \n",
    "                        tree.write(\"simulationWorld1.xml\")\n",
    "\n",
    "print(\"rooms has been added!\")"
   ]
  },
  {
   "cell_type": "code",
   "execution_count": 6,
   "metadata": {},
   "outputs": [],
   "source": [
    "tree = ET.parse('simulationWorld1.xml')\n",
    "root = tree.getroot()\n",
    "\n",
    "#actions = Element()\n",
    "\n",
    "for element in root:\n",
    "    if(element.tag == 'locations'):\n",
    "        with open('rssi.csv', 'r') as user_data:\n",
    "            reader = csv.reader(user_data, delimiter=',', quotechar=',')\n",
    "            counter = 1\n",
    "            for row in range(len(data)):\n",
    "                if (row > 1):\n",
    "                    child = ET.SubElement(element, \"location\")\n",
    "                    subelement1 = ET.SubElement(child, \"id\")\n",
    "                    subelement1.text = \"w\" + str(counter)\n",
    "                    counter = counter + 1\n",
    "                    subelement5 = ET.SubElement(child, \"point\")\n",
    "                    subsubelement1 = ET.SubElement(subelement5, \"xcoord\")\n",
    "                    subsubelement1.text = str(abs(int(data[row][0]))) #str(float(row[4]) * 100)\n",
    "                    subsubelement2 = ET.SubElement(subelement5, \"ycoord\")\n",
    "                    subsubelement2.text = str(int(data[row][1])) # str(float(row[5]) * 100)\n",
    "\n",
    "                \n",
    "tree.write(\"simulationWorld1.xml\")\n",
    "                \n",
    "for element in root:\n",
    "    if(element.tag == 'actions'):\n",
    "        with open('rssi.csv', 'r') as user_data:\n",
    "            reader = csv.reader(user_data, delimiter=',', quotechar=',')\n",
    "            counter = 1\n",
    "            for row in reader:\n",
    "                if (reader.line_num > 1):\n",
    "                    date = datetime.strptime(row[1].split(' ')[0], \"%m-%d-%Y\").strftime(\"%d/%m/%Y\")\n",
    "                    date = date + \" \" + row[1].split(' ')[1]\n",
    "                    # date = datetime.utcfromtimestamp(int(row[1])).strftime('%d/%m/%Y %H:%M:%S')\n",
    "                    child = ET.SubElement(element, \"action\")\n",
    "                    subelement1 = ET.SubElement(child, \"actionDate\")\n",
    "                    subelement1.text = date.split(' ')[0]\n",
    "                    subelement2 = ET.SubElement(child, \"actionTime\")\n",
    "                    subelement2.text = date.split(' ')[1]\n",
    "                    subelement3 = ET.SubElement(child, \"id\")\n",
    "                    subelement3.text = str(counter)\n",
    "                    subelement4 = ET.SubElement(child, \"agentID\")\n",
    "                    subelement4.text = \"8713\"\n",
    "                    subelement5 = ET.SubElement(child, \"subactions\")\n",
    "                    subsubelement1 = ET.SubElement(subelement5, \"subaction\")\n",
    "                    subsubsubelement1 = ET.SubElement(subsubelement1, \"actionType\")\n",
    "                    subsubsubelement1.text = \"Move\" + str(counter)\n",
    "                    counter = counter + 1\n",
    "                    \n",
    "tree.write(\"simulationWorld1.xml\")     \n",
    "\n",
    "for element in root:\n",
    "    if(element.tag == 'activityInstances'):\n",
    "        with open('rssi.csv', 'r') as user_data:\n",
    "            reader = csv.reader(user_data, delimiter=',', quotechar=',')\n",
    "            counter = 1\n",
    "            for row in reader:\n",
    "                if (reader.line_num > 1):\n",
    "                    child = ET.SubElement(element, \"activityInstance\")\n",
    "                    subelement1 = ET.SubElement(child, \"activityInstName\")\n",
    "                    subelement1.text = \"Move\" + str(counter)\n",
    "                    subelement5 = ET.SubElement(child, \"SubActivityInstances\")\n",
    "                    subsubelement1 = ET.SubElement(subelement5, \"SubActivityInstance\")\n",
    "                    subsubsubelement1 = ET.SubElement(subsubelement1, \"activityID\")\n",
    "                    subsubsubelement1.text = \"Move\"\n",
    "                    subsubsubelement2 = ET.SubElement(subsubelement1, \"target\")\n",
    "                    subsubsubelement2.text = \"w\" + str(counter)\n",
    "                    subsubsubelement2 = ET.SubElement(subsubelement1, \"actionParameter\")\n",
    "                    counter = counter + 1\n",
    "\n",
    "tree.write(\"simulationWorld1.xml\") "
   ]
  },
  {
   "cell_type": "code",
   "execution_count": 7,
   "metadata": {},
   "outputs": [
    {
     "data": {
      "text/plain": [
       "134"
      ]
     },
     "execution_count": 7,
     "metadata": {},
     "output_type": "execute_result"
    }
   ],
   "source": [
    "len(data)"
   ]
  },
  {
   "cell_type": "code",
   "execution_count": null,
   "metadata": {},
   "outputs": [],
   "source": []
  }
 ],
 "metadata": {
  "kernelspec": {
   "display_name": "Python 3",
   "language": "python",
   "name": "python3"
  },
  "language_info": {
   "codemirror_mode": {
    "name": "ipython",
    "version": 3
   },
   "file_extension": ".py",
   "mimetype": "text/x-python",
   "name": "python",
   "nbconvert_exporter": "python",
   "pygments_lexer": "ipython3",
   "version": "3.6.5"
  }
 },
 "nbformat": 4,
 "nbformat_minor": 2
}
